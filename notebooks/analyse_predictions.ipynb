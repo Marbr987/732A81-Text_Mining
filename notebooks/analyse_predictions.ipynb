{
 "cells": [
  {
   "cell_type": "markdown",
   "source": [
    "# Setup"
   ],
   "metadata": {
    "collapsed": false,
    "pycharm": {
     "name": "#%% md\n"
    }
   }
  },
  {
   "cell_type": "markdown",
   "source": [
    "## Load Packages"
   ],
   "metadata": {
    "collapsed": false,
    "pycharm": {
     "name": "#%% md\n"
    }
   }
  },
  {
   "cell_type": "code",
   "execution_count": 1,
   "outputs": [
    {
     "name": "stderr",
     "output_type": "stream",
     "text": [
      "/Users/marcbraun/.conda/envs/732A81-Text_Mining/lib/python3.10/site-packages/tqdm/auto.py:22: TqdmWarning: IProgress not found. Please update jupyter and ipywidgets. See https://ipywidgets.readthedocs.io/en/stable/user_install.html\n",
      "  from .autonotebook import tqdm as notebook_tqdm\n"
     ]
    }
   ],
   "source": [
    "import random\n",
    "import pandas as pd\n",
    "import numpy as np\n",
    "import matplotlib.pyplot as plt\n",
    "import os\n",
    "import openai\n",
    "import re\n",
    "import time\n",
    "from scripts.prepare_data_helpers import prepare_examples, create_query\n",
    "import spacy\n",
    "import textacy\n",
    "from dotenv import load_dotenv\n",
    "\n",
    "load_dotenv()\n",
    "nlp = spacy.load('en_core_web_sm')"
   ],
   "metadata": {
    "collapsed": false,
    "pycharm": {
     "name": "#%%\n"
    }
   }
  },
  {
   "cell_type": "markdown",
   "source": [
    "## Prepare Data"
   ],
   "metadata": {
    "collapsed": false,
    "pycharm": {
     "name": "#%% md\n"
    }
   }
  },
  {
   "cell_type": "code",
   "execution_count": 2,
   "outputs": [],
   "source": [
    "train1 = pd.read_csv('../../e-SNLI/dataset/esnli_train_1.csv')\n",
    "train2 = pd.read_csv('../../e-SNLI/dataset/esnli_train_2.csv')\n",
    "train = pd.concat([train1, train2])\n",
    "dev = pd.read_csv('../../e-SNLI/dataset/esnli_dev.csv')\n",
    "test = pd.read_csv('../../e-SNLI/dataset/esnli_test.csv')\n",
    "\n",
    "train = train.dropna(subset=['Sentence1', 'Sentence2', 'Explanation_1'])\n",
    "train = train.reset_index(drop=True)\n",
    "\n",
    "np.random.seed(12345) # seed for numpy package\n",
    "test_indices = list(np.random.choice(test.index.values, size=1000, replace=False))\n",
    "test = test.loc[test_indices]\n",
    "test = test.reset_index(drop=True)"
   ],
   "metadata": {
    "collapsed": false,
    "pycharm": {
     "name": "#%%\n"
    }
   }
  },
  {
   "cell_type": "code",
   "execution_count": 3,
   "outputs": [],
   "source": [
    "gpt_pred = pd.read_csv('../output_data/test_predictions.csv', sep=';')"
   ],
   "metadata": {
    "collapsed": false,
    "pycharm": {
     "name": "#%%\n"
    }
   }
  },
  {
   "cell_type": "code",
   "execution_count": 4,
   "outputs": [
    {
     "data": {
      "text/plain": "     Unnamed: 0               pairID     gold_label  \\\n0             0  4813951931.jpg#3r1e     entailment   \n1             1  4678320536.jpg#1r1c  contradiction   \n2             2   661749711.jpg#2r1e     entailment   \n3             3    44904567.jpg#1r1c  contradiction   \n4             4    32542645.jpg#0r1n        neutral   \n..          ...                  ...            ...   \n995         995  2429284131.jpg#2r1c  contradiction   \n996         996  4460943467.jpg#0r1e     entailment   \n997         997  2226343167.jpg#0r1n        neutral   \n998         998  3389707399.jpg#4r1e     entailment   \n999         999  3559425864.jpg#1r1c  contradiction   \n\n                                             Sentence1  \\\n0    A young man in an orange hat walks his bicycle...   \n1    A woman standing with smile on her face and sh...   \n2             A dog jumps to catch a red ball outside.   \n3    A man wielding an electric razor is gleefully ...   \n4    A group of people stares at a wall that is fil...   \n..                                                 ...   \n995        Three men are standing on stage performing.   \n996  3 young man in hoods standing in the middle of...   \n997  A woman in skirt, torn stockings and combat bo...   \n998                     Two men shining peoples shoes.   \n999  Bicyclist ride the course near the ocean as th...   \n\n                                             Sentence2  \\\n0    A man in an orange hat walks his bike down a s...   \n1          A woman stands holding her baby and crying.   \n2                                  the dog is jumping.   \n3                    There is only one person present.   \n4               A group of people analyze art together   \n..                                                 ...   \n995          Women are playing trumpets on the street.   \n996       Three hood wearing people stand in a street.   \n997  The man and woman are going to a movie in the ...   \n998                             Two men shining shoes.   \n999             The cyclist was riding in the morning.   \n\n                                         Explanation_1  \\\n0           A bicycle and a bike, are the same object.   \n1    If a woman has a smile on her face then she is...   \n2         Jumping is an action needed to catch a ball.   \n3    There cannot be one person present if one man ...   \n4             Not necessary that they analyze the art.   \n..                                                 ...   \n995  either there are men on stage, or women playin...   \n996            3 Man in hoods are hood wearing people.   \n997  walking down a street does not mean they are g...   \n998  Two men are shining shoes if two men are shini...   \n999  This implies that it is either a (regular) bic...   \n\n                                    Sentence1_marked_1  \\\n0     A young man in an orange hat walks his *bicyc...   \n1    A woman standing with *smile* *on* *her* *face...   \n2     A *dog* *jumps* to *catch* a red *ball* *outs...   \n3    A *man* wielding an electric razor is gleefull...   \n4    A group of people stares at a wall that is fil...   \n..                                                 ...   \n995      Three *men* are standing on stage performing.   \n996   *3* young *man* in *hoods* standing in the mi...   \n997  A woman in skirt, torn stockings and combat bo...   \n998                 Two *men* *shining* peoples shoes.   \n999  *Bicyclist* ride the course near the ocean as ...   \n\n                                    Sentence2_marked_1  \\\n0     A man in an orange hat walks his *bike* down ...   \n1        A woman stands holding her baby and *crying.*   \n2                              the *dog* is *jumping.*   \n3              There is only *one* *person* *present.*   \n4             A group of people *analyze* art together   \n..                                                 ...   \n995        *Women* are playing trumpets on the street.   \n996   Three *hood* *wearing* *people* stand in a st...   \n997   The man and woman are going to a *movie* in t...   \n998                         Two *men* *shining* shoes.   \n999         *The* *cyclist* was riding in the morning.   \n\n    Sentence1_Highlighted_1 Sentence2_Highlighted_1  ...  \\\n0                         9                       8  ...   \n1                   4,5,6,7                       7  ...   \n2                 2,7,8,1,4                     3,1  ...   \n3                   1,10,11                   3,4,5  ...   \n4                        {}                       4  ...   \n..                      ...                     ...  ...   \n995                       1                       0  ...   \n996                   2,0,4                   1,2,3  ...   \n997                      {}                       8  ...   \n998                     1,2                     1,2  ...   \n999                       0                     1,0  ...   \n\n    Sentence1_Highlighted_2 Sentence2_Highlighted_2  \\\n0                     9,1,2                     8,1   \n1                        13                       5   \n2                       1,2                     1,3   \n3                        10                     3,2   \n4                        {}                     4,5   \n..                      ...                     ...   \n995                       1                       0   \n996              1,0,2,4,12                 0,1,4,7   \n997                      {}                1,3,8,11   \n998                   1,4,2                   1,2,3   \n999           9,10,11,13,12                       6   \n\n                                         Explanation_3  \\\n0    The young man in an orange hart is the man wal...   \n1            the woman is either crying or has a smile   \n2       If the dog jumps to catch, the dog is jumping.   \n3    It cannot be claimed that there is only one pe...   \n4    The group may have just been admiring as oppos...   \n..                                                 ...   \n995                  There can be either men or women.   \n996  If they are standing in the middle of a quiet ...   \n997  Just because a man and woman are wearing theme...   \n998  \"Two men shining shoes\" is a rephrasing of \"tw...   \n999    The day does not come to an end in the morning.   \n\n                                    Sentence1_marked_3  \\\n0     A *young* *man* in *an* *orange* *hat* *walks...   \n1    A *woman* standing with *smile* on her face an...   \n2         A dog *jumps* to *catch* a red ball outside.   \n3    A *man* wielding an electric razor is gleefull...   \n4    A group of people stares at a wall that is fil...   \n..                                                 ...   \n995      Three *men* are standing on stage performing.   \n996   3 young man in hoods *standing* *in* *the* *m...   \n997  A woman in skirt, torn stockings and combat bo...   \n998               Two men *shining* *peoples* *shoes.*   \n999  Bicyclist ride the course near the ocean as th...   \n\n                                    Sentence2_marked_3  \\\n0     A *man* in *an* *orange* *hat* *walks* *his* ...   \n1      A *woman* stands holding her baby and *crying.*   \n2                                the dog is *jumping.*   \n3              There is *only* *one* *person* present.   \n4           A group of people *analyze* art *together*   \n..                                                 ...   \n995        *Women* are playing trumpets on the street.   \n996   Three hood wearing people *stand* *in* *a* *s...   \n997   The man and woman are going to a *movie* in t...   \n998                         Two men *shining* *shoes.*   \n999           The cyclist was riding in the *morning.*   \n\n    Sentence1_Highlighted_3 Sentence2_Highlighted_3  \\\n0     1,2,4,5,6,7,8,9,10,12      1,5,4,3,11,9,8,7,6   \n1                       4,1                     1,7   \n2                       2,4                       3   \n3                   1,10,11                   2,3,4   \n4                        {}                     4,6   \n..                      ...                     ...   \n995                       1                       0   \n996      5,6,7,8,9,11,10,12                 4,5,6,7   \n997                      {}                       8   \n998                   2,3,4                     2,3   \n999           9,11,10,12,13                       6   \n\n                                                prompt  \\\n0    Statement: A man in a suit and dirty dress-sho...   \n1    Statement: a white dog runs across the water.\\...   \n2    Statement: A young child rides a bike with a b...   \n3    Statement: A young boy wearing safety glasses ...   \n4    Statement: Young mother and child heading some...   \n..                                                 ...   \n995  Statement: Several basketball players are grab...   \n996  Statement: A curly-haired brunette wearing a b...   \n997  Statement: A brown dog standing in water.\\nSta...   \n998  Statement: A long-haired person, with a tan co...   \n999  Statement: People with their children shopping...   \n\n                                      pred_explanation     pred_label  \n0              The man is young and the hat is orange.     entailment  \n1    The woman is smiling and holding a wood, not a...  contradiction  \n2     The statement is repeating the same information.      tautology  \n3       There are two people present in the statement.  contradiction  \n4    Staring at a wall filled with drawings is a fo...     entailment  \n..                                                 ...            ...  \n995  The men are standing on stage performing, whil...  contradiction  \n996      The statements are describing the same thing.    equivalence  \n997  The statement does not give any indication tha...        neutral  \n998  Shining shoes implies that the shoes belong to...     entailment  \n999  The statement implies the cyclist was riding a...  contradiction  \n\n[1000 rows x 23 columns]",
      "text/html": "<div>\n<style scoped>\n    .dataframe tbody tr th:only-of-type {\n        vertical-align: middle;\n    }\n\n    .dataframe tbody tr th {\n        vertical-align: top;\n    }\n\n    .dataframe thead th {\n        text-align: right;\n    }\n</style>\n<table border=\"1\" class=\"dataframe\">\n  <thead>\n    <tr style=\"text-align: right;\">\n      <th></th>\n      <th>Unnamed: 0</th>\n      <th>pairID</th>\n      <th>gold_label</th>\n      <th>Sentence1</th>\n      <th>Sentence2</th>\n      <th>Explanation_1</th>\n      <th>Sentence1_marked_1</th>\n      <th>Sentence2_marked_1</th>\n      <th>Sentence1_Highlighted_1</th>\n      <th>Sentence2_Highlighted_1</th>\n      <th>...</th>\n      <th>Sentence1_Highlighted_2</th>\n      <th>Sentence2_Highlighted_2</th>\n      <th>Explanation_3</th>\n      <th>Sentence1_marked_3</th>\n      <th>Sentence2_marked_3</th>\n      <th>Sentence1_Highlighted_3</th>\n      <th>Sentence2_Highlighted_3</th>\n      <th>prompt</th>\n      <th>pred_explanation</th>\n      <th>pred_label</th>\n    </tr>\n  </thead>\n  <tbody>\n    <tr>\n      <th>0</th>\n      <td>0</td>\n      <td>4813951931.jpg#3r1e</td>\n      <td>entailment</td>\n      <td>A young man in an orange hat walks his bicycle...</td>\n      <td>A man in an orange hat walks his bike down a s...</td>\n      <td>A bicycle and a bike, are the same object.</td>\n      <td>A young man in an orange hat walks his *bicyc...</td>\n      <td>A man in an orange hat walks his *bike* down ...</td>\n      <td>9</td>\n      <td>8</td>\n      <td>...</td>\n      <td>9,1,2</td>\n      <td>8,1</td>\n      <td>The young man in an orange hart is the man wal...</td>\n      <td>A *young* *man* in *an* *orange* *hat* *walks...</td>\n      <td>A *man* in *an* *orange* *hat* *walks* *his* ...</td>\n      <td>1,2,4,5,6,7,8,9,10,12</td>\n      <td>1,5,4,3,11,9,8,7,6</td>\n      <td>Statement: A man in a suit and dirty dress-sho...</td>\n      <td>The man is young and the hat is orange.</td>\n      <td>entailment</td>\n    </tr>\n    <tr>\n      <th>1</th>\n      <td>1</td>\n      <td>4678320536.jpg#1r1c</td>\n      <td>contradiction</td>\n      <td>A woman standing with smile on her face and sh...</td>\n      <td>A woman stands holding her baby and crying.</td>\n      <td>If a woman has a smile on her face then she is...</td>\n      <td>A woman standing with *smile* *on* *her* *face...</td>\n      <td>A woman stands holding her baby and *crying.*</td>\n      <td>4,5,6,7</td>\n      <td>7</td>\n      <td>...</td>\n      <td>13</td>\n      <td>5</td>\n      <td>the woman is either crying or has a smile</td>\n      <td>A *woman* standing with *smile* on her face an...</td>\n      <td>A *woman* stands holding her baby and *crying.*</td>\n      <td>4,1</td>\n      <td>1,7</td>\n      <td>Statement: a white dog runs across the water.\\...</td>\n      <td>The woman is smiling and holding a wood, not a...</td>\n      <td>contradiction</td>\n    </tr>\n    <tr>\n      <th>2</th>\n      <td>2</td>\n      <td>661749711.jpg#2r1e</td>\n      <td>entailment</td>\n      <td>A dog jumps to catch a red ball outside.</td>\n      <td>the dog is jumping.</td>\n      <td>Jumping is an action needed to catch a ball.</td>\n      <td>A *dog* *jumps* to *catch* a red *ball* *outs...</td>\n      <td>the *dog* is *jumping.*</td>\n      <td>2,7,8,1,4</td>\n      <td>3,1</td>\n      <td>...</td>\n      <td>1,2</td>\n      <td>1,3</td>\n      <td>If the dog jumps to catch, the dog is jumping.</td>\n      <td>A dog *jumps* to *catch* a red ball outside.</td>\n      <td>the dog is *jumping.*</td>\n      <td>2,4</td>\n      <td>3</td>\n      <td>Statement: A young child rides a bike with a b...</td>\n      <td>The statement is repeating the same information.</td>\n      <td>tautology</td>\n    </tr>\n    <tr>\n      <th>3</th>\n      <td>3</td>\n      <td>44904567.jpg#1r1c</td>\n      <td>contradiction</td>\n      <td>A man wielding an electric razor is gleefully ...</td>\n      <td>There is only one person present.</td>\n      <td>There cannot be one person present if one man ...</td>\n      <td>A *man* wielding an electric razor is gleefull...</td>\n      <td>There is only *one* *person* *present.*</td>\n      <td>1,10,11</td>\n      <td>3,4,5</td>\n      <td>...</td>\n      <td>10</td>\n      <td>3,2</td>\n      <td>It cannot be claimed that there is only one pe...</td>\n      <td>A *man* wielding an electric razor is gleefull...</td>\n      <td>There is *only* *one* *person* present.</td>\n      <td>1,10,11</td>\n      <td>2,3,4</td>\n      <td>Statement: A young boy wearing safety glasses ...</td>\n      <td>There are two people present in the statement.</td>\n      <td>contradiction</td>\n    </tr>\n    <tr>\n      <th>4</th>\n      <td>4</td>\n      <td>32542645.jpg#0r1n</td>\n      <td>neutral</td>\n      <td>A group of people stares at a wall that is fil...</td>\n      <td>A group of people analyze art together</td>\n      <td>Not necessary that they analyze the art.</td>\n      <td>A group of people stares at a wall that is fil...</td>\n      <td>A group of people *analyze* art together</td>\n      <td>{}</td>\n      <td>4</td>\n      <td>...</td>\n      <td>{}</td>\n      <td>4,5</td>\n      <td>The group may have just been admiring as oppos...</td>\n      <td>A group of people stares at a wall that is fil...</td>\n      <td>A group of people *analyze* art *together*</td>\n      <td>{}</td>\n      <td>4,6</td>\n      <td>Statement: Young mother and child heading some...</td>\n      <td>Staring at a wall filled with drawings is a fo...</td>\n      <td>entailment</td>\n    </tr>\n    <tr>\n      <th>...</th>\n      <td>...</td>\n      <td>...</td>\n      <td>...</td>\n      <td>...</td>\n      <td>...</td>\n      <td>...</td>\n      <td>...</td>\n      <td>...</td>\n      <td>...</td>\n      <td>...</td>\n      <td>...</td>\n      <td>...</td>\n      <td>...</td>\n      <td>...</td>\n      <td>...</td>\n      <td>...</td>\n      <td>...</td>\n      <td>...</td>\n      <td>...</td>\n      <td>...</td>\n      <td>...</td>\n    </tr>\n    <tr>\n      <th>995</th>\n      <td>995</td>\n      <td>2429284131.jpg#2r1c</td>\n      <td>contradiction</td>\n      <td>Three men are standing on stage performing.</td>\n      <td>Women are playing trumpets on the street.</td>\n      <td>either there are men on stage, or women playin...</td>\n      <td>Three *men* are standing on stage performing.</td>\n      <td>*Women* are playing trumpets on the street.</td>\n      <td>1</td>\n      <td>0</td>\n      <td>...</td>\n      <td>1</td>\n      <td>0</td>\n      <td>There can be either men or women.</td>\n      <td>Three *men* are standing on stage performing.</td>\n      <td>*Women* are playing trumpets on the street.</td>\n      <td>1</td>\n      <td>0</td>\n      <td>Statement: Several basketball players are grab...</td>\n      <td>The men are standing on stage performing, whil...</td>\n      <td>contradiction</td>\n    </tr>\n    <tr>\n      <th>996</th>\n      <td>996</td>\n      <td>4460943467.jpg#0r1e</td>\n      <td>entailment</td>\n      <td>3 young man in hoods standing in the middle of...</td>\n      <td>Three hood wearing people stand in a street.</td>\n      <td>3 Man in hoods are hood wearing people.</td>\n      <td>*3* young *man* in *hoods* standing in the mi...</td>\n      <td>Three *hood* *wearing* *people* stand in a st...</td>\n      <td>2,0,4</td>\n      <td>1,2,3</td>\n      <td>...</td>\n      <td>1,0,2,4,12</td>\n      <td>0,1,4,7</td>\n      <td>If they are standing in the middle of a quiet ...</td>\n      <td>3 young man in hoods *standing* *in* *the* *m...</td>\n      <td>Three hood wearing people *stand* *in* *a* *s...</td>\n      <td>5,6,7,8,9,11,10,12</td>\n      <td>4,5,6,7</td>\n      <td>Statement: A curly-haired brunette wearing a b...</td>\n      <td>The statements are describing the same thing.</td>\n      <td>equivalence</td>\n    </tr>\n    <tr>\n      <th>997</th>\n      <td>997</td>\n      <td>2226343167.jpg#0r1n</td>\n      <td>neutral</td>\n      <td>A woman in skirt, torn stockings and combat bo...</td>\n      <td>The man and woman are going to a movie in the ...</td>\n      <td>walking down a street does not mean they are g...</td>\n      <td>A woman in skirt, torn stockings and combat bo...</td>\n      <td>The man and woman are going to a *movie* in t...</td>\n      <td>{}</td>\n      <td>8</td>\n      <td>...</td>\n      <td>{}</td>\n      <td>1,3,8,11</td>\n      <td>Just because a man and woman are wearing theme...</td>\n      <td>A woman in skirt, torn stockings and combat bo...</td>\n      <td>The man and woman are going to a *movie* in t...</td>\n      <td>{}</td>\n      <td>8</td>\n      <td>Statement: A brown dog standing in water.\\nSta...</td>\n      <td>The statement does not give any indication tha...</td>\n      <td>neutral</td>\n    </tr>\n    <tr>\n      <th>998</th>\n      <td>998</td>\n      <td>3389707399.jpg#4r1e</td>\n      <td>entailment</td>\n      <td>Two men shining peoples shoes.</td>\n      <td>Two men shining shoes.</td>\n      <td>Two men are shining shoes if two men are shini...</td>\n      <td>Two *men* *shining* peoples shoes.</td>\n      <td>Two *men* *shining* shoes.</td>\n      <td>1,2</td>\n      <td>1,2</td>\n      <td>...</td>\n      <td>1,4,2</td>\n      <td>1,2,3</td>\n      <td>\"Two men shining shoes\" is a rephrasing of \"tw...</td>\n      <td>Two men *shining* *peoples* *shoes.*</td>\n      <td>Two men *shining* *shoes.*</td>\n      <td>2,3,4</td>\n      <td>2,3</td>\n      <td>Statement: A long-haired person, with a tan co...</td>\n      <td>Shining shoes implies that the shoes belong to...</td>\n      <td>entailment</td>\n    </tr>\n    <tr>\n      <th>999</th>\n      <td>999</td>\n      <td>3559425864.jpg#1r1c</td>\n      <td>contradiction</td>\n      <td>Bicyclist ride the course near the ocean as th...</td>\n      <td>The cyclist was riding in the morning.</td>\n      <td>This implies that it is either a (regular) bic...</td>\n      <td>*Bicyclist* ride the course near the ocean as ...</td>\n      <td>*The* *cyclist* was riding in the morning.</td>\n      <td>0</td>\n      <td>1,0</td>\n      <td>...</td>\n      <td>9,10,11,13,12</td>\n      <td>6</td>\n      <td>The day does not come to an end in the morning.</td>\n      <td>Bicyclist ride the course near the ocean as th...</td>\n      <td>The cyclist was riding in the *morning.*</td>\n      <td>9,11,10,12,13</td>\n      <td>6</td>\n      <td>Statement: People with their children shopping...</td>\n      <td>The statement implies the cyclist was riding a...</td>\n      <td>contradiction</td>\n    </tr>\n  </tbody>\n</table>\n<p>1000 rows × 23 columns</p>\n</div>"
     },
     "execution_count": 4,
     "metadata": {},
     "output_type": "execute_result"
    }
   ],
   "source": [
    "gpt_pred"
   ],
   "metadata": {
    "collapsed": false,
    "pycharm": {
     "name": "#%%\n"
    }
   }
  },
  {
   "cell_type": "markdown",
   "source": [
    "# Prepare Input Sentences"
   ],
   "metadata": {
    "collapsed": false,
    "pycharm": {
     "name": "#%% md\n"
    }
   }
  },
  {
   "cell_type": "code",
   "execution_count": 53,
   "outputs": [
    {
     "data": {
      "text/plain": "'nominal subject (passive)'"
     },
     "execution_count": 53,
     "metadata": {},
     "output_type": "execute_result"
    }
   ],
   "source": [
    "spacy.explain(\"nsubjpass\")"
   ],
   "metadata": {
    "collapsed": false,
    "pycharm": {
     "name": "#%%\n"
    }
   }
  },
  {
   "cell_type": "code",
   "execution_count": 66,
   "outputs": [],
   "source": [
    "def extract_SVO(txt):\n",
    "    res = list()\n",
    "    doc = nlp(txt)\n",
    "\n",
    "    for cur_nsubj in list(textacy.extract.matches.token_matches(doc, [{\"DEP\": \"nsubj\"}])) + list(textacy.extract.matches.token_matches(doc, [{\"DEP\": \"nsubjpass\"}])):\n",
    "        verbs = list()\n",
    "        if cur_nsubj[0].head.pos_ == \"AUX\":\n",
    "            for cur_verb in textacy.extract.matches.token_matches(doc, [{\"POS\": \"VERB\"}]):\n",
    "                if cur_verb[0].head == cur_nsubj[0]:\n",
    "                    verbs += [cur_verb[0]]\n",
    "        else:\n",
    "            verbs += [cur_nsubj[0].head]\n",
    "        for cur_verb in verbs:\n",
    "            dobjs = list(textacy.extract.matches.token_matches(doc, [{\"DEP\": \"dobj\"}]))\n",
    "            if len(dobjs) == 0:\n",
    "                res += [(cur_nsubj[0], cur_verb, None)]\n",
    "            else:\n",
    "                for cur_dobj in dobjs:\n",
    "                    if cur_dobj[0].head == cur_verb:\n",
    "                        res += [(cur_nsubj[0], cur_verb, cur_dobj[0])]\n",
    "                    else:\n",
    "                        res += [(cur_nsubj[0], cur_verb, None)]\n",
    "\n",
    "\n",
    "    if len(res) == 0:\n",
    "        cur_root = list(textacy.extract.matches.token_matches(doc, [{\"DEP\": \"ROOT\", \"POS\": \"NOUN\"}]))\n",
    "        if len(cur_root) != 0:\n",
    "            cur_root = cur_root[0][0]\n",
    "            for cur_verb in textacy.extract.matches.token_matches(doc, [{\"DEP\": \"acl\"}]):\n",
    "                if cur_verb[0].head == cur_root:\n",
    "                    dobjs = list(textacy.extract.matches.token_matches(doc, [{\"DEP\": \"dobj\"}]))\n",
    "                    if len(dobjs) == 0:\n",
    "                        res += [(cur_root, cur_verb[0], None)]\n",
    "                    for cur_dobj in dobjs:\n",
    "                        if cur_dobj[0].head == cur_verb[0]:\n",
    "                            res += [(cur_root, cur_verb[0], cur_dobj[0])]\n",
    "                        else:\n",
    "                            res += [(cur_root, cur_verb[0], None)]\n",
    "\n",
    "    return res"
   ],
   "metadata": {
    "collapsed": false,
    "pycharm": {
     "name": "#%%\n"
    }
   }
  },
  {
   "cell_type": "code",
   "execution_count": 67,
   "outputs": [],
   "source": [
    "gpt_pred['S1_SVO'] = [extract_SVO(gpt_pred.Sentence1.iloc[i]) for i in range(gpt_pred.shape[0])]\n",
    "gpt_pred['S2_SVO'] = [extract_SVO(gpt_pred.Sentence2.iloc[i]) for i in range(gpt_pred.shape[0])]"
   ],
   "metadata": {
    "collapsed": false,
    "pycharm": {
     "name": "#%%\n"
    }
   }
  },
  {
   "cell_type": "code",
   "execution_count": 68,
   "outputs": [
    {
     "data": {
      "text/plain": "                                              S1_SVO  \\\n0                            [(man, walks, bicycle)]   \n1     [(woman, holding, wood), (she, holding, wood)]   \n2                               [(dog, jumps, None)]   \n3    [(man, wielding, razor), (man, wielding, None)]   \n4      [(group, stares, None), (that, filled, None)]   \n..                                               ...   \n995                          [(men, standing, None)]   \n996                          [(man, standing, None)]   \n997                       [(woman, torn, stockings)]   \n998                          [(men, shining, shoes)]   \n999  [(Bicyclist, ride, course), (day, comes, None)]   \n\n                           S2_SVO  \\\n0            [(man, walks, bike)]   \n1         [(woman, stands, None)]   \n2          [(dog, jumping, None)]   \n3                              []   \n4         [(group, analyze, art)]   \n..                            ...   \n995  [(Women, playing, trumpets)]   \n996       [(people, stand, None)]   \n997          [(man, going, None)]   \n998                            []   \n999     [(cyclist, riding, None)]   \n\n                                         Explanation_1  \n0           A bicycle and a bike, are the same object.  \n1    If a woman has a smile on her face then she is...  \n2         Jumping is an action needed to catch a ball.  \n3    There cannot be one person present if one man ...  \n4             Not necessary that they analyze the art.  \n..                                                 ...  \n995  either there are men on stage, or women playin...  \n996            3 Man in hoods are hood wearing people.  \n997  walking down a street does not mean they are g...  \n998  Two men are shining shoes if two men are shini...  \n999  This implies that it is either a (regular) bic...  \n\n[1000 rows x 3 columns]",
      "text/html": "<div>\n<style scoped>\n    .dataframe tbody tr th:only-of-type {\n        vertical-align: middle;\n    }\n\n    .dataframe tbody tr th {\n        vertical-align: top;\n    }\n\n    .dataframe thead th {\n        text-align: right;\n    }\n</style>\n<table border=\"1\" class=\"dataframe\">\n  <thead>\n    <tr style=\"text-align: right;\">\n      <th></th>\n      <th>S1_SVO</th>\n      <th>S2_SVO</th>\n      <th>Explanation_1</th>\n    </tr>\n  </thead>\n  <tbody>\n    <tr>\n      <th>0</th>\n      <td>[(man, walks, bicycle)]</td>\n      <td>[(man, walks, bike)]</td>\n      <td>A bicycle and a bike, are the same object.</td>\n    </tr>\n    <tr>\n      <th>1</th>\n      <td>[(woman, holding, wood), (she, holding, wood)]</td>\n      <td>[(woman, stands, None)]</td>\n      <td>If a woman has a smile on her face then she is...</td>\n    </tr>\n    <tr>\n      <th>2</th>\n      <td>[(dog, jumps, None)]</td>\n      <td>[(dog, jumping, None)]</td>\n      <td>Jumping is an action needed to catch a ball.</td>\n    </tr>\n    <tr>\n      <th>3</th>\n      <td>[(man, wielding, razor), (man, wielding, None)]</td>\n      <td>[]</td>\n      <td>There cannot be one person present if one man ...</td>\n    </tr>\n    <tr>\n      <th>4</th>\n      <td>[(group, stares, None), (that, filled, None)]</td>\n      <td>[(group, analyze, art)]</td>\n      <td>Not necessary that they analyze the art.</td>\n    </tr>\n    <tr>\n      <th>...</th>\n      <td>...</td>\n      <td>...</td>\n      <td>...</td>\n    </tr>\n    <tr>\n      <th>995</th>\n      <td>[(men, standing, None)]</td>\n      <td>[(Women, playing, trumpets)]</td>\n      <td>either there are men on stage, or women playin...</td>\n    </tr>\n    <tr>\n      <th>996</th>\n      <td>[(man, standing, None)]</td>\n      <td>[(people, stand, None)]</td>\n      <td>3 Man in hoods are hood wearing people.</td>\n    </tr>\n    <tr>\n      <th>997</th>\n      <td>[(woman, torn, stockings)]</td>\n      <td>[(man, going, None)]</td>\n      <td>walking down a street does not mean they are g...</td>\n    </tr>\n    <tr>\n      <th>998</th>\n      <td>[(men, shining, shoes)]</td>\n      <td>[]</td>\n      <td>Two men are shining shoes if two men are shini...</td>\n    </tr>\n    <tr>\n      <th>999</th>\n      <td>[(Bicyclist, ride, course), (day, comes, None)]</td>\n      <td>[(cyclist, riding, None)]</td>\n      <td>This implies that it is either a (regular) bic...</td>\n    </tr>\n  </tbody>\n</table>\n<p>1000 rows × 3 columns</p>\n</div>"
     },
     "execution_count": 68,
     "metadata": {},
     "output_type": "execute_result"
    }
   ],
   "source": [
    "gpt_pred[[\"S1_SVO\", \"S2_SVO\", \"Explanation_1\"]]"
   ],
   "metadata": {
    "collapsed": false,
    "pycharm": {
     "name": "#%%\n"
    }
   }
  },
  {
   "cell_type": "code",
   "execution_count": 75,
   "outputs": [],
   "source": [
    "has_svo_structure = [not (gpt_pred[\"S1_SVO\"].iloc[i] == list() or gpt_pred[\"S2_SVO\"].iloc[i] == list()) for i in range(gpt_pred.shape[0])]\n",
    "gpt_pred_svo = gpt_pred[has_svo_structure]"
   ],
   "metadata": {
    "collapsed": false,
    "pycharm": {
     "name": "#%%\n"
    }
   }
  },
  {
   "cell_type": "code",
   "execution_count": 76,
   "outputs": [
    {
     "data": {
      "text/plain": "0.667"
     },
     "execution_count": 76,
     "metadata": {},
     "output_type": "execute_result"
    }
   ],
   "source": [
    "np.mean(has_svo_structure)"
   ],
   "metadata": {
    "collapsed": false,
    "pycharm": {
     "name": "#%%\n"
    }
   }
  },
  {
   "cell_type": "code",
   "execution_count": 77,
   "outputs": [
    {
     "data": {
      "text/plain": "     Unnamed: 0               pairID     gold_label  \\\n0             0  4813951931.jpg#3r1e     entailment   \n1             1  4678320536.jpg#1r1c  contradiction   \n2             2   661749711.jpg#2r1e     entailment   \n4             4    32542645.jpg#0r1n        neutral   \n7             7  4911982235.jpg#0r1c  contradiction   \n..          ...                  ...            ...   \n994         994  3251646144.jpg#0r1n        neutral   \n995         995  2429284131.jpg#2r1c  contradiction   \n996         996  4460943467.jpg#0r1e     entailment   \n997         997  2226343167.jpg#0r1n        neutral   \n999         999  3559425864.jpg#1r1c  contradiction   \n\n                                             Sentence1  \\\n0    A young man in an orange hat walks his bicycle...   \n1    A woman standing with smile on her face and sh...   \n2             A dog jumps to catch a red ball outside.   \n4    A group of people stares at a wall that is fil...   \n7    A man in a plaid shirt is walking on a street ...   \n..                                                 ...   \n994  A boy is running in a spinning metal tunnel in...   \n995        Three men are standing on stage performing.   \n996  3 young man in hoods standing in the middle of...   \n997  A woman in skirt, torn stockings and combat bo...   \n999  Bicyclist ride the course near the ocean as th...   \n\n                                             Sentence2  \\\n0    A man in an orange hat walks his bike down a s...   \n1          A woman stands holding her baby and crying.   \n2                                  the dog is jumping.   \n4               A group of people analyze art together   \n7                          He is walking on his hands.   \n..                                                 ...   \n994                               He is getting dizzy.   \n995          Women are playing trumpets on the street.   \n996       Three hood wearing people stand in a street.   \n997  The man and woman are going to a movie in the ...   \n999             The cyclist was riding in the morning.   \n\n                                         Explanation_1  \\\n0           A bicycle and a bike, are the same object.   \n1    If a woman has a smile on her face then she is...   \n2         Jumping is an action needed to catch a ball.   \n4             Not necessary that they analyze the art.   \n7    The man is either walking or walking on his ha...   \n..                                                 ...   \n994               A boy can run without getting dizzy.   \n995  either there are men on stage, or women playin...   \n996            3 Man in hoods are hood wearing people.   \n997  walking down a street does not mean they are g...   \n999  This implies that it is either a (regular) bic...   \n\n                                    Sentence1_marked_1  \\\n0     A young man in an orange hat walks his *bicyc...   \n1    A woman standing with *smile* *on* *her* *face...   \n2     A *dog* *jumps* to *catch* a red *ball* *outs...   \n4    A group of people stares at a wall that is fil...   \n7    A man in a plaid shirt is *walking* on a *stre...   \n..                                                 ...   \n994  A boy is running in a spinning metal tunnel in...   \n995      Three *men* are standing on stage performing.   \n996   *3* young *man* in *hoods* standing in the mi...   \n997  A woman in skirt, torn stockings and combat bo...   \n999  *Bicyclist* ride the course near the ocean as ...   \n\n                                    Sentence2_marked_1  \\\n0     A man in an orange hat walks his *bike* down ...   \n1        A woman stands holding her baby and *crying.*   \n2                              the *dog* is *jumping.*   \n4             A group of people *analyze* art together   \n7                      He is *walking* on his *hands.*   \n..                                                 ...   \n994                             He is getting *dizzy.*   \n995        *Women* are playing trumpets on the street.   \n996   Three *hood* *wearing* *people* stand in a st...   \n997   The man and woman are going to a *movie* in t...   \n999         *The* *cyclist* was riding in the morning.   \n\n    Sentence1_Highlighted_1 Sentence2_Highlighted_1  ...  \\\n0                         9                       8  ...   \n1                   4,5,6,7                       7  ...   \n2                 2,7,8,1,4                     3,1  ...   \n4                        {}                       4  ...   \n7                      7,10                     2,5  ...   \n..                      ...                     ...  ...   \n994                      {}                       3  ...   \n995                       1                       0  ...   \n996                   2,0,4                   1,2,3  ...   \n997                      {}                       8  ...   \n999                       0                     1,0  ...   \n\n                                         Explanation_3  \\\n0    The young man in an orange hart is the man wal...   \n1            the woman is either crying or has a smile   \n2       If the dog jumps to catch, the dog is jumping.   \n4    The group may have just been admiring as oppos...   \n7    A man cannot be walking on a street and walkin...   \n..                                                 ...   \n994  Running in a spinning metal tunnel does not al...   \n995                  There can be either men or women.   \n996  If they are standing in the middle of a quiet ...   \n997  Just because a man and woman are wearing theme...   \n999    The day does not come to an end in the morning.   \n\n                                    Sentence1_marked_3  \\\n0     A *young* *man* in *an* *orange* *hat* *walks...   \n1    A *woman* standing with *smile* on her face an...   \n2         A dog *jumps* to *catch* a red ball outside.   \n4    A group of people stares at a wall that is fil...   \n7    A man in a plaid shirt is *walking* *on* *a* *...   \n..                                                 ...   \n994  A boy is running in a spinning metal tunnel in...   \n995      Three *men* are standing on stage performing.   \n996   3 young man in hoods *standing* *in* *the* *m...   \n997  A woman in skirt, torn stockings and combat bo...   \n999  Bicyclist ride the course near the ocean as th...   \n\n                                    Sentence2_marked_3  \\\n0     A *man* in *an* *orange* *hat* *walks* *his* ...   \n1      A *woman* stands holding her baby and *crying.*   \n2                                the dog is *jumping.*   \n4           A group of people *analyze* art *together*   \n7                  He is *walking* *on* *his* *hands.*   \n..                                                 ...   \n994                             He is getting *dizzy.*   \n995        *Women* are playing trumpets on the street.   \n996   Three hood wearing people *stand* *in* *a* *s...   \n997   The man and woman are going to a *movie* in t...   \n999           The cyclist was riding in the *morning.*   \n\n    Sentence1_Highlighted_3 Sentence2_Highlighted_3  \\\n0     1,2,4,5,6,7,8,9,10,12      1,5,4,3,11,9,8,7,6   \n1                       4,1                     1,7   \n2                       2,4                       3   \n4                        {}                     4,6   \n7                  7,8,9,10                 2,3,4,5   \n..                      ...                     ...   \n994                      {}                       3   \n995                       1                       0   \n996      5,6,7,8,9,11,10,12                 4,5,6,7   \n997                      {}                       8   \n999           9,11,10,12,13                       6   \n\n                                                prompt  \\\n0    Statement: A man in a suit and dirty dress-sho...   \n1    Statement: a white dog runs across the water.\\...   \n2    Statement: A young child rides a bike with a b...   \n4    Statement: Young mother and child heading some...   \n7    Statement: A woman wearing blue pants and a wh...   \n..                                                 ...   \n994  Statement: A man dressed in black is smoking a...   \n995  Statement: Several basketball players are grab...   \n996  Statement: A curly-haired brunette wearing a b...   \n997  Statement: A brown dog standing in water.\\nSta...   \n999  Statement: People with their children shopping...   \n\n                                      pred_explanation     pred_label  \\\n0              The man is young and the hat is orange.     entailment   \n1    The woman is smiling and holding a wood, not a...  contradiction   \n2     The statement is repeating the same information.      tautology   \n4    Staring at a wall filled with drawings is a fo...     entailment   \n7    The statement does not provide any indication ...  contradiction   \n..                                                 ...            ...   \n994  Running in a spinning metal tunnel can cause d...     entailment   \n995  The men are standing on stage performing, whil...  contradiction   \n996      The statements are describing the same thing.    equivalence   \n997  The statement does not give any indication tha...        neutral   \n999  The statement implies the cyclist was riding a...  contradiction   \n\n                                              S1_SVO  \\\n0                            [(man, walks, bicycle)]   \n1     [(woman, holding, wood), (she, holding, wood)]   \n2                               [(dog, jumps, None)]   \n4      [(group, stares, None), (that, filled, None)]   \n7                             [(man, walking, None)]   \n..                                               ...   \n994                           [(boy, running, None)]   \n995                          [(men, standing, None)]   \n996                          [(man, standing, None)]   \n997                       [(woman, torn, stockings)]   \n999  [(Bicyclist, ride, course), (day, comes, None)]   \n\n                           S2_SVO  \n0            [(man, walks, bike)]  \n1         [(woman, stands, None)]  \n2          [(dog, jumping, None)]  \n4         [(group, analyze, art)]  \n7           [(He, walking, None)]  \n..                            ...  \n994         [(He, getting, None)]  \n995  [(Women, playing, trumpets)]  \n996       [(people, stand, None)]  \n997          [(man, going, None)]  \n999     [(cyclist, riding, None)]  \n\n[667 rows x 25 columns]",
      "text/html": "<div>\n<style scoped>\n    .dataframe tbody tr th:only-of-type {\n        vertical-align: middle;\n    }\n\n    .dataframe tbody tr th {\n        vertical-align: top;\n    }\n\n    .dataframe thead th {\n        text-align: right;\n    }\n</style>\n<table border=\"1\" class=\"dataframe\">\n  <thead>\n    <tr style=\"text-align: right;\">\n      <th></th>\n      <th>Unnamed: 0</th>\n      <th>pairID</th>\n      <th>gold_label</th>\n      <th>Sentence1</th>\n      <th>Sentence2</th>\n      <th>Explanation_1</th>\n      <th>Sentence1_marked_1</th>\n      <th>Sentence2_marked_1</th>\n      <th>Sentence1_Highlighted_1</th>\n      <th>Sentence2_Highlighted_1</th>\n      <th>...</th>\n      <th>Explanation_3</th>\n      <th>Sentence1_marked_3</th>\n      <th>Sentence2_marked_3</th>\n      <th>Sentence1_Highlighted_3</th>\n      <th>Sentence2_Highlighted_3</th>\n      <th>prompt</th>\n      <th>pred_explanation</th>\n      <th>pred_label</th>\n      <th>S1_SVO</th>\n      <th>S2_SVO</th>\n    </tr>\n  </thead>\n  <tbody>\n    <tr>\n      <th>0</th>\n      <td>0</td>\n      <td>4813951931.jpg#3r1e</td>\n      <td>entailment</td>\n      <td>A young man in an orange hat walks his bicycle...</td>\n      <td>A man in an orange hat walks his bike down a s...</td>\n      <td>A bicycle and a bike, are the same object.</td>\n      <td>A young man in an orange hat walks his *bicyc...</td>\n      <td>A man in an orange hat walks his *bike* down ...</td>\n      <td>9</td>\n      <td>8</td>\n      <td>...</td>\n      <td>The young man in an orange hart is the man wal...</td>\n      <td>A *young* *man* in *an* *orange* *hat* *walks...</td>\n      <td>A *man* in *an* *orange* *hat* *walks* *his* ...</td>\n      <td>1,2,4,5,6,7,8,9,10,12</td>\n      <td>1,5,4,3,11,9,8,7,6</td>\n      <td>Statement: A man in a suit and dirty dress-sho...</td>\n      <td>The man is young and the hat is orange.</td>\n      <td>entailment</td>\n      <td>[(man, walks, bicycle)]</td>\n      <td>[(man, walks, bike)]</td>\n    </tr>\n    <tr>\n      <th>1</th>\n      <td>1</td>\n      <td>4678320536.jpg#1r1c</td>\n      <td>contradiction</td>\n      <td>A woman standing with smile on her face and sh...</td>\n      <td>A woman stands holding her baby and crying.</td>\n      <td>If a woman has a smile on her face then she is...</td>\n      <td>A woman standing with *smile* *on* *her* *face...</td>\n      <td>A woman stands holding her baby and *crying.*</td>\n      <td>4,5,6,7</td>\n      <td>7</td>\n      <td>...</td>\n      <td>the woman is either crying or has a smile</td>\n      <td>A *woman* standing with *smile* on her face an...</td>\n      <td>A *woman* stands holding her baby and *crying.*</td>\n      <td>4,1</td>\n      <td>1,7</td>\n      <td>Statement: a white dog runs across the water.\\...</td>\n      <td>The woman is smiling and holding a wood, not a...</td>\n      <td>contradiction</td>\n      <td>[(woman, holding, wood), (she, holding, wood)]</td>\n      <td>[(woman, stands, None)]</td>\n    </tr>\n    <tr>\n      <th>2</th>\n      <td>2</td>\n      <td>661749711.jpg#2r1e</td>\n      <td>entailment</td>\n      <td>A dog jumps to catch a red ball outside.</td>\n      <td>the dog is jumping.</td>\n      <td>Jumping is an action needed to catch a ball.</td>\n      <td>A *dog* *jumps* to *catch* a red *ball* *outs...</td>\n      <td>the *dog* is *jumping.*</td>\n      <td>2,7,8,1,4</td>\n      <td>3,1</td>\n      <td>...</td>\n      <td>If the dog jumps to catch, the dog is jumping.</td>\n      <td>A dog *jumps* to *catch* a red ball outside.</td>\n      <td>the dog is *jumping.*</td>\n      <td>2,4</td>\n      <td>3</td>\n      <td>Statement: A young child rides a bike with a b...</td>\n      <td>The statement is repeating the same information.</td>\n      <td>tautology</td>\n      <td>[(dog, jumps, None)]</td>\n      <td>[(dog, jumping, None)]</td>\n    </tr>\n    <tr>\n      <th>4</th>\n      <td>4</td>\n      <td>32542645.jpg#0r1n</td>\n      <td>neutral</td>\n      <td>A group of people stares at a wall that is fil...</td>\n      <td>A group of people analyze art together</td>\n      <td>Not necessary that they analyze the art.</td>\n      <td>A group of people stares at a wall that is fil...</td>\n      <td>A group of people *analyze* art together</td>\n      <td>{}</td>\n      <td>4</td>\n      <td>...</td>\n      <td>The group may have just been admiring as oppos...</td>\n      <td>A group of people stares at a wall that is fil...</td>\n      <td>A group of people *analyze* art *together*</td>\n      <td>{}</td>\n      <td>4,6</td>\n      <td>Statement: Young mother and child heading some...</td>\n      <td>Staring at a wall filled with drawings is a fo...</td>\n      <td>entailment</td>\n      <td>[(group, stares, None), (that, filled, None)]</td>\n      <td>[(group, analyze, art)]</td>\n    </tr>\n    <tr>\n      <th>7</th>\n      <td>7</td>\n      <td>4911982235.jpg#0r1c</td>\n      <td>contradiction</td>\n      <td>A man in a plaid shirt is walking on a street ...</td>\n      <td>He is walking on his hands.</td>\n      <td>The man is either walking or walking on his ha...</td>\n      <td>A man in a plaid shirt is *walking* on a *stre...</td>\n      <td>He is *walking* on his *hands.*</td>\n      <td>7,10</td>\n      <td>2,5</td>\n      <td>...</td>\n      <td>A man cannot be walking on a street and walkin...</td>\n      <td>A man in a plaid shirt is *walking* *on* *a* *...</td>\n      <td>He is *walking* *on* *his* *hands.*</td>\n      <td>7,8,9,10</td>\n      <td>2,3,4,5</td>\n      <td>Statement: A woman wearing blue pants and a wh...</td>\n      <td>The statement does not provide any indication ...</td>\n      <td>contradiction</td>\n      <td>[(man, walking, None)]</td>\n      <td>[(He, walking, None)]</td>\n    </tr>\n    <tr>\n      <th>...</th>\n      <td>...</td>\n      <td>...</td>\n      <td>...</td>\n      <td>...</td>\n      <td>...</td>\n      <td>...</td>\n      <td>...</td>\n      <td>...</td>\n      <td>...</td>\n      <td>...</td>\n      <td>...</td>\n      <td>...</td>\n      <td>...</td>\n      <td>...</td>\n      <td>...</td>\n      <td>...</td>\n      <td>...</td>\n      <td>...</td>\n      <td>...</td>\n      <td>...</td>\n      <td>...</td>\n    </tr>\n    <tr>\n      <th>994</th>\n      <td>994</td>\n      <td>3251646144.jpg#0r1n</td>\n      <td>neutral</td>\n      <td>A boy is running in a spinning metal tunnel in...</td>\n      <td>He is getting dizzy.</td>\n      <td>A boy can run without getting dizzy.</td>\n      <td>A boy is running in a spinning metal tunnel in...</td>\n      <td>He is getting *dizzy.*</td>\n      <td>{}</td>\n      <td>3</td>\n      <td>...</td>\n      <td>Running in a spinning metal tunnel does not al...</td>\n      <td>A boy is running in a spinning metal tunnel in...</td>\n      <td>He is getting *dizzy.*</td>\n      <td>{}</td>\n      <td>3</td>\n      <td>Statement: A man dressed in black is smoking a...</td>\n      <td>Running in a spinning metal tunnel can cause d...</td>\n      <td>entailment</td>\n      <td>[(boy, running, None)]</td>\n      <td>[(He, getting, None)]</td>\n    </tr>\n    <tr>\n      <th>995</th>\n      <td>995</td>\n      <td>2429284131.jpg#2r1c</td>\n      <td>contradiction</td>\n      <td>Three men are standing on stage performing.</td>\n      <td>Women are playing trumpets on the street.</td>\n      <td>either there are men on stage, or women playin...</td>\n      <td>Three *men* are standing on stage performing.</td>\n      <td>*Women* are playing trumpets on the street.</td>\n      <td>1</td>\n      <td>0</td>\n      <td>...</td>\n      <td>There can be either men or women.</td>\n      <td>Three *men* are standing on stage performing.</td>\n      <td>*Women* are playing trumpets on the street.</td>\n      <td>1</td>\n      <td>0</td>\n      <td>Statement: Several basketball players are grab...</td>\n      <td>The men are standing on stage performing, whil...</td>\n      <td>contradiction</td>\n      <td>[(men, standing, None)]</td>\n      <td>[(Women, playing, trumpets)]</td>\n    </tr>\n    <tr>\n      <th>996</th>\n      <td>996</td>\n      <td>4460943467.jpg#0r1e</td>\n      <td>entailment</td>\n      <td>3 young man in hoods standing in the middle of...</td>\n      <td>Three hood wearing people stand in a street.</td>\n      <td>3 Man in hoods are hood wearing people.</td>\n      <td>*3* young *man* in *hoods* standing in the mi...</td>\n      <td>Three *hood* *wearing* *people* stand in a st...</td>\n      <td>2,0,4</td>\n      <td>1,2,3</td>\n      <td>...</td>\n      <td>If they are standing in the middle of a quiet ...</td>\n      <td>3 young man in hoods *standing* *in* *the* *m...</td>\n      <td>Three hood wearing people *stand* *in* *a* *s...</td>\n      <td>5,6,7,8,9,11,10,12</td>\n      <td>4,5,6,7</td>\n      <td>Statement: A curly-haired brunette wearing a b...</td>\n      <td>The statements are describing the same thing.</td>\n      <td>equivalence</td>\n      <td>[(man, standing, None)]</td>\n      <td>[(people, stand, None)]</td>\n    </tr>\n    <tr>\n      <th>997</th>\n      <td>997</td>\n      <td>2226343167.jpg#0r1n</td>\n      <td>neutral</td>\n      <td>A woman in skirt, torn stockings and combat bo...</td>\n      <td>The man and woman are going to a movie in the ...</td>\n      <td>walking down a street does not mean they are g...</td>\n      <td>A woman in skirt, torn stockings and combat bo...</td>\n      <td>The man and woman are going to a *movie* in t...</td>\n      <td>{}</td>\n      <td>8</td>\n      <td>...</td>\n      <td>Just because a man and woman are wearing theme...</td>\n      <td>A woman in skirt, torn stockings and combat bo...</td>\n      <td>The man and woman are going to a *movie* in t...</td>\n      <td>{}</td>\n      <td>8</td>\n      <td>Statement: A brown dog standing in water.\\nSta...</td>\n      <td>The statement does not give any indication tha...</td>\n      <td>neutral</td>\n      <td>[(woman, torn, stockings)]</td>\n      <td>[(man, going, None)]</td>\n    </tr>\n    <tr>\n      <th>999</th>\n      <td>999</td>\n      <td>3559425864.jpg#1r1c</td>\n      <td>contradiction</td>\n      <td>Bicyclist ride the course near the ocean as th...</td>\n      <td>The cyclist was riding in the morning.</td>\n      <td>This implies that it is either a (regular) bic...</td>\n      <td>*Bicyclist* ride the course near the ocean as ...</td>\n      <td>*The* *cyclist* was riding in the morning.</td>\n      <td>0</td>\n      <td>1,0</td>\n      <td>...</td>\n      <td>The day does not come to an end in the morning.</td>\n      <td>Bicyclist ride the course near the ocean as th...</td>\n      <td>The cyclist was riding in the *morning.*</td>\n      <td>9,11,10,12,13</td>\n      <td>6</td>\n      <td>Statement: People with their children shopping...</td>\n      <td>The statement implies the cyclist was riding a...</td>\n      <td>contradiction</td>\n      <td>[(Bicyclist, ride, course), (day, comes, None)]</td>\n      <td>[(cyclist, riding, None)]</td>\n    </tr>\n  </tbody>\n</table>\n<p>667 rows × 25 columns</p>\n</div>"
     },
     "execution_count": 77,
     "metadata": {},
     "output_type": "execute_result"
    }
   ],
   "source": [
    "gpt_pred_svo"
   ],
   "metadata": {
    "collapsed": false,
    "pycharm": {
     "name": "#%%\n"
    }
   }
  },
  {
   "cell_type": "markdown",
   "source": [
    "# Analyse Predictions"
   ],
   "metadata": {
    "collapsed": false,
    "pycharm": {
     "name": "#%% md\n"
    }
   }
  },
  {
   "cell_type": "code",
   "execution_count": 4,
   "outputs": [],
   "source": [
    "docs = [nlp(test.iloc[i].Explanation_1) for i in range(20)]"
   ],
   "metadata": {
    "collapsed": false,
    "pycharm": {
     "name": "#%%\n"
    }
   }
  },
  {
   "cell_type": "code",
   "execution_count": 5,
   "outputs": [
    {
     "name": "stdout",
     "output_type": "stream",
     "text": [
      "A bicycle // bicycle // nsubj // are\n",
      "a bike // bike // conj // bicycle\n",
      "the same object // object // attr // are\n",
      "-----------------------------------------\n",
      "a woman // woman // nsubj // has\n",
      "a smile // smile // dobj // has\n",
      "her face // face // pobj // on\n",
      "she // she // nsubj // crying\n",
      "-----------------------------------------\n",
      "Jumping // Jumping // nsubj // is\n",
      "an action // action // attr // is\n",
      "a ball // ball // dobj // catch\n",
      "-----------------------------------------\n",
      "one person // person // attr // be\n",
      "one man // man // nsubj // shaving\n",
      "another man's hair // hair // dobj // shaving\n",
      "-----------------------------------------\n",
      "they // they // nsubj // analyze\n",
      "the art // art // dobj // analyze\n",
      "-----------------------------------------\n",
      "A snowboarder // snowboarder // nsubj // is\n",
      "a person // person // attr // is\n",
      "a snowboarder // snowboarder // nsubj // sails\n",
      "the air // air // pobj // through\n",
      "they // they // nsubj // snowboarding\n",
      "a person // person // nsubj // snowboarding\n",
      "-----------------------------------------\n",
      "A person // person // nsubj // chew\n",
      "a liquid // liquid // dobj // chew\n",
      "they // they // nsubj // consume\n",
      "a liquid // liquid // dobj // consume\n",
      "the phone // phone // pobj // on\n",
      "-----------------------------------------\n",
      "The man // man // nsubj // walking\n",
      "his hands // hands // pobj // on\n",
      "people // people // nsubj // walk\n",
      "their hands // hands // pobj // on\n",
      "the street // street // pobj // down\n",
      "-----------------------------------------\n",
      "two different gaits // gaits // attr // are\n",
      "-----------------------------------------\n",
      "a young man // man // nsubj // constitute\n",
      "an older man // man // conj // man\n",
      "people // people // dobj // constitute\n",
      "differing ages // ages // pobj // of\n",
      "-----------------------------------------\n",
      "a woman // woman // nsubj // helping\n",
      "a girl // girl // nsubj // mean\n",
      "the girl // girl // nsubj // is\n",
      "her child // child // attr // is\n",
      "-----------------------------------------\n",
      "Two people // people // nsubj // do\n",
      "something // something // dobj // do\n",
      "a park // park // pobj // in\n",
      "them // them // nsubj // having\n",
      "a couple // couple // attr // be\n",
      "It // It // nsubj // 's\n",
      "they // they // nsubj // are\n",
      "-----------------------------------------\n",
      "A house's flower garden // garden // nsubj // is\n",
      "a street // street // pobj // on\n",
      "-----------------------------------------\n",
      "A man // man // nsubj // sits\n",
      "front // front // pobj // in\n",
      "another man // man // pobj // of\n",
      "-----------------------------------------\n",
      "The woman // woman // nsubj // walking\n",
      "either a horse // horse // pobj // with\n",
      "a dog // dog // conj // horse\n",
      "who // who // nsubj // walks\n",
      "a horse // horse // dobj // walks\n",
      "the middle // middle // pobj // in\n",
      "a street // street // pobj // of\n",
      "-----------------------------------------\n",
      "The man // man // nsubj // has\n",
      "shorts // shorts // dobj // has\n",
      "he // he // nsubj // is\n",
      "a leaf-patterned pair // pair // pobj // in\n",
      "short (shorts // shorts // pobj // of\n",
      "-----------------------------------------\n",
      "You // You // nsubj // challenge\n",
      "someone // someone // dobj // challenge\n",
      "you // you // nsubj // try\n",
      "a ball // ball // dobj // grab\n",
      "them // them // pobj // from\n",
      "-----------------------------------------\n",
      "The woman // woman // nsubj // looking\n",
      "a mirror // mirror // pobj // in\n",
      "she // she // nsubj // were\n",
      "-----------------------------------------\n",
      "You // You // nsubj // infer\n",
      "they // they // nsubj // are\n",
      "-----------------------------------------\n",
      "You // You // nsubj // infer\n",
      "the sun sets // sets // dobj // infer\n",
      "-----------------------------------------\n"
     ]
    }
   ],
   "source": [
    "for doc in docs:\n",
    "    for chunk in doc.noun_chunks:\n",
    "        print(chunk.text, '//', chunk.root.text, '//', chunk.root.dep_, '//', chunk.root.head.text)\n",
    "    print('-----------------------------------------')"
   ],
   "metadata": {
    "collapsed": false,
    "pycharm": {
     "name": "#%%\n"
    }
   }
  },
  {
   "cell_type": "code",
   "execution_count": 74,
   "outputs": [],
   "source": [
    "doc = nlp(gpt_pred.iloc[9].Sentence2)\n",
    "html = spacy.displacy.render(doc, style='dep', jupyter=False)\n",
    "with open('data_vis' + 'test' + '.html', 'w') as f:\n",
    "    f.write(html)"
   ],
   "metadata": {
    "collapsed": false,
    "pycharm": {
     "name": "#%%\n"
    }
   }
  },
  {
   "cell_type": "markdown",
   "source": [
    "# Currently Explanation 1 -> Change to pred_explanation"
   ],
   "metadata": {
    "collapsed": false,
    "pycharm": {
     "name": "#%% md\n"
    }
   }
  },
  {
   "cell_type": "code",
   "execution_count": 112,
   "outputs": [],
   "source": [
    "n = gpt_pred.shape[0]\n",
    "expls = [nlp(gpt_pred.Explanation_1.iloc[i]) for i in range(n)]"
   ],
   "metadata": {
    "collapsed": false,
    "pycharm": {
     "name": "#%%\n"
    }
   }
  },
  {
   "cell_type": "code",
   "execution_count": 113,
   "outputs": [],
   "source": [
    "verbs_sentence = list()\n",
    "\n",
    "cur_index = 0\n",
    "verb_dict = dict()\n",
    "root_term_dict = dict()\n",
    "\n",
    "# loop through each row in the test data\n",
    "for expl in expls:\n",
    "    cur_verbs = list()\n",
    "    neg_root = None\n",
    "    contains_different = False\n",
    "\n",
    "    # loop through each token in current explanation\n",
    "    for token in expl:\n",
    "        if token.lemma_ == 'different':\n",
    "            contains_different = True\n",
    "        if token.dep_ == 'ROOT':\n",
    "            cur_root = token.lemma_\n",
    "        if token.dep_ == 'neg' and token.head.dep_ == 'ROOT':\n",
    "            neg_root = token.lemma_ + \" \" + token.head.lemma_\n",
    "    if neg_root:\n",
    "        cur_root = neg_root\n",
    "    if contains_different:\n",
    "        cur_root += \" different\"\n",
    "    if cur_root not in root_term_dict.keys():\n",
    "        root_term_dict[cur_root] = [cur_index]\n",
    "    else:\n",
    "        root_term_dict[cur_root] += [cur_index]\n",
    "    cur_index += 1"
   ],
   "metadata": {
    "collapsed": false,
    "pycharm": {
     "name": "#%%\n"
    }
   }
  },
  {
   "cell_type": "code",
   "execution_count": 114,
   "outputs": [
    {
     "data": {
      "text/plain": "be           254\nnot be        96\nnot mean      58\nimply         34\nnot imply     34\n            ... \ninfer          1\nlisten         1\nlay            1\nnot write      1\nshine          1\nLength: 223, dtype: int64"
     },
     "execution_count": 114,
     "metadata": {},
     "output_type": "execute_result"
    }
   ],
   "source": [
    "pd.Series(root_term_dict).apply(lambda x: len(x)).sort_values(ascending=False)"
   ],
   "metadata": {
    "collapsed": false,
    "pycharm": {
     "name": "#%%\n"
    }
   }
  },
  {
   "cell_type": "code",
   "execution_count": 122,
   "outputs": [
    {
     "name": "stdout",
     "output_type": "stream",
     "text": [
      "Max number of SVO structures in sentence 1:  6\n",
      "Max number of SVO structures in sentence 2:  4\n"
     ]
    }
   ],
   "source": [
    "print(\"Max number of SVO structures in sentence 1: \", gpt_pred_svo.S1_SVO.apply(lambda x: len(x)).max())\n",
    "print(\"Max number of SVO structures in sentence 2: \", gpt_pred_svo.S2_SVO.apply(lambda x: len(x)).max())"
   ],
   "metadata": {
    "collapsed": false,
    "pycharm": {
     "name": "#%%\n"
    }
   }
  },
  {
   "cell_type": "code",
   "execution_count": 138,
   "outputs": [
    {
     "name": "stdout",
     "output_type": "stream",
     "text": [
      "[be]\n",
      "[not, cry]\n",
      "[not, be]\n",
      "[not, necessary]\n",
      "[not, chew]\n",
      "[walk]\n",
      "[be, different]\n",
      "[constitute]\n",
      "[help]\n",
      "[sit]\n",
      "[have]\n",
      "[challenge]\n",
      "[not, infer]\n",
      "[paper]\n",
      "[signify]\n",
      "[not, play]\n",
      "[not, walk]\n",
      "[break]\n",
      "[not, jump]\n",
      "[not, smile]\n",
      "[not, mean]\n",
      "[end]\n",
      "[imply]\n",
      "[hold]\n",
      "[man]\n",
      "[give]\n",
      "[not, fall]\n",
      "[need]\n",
      "[not, imply]\n",
      "[not, run]\n",
      "[not, smoke]\n",
      "[take]\n",
      "[push]\n",
      "[not, tie]\n",
      "[not, sit]\n",
      "[complete]\n",
      "[show]\n",
      "[ride]\n",
      "[not, dunk]\n",
      "[mean]\n",
      "[yell]\n",
      "[not, look]\n",
      "[move]\n",
      "[go]\n",
      "[identify]\n",
      "[swim]\n",
      "[do]\n",
      "[fix]\n",
      "[not, consider]\n",
      "[stand]\n",
      "[not, be, different]\n",
      "[not, limit]\n",
      "[not, cut]\n",
      "[race]\n",
      "[run]\n",
      "[watch]\n",
      "[not, have]\n",
      "[stretch]\n",
      "[not, stand]\n",
      "[not, ride]\n",
      "[bang]\n",
      "[person]\n",
      "[not, like]\n",
      "[not, haul]\n",
      "[not, work]\n",
      "[not, block]\n",
      "[follow]\n",
      "[contradict]\n",
      "[fence]\n",
      "[sound]\n",
      "[tie]\n",
      "[not, go]\n",
      "[find]\n",
      "[not, transform]\n",
      "[seat]\n",
      "[play]\n",
      "[not, come]\n",
      "[immerse]\n",
      "[not, point]\n",
      "[not, assume]\n",
      "[not, describe]\n",
      "[not, mention]\n",
      "[instal]\n",
      "[buy]\n",
      "[wear]\n",
      "[say]\n",
      "[toss]\n",
      "[refer]\n",
      "[not, specify]\n",
      "[laugh]\n",
      "[practice]\n",
      "[not, do]\n",
      "[not, surf]\n",
      "[not, refer]\n",
      "[call]\n",
      "[cut]\n",
      "[not, tell]\n",
      "[think]\n",
      "[group]\n",
      "[jump]\n",
      "[fell]\n",
      "[not, attempt]\n",
      "[sleep]\n",
      "[come]\n",
      "[not, make]\n",
      "[not, wear]\n",
      "[lie, different]\n",
      "[perform]\n",
      "[relax]\n",
      "[weave]\n",
      "[not, attend]\n",
      "[not, hold]\n",
      "[crowd]\n",
      "[hug]\n",
      "[throw]\n",
      "[bicyclist]\n",
      "[infer]\n",
      "[listen]\n",
      "[lay]\n",
      "[not, write]\n",
      "[exist]\n",
      "[carry]\n",
      "[paraphrase]\n",
      "[pose]\n",
      "[rephrase]\n",
      "[not, involve]\n",
      "[not, climb]\n",
      "[not, staple]\n",
      "[not, race]\n",
      "[start]\n",
      "[street]\n",
      "[not, ski]\n",
      "[battle]\n",
      "[know]\n",
      "[work]\n",
      "[woman]\n",
      "[cross]\n",
      "[wait]\n",
      "[consider]\n",
      "[entail]\n",
      "[read]\n",
      "[not, agree]\n",
      "[not, say]\n",
      "[not, suggest]\n",
      "[not, dance]\n",
      "[not, coach]\n",
      "[not, fly]\n",
      "[not, chase]\n",
      "[elaborate]\n",
      "[state]\n",
      "[not, eat]\n",
      "[not, prove]\n",
      "[not, read]\n",
      "[not, laugh]\n",
      "[gather]\n",
      "[get]\n",
      "[singe]\n",
      "[not, drive]\n",
      "[look]\n",
      "[sentence]\n",
      "[not, take]\n",
      "[answer]\n",
      "[not, contain]\n",
      "[not, belong]\n",
      "[meat]\n",
      "[indicate]\n",
      "[dig]\n",
      "[talk]\n",
      "[not, carry]\n",
      "[teach]\n",
      "[not, swing]\n",
      "[not, paint]\n",
      "[spray]\n",
      "[not, hang]\n",
      "[light]\n",
      "[not, kick]\n",
      "[not, critique]\n",
      "[eat]\n",
      "[denote]\n",
      "[not, buy]\n",
      "[dress]\n",
      "[not, confine]\n",
      "[not, see]\n",
      "[write]\n",
      "[not, look, different]\n",
      "[not, hit]\n",
      "[’]\n",
      "[one]\n",
      "[splash]\n",
      "[not, yell]\n",
      "[bundle]\n",
      "[not, bounce]\n",
      "[suggest]\n",
      "[not, call]\n",
      "[test]\n",
      "[not, use]\n",
      "[make]\n",
      "[discuss, different]\n",
      "[not, squat]\n",
      "[mam]\n",
      "[not, dig]\n",
      "[involve]\n",
      "[stare]\n",
      "[not, swim]\n",
      "[not, determine]\n",
      "[say, different]\n",
      "[study]\n",
      "[use]\n",
      "[not, kayak]\n",
      "[fly]\n",
      "[rise]\n",
      "[not, need]\n",
      "[consist]\n",
      "[not, put]\n",
      "[smile]\n",
      "[rest]\n",
      "[not, lie]\n",
      "[picture]\n",
      "[not, bee]\n",
      "[add]\n",
      "[examine]\n",
      "[way]\n",
      "[shine]\n"
     ]
    }
   ],
   "source": [
    "for i in root_term_dict.keys():\n",
    "    doc = nlp(i)\n",
    "    print([doc[j] for j in range(len(doc))])"
   ],
   "metadata": {
    "collapsed": false,
    "pycharm": {
     "name": "#%%\n"
    }
   }
  },
  {
   "cell_type": "code",
   "execution_count": 169,
   "outputs": [
    {
     "name": "stderr",
     "output_type": "stream",
     "text": [
      "/var/folders/lp/djryk53n11b_ww_n9xbjm4s80000gn/T/ipykernel_93605/2441747103.py:1: SettingWithCopyWarning: \n",
      "A value is trying to be set on a copy of a slice from a DataFrame.\n",
      "Try using .loc[row_indexer,col_indexer] = value instead\n",
      "\n",
      "See the caveats in the documentation: https://pandas.pydata.org/pandas-docs/stable/user_guide/indexing.html#returning-a-view-versus-a-copy\n",
      "  gpt_pred_svo['reduced_expl'] = None\n",
      "/var/folders/lp/djryk53n11b_ww_n9xbjm4s80000gn/T/ipykernel_93605/2441747103.py:29: SettingWithCopyWarning: \n",
      "A value is trying to be set on a copy of a slice from a DataFrame\n",
      "\n",
      "See the caveats in the documentation: https://pandas.pydata.org/pandas-docs/stable/user_guide/indexing.html#returning-a-view-versus-a-copy\n",
      "  gpt_pred_svo['reduced_expl'].loc[i] = temp\n"
     ]
    }
   ],
   "source": [
    "gpt_pred_svo['reduced_expl'] = None\n",
    "for root_term in root_term_dict.keys():\n",
    "    for i in root_term_dict[root_term]:\n",
    "        try:\n",
    "            temp = list()\n",
    "            doc = nlp(gpt_pred_svo.loc[i].Explanation_1)\n",
    "            for token in doc:\n",
    "                root_doc = nlp(root_term)\n",
    "                if token.lemma_ in [root_doc[j].lemma_ for j in range(len(root_doc))]:\n",
    "                    temp += [token.lemma_]\n",
    "                for SVO_structure in gpt_pred_svo.loc[i].S1_SVO:\n",
    "                    if token.lemma_ == SVO_structure[0].lemma_:\n",
    "                        temp += [\"S1_Subj\"]\n",
    "                    if not pd.isna(SVO_structure[1]):\n",
    "                        if token.lemma_ == SVO_structure[1].lemma_:\n",
    "                            temp += [\"S1_Verb\"]\n",
    "                    if not pd.isna(SVO_structure[2]):\n",
    "                        if token.lemma_ == SVO_structure[2].lemma_:\n",
    "                            temp += [\"S1_Obj\"]\n",
    "                for SVO_structure in gpt_pred_svo.loc[i].S2_SVO:\n",
    "                    if token.lemma_ == SVO_structure[0].lemma_:\n",
    "                        temp += [\"S2_Subj\"]\n",
    "                    if not pd.isna(SVO_structure[1]):\n",
    "                        if token.lemma_ == SVO_structure[1].lemma_:\n",
    "                            temp += [\"S2_Verb\"]\n",
    "                    if not pd.isna(SVO_structure[2]):\n",
    "                        if token.lemma_ == SVO_structure[2].lemma_:\n",
    "                            temp += [\"S2_Obj\"]\n",
    "            gpt_pred_svo['reduced_expl'].loc[i] = temp\n",
    "        except:\n",
    "            None"
   ],
   "metadata": {
    "collapsed": false,
    "pycharm": {
     "name": "#%%\n"
    }
   }
  },
  {
   "cell_type": "code",
   "execution_count": 173,
   "outputs": [
    {
     "data": {
      "text/plain": "                                              S1_SVO  \\\n0                            [(man, walks, bicycle)]   \n1     [(woman, holding, wood), (she, holding, wood)]   \n2                               [(dog, jumps, None)]   \n4      [(group, stares, None), (that, filled, None)]   \n7                             [(man, walking, None)]   \n..                                               ...   \n994                           [(boy, running, None)]   \n995                          [(men, standing, None)]   \n996                          [(man, standing, None)]   \n997                       [(woman, torn, stockings)]   \n999  [(Bicyclist, ride, course), (day, comes, None)]   \n\n                           S2_SVO  \\\n0            [(man, walks, bike)]   \n1         [(woman, stands, None)]   \n2          [(dog, jumping, None)]   \n4         [(group, analyze, art)]   \n7           [(He, walking, None)]   \n..                            ...   \n994         [(He, getting, None)]   \n995  [(Women, playing, trumpets)]   \n996       [(people, stand, None)]   \n997          [(man, going, None)]   \n999     [(cyclist, riding, None)]   \n\n                                             Sentence1  \\\n0    A young man in an orange hat walks his bicycle...   \n1    A woman standing with smile on her face and sh...   \n2             A dog jumps to catch a red ball outside.   \n4    A group of people stares at a wall that is fil...   \n7    A man in a plaid shirt is walking on a street ...   \n..                                                 ...   \n994  A boy is running in a spinning metal tunnel in...   \n995        Three men are standing on stage performing.   \n996  3 young man in hoods standing in the middle of...   \n997  A woman in skirt, torn stockings and combat bo...   \n999  Bicyclist ride the course near the ocean as th...   \n\n                                             Sentence2  \\\n0    A man in an orange hat walks his bike down a s...   \n1          A woman stands holding her baby and crying.   \n2                                  the dog is jumping.   \n4               A group of people analyze art together   \n7                          He is walking on his hands.   \n..                                                 ...   \n994                               He is getting dizzy.   \n995          Women are playing trumpets on the street.   \n996       Three hood wearing people stand in a street.   \n997  The man and woman are going to a movie in the ...   \n999             The cyclist was riding in the morning.   \n\n                                         Explanation_1  \\\n0           A bicycle and a bike, are the same object.   \n1    If a woman has a smile on her face then she is...   \n2         Jumping is an action needed to catch a ball.   \n4             Not necessary that they analyze the art.   \n7    The man is either walking or walking on his ha...   \n..                                                 ...   \n994               A boy can run without getting dizzy.   \n995  either there are men on stage, or women playin...   \n996            3 Man in hoods are hood wearing people.   \n997  walking down a street does not mean they are g...   \n999  This implies that it is either a (regular) bic...   \n\n                                          reduced_expl  \n0                                 [S1_Obj, S2_Obj, be]  \n1                [S1_Subj, S2_Subj, S1_Subj, not, cry]  \n2                                                 [be]  \n4           [not, necessary, S1_Subj, S2_Verb, S2_Obj]  \n7    [S1_Subj, walk, S1_Verb, S2_Verb, walk, S1_Ver...  \n..                                                 ...  \n994                   [S1_Subj, run, S1_Verb, S2_Verb]  \n995            [be, S1_Subj, S2_Subj, S2_Verb, S2_Obj]  \n996                           [S1_Subj, wear, S2_Subj]  \n997                               [not, mean, S2_Verb]  \n999                                   [imply, S2_Subj]  \n\n[667 rows x 6 columns]",
      "text/html": "<div>\n<style scoped>\n    .dataframe tbody tr th:only-of-type {\n        vertical-align: middle;\n    }\n\n    .dataframe tbody tr th {\n        vertical-align: top;\n    }\n\n    .dataframe thead th {\n        text-align: right;\n    }\n</style>\n<table border=\"1\" class=\"dataframe\">\n  <thead>\n    <tr style=\"text-align: right;\">\n      <th></th>\n      <th>S1_SVO</th>\n      <th>S2_SVO</th>\n      <th>Sentence1</th>\n      <th>Sentence2</th>\n      <th>Explanation_1</th>\n      <th>reduced_expl</th>\n    </tr>\n  </thead>\n  <tbody>\n    <tr>\n      <th>0</th>\n      <td>[(man, walks, bicycle)]</td>\n      <td>[(man, walks, bike)]</td>\n      <td>A young man in an orange hat walks his bicycle...</td>\n      <td>A man in an orange hat walks his bike down a s...</td>\n      <td>A bicycle and a bike, are the same object.</td>\n      <td>[S1_Obj, S2_Obj, be]</td>\n    </tr>\n    <tr>\n      <th>1</th>\n      <td>[(woman, holding, wood), (she, holding, wood)]</td>\n      <td>[(woman, stands, None)]</td>\n      <td>A woman standing with smile on her face and sh...</td>\n      <td>A woman stands holding her baby and crying.</td>\n      <td>If a woman has a smile on her face then she is...</td>\n      <td>[S1_Subj, S2_Subj, S1_Subj, not, cry]</td>\n    </tr>\n    <tr>\n      <th>2</th>\n      <td>[(dog, jumps, None)]</td>\n      <td>[(dog, jumping, None)]</td>\n      <td>A dog jumps to catch a red ball outside.</td>\n      <td>the dog is jumping.</td>\n      <td>Jumping is an action needed to catch a ball.</td>\n      <td>[be]</td>\n    </tr>\n    <tr>\n      <th>4</th>\n      <td>[(group, stares, None), (that, filled, None)]</td>\n      <td>[(group, analyze, art)]</td>\n      <td>A group of people stares at a wall that is fil...</td>\n      <td>A group of people analyze art together</td>\n      <td>Not necessary that they analyze the art.</td>\n      <td>[not, necessary, S1_Subj, S2_Verb, S2_Obj]</td>\n    </tr>\n    <tr>\n      <th>7</th>\n      <td>[(man, walking, None)]</td>\n      <td>[(He, walking, None)]</td>\n      <td>A man in a plaid shirt is walking on a street ...</td>\n      <td>He is walking on his hands.</td>\n      <td>The man is either walking or walking on his ha...</td>\n      <td>[S1_Subj, walk, S1_Verb, S2_Verb, walk, S1_Ver...</td>\n    </tr>\n    <tr>\n      <th>...</th>\n      <td>...</td>\n      <td>...</td>\n      <td>...</td>\n      <td>...</td>\n      <td>...</td>\n      <td>...</td>\n    </tr>\n    <tr>\n      <th>994</th>\n      <td>[(boy, running, None)]</td>\n      <td>[(He, getting, None)]</td>\n      <td>A boy is running in a spinning metal tunnel in...</td>\n      <td>He is getting dizzy.</td>\n      <td>A boy can run without getting dizzy.</td>\n      <td>[S1_Subj, run, S1_Verb, S2_Verb]</td>\n    </tr>\n    <tr>\n      <th>995</th>\n      <td>[(men, standing, None)]</td>\n      <td>[(Women, playing, trumpets)]</td>\n      <td>Three men are standing on stage performing.</td>\n      <td>Women are playing trumpets on the street.</td>\n      <td>either there are men on stage, or women playin...</td>\n      <td>[be, S1_Subj, S2_Subj, S2_Verb, S2_Obj]</td>\n    </tr>\n    <tr>\n      <th>996</th>\n      <td>[(man, standing, None)]</td>\n      <td>[(people, stand, None)]</td>\n      <td>3 young man in hoods standing in the middle of...</td>\n      <td>Three hood wearing people stand in a street.</td>\n      <td>3 Man in hoods are hood wearing people.</td>\n      <td>[S1_Subj, wear, S2_Subj]</td>\n    </tr>\n    <tr>\n      <th>997</th>\n      <td>[(woman, torn, stockings)]</td>\n      <td>[(man, going, None)]</td>\n      <td>A woman in skirt, torn stockings and combat bo...</td>\n      <td>The man and woman are going to a movie in the ...</td>\n      <td>walking down a street does not mean they are g...</td>\n      <td>[not, mean, S2_Verb]</td>\n    </tr>\n    <tr>\n      <th>999</th>\n      <td>[(Bicyclist, ride, course), (day, comes, None)]</td>\n      <td>[(cyclist, riding, None)]</td>\n      <td>Bicyclist ride the course near the ocean as th...</td>\n      <td>The cyclist was riding in the morning.</td>\n      <td>This implies that it is either a (regular) bic...</td>\n      <td>[imply, S2_Subj]</td>\n    </tr>\n  </tbody>\n</table>\n<p>667 rows × 6 columns</p>\n</div>"
     },
     "execution_count": 173,
     "metadata": {},
     "output_type": "execute_result"
    }
   ],
   "source": [
    "gpt_pred_svo[[\"S1_SVO\", \"S2_SVO\", \"Sentence1\", \"Sentence2\", \"Explanation_1\", \"reduced_expl\"]]"
   ],
   "metadata": {
    "collapsed": false,
    "pycharm": {
     "name": "#%%\n"
    }
   }
  },
  {
   "cell_type": "code",
   "execution_count": 356,
   "outputs": [],
   "source": [
    "root_words = list()\n",
    "n = gpt_pred.shape[0]\n",
    "cur_index = 0\n",
    "root_term_dict = dict()\n",
    "expls = [nlp(gpt_pred.pred_explanation.iloc[i]) for i in range(n)]\n",
    "for expl in expls:\n",
    "    for token in expl:\n",
    "        if token.lemma_ == 'different':\n",
    "            root_words += [token.head.text]\n",
    "            if token.head.lemma_ not in root_term_dict.keys():\n",
    "                root_term_dict[token.head.lemma_] = [cur_index]\n",
    "            else:\n",
    "                root_term_dict[token.head.lemma_] += [cur_index]\n",
    "    cur_index += 1\n",
    "verbs_sentence = pd.Series(root_words)"
   ],
   "metadata": {
    "collapsed": false,
    "pycharm": {
     "name": "#%%\n"
    }
   }
  },
  {
   "cell_type": "code",
   "execution_count": 373,
   "outputs": [
    {
     "name": "stdout",
     "output_type": "stream",
     "text": [
      "=========================\n",
      "action\n",
      "0.9166666666666666\n",
      "=========================\n",
      "age\n",
      "0\n",
      "=========================\n",
      "be\n",
      "0.7692307692307693\n",
      "=========================\n",
      "activity\n",
      "0.88\n",
      "=========================\n",
      "scene\n",
      "1.0\n",
      "=========================\n",
      "setting\n",
      "0\n",
      "=========================\n",
      "thing\n",
      "1.0\n",
      "=========================\n",
      "scenario\n",
      "1.0\n",
      "=========================\n",
      "game\n",
      "1.0\n",
      "=========================\n",
      "location\n",
      "1.0\n",
      "=========================\n",
      "sport\n",
      "1.0\n",
      "=========================\n",
      "term\n",
      "0\n",
      "=========================\n",
      "people\n",
      "1.0\n",
      "=========================\n",
      "description\n",
      "1.0\n",
      "=========================\n",
      "shot\n",
      "1.0\n",
      "=========================\n",
      "word\n",
      "0\n",
      "=========================\n",
      "item\n",
      "1.0\n",
      "=========================\n",
      "background\n",
      "1.0\n",
      "=========================\n",
      "time\n",
      "1.0\n",
      "=========================\n",
      "environment\n",
      "0.3333333333333333\n",
      "=========================\n",
      "same\n",
      "0\n",
      "=========================\n",
      "situation\n",
      "1.0\n",
      "=========================\n",
      "place\n",
      "1.0\n",
      "=========================\n",
      "type\n",
      "1.0\n",
      "=========================\n",
      "equipment\n",
      "1.0\n",
      "=========================\n",
      "clothing\n",
      "1.0\n",
      "=========================\n",
      "animal\n",
      "1.0\n",
      "=========================\n",
      "country\n",
      "0\n",
      "=========================\n",
      "emotion\n",
      "1.0\n",
      "=========================\n",
      "instrument\n",
      "1.0\n",
      "=========================\n",
      "dog\n",
      "1.0\n",
      "=========================\n",
      "mode\n",
      "1.0\n",
      "=========================\n",
      "technique\n",
      "1.0\n"
     ]
    }
   ],
   "source": [
    "for k, v in zip(root_term_dict.keys(), root_term_dict.values()):\n",
    "    print('=========================')\n",
    "    print(k)\n",
    "    try:\n",
    "        print(gpt_pred.gold_label.iloc[v].value_counts()['contradiction'] / gpt_pred.gold_label.iloc[v].value_counts().sum())\n",
    "    except:\n",
    "        print(0)"
   ],
   "metadata": {
    "collapsed": false,
    "pycharm": {
     "name": "#%%\n"
    }
   }
  },
  {
   "cell_type": "code",
   "execution_count": 375,
   "outputs": [
    {
     "data": {
      "text/plain": "     Unnamed: 0               pairID     gold_label  \\\n8             8  4547257158.jpg#2r1c  contradiction   \n58           58  4604977910.jpg#1r1c  contradiction   \n153         153  3519155763.jpg#3r1c  contradiction   \n216         216  3025315215.jpg#0r1c  contradiction   \n219         219  3246016210.jpg#4r1c  contradiction   \n364         364  7249180494.jpg#0r1c  contradiction   \n385         385  3836884647.jpg#3r1c  contradiction   \n551         551  3591462960.jpg#2r1e     entailment   \n587         587  1384292980.jpg#1r1c  contradiction   \n657         657  4793317845.jpg#3r1c  contradiction   \n788         788  3736786640.jpg#1r1c  contradiction   \n918         918     8378599.jpg#1r1c  contradiction   \n\n                                             Sentence1  \\\n8    Four women carrying shoulder bags are walking ...   \n58   A woman standing in front of a large tank at a...   \n153  A dog opens its mouth to catch a blue and yell...   \n216  a brown dog coming out of an orange and yellow...   \n219         One man cutting through ice on a cold day.   \n364  A professional swimmer spits water out after s...   \n385                A man walks by a building at night.   \n551  The man in black is flying off the full in fro...   \n587                    The girls walk down the street.   \n657  A man spraying water onto a former piece of ar...   \n788  Two kids in black trunks bouncing on a wet tra...   \n918  A boy in a blue jacket rides a skateboard down...   \n\n                                             Sentence2  \\\n8    Four women are running away from a man in the ...   \n58                          A woman is tying her shoes   \n153                       The pet is chewing on a bone   \n216  A brown dog dancing out of a orange and yellow...   \n219               The man is running around his house.   \n364       The swimmer is eating a toasted marshmallow.   \n385                       A man is sitting in the sun.   \n551                      The man is next to the fence.   \n587                      Girls set down in the street.   \n657                      A man throws rocks at a wall.   \n788   Two kids are building a trampoline from scratch.   \n918  A blue jacketed boy is standing in football fi...   \n\n                                         Explanation_1  \\\n8         Running and walking are two different gaits.   \n58   The woman can't be tying her shoes while stand...   \n153                     Bones are not blue and yellow.   \n216  The dog cannot be both coming and dancing out ...   \n219  one can not be cutting through ice and be runn...   \n364  The swimmer is either swimming or eating a mar...   \n385  The man cannot simultaneously be sitting and walk   \n551  In front of a red fence implies next to the fe...   \n587  The girls either walk down the street or set d...   \n657  The man is either spraying water or throws a r...   \n788  They cannot be bouncing on a trampoline that t...   \n918          The boy can either be riding or standing.   \n\n                                    Sentence1_marked_1  \\\n8    Four women carrying shoulder bags are *walking...   \n58   A woman *standing* in front of a large tank at...   \n153  A dog opens its mouth to catch a *blue* *and* ...   \n216  a brown *dog* *coming* out of an orange and ye...   \n219   One man *cutting* *through* *ice* on a cold day.   \n364  A professional swimmer spits water out after *...   \n385              A man *walks* by a building at night.   \n551   The man in black is flying off the full *in* ...   \n587                The girls *walk* *down* the street.   \n657  A man *spraying* *water* onto a former piece o...   \n788  Two kids in black trunks *bouncing* *on* a wet...   \n918  A boy in a blue jacket *rides* a skateboard do...   \n\n                                    Sentence2_marked_1  \\\n8    Four women are *running* away from a man in th...   \n58                        A woman is *tying* her shoes   \n153                     The pet is chewing on a *bone*   \n216  A brown *dog* *dancing* out of a orange and ye...   \n219           The man is *running* around his *house.*   \n364     The swimmer is *eating* a toasted marshmallow.   \n385                     A man is *sitting* in the sun.   \n551              The man is *next* *to* *the* *fence.*   \n587                Girls *set* *down* in the *street.*   \n657                  A man *throws* *rocks* at a wall.   \n788  Two kids are *building* a trampoline from scra...   \n918  A blue jacketed boy is *standing* in football ...   \n\n    Sentence1_Highlighted_1 Sentence2_Highlighted_1  ...  \\\n8                         6                       3  ...   \n58                        2                       3  ...   \n153               10,11,9,8                       6  ...   \n216                     3,2                     3,2  ...   \n219                   2,3,4                     3,6  ...   \n364                       7                       3  ...   \n385                       2                       3  ...   \n551        9,10,11,12,13,14                 3,4,5,6  ...   \n587                     2,3                   1,2,5  ...   \n657                     2,3                     2,3  ...   \n788                     5,6                       3  ...   \n918                       6                       5  ...   \n\n    Sentence1_Highlighted_2 Sentence2_Highlighted_2  \\\n8                         6                       3   \n58                    12,13                   3,4,5   \n153                 11,8,10                       6   \n216                       3                       3   \n219                   2,3,4                 3,4,5,6   \n364                       3                       3   \n385                     2,7                     3,6   \n551           10,9,14,12,11                 3,4,5,6   \n587                       2                       1   \n657         2,3,4,5,6,7,8,9               2,3,4,5,6   \n788                       5                       3   \n918                     8,6                   5,7,8   \n\n                                         Explanation_3  \\\n8                                  walking not running   \n58   She cannot be tying her shoes while she turns ...   \n153  A pet is not necessarily a dog.  The pet is ei...   \n216  A dog dancing out could not have been coming out.   \n219  Cutting through ice isnt running around the ho...   \n364  If one spits water, they can not be eating a t...   \n385  A MAN EITHER WALKS OR HE WILL BE SITTING IN TH...   \n551  If he is in front of a fence he is next to the...   \n587  The girls cannot walk and set down at the same...   \n657  A man can't be spraying water and throws rocks...   \n788  If the kids are bouncing on a trampoline, they...   \n918  You cannot ride a skateboard and be standing i...   \n\n                                    Sentence1_marked_3  \\\n8    Four women carrying shoulder bags are *walking...   \n58   A woman standing in front of a large tank at a...   \n153  A *dog* *opens* *its* *mouth* *to* *catch* a b...   \n216  a brown dog *coming* *out* of an orange and ye...   \n219   One man *cutting* *through* *ice* on a cold day.   \n364  A professional swimmer *spits* *water* out aft...   \n385              A man *walks* by a building at night.   \n551   The man in black is flying off the full in *f...   \n587                The *girls* *walk* down the street.   \n657  A man *spraying* *water* onto a former piece o...   \n788  Two kids in black trunks *bouncing* on a wet *...   \n918  A boy in a blue jacket *rides* a *skateboard* ...   \n\n                                    Sentence2_marked_3  \\\n8    Four women are *running* away from a man in th...   \n58                    A woman is *tying* *her* *shoes*   \n153                 The *pet* *is* *chewing* on a bone   \n216  A brown dog *dancing* *out* of a orange and ye...   \n219         The man is *running* *around* his *house.*   \n364  The swimmer is *eating* *a* *toasted* *marshma...   \n385                     A man is *sitting* in the sun.   \n551                  The man is *next* to the *fence.*   \n587                *Girls* *set* *down* in the street.   \n657                  A man *throws* *rocks* at a wall.   \n788  Two kids are *building* a *trampoline* from sc...   \n918  A blue jacketed boy is *standing* in football ...   \n\n    Sentence1_Highlighted_3 Sentence2_Highlighted_3  \\\n8                         6                       3   \n58                    12,13                   3,4,5   \n153             1,2,3,4,5,6                   1,2,3   \n216                     3,4                     3,4   \n219                   2,3,4                   3,4,6   \n364                     3,4                 4,3,5,6   \n385                       2                       3   \n551                   10,14                     6,3   \n587                     1,2                   0,1,2   \n657                     2,3                     2,3   \n788                     5,9                     3,5   \n918                     6,8                     5,8   \n\n                                                prompt  \\\n8    Statement: people playing, basketball ball in ...   \n58   Statement: Man wearing black shirt throwing an...   \n153  Statement: One dog is chasing another dog that...   \n216  Statement: Girl with crossed arms stands in st...   \n219  Statement: Two women in their karate uniforms ...   \n364  Statement: These two ladies are working in the...   \n385  Statement: A middle-aged man wearing black is ...   \n551  Statement: Several people are sitting at a tab...   \n587  Statement: A young African boy sits in a dirt ...   \n657  Statement: People in the buffet line the North...   \n788  Statement: Two young children dressed as Spide...   \n918  Statement: There's a group of folks with heaps...   \n\n                                      pred_explanation     pred_label  \n8    The statements are describing two different ac...  contradiction  \n58   The statement does not describe the woman stan...  contradiction  \n153  opening mouth to catch a toy and chewing on a ...  contradiction  \n216  The sentences have different actions (coming o...  contradiction  \n219  Cutting through ice and running around a house...  contradiction  \n364  Spitting water out and eating a toasted marshm...  contradiction  \n385  Walking and sitting are two different actions ...  contradiction  \n551    Flying and being next to are different actions.        neutral  \n587     Walking and sitting are two different actions.  contradiction  \n657  the two statements describe two different acti...  contradiction  \n788       bouncing and building are different actions.  contradiction  \n918  The statements are describing two different ac...  contradiction  \n\n[12 rows x 23 columns]",
      "text/html": "<div>\n<style scoped>\n    .dataframe tbody tr th:only-of-type {\n        vertical-align: middle;\n    }\n\n    .dataframe tbody tr th {\n        vertical-align: top;\n    }\n\n    .dataframe thead th {\n        text-align: right;\n    }\n</style>\n<table border=\"1\" class=\"dataframe\">\n  <thead>\n    <tr style=\"text-align: right;\">\n      <th></th>\n      <th>Unnamed: 0</th>\n      <th>pairID</th>\n      <th>gold_label</th>\n      <th>Sentence1</th>\n      <th>Sentence2</th>\n      <th>Explanation_1</th>\n      <th>Sentence1_marked_1</th>\n      <th>Sentence2_marked_1</th>\n      <th>Sentence1_Highlighted_1</th>\n      <th>Sentence2_Highlighted_1</th>\n      <th>...</th>\n      <th>Sentence1_Highlighted_2</th>\n      <th>Sentence2_Highlighted_2</th>\n      <th>Explanation_3</th>\n      <th>Sentence1_marked_3</th>\n      <th>Sentence2_marked_3</th>\n      <th>Sentence1_Highlighted_3</th>\n      <th>Sentence2_Highlighted_3</th>\n      <th>prompt</th>\n      <th>pred_explanation</th>\n      <th>pred_label</th>\n    </tr>\n  </thead>\n  <tbody>\n    <tr>\n      <th>8</th>\n      <td>8</td>\n      <td>4547257158.jpg#2r1c</td>\n      <td>contradiction</td>\n      <td>Four women carrying shoulder bags are walking ...</td>\n      <td>Four women are running away from a man in the ...</td>\n      <td>Running and walking are two different gaits.</td>\n      <td>Four women carrying shoulder bags are *walking...</td>\n      <td>Four women are *running* away from a man in th...</td>\n      <td>6</td>\n      <td>3</td>\n      <td>...</td>\n      <td>6</td>\n      <td>3</td>\n      <td>walking not running</td>\n      <td>Four women carrying shoulder bags are *walking...</td>\n      <td>Four women are *running* away from a man in th...</td>\n      <td>6</td>\n      <td>3</td>\n      <td>Statement: people playing, basketball ball in ...</td>\n      <td>The statements are describing two different ac...</td>\n      <td>contradiction</td>\n    </tr>\n    <tr>\n      <th>58</th>\n      <td>58</td>\n      <td>4604977910.jpg#1r1c</td>\n      <td>contradiction</td>\n      <td>A woman standing in front of a large tank at a...</td>\n      <td>A woman is tying her shoes</td>\n      <td>The woman can't be tying her shoes while stand...</td>\n      <td>A woman *standing* in front of a large tank at...</td>\n      <td>A woman is *tying* her shoes</td>\n      <td>2</td>\n      <td>3</td>\n      <td>...</td>\n      <td>12,13</td>\n      <td>3,4,5</td>\n      <td>She cannot be tying her shoes while she turns ...</td>\n      <td>A woman standing in front of a large tank at a...</td>\n      <td>A woman is *tying* *her* *shoes*</td>\n      <td>12,13</td>\n      <td>3,4,5</td>\n      <td>Statement: Man wearing black shirt throwing an...</td>\n      <td>The statement does not describe the woman stan...</td>\n      <td>contradiction</td>\n    </tr>\n    <tr>\n      <th>153</th>\n      <td>153</td>\n      <td>3519155763.jpg#3r1c</td>\n      <td>contradiction</td>\n      <td>A dog opens its mouth to catch a blue and yell...</td>\n      <td>The pet is chewing on a bone</td>\n      <td>Bones are not blue and yellow.</td>\n      <td>A dog opens its mouth to catch a *blue* *and* ...</td>\n      <td>The pet is chewing on a *bone*</td>\n      <td>10,11,9,8</td>\n      <td>6</td>\n      <td>...</td>\n      <td>11,8,10</td>\n      <td>6</td>\n      <td>A pet is not necessarily a dog.  The pet is ei...</td>\n      <td>A *dog* *opens* *its* *mouth* *to* *catch* a b...</td>\n      <td>The *pet* *is* *chewing* on a bone</td>\n      <td>1,2,3,4,5,6</td>\n      <td>1,2,3</td>\n      <td>Statement: One dog is chasing another dog that...</td>\n      <td>opening mouth to catch a toy and chewing on a ...</td>\n      <td>contradiction</td>\n    </tr>\n    <tr>\n      <th>216</th>\n      <td>216</td>\n      <td>3025315215.jpg#0r1c</td>\n      <td>contradiction</td>\n      <td>a brown dog coming out of an orange and yellow...</td>\n      <td>A brown dog dancing out of a orange and yellow...</td>\n      <td>The dog cannot be both coming and dancing out ...</td>\n      <td>a brown *dog* *coming* out of an orange and ye...</td>\n      <td>A brown *dog* *dancing* out of a orange and ye...</td>\n      <td>3,2</td>\n      <td>3,2</td>\n      <td>...</td>\n      <td>3</td>\n      <td>3</td>\n      <td>A dog dancing out could not have been coming out.</td>\n      <td>a brown dog *coming* *out* of an orange and ye...</td>\n      <td>A brown dog *dancing* *out* of a orange and ye...</td>\n      <td>3,4</td>\n      <td>3,4</td>\n      <td>Statement: Girl with crossed arms stands in st...</td>\n      <td>The sentences have different actions (coming o...</td>\n      <td>contradiction</td>\n    </tr>\n    <tr>\n      <th>219</th>\n      <td>219</td>\n      <td>3246016210.jpg#4r1c</td>\n      <td>contradiction</td>\n      <td>One man cutting through ice on a cold day.</td>\n      <td>The man is running around his house.</td>\n      <td>one can not be cutting through ice and be runn...</td>\n      <td>One man *cutting* *through* *ice* on a cold day.</td>\n      <td>The man is *running* around his *house.*</td>\n      <td>2,3,4</td>\n      <td>3,6</td>\n      <td>...</td>\n      <td>2,3,4</td>\n      <td>3,4,5,6</td>\n      <td>Cutting through ice isnt running around the ho...</td>\n      <td>One man *cutting* *through* *ice* on a cold day.</td>\n      <td>The man is *running* *around* his *house.*</td>\n      <td>2,3,4</td>\n      <td>3,4,6</td>\n      <td>Statement: Two women in their karate uniforms ...</td>\n      <td>Cutting through ice and running around a house...</td>\n      <td>contradiction</td>\n    </tr>\n    <tr>\n      <th>364</th>\n      <td>364</td>\n      <td>7249180494.jpg#0r1c</td>\n      <td>contradiction</td>\n      <td>A professional swimmer spits water out after s...</td>\n      <td>The swimmer is eating a toasted marshmallow.</td>\n      <td>The swimmer is either swimming or eating a mar...</td>\n      <td>A professional swimmer spits water out after *...</td>\n      <td>The swimmer is *eating* a toasted marshmallow.</td>\n      <td>7</td>\n      <td>3</td>\n      <td>...</td>\n      <td>3</td>\n      <td>3</td>\n      <td>If one spits water, they can not be eating a t...</td>\n      <td>A professional swimmer *spits* *water* out aft...</td>\n      <td>The swimmer is *eating* *a* *toasted* *marshma...</td>\n      <td>3,4</td>\n      <td>4,3,5,6</td>\n      <td>Statement: These two ladies are working in the...</td>\n      <td>Spitting water out and eating a toasted marshm...</td>\n      <td>contradiction</td>\n    </tr>\n    <tr>\n      <th>385</th>\n      <td>385</td>\n      <td>3836884647.jpg#3r1c</td>\n      <td>contradiction</td>\n      <td>A man walks by a building at night.</td>\n      <td>A man is sitting in the sun.</td>\n      <td>The man cannot simultaneously be sitting and walk</td>\n      <td>A man *walks* by a building at night.</td>\n      <td>A man is *sitting* in the sun.</td>\n      <td>2</td>\n      <td>3</td>\n      <td>...</td>\n      <td>2,7</td>\n      <td>3,6</td>\n      <td>A MAN EITHER WALKS OR HE WILL BE SITTING IN TH...</td>\n      <td>A man *walks* by a building at night.</td>\n      <td>A man is *sitting* in the sun.</td>\n      <td>2</td>\n      <td>3</td>\n      <td>Statement: A middle-aged man wearing black is ...</td>\n      <td>Walking and sitting are two different actions ...</td>\n      <td>contradiction</td>\n    </tr>\n    <tr>\n      <th>551</th>\n      <td>551</td>\n      <td>3591462960.jpg#2r1e</td>\n      <td>entailment</td>\n      <td>The man in black is flying off the full in fro...</td>\n      <td>The man is next to the fence.</td>\n      <td>In front of a red fence implies next to the fe...</td>\n      <td>The man in black is flying off the full *in* ...</td>\n      <td>The man is *next* *to* *the* *fence.*</td>\n      <td>9,10,11,12,13,14</td>\n      <td>3,4,5,6</td>\n      <td>...</td>\n      <td>10,9,14,12,11</td>\n      <td>3,4,5,6</td>\n      <td>If he is in front of a fence he is next to the...</td>\n      <td>The man in black is flying off the full in *f...</td>\n      <td>The man is *next* to the *fence.*</td>\n      <td>10,14</td>\n      <td>6,3</td>\n      <td>Statement: Several people are sitting at a tab...</td>\n      <td>Flying and being next to are different actions.</td>\n      <td>neutral</td>\n    </tr>\n    <tr>\n      <th>587</th>\n      <td>587</td>\n      <td>1384292980.jpg#1r1c</td>\n      <td>contradiction</td>\n      <td>The girls walk down the street.</td>\n      <td>Girls set down in the street.</td>\n      <td>The girls either walk down the street or set d...</td>\n      <td>The girls *walk* *down* the street.</td>\n      <td>Girls *set* *down* in the *street.*</td>\n      <td>2,3</td>\n      <td>1,2,5</td>\n      <td>...</td>\n      <td>2</td>\n      <td>1</td>\n      <td>The girls cannot walk and set down at the same...</td>\n      <td>The *girls* *walk* down the street.</td>\n      <td>*Girls* *set* *down* in the street.</td>\n      <td>1,2</td>\n      <td>0,1,2</td>\n      <td>Statement: A young African boy sits in a dirt ...</td>\n      <td>Walking and sitting are two different actions.</td>\n      <td>contradiction</td>\n    </tr>\n    <tr>\n      <th>657</th>\n      <td>657</td>\n      <td>4793317845.jpg#3r1c</td>\n      <td>contradiction</td>\n      <td>A man spraying water onto a former piece of ar...</td>\n      <td>A man throws rocks at a wall.</td>\n      <td>The man is either spraying water or throws a r...</td>\n      <td>A man *spraying* *water* onto a former piece o...</td>\n      <td>A man *throws* *rocks* at a wall.</td>\n      <td>2,3</td>\n      <td>2,3</td>\n      <td>...</td>\n      <td>2,3,4,5,6,7,8,9</td>\n      <td>2,3,4,5,6</td>\n      <td>A man can't be spraying water and throws rocks...</td>\n      <td>A man *spraying* *water* onto a former piece o...</td>\n      <td>A man *throws* *rocks* at a wall.</td>\n      <td>2,3</td>\n      <td>2,3</td>\n      <td>Statement: People in the buffet line the North...</td>\n      <td>the two statements describe two different acti...</td>\n      <td>contradiction</td>\n    </tr>\n    <tr>\n      <th>788</th>\n      <td>788</td>\n      <td>3736786640.jpg#1r1c</td>\n      <td>contradiction</td>\n      <td>Two kids in black trunks bouncing on a wet tra...</td>\n      <td>Two kids are building a trampoline from scratch.</td>\n      <td>They cannot be bouncing on a trampoline that t...</td>\n      <td>Two kids in black trunks *bouncing* *on* a wet...</td>\n      <td>Two kids are *building* a trampoline from scra...</td>\n      <td>5,6</td>\n      <td>3</td>\n      <td>...</td>\n      <td>5</td>\n      <td>3</td>\n      <td>If the kids are bouncing on a trampoline, they...</td>\n      <td>Two kids in black trunks *bouncing* on a wet *...</td>\n      <td>Two kids are *building* a *trampoline* from sc...</td>\n      <td>5,9</td>\n      <td>3,5</td>\n      <td>Statement: Two young children dressed as Spide...</td>\n      <td>bouncing and building are different actions.</td>\n      <td>contradiction</td>\n    </tr>\n    <tr>\n      <th>918</th>\n      <td>918</td>\n      <td>8378599.jpg#1r1c</td>\n      <td>contradiction</td>\n      <td>A boy in a blue jacket rides a skateboard down...</td>\n      <td>A blue jacketed boy is standing in football fi...</td>\n      <td>The boy can either be riding or standing.</td>\n      <td>A boy in a blue jacket *rides* a skateboard do...</td>\n      <td>A blue jacketed boy is *standing* in football ...</td>\n      <td>6</td>\n      <td>5</td>\n      <td>...</td>\n      <td>8,6</td>\n      <td>5,7,8</td>\n      <td>You cannot ride a skateboard and be standing i...</td>\n      <td>A boy in a blue jacket *rides* a *skateboard* ...</td>\n      <td>A blue jacketed boy is *standing* in football ...</td>\n      <td>6,8</td>\n      <td>5,8</td>\n      <td>Statement: There's a group of folks with heaps...</td>\n      <td>The statements are describing two different ac...</td>\n      <td>contradiction</td>\n    </tr>\n  </tbody>\n</table>\n<p>12 rows × 23 columns</p>\n</div>"
     },
     "execution_count": 375,
     "metadata": {},
     "output_type": "execute_result"
    }
   ],
   "source": [
    "gpt_pred.iloc[root_term_dict['action']]"
   ],
   "metadata": {
    "collapsed": false,
    "pycharm": {
     "name": "#%%\n"
    }
   }
  },
  {
   "cell_type": "code",
   "execution_count": 405,
   "outputs": [
    {
     "data": {
      "text/plain": "'The woman is wearing dark brown leather jacket, sunglasses, brown leather boots, and a silver designer handbag, which implies that she is nicely dressed.'"
     },
     "execution_count": 405,
     "metadata": {},
     "output_type": "execute_result"
    }
   ],
   "source": [
    "gpt_pred.iloc[608].pred_explanation"
   ],
   "metadata": {
    "collapsed": false,
    "pycharm": {
     "name": "#%%\n"
    }
   }
  }
 ],
 "metadata": {
  "kernelspec": {
   "display_name": "Python 3",
   "language": "python",
   "name": "python3"
  },
  "language_info": {
   "codemirror_mode": {
    "name": "ipython",
    "version": 2
   },
   "file_extension": ".py",
   "mimetype": "text/x-python",
   "name": "python",
   "nbconvert_exporter": "python",
   "pygments_lexer": "ipython2",
   "version": "2.7.6"
  }
 },
 "nbformat": 4,
 "nbformat_minor": 0
}