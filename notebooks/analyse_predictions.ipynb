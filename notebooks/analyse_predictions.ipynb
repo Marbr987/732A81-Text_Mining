{
 "cells": [
  {
   "cell_type": "markdown",
   "source": [
    "# Setup"
   ],
   "metadata": {
    "collapsed": false,
    "pycharm": {
     "name": "#%% md\n"
    }
   }
  },
  {
   "cell_type": "markdown",
   "source": [
    "## Load Packages"
   ],
   "metadata": {
    "collapsed": false,
    "pycharm": {
     "name": "#%% md\n"
    }
   }
  },
  {
   "cell_type": "code",
   "execution_count": 451,
   "outputs": [],
   "source": [
    "import random\n",
    "import pandas as pd\n",
    "import numpy as np\n",
    "import matplotlib.pyplot as plt\n",
    "import os\n",
    "import openai\n",
    "import re\n",
    "import time\n",
    "from scripts.prepare_data_helpers import prepare_examples, create_query\n",
    "import spacy\n",
    "import textacy\n",
    "from dotenv import load_dotenv\n",
    "\n",
    "load_dotenv()\n",
    "nlp = spacy.load('en_core_web_sm')"
   ],
   "metadata": {
    "collapsed": false,
    "pycharm": {
     "name": "#%%\n"
    }
   }
  },
  {
   "cell_type": "markdown",
   "source": [
    "## Prepare Data"
   ],
   "metadata": {
    "collapsed": false,
    "pycharm": {
     "name": "#%% md\n"
    }
   }
  },
  {
   "cell_type": "code",
   "execution_count": 2,
   "outputs": [],
   "source": [
    "train1 = pd.read_csv('../../e-SNLI/dataset/esnli_train_1.csv')\n",
    "train2 = pd.read_csv('../../e-SNLI/dataset/esnli_train_2.csv')\n",
    "train = pd.concat([train1, train2])\n",
    "dev = pd.read_csv('../../e-SNLI/dataset/esnli_dev.csv')\n",
    "test = pd.read_csv('../../e-SNLI/dataset/esnli_test.csv')\n",
    "\n",
    "train = train.dropna(subset=['Sentence1', 'Sentence2', 'Explanation_1'])\n",
    "train = train.reset_index(drop=True)\n",
    "\n",
    "np.random.seed(12345) # seed for numpy package\n",
    "test_indices = list(np.random.choice(test.index.values, size=1000, replace=False))\n",
    "test = test.loc[test_indices]\n",
    "test = test.reset_index(drop=True)"
   ],
   "metadata": {
    "collapsed": false,
    "pycharm": {
     "name": "#%%\n"
    }
   }
  },
  {
   "cell_type": "code",
   "execution_count": 68,
   "outputs": [],
   "source": [
    "gpt_pred = pd.read_csv('../output_data/test_predictions.csv', sep=';')"
   ],
   "metadata": {
    "collapsed": false,
    "pycharm": {
     "name": "#%%\n"
    }
   }
  },
  {
   "cell_type": "code",
   "execution_count": 69,
   "outputs": [
    {
     "data": {
      "text/plain": "     Unnamed: 0               pairID     gold_label  \\\n0             0  4813951931.jpg#3r1e     entailment   \n1             1  4678320536.jpg#1r1c  contradiction   \n2             2   661749711.jpg#2r1e     entailment   \n3             3    44904567.jpg#1r1c  contradiction   \n4             4    32542645.jpg#0r1n        neutral   \n..          ...                  ...            ...   \n995         995  2429284131.jpg#2r1c  contradiction   \n996         996  4460943467.jpg#0r1e     entailment   \n997         997  2226343167.jpg#0r1n        neutral   \n998         998  3389707399.jpg#4r1e     entailment   \n999         999  3559425864.jpg#1r1c  contradiction   \n\n                                             Sentence1  \\\n0    A young man in an orange hat walks his bicycle...   \n1    A woman standing with smile on her face and sh...   \n2             A dog jumps to catch a red ball outside.   \n3    A man wielding an electric razor is gleefully ...   \n4    A group of people stares at a wall that is fil...   \n..                                                 ...   \n995        Three men are standing on stage performing.   \n996  3 young man in hoods standing in the middle of...   \n997  A woman in skirt, torn stockings and combat bo...   \n998                     Two men shining peoples shoes.   \n999  Bicyclist ride the course near the ocean as th...   \n\n                                             Sentence2  \\\n0    A man in an orange hat walks his bike down a s...   \n1          A woman stands holding her baby and crying.   \n2                                  the dog is jumping.   \n3                    There is only one person present.   \n4               A group of people analyze art together   \n..                                                 ...   \n995          Women are playing trumpets on the street.   \n996       Three hood wearing people stand in a street.   \n997  The man and woman are going to a movie in the ...   \n998                             Two men shining shoes.   \n999             The cyclist was riding in the morning.   \n\n                                         Explanation_1  \\\n0           A bicycle and a bike, are the same object.   \n1    If a woman has a smile on her face then she is...   \n2         Jumping is an action needed to catch a ball.   \n3    There cannot be one person present if one man ...   \n4             Not necessary that they analyze the art.   \n..                                                 ...   \n995  either there are men on stage, or women playin...   \n996            3 Man in hoods are hood wearing people.   \n997  walking down a street does not mean they are g...   \n998  Two men are shining shoes if two men are shini...   \n999  This implies that it is either a (regular) bic...   \n\n                                    Sentence1_marked_1  \\\n0     A young man in an orange hat walks his *bicyc...   \n1    A woman standing with *smile* *on* *her* *face...   \n2     A *dog* *jumps* to *catch* a red *ball* *outs...   \n3    A *man* wielding an electric razor is gleefull...   \n4    A group of people stares at a wall that is fil...   \n..                                                 ...   \n995      Three *men* are standing on stage performing.   \n996   *3* young *man* in *hoods* standing in the mi...   \n997  A woman in skirt, torn stockings and combat bo...   \n998                 Two *men* *shining* peoples shoes.   \n999  *Bicyclist* ride the course near the ocean as ...   \n\n                                    Sentence2_marked_1  \\\n0     A man in an orange hat walks his *bike* down ...   \n1        A woman stands holding her baby and *crying.*   \n2                              the *dog* is *jumping.*   \n3              There is only *one* *person* *present.*   \n4             A group of people *analyze* art together   \n..                                                 ...   \n995        *Women* are playing trumpets on the street.   \n996   Three *hood* *wearing* *people* stand in a st...   \n997   The man and woman are going to a *movie* in t...   \n998                         Two *men* *shining* shoes.   \n999         *The* *cyclist* was riding in the morning.   \n\n    Sentence1_Highlighted_1 Sentence2_Highlighted_1  ...  \\\n0                         9                       8  ...   \n1                   4,5,6,7                       7  ...   \n2                 2,7,8,1,4                     3,1  ...   \n3                   1,10,11                   3,4,5  ...   \n4                        {}                       4  ...   \n..                      ...                     ...  ...   \n995                       1                       0  ...   \n996                   2,0,4                   1,2,3  ...   \n997                      {}                       8  ...   \n998                     1,2                     1,2  ...   \n999                       0                     1,0  ...   \n\n    Sentence1_Highlighted_2 Sentence2_Highlighted_2  \\\n0                     9,1,2                     8,1   \n1                        13                       5   \n2                       1,2                     1,3   \n3                        10                     3,2   \n4                        {}                     4,5   \n..                      ...                     ...   \n995                       1                       0   \n996              1,0,2,4,12                 0,1,4,7   \n997                      {}                1,3,8,11   \n998                   1,4,2                   1,2,3   \n999           9,10,11,13,12                       6   \n\n                                         Explanation_3  \\\n0    The young man in an orange hart is the man wal...   \n1            the woman is either crying or has a smile   \n2       If the dog jumps to catch, the dog is jumping.   \n3    It cannot be claimed that there is only one pe...   \n4    The group may have just been admiring as oppos...   \n..                                                 ...   \n995                  There can be either men or women.   \n996  If they are standing in the middle of a quiet ...   \n997  Just because a man and woman are wearing theme...   \n998  \"Two men shining shoes\" is a rephrasing of \"tw...   \n999    The day does not come to an end in the morning.   \n\n                                    Sentence1_marked_3  \\\n0     A *young* *man* in *an* *orange* *hat* *walks...   \n1    A *woman* standing with *smile* on her face an...   \n2         A dog *jumps* to *catch* a red ball outside.   \n3    A *man* wielding an electric razor is gleefull...   \n4    A group of people stares at a wall that is fil...   \n..                                                 ...   \n995      Three *men* are standing on stage performing.   \n996   3 young man in hoods *standing* *in* *the* *m...   \n997  A woman in skirt, torn stockings and combat bo...   \n998               Two men *shining* *peoples* *shoes.*   \n999  Bicyclist ride the course near the ocean as th...   \n\n                                    Sentence2_marked_3  \\\n0     A *man* in *an* *orange* *hat* *walks* *his* ...   \n1      A *woman* stands holding her baby and *crying.*   \n2                                the dog is *jumping.*   \n3              There is *only* *one* *person* present.   \n4           A group of people *analyze* art *together*   \n..                                                 ...   \n995        *Women* are playing trumpets on the street.   \n996   Three hood wearing people *stand* *in* *a* *s...   \n997   The man and woman are going to a *movie* in t...   \n998                         Two men *shining* *shoes.*   \n999           The cyclist was riding in the *morning.*   \n\n    Sentence1_Highlighted_3 Sentence2_Highlighted_3  \\\n0     1,2,4,5,6,7,8,9,10,12      1,5,4,3,11,9,8,7,6   \n1                       4,1                     1,7   \n2                       2,4                       3   \n3                   1,10,11                   2,3,4   \n4                        {}                     4,6   \n..                      ...                     ...   \n995                       1                       0   \n996      5,6,7,8,9,11,10,12                 4,5,6,7   \n997                      {}                       8   \n998                   2,3,4                     2,3   \n999           9,11,10,12,13                       6   \n\n                                                prompt  \\\n0    Statement: A man in a suit and dirty dress-sho...   \n1    Statement: a white dog runs across the water.\\...   \n2    Statement: A young child rides a bike with a b...   \n3    Statement: A young boy wearing safety glasses ...   \n4    Statement: Young mother and child heading some...   \n..                                                 ...   \n995  Statement: Several basketball players are grab...   \n996  Statement: A curly-haired brunette wearing a b...   \n997  Statement: A brown dog standing in water.\\nSta...   \n998  Statement: A long-haired person, with a tan co...   \n999  Statement: People with their children shopping...   \n\n                                      pred_explanation     pred_label  \n0              The man is young and the hat is orange.     entailment  \n1    The woman is smiling and holding a wood, not a...  contradiction  \n2     The statement is repeating the same information.      tautology  \n3       There are two people present in the statement.  contradiction  \n4    Staring at a wall filled with drawings is a fo...     entailment  \n..                                                 ...            ...  \n995  The men are standing on stage performing, whil...  contradiction  \n996      The statements are describing the same thing.    equivalence  \n997  The statement does not give any indication tha...        neutral  \n998  Shining shoes implies that the shoes belong to...     entailment  \n999  The statement implies the cyclist was riding a...  contradiction  \n\n[1000 rows x 23 columns]",
      "text/html": "<div>\n<style scoped>\n    .dataframe tbody tr th:only-of-type {\n        vertical-align: middle;\n    }\n\n    .dataframe tbody tr th {\n        vertical-align: top;\n    }\n\n    .dataframe thead th {\n        text-align: right;\n    }\n</style>\n<table border=\"1\" class=\"dataframe\">\n  <thead>\n    <tr style=\"text-align: right;\">\n      <th></th>\n      <th>Unnamed: 0</th>\n      <th>pairID</th>\n      <th>gold_label</th>\n      <th>Sentence1</th>\n      <th>Sentence2</th>\n      <th>Explanation_1</th>\n      <th>Sentence1_marked_1</th>\n      <th>Sentence2_marked_1</th>\n      <th>Sentence1_Highlighted_1</th>\n      <th>Sentence2_Highlighted_1</th>\n      <th>...</th>\n      <th>Sentence1_Highlighted_2</th>\n      <th>Sentence2_Highlighted_2</th>\n      <th>Explanation_3</th>\n      <th>Sentence1_marked_3</th>\n      <th>Sentence2_marked_3</th>\n      <th>Sentence1_Highlighted_3</th>\n      <th>Sentence2_Highlighted_3</th>\n      <th>prompt</th>\n      <th>pred_explanation</th>\n      <th>pred_label</th>\n    </tr>\n  </thead>\n  <tbody>\n    <tr>\n      <th>0</th>\n      <td>0</td>\n      <td>4813951931.jpg#3r1e</td>\n      <td>entailment</td>\n      <td>A young man in an orange hat walks his bicycle...</td>\n      <td>A man in an orange hat walks his bike down a s...</td>\n      <td>A bicycle and a bike, are the same object.</td>\n      <td>A young man in an orange hat walks his *bicyc...</td>\n      <td>A man in an orange hat walks his *bike* down ...</td>\n      <td>9</td>\n      <td>8</td>\n      <td>...</td>\n      <td>9,1,2</td>\n      <td>8,1</td>\n      <td>The young man in an orange hart is the man wal...</td>\n      <td>A *young* *man* in *an* *orange* *hat* *walks...</td>\n      <td>A *man* in *an* *orange* *hat* *walks* *his* ...</td>\n      <td>1,2,4,5,6,7,8,9,10,12</td>\n      <td>1,5,4,3,11,9,8,7,6</td>\n      <td>Statement: A man in a suit and dirty dress-sho...</td>\n      <td>The man is young and the hat is orange.</td>\n      <td>entailment</td>\n    </tr>\n    <tr>\n      <th>1</th>\n      <td>1</td>\n      <td>4678320536.jpg#1r1c</td>\n      <td>contradiction</td>\n      <td>A woman standing with smile on her face and sh...</td>\n      <td>A woman stands holding her baby and crying.</td>\n      <td>If a woman has a smile on her face then she is...</td>\n      <td>A woman standing with *smile* *on* *her* *face...</td>\n      <td>A woman stands holding her baby and *crying.*</td>\n      <td>4,5,6,7</td>\n      <td>7</td>\n      <td>...</td>\n      <td>13</td>\n      <td>5</td>\n      <td>the woman is either crying or has a smile</td>\n      <td>A *woman* standing with *smile* on her face an...</td>\n      <td>A *woman* stands holding her baby and *crying.*</td>\n      <td>4,1</td>\n      <td>1,7</td>\n      <td>Statement: a white dog runs across the water.\\...</td>\n      <td>The woman is smiling and holding a wood, not a...</td>\n      <td>contradiction</td>\n    </tr>\n    <tr>\n      <th>2</th>\n      <td>2</td>\n      <td>661749711.jpg#2r1e</td>\n      <td>entailment</td>\n      <td>A dog jumps to catch a red ball outside.</td>\n      <td>the dog is jumping.</td>\n      <td>Jumping is an action needed to catch a ball.</td>\n      <td>A *dog* *jumps* to *catch* a red *ball* *outs...</td>\n      <td>the *dog* is *jumping.*</td>\n      <td>2,7,8,1,4</td>\n      <td>3,1</td>\n      <td>...</td>\n      <td>1,2</td>\n      <td>1,3</td>\n      <td>If the dog jumps to catch, the dog is jumping.</td>\n      <td>A dog *jumps* to *catch* a red ball outside.</td>\n      <td>the dog is *jumping.*</td>\n      <td>2,4</td>\n      <td>3</td>\n      <td>Statement: A young child rides a bike with a b...</td>\n      <td>The statement is repeating the same information.</td>\n      <td>tautology</td>\n    </tr>\n    <tr>\n      <th>3</th>\n      <td>3</td>\n      <td>44904567.jpg#1r1c</td>\n      <td>contradiction</td>\n      <td>A man wielding an electric razor is gleefully ...</td>\n      <td>There is only one person present.</td>\n      <td>There cannot be one person present if one man ...</td>\n      <td>A *man* wielding an electric razor is gleefull...</td>\n      <td>There is only *one* *person* *present.*</td>\n      <td>1,10,11</td>\n      <td>3,4,5</td>\n      <td>...</td>\n      <td>10</td>\n      <td>3,2</td>\n      <td>It cannot be claimed that there is only one pe...</td>\n      <td>A *man* wielding an electric razor is gleefull...</td>\n      <td>There is *only* *one* *person* present.</td>\n      <td>1,10,11</td>\n      <td>2,3,4</td>\n      <td>Statement: A young boy wearing safety glasses ...</td>\n      <td>There are two people present in the statement.</td>\n      <td>contradiction</td>\n    </tr>\n    <tr>\n      <th>4</th>\n      <td>4</td>\n      <td>32542645.jpg#0r1n</td>\n      <td>neutral</td>\n      <td>A group of people stares at a wall that is fil...</td>\n      <td>A group of people analyze art together</td>\n      <td>Not necessary that they analyze the art.</td>\n      <td>A group of people stares at a wall that is fil...</td>\n      <td>A group of people *analyze* art together</td>\n      <td>{}</td>\n      <td>4</td>\n      <td>...</td>\n      <td>{}</td>\n      <td>4,5</td>\n      <td>The group may have just been admiring as oppos...</td>\n      <td>A group of people stares at a wall that is fil...</td>\n      <td>A group of people *analyze* art *together*</td>\n      <td>{}</td>\n      <td>4,6</td>\n      <td>Statement: Young mother and child heading some...</td>\n      <td>Staring at a wall filled with drawings is a fo...</td>\n      <td>entailment</td>\n    </tr>\n    <tr>\n      <th>...</th>\n      <td>...</td>\n      <td>...</td>\n      <td>...</td>\n      <td>...</td>\n      <td>...</td>\n      <td>...</td>\n      <td>...</td>\n      <td>...</td>\n      <td>...</td>\n      <td>...</td>\n      <td>...</td>\n      <td>...</td>\n      <td>...</td>\n      <td>...</td>\n      <td>...</td>\n      <td>...</td>\n      <td>...</td>\n      <td>...</td>\n      <td>...</td>\n      <td>...</td>\n      <td>...</td>\n    </tr>\n    <tr>\n      <th>995</th>\n      <td>995</td>\n      <td>2429284131.jpg#2r1c</td>\n      <td>contradiction</td>\n      <td>Three men are standing on stage performing.</td>\n      <td>Women are playing trumpets on the street.</td>\n      <td>either there are men on stage, or women playin...</td>\n      <td>Three *men* are standing on stage performing.</td>\n      <td>*Women* are playing trumpets on the street.</td>\n      <td>1</td>\n      <td>0</td>\n      <td>...</td>\n      <td>1</td>\n      <td>0</td>\n      <td>There can be either men or women.</td>\n      <td>Three *men* are standing on stage performing.</td>\n      <td>*Women* are playing trumpets on the street.</td>\n      <td>1</td>\n      <td>0</td>\n      <td>Statement: Several basketball players are grab...</td>\n      <td>The men are standing on stage performing, whil...</td>\n      <td>contradiction</td>\n    </tr>\n    <tr>\n      <th>996</th>\n      <td>996</td>\n      <td>4460943467.jpg#0r1e</td>\n      <td>entailment</td>\n      <td>3 young man in hoods standing in the middle of...</td>\n      <td>Three hood wearing people stand in a street.</td>\n      <td>3 Man in hoods are hood wearing people.</td>\n      <td>*3* young *man* in *hoods* standing in the mi...</td>\n      <td>Three *hood* *wearing* *people* stand in a st...</td>\n      <td>2,0,4</td>\n      <td>1,2,3</td>\n      <td>...</td>\n      <td>1,0,2,4,12</td>\n      <td>0,1,4,7</td>\n      <td>If they are standing in the middle of a quiet ...</td>\n      <td>3 young man in hoods *standing* *in* *the* *m...</td>\n      <td>Three hood wearing people *stand* *in* *a* *s...</td>\n      <td>5,6,7,8,9,11,10,12</td>\n      <td>4,5,6,7</td>\n      <td>Statement: A curly-haired brunette wearing a b...</td>\n      <td>The statements are describing the same thing.</td>\n      <td>equivalence</td>\n    </tr>\n    <tr>\n      <th>997</th>\n      <td>997</td>\n      <td>2226343167.jpg#0r1n</td>\n      <td>neutral</td>\n      <td>A woman in skirt, torn stockings and combat bo...</td>\n      <td>The man and woman are going to a movie in the ...</td>\n      <td>walking down a street does not mean they are g...</td>\n      <td>A woman in skirt, torn stockings and combat bo...</td>\n      <td>The man and woman are going to a *movie* in t...</td>\n      <td>{}</td>\n      <td>8</td>\n      <td>...</td>\n      <td>{}</td>\n      <td>1,3,8,11</td>\n      <td>Just because a man and woman are wearing theme...</td>\n      <td>A woman in skirt, torn stockings and combat bo...</td>\n      <td>The man and woman are going to a *movie* in t...</td>\n      <td>{}</td>\n      <td>8</td>\n      <td>Statement: A brown dog standing in water.\\nSta...</td>\n      <td>The statement does not give any indication tha...</td>\n      <td>neutral</td>\n    </tr>\n    <tr>\n      <th>998</th>\n      <td>998</td>\n      <td>3389707399.jpg#4r1e</td>\n      <td>entailment</td>\n      <td>Two men shining peoples shoes.</td>\n      <td>Two men shining shoes.</td>\n      <td>Two men are shining shoes if two men are shini...</td>\n      <td>Two *men* *shining* peoples shoes.</td>\n      <td>Two *men* *shining* shoes.</td>\n      <td>1,2</td>\n      <td>1,2</td>\n      <td>...</td>\n      <td>1,4,2</td>\n      <td>1,2,3</td>\n      <td>\"Two men shining shoes\" is a rephrasing of \"tw...</td>\n      <td>Two men *shining* *peoples* *shoes.*</td>\n      <td>Two men *shining* *shoes.*</td>\n      <td>2,3,4</td>\n      <td>2,3</td>\n      <td>Statement: A long-haired person, with a tan co...</td>\n      <td>Shining shoes implies that the shoes belong to...</td>\n      <td>entailment</td>\n    </tr>\n    <tr>\n      <th>999</th>\n      <td>999</td>\n      <td>3559425864.jpg#1r1c</td>\n      <td>contradiction</td>\n      <td>Bicyclist ride the course near the ocean as th...</td>\n      <td>The cyclist was riding in the morning.</td>\n      <td>This implies that it is either a (regular) bic...</td>\n      <td>*Bicyclist* ride the course near the ocean as ...</td>\n      <td>*The* *cyclist* was riding in the morning.</td>\n      <td>0</td>\n      <td>1,0</td>\n      <td>...</td>\n      <td>9,10,11,13,12</td>\n      <td>6</td>\n      <td>The day does not come to an end in the morning.</td>\n      <td>Bicyclist ride the course near the ocean as th...</td>\n      <td>The cyclist was riding in the *morning.*</td>\n      <td>9,11,10,12,13</td>\n      <td>6</td>\n      <td>Statement: People with their children shopping...</td>\n      <td>The statement implies the cyclist was riding a...</td>\n      <td>contradiction</td>\n    </tr>\n  </tbody>\n</table>\n<p>1000 rows × 23 columns</p>\n</div>"
     },
     "execution_count": 69,
     "metadata": {},
     "output_type": "execute_result"
    }
   ],
   "source": [
    "gpt_pred"
   ],
   "metadata": {
    "collapsed": false,
    "pycharm": {
     "name": "#%%\n"
    }
   }
  },
  {
   "cell_type": "markdown",
   "source": [
    "# Prepare Input Sentences"
   ],
   "metadata": {
    "collapsed": false,
    "pycharm": {
     "name": "#%% md\n"
    }
   }
  },
  {
   "cell_type": "code",
   "execution_count": 458,
   "outputs": [
    {
     "data": {
      "text/plain": "playing"
     },
     "execution_count": 458,
     "metadata": {},
     "output_type": "execute_result"
    }
   ],
   "source": [
    "test = nlp('The girls are playing on the street')\n",
    "test[1].head"
   ],
   "metadata": {
    "collapsed": false,
    "pycharm": {
     "name": "#%%\n"
    }
   }
  },
  {
   "cell_type": "code",
   "execution_count": 621,
   "outputs": [
    {
     "name": "stdout",
     "output_type": "stream",
     "text": [
      "food\n"
     ]
    }
   ],
   "source": [
    "for test in textacy.extract.matches.token_matches(nlp(\"The dog is eating food and the child plays outside.\"), [{\"DEP\": \"dobj\"}]):\n",
    "    print(test)"
   ],
   "metadata": {
    "collapsed": false,
    "pycharm": {
     "name": "#%%\n"
    }
   }
  },
  {
   "cell_type": "code",
   "execution_count": 701,
   "outputs": [
    {
     "name": "stdout",
     "output_type": "stream",
     "text": [
      "1\n",
      "2\n",
      "1\n",
      "2\n",
      "1\n",
      "0\n",
      "1\n",
      "1\n",
      "1\n",
      "2\n",
      "1\n",
      "1\n",
      "1\n",
      "1\n",
      "1\n",
      "1\n",
      "1\n",
      "1\n",
      "1\n",
      "1\n"
     ]
    }
   ],
   "source": [
    "\n",
    "def extract_SVO(txt):\n",
    "    res = list()\n",
    "    doc = nlp(txt)\n",
    "\n",
    "    for cur_nsubj in textacy.extract.matches.token_matches(doc, [{\"DEP\": \"nsubj\"}]):\n",
    "        verbs = list()\n",
    "        if cur_nsubj[0].head.pos_ == \"AUX\":\n",
    "            for cur_verb in textacy.extract.matches.token_matches(doc, [{\"POS\": \"VERB\"}]):\n",
    "                if cur_verb[0].head == cur_nsubj[0]:\n",
    "                    verbs += [cur_verb[0]]\n",
    "        else:\n",
    "            verbs += [cur_nsubj[0].head]\n",
    "        for cur_verb in verbs:\n",
    "            dobjs = list(textacy.extract.matches.token_matches(doc, [{\"DEP\": \"dobj\"}]))\n",
    "            if len(dobjs) == 0:\n",
    "                res += [(cur_nsubj[0], cur_verb, None)]\n",
    "            else:\n",
    "                for cur_dobj in dobjs:\n",
    "                    if cur_dobj[0].head == cur_verb:\n",
    "                        res += [(cur_nsubj[0], cur_verb, cur_dobj[0])]\n",
    "                    else:\n",
    "                        res += [(cur_nsubj[0], cur_verb, None)]\n",
    "\n",
    "\n",
    "    if len(res) == 0:\n",
    "        cur_root = list(textacy.extract.matches.token_matches(doc, [{\"DEP\": \"ROOT\", \"POS\": \"NOUN\"}]))\n",
    "        if len(cur_root) != 0:\n",
    "            cur_root = cur_root[0][0]\n",
    "            for cur_verb in textacy.extract.matches.token_matches(doc, [{\"DEP\": \"acl\"}]):\n",
    "                if cur_verb[0].head == cur_root:\n",
    "                    dobjs = list(textacy.extract.matches.token_matches(doc, [{\"DEP\": \"dobj\"}]))\n",
    "                    if len(dobjs) == 0:\n",
    "                        res += [(cur_root, cur_verb[0], None)]\n",
    "                    for cur_dobj in dobjs:\n",
    "                        if cur_dobj[0].head == cur_verb[0]:\n",
    "                            res += [(cur_root, cur_verb[0], cur_dobj[0])]\n",
    "                        else:\n",
    "                            res += [(cur_root, cur_verb[0], None)]\n",
    "\n",
    "    return res\n",
    "\n",
    "for i in range(20):\n",
    "    test = gpt_pred.Sentence1.iloc[i]\n",
    "    #print(test)\n",
    "    print(len(extract_SVO(test)))"
   ],
   "metadata": {
    "collapsed": false,
    "pycharm": {
     "name": "#%%\n"
    }
   }
  },
  {
   "cell_type": "code",
   "execution_count": 706,
   "outputs": [],
   "source": [
    "gpt_pred['S1_SVO'] = [extract_SVO(gpt_pred.Sentence1.iloc[i]) for i in range(gpt_pred.shape[0])]\n",
    "gpt_pred['S2_SVO'] = [extract_SVO(gpt_pred.Sentence2.iloc[i]) for i in range(gpt_pred.shape[0])]"
   ],
   "metadata": {
    "collapsed": false,
    "pycharm": {
     "name": "#%%\n"
    }
   }
  },
  {
   "cell_type": "code",
   "execution_count": 708,
   "outputs": [
    {
     "data": {
      "text/plain": "                                              S1_SVO  \\\n0                            [(man, walks, bicycle)]   \n1     [(woman, holding, wood), (she, holding, wood)]   \n2                               [(dog, jumps, None)]   \n3    [(man, wielding, razor), (man, wielding, None)]   \n4                            [(group, stares, None)]   \n..                                               ...   \n995                          [(men, standing, None)]   \n996                          [(man, standing, None)]   \n997                       [(woman, torn, stockings)]   \n998                          [(men, shining, shoes)]   \n999  [(Bicyclist, ride, course), (day, comes, None)]   \n\n                           S2_SVO  \\\n0            [(man, walks, bike)]   \n1         [(woman, stands, None)]   \n2          [(dog, jumping, None)]   \n3                              []   \n4         [(group, analyze, art)]   \n..                            ...   \n995  [(Women, playing, trumpets)]   \n996       [(people, stand, None)]   \n997          [(man, going, None)]   \n998                            []   \n999     [(cyclist, riding, None)]   \n\n                                             Sentence1  \\\n0    A young man in an orange hat walks his bicycle...   \n1    A woman standing with smile on her face and sh...   \n2             A dog jumps to catch a red ball outside.   \n3    A man wielding an electric razor is gleefully ...   \n4    A group of people stares at a wall that is fil...   \n..                                                 ...   \n995        Three men are standing on stage performing.   \n996  3 young man in hoods standing in the middle of...   \n997  A woman in skirt, torn stockings and combat bo...   \n998                     Two men shining peoples shoes.   \n999  Bicyclist ride the course near the ocean as th...   \n\n                                             Sentence2  \n0    A man in an orange hat walks his bike down a s...  \n1          A woman stands holding her baby and crying.  \n2                                  the dog is jumping.  \n3                    There is only one person present.  \n4               A group of people analyze art together  \n..                                                 ...  \n995          Women are playing trumpets on the street.  \n996       Three hood wearing people stand in a street.  \n997  The man and woman are going to a movie in the ...  \n998                             Two men shining shoes.  \n999             The cyclist was riding in the morning.  \n\n[1000 rows x 4 columns]",
      "text/html": "<div>\n<style scoped>\n    .dataframe tbody tr th:only-of-type {\n        vertical-align: middle;\n    }\n\n    .dataframe tbody tr th {\n        vertical-align: top;\n    }\n\n    .dataframe thead th {\n        text-align: right;\n    }\n</style>\n<table border=\"1\" class=\"dataframe\">\n  <thead>\n    <tr style=\"text-align: right;\">\n      <th></th>\n      <th>S1_SVO</th>\n      <th>S2_SVO</th>\n      <th>Sentence1</th>\n      <th>Sentence2</th>\n    </tr>\n  </thead>\n  <tbody>\n    <tr>\n      <th>0</th>\n      <td>[(man, walks, bicycle)]</td>\n      <td>[(man, walks, bike)]</td>\n      <td>A young man in an orange hat walks his bicycle...</td>\n      <td>A man in an orange hat walks his bike down a s...</td>\n    </tr>\n    <tr>\n      <th>1</th>\n      <td>[(woman, holding, wood), (she, holding, wood)]</td>\n      <td>[(woman, stands, None)]</td>\n      <td>A woman standing with smile on her face and sh...</td>\n      <td>A woman stands holding her baby and crying.</td>\n    </tr>\n    <tr>\n      <th>2</th>\n      <td>[(dog, jumps, None)]</td>\n      <td>[(dog, jumping, None)]</td>\n      <td>A dog jumps to catch a red ball outside.</td>\n      <td>the dog is jumping.</td>\n    </tr>\n    <tr>\n      <th>3</th>\n      <td>[(man, wielding, razor), (man, wielding, None)]</td>\n      <td>[]</td>\n      <td>A man wielding an electric razor is gleefully ...</td>\n      <td>There is only one person present.</td>\n    </tr>\n    <tr>\n      <th>4</th>\n      <td>[(group, stares, None)]</td>\n      <td>[(group, analyze, art)]</td>\n      <td>A group of people stares at a wall that is fil...</td>\n      <td>A group of people analyze art together</td>\n    </tr>\n    <tr>\n      <th>...</th>\n      <td>...</td>\n      <td>...</td>\n      <td>...</td>\n      <td>...</td>\n    </tr>\n    <tr>\n      <th>995</th>\n      <td>[(men, standing, None)]</td>\n      <td>[(Women, playing, trumpets)]</td>\n      <td>Three men are standing on stage performing.</td>\n      <td>Women are playing trumpets on the street.</td>\n    </tr>\n    <tr>\n      <th>996</th>\n      <td>[(man, standing, None)]</td>\n      <td>[(people, stand, None)]</td>\n      <td>3 young man in hoods standing in the middle of...</td>\n      <td>Three hood wearing people stand in a street.</td>\n    </tr>\n    <tr>\n      <th>997</th>\n      <td>[(woman, torn, stockings)]</td>\n      <td>[(man, going, None)]</td>\n      <td>A woman in skirt, torn stockings and combat bo...</td>\n      <td>The man and woman are going to a movie in the ...</td>\n    </tr>\n    <tr>\n      <th>998</th>\n      <td>[(men, shining, shoes)]</td>\n      <td>[]</td>\n      <td>Two men shining peoples shoes.</td>\n      <td>Two men shining shoes.</td>\n    </tr>\n    <tr>\n      <th>999</th>\n      <td>[(Bicyclist, ride, course), (day, comes, None)]</td>\n      <td>[(cyclist, riding, None)]</td>\n      <td>Bicyclist ride the course near the ocean as th...</td>\n      <td>The cyclist was riding in the morning.</td>\n    </tr>\n  </tbody>\n</table>\n<p>1000 rows × 4 columns</p>\n</div>"
     },
     "execution_count": 708,
     "metadata": {},
     "output_type": "execute_result"
    }
   ],
   "source": [
    "gpt_pred[[\"S1_SVO\", \"S2_SVO\", \"Sentence1\", \"Sentence2\"]]"
   ],
   "metadata": {
    "collapsed": false,
    "pycharm": {
     "name": "#%%\n"
    }
   }
  },
  {
   "cell_type": "code",
   "execution_count": 635,
   "outputs": [
    {
     "data": {
      "text/plain": "walking"
     },
     "execution_count": 635,
     "metadata": {},
     "output_type": "execute_result"
    }
   ],
   "source": [
    "nlp(\"A man in a plaid shirt is walking on a street where there are advertisements in Chinese.\")[1].head"
   ],
   "metadata": {
    "collapsed": false,
    "pycharm": {
     "name": "#%%\n"
    }
   }
  },
  {
   "cell_type": "code",
   "execution_count": 587,
   "outputs": [
    {
     "data": {
      "text/plain": "SVOTriple(subject=[woman], verb=[stands], object=[wood])"
     },
     "execution_count": 587,
     "metadata": {},
     "output_type": "execute_result"
    }
   ],
   "source": [
    "list(textacy.extract.subject_verb_object_triples(nlp(\"A woman stands with a smile on her face and a girl is holding a wood in her hand.\")))[0]"
   ],
   "metadata": {
    "collapsed": false,
    "pycharm": {
     "name": "#%%\n"
    }
   }
  },
  {
   "cell_type": "code",
   "execution_count": 569,
   "outputs": [
    {
     "name": "stdout",
     "output_type": "stream",
     "text": [
      "0\n",
      "A young man in an orange hat walks his bicycle down a street.\n",
      "[SVOTriple(subject=[man], verb=[walks], object=[bicycle])]\n",
      "1\n",
      "A woman standing with smile on her face and she is holding a wood in her hand\n",
      "[SVOTriple(subject=[woman, she], verb=[is, holding], object=[wood])]\n",
      "2\n",
      "A dog jumps to catch a red ball outside.\n",
      "[SVOTriple(subject=[dog], verb=[jumps], object=[to, catch, a, red, ball, outside])]\n",
      "3\n",
      "A man wielding an electric razor is gleefully shaving away another man's hair.\n",
      "[]\n",
      "4\n",
      "A group of people stares at a wall that is filled with drawings in a building.\n",
      "[]\n",
      "5\n",
      "A snowboarder with a maroon coat sails through the air.\n",
      "[]\n",
      "6\n",
      "A man in a blue jacket leans on a post and talks on the phone while an old man carries yellow bags.\n",
      "[SVOTriple(subject=[man], verb=[carries], object=[bags])]\n",
      "7\n",
      "A man in a plaid shirt is walking on a street where there are advertisements in Chinese.\n",
      "[]\n",
      "8\n",
      "Four women carrying shoulder bags are walking down a city sidewalk.\n",
      "[]\n",
      "9\n",
      "A young man in a white hat is playing golf with an older man wearing a blue, long-sleeved shirt and khakis.\n",
      "[SVOTriple(subject=[man], verb=[is, playing], object=[golf])]\n",
      "10\n",
      "A woman, standing behind a girl, helping the girl with an experiment.\n",
      "[]\n",
      "11\n",
      "Two Asian people cooking on a grill in a park.\n",
      "[]\n",
      "12\n",
      "Three girls jumping in front of a house's flower garden.\n",
      "[]\n",
      "13\n",
      "A man with a blue, collared shirt sits in front of another man.\n",
      "[]\n",
      "14\n",
      "A woman in a striped shirt is walking a horse across a street.\n",
      "[SVOTriple(subject=[woman], verb=[is, walking], object=[horse])]\n",
      "15\n",
      "A man in a leaf-patterned short stand behind a sunflower, smiling at the camera.\n",
      "[]\n",
      "16\n",
      "The basketball player in red is challenging the player in white for the ball.\n",
      "[SVOTriple(subject=[basketball, player], verb=[is, challenging], object=[player])]\n",
      "17\n",
      "A woman with her face partially covered in silver face paint sits on a plastic tote looking in a mirror.\n",
      "[]\n",
      "18\n",
      "Two young girls hang tinsel on a Christmas tree in a room with blue curtains.\n",
      "[SVOTriple(subject=[girls], verb=[hang], object=[tinsel])]\n",
      "19\n",
      "a group of skiers jumping down slopes with the sun directly cast in backgroud\n",
      "[]\n"
     ]
    }
   ],
   "source": [
    "\n",
    "def extract_SVO(text):\n",
    "    tuples = textacy.extract.subject_verb_object_triples(text)\n",
    "    tuples_to_list = list(tuples)\n",
    "    return tuples_to_list\n",
    "\n",
    "for i in range(20):\n",
    "    print(i)\n",
    "    test = nlp(gpt_pred.Sentence1.iloc[i])\n",
    "    print(test)\n",
    "    print(extract_SVO(test))"
   ],
   "metadata": {
    "collapsed": false,
    "pycharm": {
     "name": "#%%\n"
    }
   }
  },
  {
   "cell_type": "markdown",
   "source": [
    "# Analyse Predictions"
   ],
   "metadata": {
    "collapsed": false,
    "pycharm": {
     "name": "#%% md\n"
    }
   }
  },
  {
   "cell_type": "code",
   "execution_count": 4,
   "outputs": [],
   "source": [
    "docs = [nlp(test.iloc[i].Explanation_1) for i in range(20)]"
   ],
   "metadata": {
    "collapsed": false,
    "pycharm": {
     "name": "#%%\n"
    }
   }
  },
  {
   "cell_type": "code",
   "execution_count": 5,
   "outputs": [
    {
     "name": "stdout",
     "output_type": "stream",
     "text": [
      "A bicycle // bicycle // nsubj // are\n",
      "a bike // bike // conj // bicycle\n",
      "the same object // object // attr // are\n",
      "-----------------------------------------\n",
      "a woman // woman // nsubj // has\n",
      "a smile // smile // dobj // has\n",
      "her face // face // pobj // on\n",
      "she // she // nsubj // crying\n",
      "-----------------------------------------\n",
      "Jumping // Jumping // nsubj // is\n",
      "an action // action // attr // is\n",
      "a ball // ball // dobj // catch\n",
      "-----------------------------------------\n",
      "one person // person // attr // be\n",
      "one man // man // nsubj // shaving\n",
      "another man's hair // hair // dobj // shaving\n",
      "-----------------------------------------\n",
      "they // they // nsubj // analyze\n",
      "the art // art // dobj // analyze\n",
      "-----------------------------------------\n",
      "A snowboarder // snowboarder // nsubj // is\n",
      "a person // person // attr // is\n",
      "a snowboarder // snowboarder // nsubj // sails\n",
      "the air // air // pobj // through\n",
      "they // they // nsubj // snowboarding\n",
      "a person // person // nsubj // snowboarding\n",
      "-----------------------------------------\n",
      "A person // person // nsubj // chew\n",
      "a liquid // liquid // dobj // chew\n",
      "they // they // nsubj // consume\n",
      "a liquid // liquid // dobj // consume\n",
      "the phone // phone // pobj // on\n",
      "-----------------------------------------\n",
      "The man // man // nsubj // walking\n",
      "his hands // hands // pobj // on\n",
      "people // people // nsubj // walk\n",
      "their hands // hands // pobj // on\n",
      "the street // street // pobj // down\n",
      "-----------------------------------------\n",
      "two different gaits // gaits // attr // are\n",
      "-----------------------------------------\n",
      "a young man // man // nsubj // constitute\n",
      "an older man // man // conj // man\n",
      "people // people // dobj // constitute\n",
      "differing ages // ages // pobj // of\n",
      "-----------------------------------------\n",
      "a woman // woman // nsubj // helping\n",
      "a girl // girl // nsubj // mean\n",
      "the girl // girl // nsubj // is\n",
      "her child // child // attr // is\n",
      "-----------------------------------------\n",
      "Two people // people // nsubj // do\n",
      "something // something // dobj // do\n",
      "a park // park // pobj // in\n",
      "them // them // nsubj // having\n",
      "a couple // couple // attr // be\n",
      "It // It // nsubj // 's\n",
      "they // they // nsubj // are\n",
      "-----------------------------------------\n",
      "A house's flower garden // garden // nsubj // is\n",
      "a street // street // pobj // on\n",
      "-----------------------------------------\n",
      "A man // man // nsubj // sits\n",
      "front // front // pobj // in\n",
      "another man // man // pobj // of\n",
      "-----------------------------------------\n",
      "The woman // woman // nsubj // walking\n",
      "either a horse // horse // pobj // with\n",
      "a dog // dog // conj // horse\n",
      "who // who // nsubj // walks\n",
      "a horse // horse // dobj // walks\n",
      "the middle // middle // pobj // in\n",
      "a street // street // pobj // of\n",
      "-----------------------------------------\n",
      "The man // man // nsubj // has\n",
      "shorts // shorts // dobj // has\n",
      "he // he // nsubj // is\n",
      "a leaf-patterned pair // pair // pobj // in\n",
      "short (shorts // shorts // pobj // of\n",
      "-----------------------------------------\n",
      "You // You // nsubj // challenge\n",
      "someone // someone // dobj // challenge\n",
      "you // you // nsubj // try\n",
      "a ball // ball // dobj // grab\n",
      "them // them // pobj // from\n",
      "-----------------------------------------\n",
      "The woman // woman // nsubj // looking\n",
      "a mirror // mirror // pobj // in\n",
      "she // she // nsubj // were\n",
      "-----------------------------------------\n",
      "You // You // nsubj // infer\n",
      "they // they // nsubj // are\n",
      "-----------------------------------------\n",
      "You // You // nsubj // infer\n",
      "the sun sets // sets // dobj // infer\n",
      "-----------------------------------------\n"
     ]
    }
   ],
   "source": [
    "for doc in docs:\n",
    "    for chunk in doc.noun_chunks:\n",
    "        print(chunk.text, '//', chunk.root.text, '//', chunk.root.dep_, '//', chunk.root.head.text)\n",
    "    print('-----------------------------------------')"
   ],
   "metadata": {
    "collapsed": false,
    "pycharm": {
     "name": "#%%\n"
    }
   }
  },
  {
   "cell_type": "code",
   "execution_count": 6,
   "outputs": [
    {
     "data": {
      "text/plain": "<IPython.core.display.HTML object>",
      "text/html": "<span class=\"tex2jax_ignore\"><svg xmlns=\"http://www.w3.org/2000/svg\" xmlns:xlink=\"http://www.w3.org/1999/xlink\" xml:lang=\"en\" id=\"07fdcd3a65fa4508b5ea26f862235f45-0\" class=\"displacy\" width=\"1625\" height=\"399.5\" direction=\"ltr\" style=\"max-width: none; height: 399.5px; color: #000000; background: #ffffff; font-family: Arial; direction: ltr\">\n<text class=\"displacy-token\" fill=\"currentColor\" text-anchor=\"middle\" y=\"309.5\">\n    <tspan class=\"displacy-word\" fill=\"currentColor\" x=\"50\">A</tspan>\n    <tspan class=\"displacy-tag\" dy=\"2em\" fill=\"currentColor\" x=\"50\">DET</tspan>\n</text>\n\n<text class=\"displacy-token\" fill=\"currentColor\" text-anchor=\"middle\" y=\"309.5\">\n    <tspan class=\"displacy-word\" fill=\"currentColor\" x=\"225\">bicycle</tspan>\n    <tspan class=\"displacy-tag\" dy=\"2em\" fill=\"currentColor\" x=\"225\">NOUN</tspan>\n</text>\n\n<text class=\"displacy-token\" fill=\"currentColor\" text-anchor=\"middle\" y=\"309.5\">\n    <tspan class=\"displacy-word\" fill=\"currentColor\" x=\"400\">and</tspan>\n    <tspan class=\"displacy-tag\" dy=\"2em\" fill=\"currentColor\" x=\"400\">CCONJ</tspan>\n</text>\n\n<text class=\"displacy-token\" fill=\"currentColor\" text-anchor=\"middle\" y=\"309.5\">\n    <tspan class=\"displacy-word\" fill=\"currentColor\" x=\"575\">a</tspan>\n    <tspan class=\"displacy-tag\" dy=\"2em\" fill=\"currentColor\" x=\"575\">DET</tspan>\n</text>\n\n<text class=\"displacy-token\" fill=\"currentColor\" text-anchor=\"middle\" y=\"309.5\">\n    <tspan class=\"displacy-word\" fill=\"currentColor\" x=\"750\">bike,</tspan>\n    <tspan class=\"displacy-tag\" dy=\"2em\" fill=\"currentColor\" x=\"750\">NOUN</tspan>\n</text>\n\n<text class=\"displacy-token\" fill=\"currentColor\" text-anchor=\"middle\" y=\"309.5\">\n    <tspan class=\"displacy-word\" fill=\"currentColor\" x=\"925\">are</tspan>\n    <tspan class=\"displacy-tag\" dy=\"2em\" fill=\"currentColor\" x=\"925\">AUX</tspan>\n</text>\n\n<text class=\"displacy-token\" fill=\"currentColor\" text-anchor=\"middle\" y=\"309.5\">\n    <tspan class=\"displacy-word\" fill=\"currentColor\" x=\"1100\">the</tspan>\n    <tspan class=\"displacy-tag\" dy=\"2em\" fill=\"currentColor\" x=\"1100\">DET</tspan>\n</text>\n\n<text class=\"displacy-token\" fill=\"currentColor\" text-anchor=\"middle\" y=\"309.5\">\n    <tspan class=\"displacy-word\" fill=\"currentColor\" x=\"1275\">same</tspan>\n    <tspan class=\"displacy-tag\" dy=\"2em\" fill=\"currentColor\" x=\"1275\">ADJ</tspan>\n</text>\n\n<text class=\"displacy-token\" fill=\"currentColor\" text-anchor=\"middle\" y=\"309.5\">\n    <tspan class=\"displacy-word\" fill=\"currentColor\" x=\"1450\">object.</tspan>\n    <tspan class=\"displacy-tag\" dy=\"2em\" fill=\"currentColor\" x=\"1450\">NOUN</tspan>\n</text>\n\n<g class=\"displacy-arrow\">\n    <path class=\"displacy-arc\" id=\"arrow-07fdcd3a65fa4508b5ea26f862235f45-0-0\" stroke-width=\"2px\" d=\"M70,264.5 C70,177.0 215.0,177.0 215.0,264.5\" fill=\"none\" stroke=\"currentColor\"/>\n    <text dy=\"1.25em\" style=\"font-size: 0.8em; letter-spacing: 1px\">\n        <textPath xlink:href=\"#arrow-07fdcd3a65fa4508b5ea26f862235f45-0-0\" class=\"displacy-label\" startOffset=\"50%\" side=\"left\" fill=\"currentColor\" text-anchor=\"middle\">det</textPath>\n    </text>\n    <path class=\"displacy-arrowhead\" d=\"M70,266.5 L62,254.5 78,254.5\" fill=\"currentColor\"/>\n</g>\n\n<g class=\"displacy-arrow\">\n    <path class=\"displacy-arc\" id=\"arrow-07fdcd3a65fa4508b5ea26f862235f45-0-1\" stroke-width=\"2px\" d=\"M245,264.5 C245,2.0 925.0,2.0 925.0,264.5\" fill=\"none\" stroke=\"currentColor\"/>\n    <text dy=\"1.25em\" style=\"font-size: 0.8em; letter-spacing: 1px\">\n        <textPath xlink:href=\"#arrow-07fdcd3a65fa4508b5ea26f862235f45-0-1\" class=\"displacy-label\" startOffset=\"50%\" side=\"left\" fill=\"currentColor\" text-anchor=\"middle\">nsubj</textPath>\n    </text>\n    <path class=\"displacy-arrowhead\" d=\"M245,266.5 L237,254.5 253,254.5\" fill=\"currentColor\"/>\n</g>\n\n<g class=\"displacy-arrow\">\n    <path class=\"displacy-arc\" id=\"arrow-07fdcd3a65fa4508b5ea26f862235f45-0-2\" stroke-width=\"2px\" d=\"M245,264.5 C245,177.0 390.0,177.0 390.0,264.5\" fill=\"none\" stroke=\"currentColor\"/>\n    <text dy=\"1.25em\" style=\"font-size: 0.8em; letter-spacing: 1px\">\n        <textPath xlink:href=\"#arrow-07fdcd3a65fa4508b5ea26f862235f45-0-2\" class=\"displacy-label\" startOffset=\"50%\" side=\"left\" fill=\"currentColor\" text-anchor=\"middle\">cc</textPath>\n    </text>\n    <path class=\"displacy-arrowhead\" d=\"M390.0,266.5 L398.0,254.5 382.0,254.5\" fill=\"currentColor\"/>\n</g>\n\n<g class=\"displacy-arrow\">\n    <path class=\"displacy-arc\" id=\"arrow-07fdcd3a65fa4508b5ea26f862235f45-0-3\" stroke-width=\"2px\" d=\"M595,264.5 C595,177.0 740.0,177.0 740.0,264.5\" fill=\"none\" stroke=\"currentColor\"/>\n    <text dy=\"1.25em\" style=\"font-size: 0.8em; letter-spacing: 1px\">\n        <textPath xlink:href=\"#arrow-07fdcd3a65fa4508b5ea26f862235f45-0-3\" class=\"displacy-label\" startOffset=\"50%\" side=\"left\" fill=\"currentColor\" text-anchor=\"middle\">det</textPath>\n    </text>\n    <path class=\"displacy-arrowhead\" d=\"M595,266.5 L587,254.5 603,254.5\" fill=\"currentColor\"/>\n</g>\n\n<g class=\"displacy-arrow\">\n    <path class=\"displacy-arc\" id=\"arrow-07fdcd3a65fa4508b5ea26f862235f45-0-4\" stroke-width=\"2px\" d=\"M245,264.5 C245,89.5 745.0,89.5 745.0,264.5\" fill=\"none\" stroke=\"currentColor\"/>\n    <text dy=\"1.25em\" style=\"font-size: 0.8em; letter-spacing: 1px\">\n        <textPath xlink:href=\"#arrow-07fdcd3a65fa4508b5ea26f862235f45-0-4\" class=\"displacy-label\" startOffset=\"50%\" side=\"left\" fill=\"currentColor\" text-anchor=\"middle\">conj</textPath>\n    </text>\n    <path class=\"displacy-arrowhead\" d=\"M745.0,266.5 L753.0,254.5 737.0,254.5\" fill=\"currentColor\"/>\n</g>\n\n<g class=\"displacy-arrow\">\n    <path class=\"displacy-arc\" id=\"arrow-07fdcd3a65fa4508b5ea26f862235f45-0-5\" stroke-width=\"2px\" d=\"M1120,264.5 C1120,89.5 1445.0,89.5 1445.0,264.5\" fill=\"none\" stroke=\"currentColor\"/>\n    <text dy=\"1.25em\" style=\"font-size: 0.8em; letter-spacing: 1px\">\n        <textPath xlink:href=\"#arrow-07fdcd3a65fa4508b5ea26f862235f45-0-5\" class=\"displacy-label\" startOffset=\"50%\" side=\"left\" fill=\"currentColor\" text-anchor=\"middle\">det</textPath>\n    </text>\n    <path class=\"displacy-arrowhead\" d=\"M1120,266.5 L1112,254.5 1128,254.5\" fill=\"currentColor\"/>\n</g>\n\n<g class=\"displacy-arrow\">\n    <path class=\"displacy-arc\" id=\"arrow-07fdcd3a65fa4508b5ea26f862235f45-0-6\" stroke-width=\"2px\" d=\"M1295,264.5 C1295,177.0 1440.0,177.0 1440.0,264.5\" fill=\"none\" stroke=\"currentColor\"/>\n    <text dy=\"1.25em\" style=\"font-size: 0.8em; letter-spacing: 1px\">\n        <textPath xlink:href=\"#arrow-07fdcd3a65fa4508b5ea26f862235f45-0-6\" class=\"displacy-label\" startOffset=\"50%\" side=\"left\" fill=\"currentColor\" text-anchor=\"middle\">amod</textPath>\n    </text>\n    <path class=\"displacy-arrowhead\" d=\"M1295,266.5 L1287,254.5 1303,254.5\" fill=\"currentColor\"/>\n</g>\n\n<g class=\"displacy-arrow\">\n    <path class=\"displacy-arc\" id=\"arrow-07fdcd3a65fa4508b5ea26f862235f45-0-7\" stroke-width=\"2px\" d=\"M945,264.5 C945,2.0 1450.0,2.0 1450.0,264.5\" fill=\"none\" stroke=\"currentColor\"/>\n    <text dy=\"1.25em\" style=\"font-size: 0.8em; letter-spacing: 1px\">\n        <textPath xlink:href=\"#arrow-07fdcd3a65fa4508b5ea26f862235f45-0-7\" class=\"displacy-label\" startOffset=\"50%\" side=\"left\" fill=\"currentColor\" text-anchor=\"middle\">attr</textPath>\n    </text>\n    <path class=\"displacy-arrowhead\" d=\"M1450.0,266.5 L1458.0,254.5 1442.0,254.5\" fill=\"currentColor\"/>\n</g>\n</svg></span>"
     },
     "metadata": {},
     "output_type": "display_data"
    },
    {
     "ename": "TypeError",
     "evalue": "write() argument must be str, not None",
     "output_type": "error",
     "traceback": [
      "\u001B[0;31m---------------------------------------------------------------------------\u001B[0m",
      "\u001B[0;31mTypeError\u001B[0m                                 Traceback (most recent call last)",
      "Cell \u001B[0;32mIn[6], line 5\u001B[0m\n\u001B[1;32m      3\u001B[0m html \u001B[38;5;241m=\u001B[39m spacy\u001B[38;5;241m.\u001B[39mdisplacy\u001B[38;5;241m.\u001B[39mrender(doc, style\u001B[38;5;241m=\u001B[39m\u001B[38;5;124m'\u001B[39m\u001B[38;5;124mdep\u001B[39m\u001B[38;5;124m'\u001B[39m)\n\u001B[1;32m      4\u001B[0m \u001B[38;5;28;01mwith\u001B[39;00m \u001B[38;5;28mopen\u001B[39m(\u001B[38;5;124m'\u001B[39m\u001B[38;5;124mdata_vis\u001B[39m\u001B[38;5;124m'\u001B[39m \u001B[38;5;241m+\u001B[39m \u001B[38;5;28mstr\u001B[39m(i) \u001B[38;5;241m+\u001B[39m \u001B[38;5;124m'\u001B[39m\u001B[38;5;124m.html\u001B[39m\u001B[38;5;124m'\u001B[39m, \u001B[38;5;124m'\u001B[39m\u001B[38;5;124mw\u001B[39m\u001B[38;5;124m'\u001B[39m) \u001B[38;5;28;01mas\u001B[39;00m f:\n\u001B[0;32m----> 5\u001B[0m     \u001B[43mf\u001B[49m\u001B[38;5;241;43m.\u001B[39;49m\u001B[43mwrite\u001B[49m\u001B[43m(\u001B[49m\u001B[43mhtml\u001B[49m\u001B[43m)\u001B[49m\n",
      "\u001B[0;31mTypeError\u001B[0m: write() argument must be str, not None"
     ]
    }
   ],
   "source": [
    "for i in range(10):\n",
    "    doc = nlp(test.iloc[i].Explanation_1)\n",
    "    html = spacy.displacy.render(doc, style='dep')\n",
    "    with open('data_vis' + str(i) + '.html', 'w') as f:\n",
    "        f.write(html)"
   ],
   "metadata": {
    "collapsed": false,
    "pycharm": {
     "name": "#%%\n"
    }
   }
  },
  {
   "cell_type": "code",
   "execution_count": 696,
   "outputs": [],
   "source": [
    "doc = nlp(gpt_pred.iloc[44].Sentence1)\n",
    "html = spacy.displacy.render(doc, style='dep', jupyter=False)\n",
    "with open('data_vis' + 'test' + '.html', 'w') as f:\n",
    "    f.write(html)"
   ],
   "metadata": {
    "collapsed": false,
    "pycharm": {
     "name": "#%%\n"
    }
   }
  },
  {
   "cell_type": "code",
   "execution_count": 514,
   "outputs": [
    {
     "data": {
      "text/plain": "'adverbial clause modifier'"
     },
     "execution_count": 514,
     "metadata": {},
     "output_type": "execute_result"
    }
   ],
   "source": [
    "spacy.explain(\"advcl\")"
   ],
   "metadata": {
    "collapsed": false,
    "pycharm": {
     "name": "#%%\n"
    }
   }
  },
  {
   "cell_type": "code",
   "execution_count": 37,
   "outputs": [
    {
     "data": {
      "text/plain": "'A person is outdoors, on a horse.'"
     },
     "execution_count": 37,
     "metadata": {},
     "output_type": "execute_result"
    }
   ],
   "source": [
    "train.Sentence2.iloc[3]"
   ],
   "metadata": {
    "collapsed": false,
    "pycharm": {
     "name": "#%%\n"
    }
   }
  },
  {
   "cell_type": "code",
   "execution_count": 38,
   "outputs": [
    {
     "data": {
      "text/plain": "'Just because they are smiling and waving at a camera does not imply their parents or anyone is anyone behind it'"
     },
     "execution_count": 38,
     "metadata": {},
     "output_type": "execute_result"
    }
   ],
   "source": [
    "train.Explanation_1.iloc[3]"
   ],
   "metadata": {
    "collapsed": false,
    "pycharm": {
     "name": "#%%\n"
    }
   }
  },
  {
   "cell_type": "code",
   "execution_count": 106,
   "outputs": [
    {
     "data": {
      "text/plain": "   Unnamed: 0               pairID     gold_label  \\\n0           0  4813951931.jpg#3r1e     entailment   \n1           1  4678320536.jpg#1r1c  contradiction   \n2           2   661749711.jpg#2r1e     entailment   \n3           3    44904567.jpg#1r1c  contradiction   \n4           4    32542645.jpg#0r1n        neutral   \n\n                                           Sentence1  \\\n0  A young man in an orange hat walks his bicycle...   \n1  A woman standing with smile on her face and sh...   \n2           A dog jumps to catch a red ball outside.   \n3  A man wielding an electric razor is gleefully ...   \n4  A group of people stares at a wall that is fil...   \n\n                                           Sentence2  \\\n0  A man in an orange hat walks his bike down a s...   \n1        A woman stands holding her baby and crying.   \n2                                the dog is jumping.   \n3                  There is only one person present.   \n4             A group of people analyze art together   \n\n                                       Explanation_1  \\\n0         A bicycle and a bike, are the same object.   \n1  If a woman has a smile on her face then she is...   \n2       Jumping is an action needed to catch a ball.   \n3  There cannot be one person present if one man ...   \n4           Not necessary that they analyze the art.   \n\n                                  Sentence1_marked_1  \\\n0   A young man in an orange hat walks his *bicyc...   \n1  A woman standing with *smile* *on* *her* *face...   \n2   A *dog* *jumps* to *catch* a red *ball* *outs...   \n3  A *man* wielding an electric razor is gleefull...   \n4  A group of people stares at a wall that is fil...   \n\n                                  Sentence2_marked_1 Sentence1_Highlighted_1  \\\n0   A man in an orange hat walks his *bike* down ...                       9   \n1      A woman stands holding her baby and *crying.*                 4,5,6,7   \n2                            the *dog* is *jumping.*               2,7,8,1,4   \n3            There is only *one* *person* *present.*                 1,10,11   \n4           A group of people *analyze* art together                      {}   \n\n  Sentence2_Highlighted_1  ... Sentence1_Highlighted_2  \\\n0                       8  ...                   9,1,2   \n1                       7  ...                      13   \n2                     3,1  ...                     1,2   \n3                   3,4,5  ...                      10   \n4                       4  ...                      {}   \n\n  Sentence2_Highlighted_2                                      Explanation_3  \\\n0                     8,1  The young man in an orange hart is the man wal...   \n1                       5          the woman is either crying or has a smile   \n2                     1,3     If the dog jumps to catch, the dog is jumping.   \n3                     3,2  It cannot be claimed that there is only one pe...   \n4                     4,5  The group may have just been admiring as oppos...   \n\n                                  Sentence1_marked_3  \\\n0   A *young* *man* in *an* *orange* *hat* *walks...   \n1  A *woman* standing with *smile* on her face an...   \n2       A dog *jumps* to *catch* a red ball outside.   \n3  A *man* wielding an electric razor is gleefull...   \n4  A group of people stares at a wall that is fil...   \n\n                                  Sentence2_marked_3 Sentence1_Highlighted_3  \\\n0   A *man* in *an* *orange* *hat* *walks* *his* ...   1,2,4,5,6,7,8,9,10,12   \n1    A *woman* stands holding her baby and *crying.*                     4,1   \n2                              the dog is *jumping.*                     2,4   \n3            There is *only* *one* *person* present.                 1,10,11   \n4         A group of people *analyze* art *together*                      {}   \n\n  Sentence2_Highlighted_3                                             prompt  \\\n0      1,5,4,3,11,9,8,7,6  Statement: A man in a suit and dirty dress-sho...   \n1                     1,7  Statement: a white dog runs across the water.\\...   \n2                       3  Statement: A young child rides a bike with a b...   \n3                   2,3,4  Statement: A young boy wearing safety glasses ...   \n4                     4,6  Statement: Young mother and child heading some...   \n\n                                    pred_explanation     pred_label  \n0            The man is young and the hat is orange.     entailment  \n1  The woman is smiling and holding a wood, not a...  contradiction  \n2   The statement is repeating the same information.      tautology  \n3     There are two people present in the statement.  contradiction  \n4  Staring at a wall filled with drawings is a fo...     entailment  \n\n[5 rows x 23 columns]",
      "text/html": "<div>\n<style scoped>\n    .dataframe tbody tr th:only-of-type {\n        vertical-align: middle;\n    }\n\n    .dataframe tbody tr th {\n        vertical-align: top;\n    }\n\n    .dataframe thead th {\n        text-align: right;\n    }\n</style>\n<table border=\"1\" class=\"dataframe\">\n  <thead>\n    <tr style=\"text-align: right;\">\n      <th></th>\n      <th>Unnamed: 0</th>\n      <th>pairID</th>\n      <th>gold_label</th>\n      <th>Sentence1</th>\n      <th>Sentence2</th>\n      <th>Explanation_1</th>\n      <th>Sentence1_marked_1</th>\n      <th>Sentence2_marked_1</th>\n      <th>Sentence1_Highlighted_1</th>\n      <th>Sentence2_Highlighted_1</th>\n      <th>...</th>\n      <th>Sentence1_Highlighted_2</th>\n      <th>Sentence2_Highlighted_2</th>\n      <th>Explanation_3</th>\n      <th>Sentence1_marked_3</th>\n      <th>Sentence2_marked_3</th>\n      <th>Sentence1_Highlighted_3</th>\n      <th>Sentence2_Highlighted_3</th>\n      <th>prompt</th>\n      <th>pred_explanation</th>\n      <th>pred_label</th>\n    </tr>\n  </thead>\n  <tbody>\n    <tr>\n      <th>0</th>\n      <td>0</td>\n      <td>4813951931.jpg#3r1e</td>\n      <td>entailment</td>\n      <td>A young man in an orange hat walks his bicycle...</td>\n      <td>A man in an orange hat walks his bike down a s...</td>\n      <td>A bicycle and a bike, are the same object.</td>\n      <td>A young man in an orange hat walks his *bicyc...</td>\n      <td>A man in an orange hat walks his *bike* down ...</td>\n      <td>9</td>\n      <td>8</td>\n      <td>...</td>\n      <td>9,1,2</td>\n      <td>8,1</td>\n      <td>The young man in an orange hart is the man wal...</td>\n      <td>A *young* *man* in *an* *orange* *hat* *walks...</td>\n      <td>A *man* in *an* *orange* *hat* *walks* *his* ...</td>\n      <td>1,2,4,5,6,7,8,9,10,12</td>\n      <td>1,5,4,3,11,9,8,7,6</td>\n      <td>Statement: A man in a suit and dirty dress-sho...</td>\n      <td>The man is young and the hat is orange.</td>\n      <td>entailment</td>\n    </tr>\n    <tr>\n      <th>1</th>\n      <td>1</td>\n      <td>4678320536.jpg#1r1c</td>\n      <td>contradiction</td>\n      <td>A woman standing with smile on her face and sh...</td>\n      <td>A woman stands holding her baby and crying.</td>\n      <td>If a woman has a smile on her face then she is...</td>\n      <td>A woman standing with *smile* *on* *her* *face...</td>\n      <td>A woman stands holding her baby and *crying.*</td>\n      <td>4,5,6,7</td>\n      <td>7</td>\n      <td>...</td>\n      <td>13</td>\n      <td>5</td>\n      <td>the woman is either crying or has a smile</td>\n      <td>A *woman* standing with *smile* on her face an...</td>\n      <td>A *woman* stands holding her baby and *crying.*</td>\n      <td>4,1</td>\n      <td>1,7</td>\n      <td>Statement: a white dog runs across the water.\\...</td>\n      <td>The woman is smiling and holding a wood, not a...</td>\n      <td>contradiction</td>\n    </tr>\n    <tr>\n      <th>2</th>\n      <td>2</td>\n      <td>661749711.jpg#2r1e</td>\n      <td>entailment</td>\n      <td>A dog jumps to catch a red ball outside.</td>\n      <td>the dog is jumping.</td>\n      <td>Jumping is an action needed to catch a ball.</td>\n      <td>A *dog* *jumps* to *catch* a red *ball* *outs...</td>\n      <td>the *dog* is *jumping.*</td>\n      <td>2,7,8,1,4</td>\n      <td>3,1</td>\n      <td>...</td>\n      <td>1,2</td>\n      <td>1,3</td>\n      <td>If the dog jumps to catch, the dog is jumping.</td>\n      <td>A dog *jumps* to *catch* a red ball outside.</td>\n      <td>the dog is *jumping.*</td>\n      <td>2,4</td>\n      <td>3</td>\n      <td>Statement: A young child rides a bike with a b...</td>\n      <td>The statement is repeating the same information.</td>\n      <td>tautology</td>\n    </tr>\n    <tr>\n      <th>3</th>\n      <td>3</td>\n      <td>44904567.jpg#1r1c</td>\n      <td>contradiction</td>\n      <td>A man wielding an electric razor is gleefully ...</td>\n      <td>There is only one person present.</td>\n      <td>There cannot be one person present if one man ...</td>\n      <td>A *man* wielding an electric razor is gleefull...</td>\n      <td>There is only *one* *person* *present.*</td>\n      <td>1,10,11</td>\n      <td>3,4,5</td>\n      <td>...</td>\n      <td>10</td>\n      <td>3,2</td>\n      <td>It cannot be claimed that there is only one pe...</td>\n      <td>A *man* wielding an electric razor is gleefull...</td>\n      <td>There is *only* *one* *person* present.</td>\n      <td>1,10,11</td>\n      <td>2,3,4</td>\n      <td>Statement: A young boy wearing safety glasses ...</td>\n      <td>There are two people present in the statement.</td>\n      <td>contradiction</td>\n    </tr>\n    <tr>\n      <th>4</th>\n      <td>4</td>\n      <td>32542645.jpg#0r1n</td>\n      <td>neutral</td>\n      <td>A group of people stares at a wall that is fil...</td>\n      <td>A group of people analyze art together</td>\n      <td>Not necessary that they analyze the art.</td>\n      <td>A group of people stares at a wall that is fil...</td>\n      <td>A group of people *analyze* art together</td>\n      <td>{}</td>\n      <td>4</td>\n      <td>...</td>\n      <td>{}</td>\n      <td>4,5</td>\n      <td>The group may have just been admiring as oppos...</td>\n      <td>A group of people stares at a wall that is fil...</td>\n      <td>A group of people *analyze* art *together*</td>\n      <td>{}</td>\n      <td>4,6</td>\n      <td>Statement: Young mother and child heading some...</td>\n      <td>Staring at a wall filled with drawings is a fo...</td>\n      <td>entailment</td>\n    </tr>\n  </tbody>\n</table>\n<p>5 rows × 23 columns</p>\n</div>"
     },
     "execution_count": 106,
     "metadata": {},
     "output_type": "execute_result"
    }
   ],
   "source": [
    "gpt_pred.head()"
   ],
   "metadata": {
    "collapsed": false,
    "pycharm": {
     "name": "#%%\n"
    }
   }
  },
  {
   "cell_type": "code",
   "execution_count": 180,
   "outputs": [
    {
     "data": {
      "text/plain": "{'hi': ['vhi', 12], 'ljsk': [23]}"
     },
     "execution_count": 180,
     "metadata": {},
     "output_type": "execute_result"
    }
   ],
   "source": [
    "test = dict()\n",
    "test['hi'] = ['vhi']\n",
    "test['ljsk'] = [23]\n",
    "test['hi'] += [12]\n",
    "test"
   ],
   "metadata": {
    "collapsed": false,
    "pycharm": {
     "name": "#%%\n"
    }
   }
  },
  {
   "cell_type": "code",
   "execution_count": 183,
   "outputs": [
    {
     "data": {
      "text/plain": "False"
     },
     "execution_count": 183,
     "metadata": {},
     "output_type": "execute_result"
    }
   ],
   "source": [
    "'sldfkj' in test.keys()"
   ],
   "metadata": {
    "collapsed": false,
    "pycharm": {
     "name": "#%%\n"
    }
   }
  },
  {
   "cell_type": "code",
   "execution_count": 230,
   "outputs": [
    {
     "data": {
      "text/plain": "'ROOT'"
     },
     "execution_count": 230,
     "metadata": {},
     "output_type": "execute_result"
    }
   ],
   "source": [
    "doc = nlp(\"Apple is looking at buying U.K. startup for $1 billion\")\n",
    "doc[2].dep_"
   ],
   "metadata": {
    "collapsed": false,
    "pycharm": {
     "name": "#%%\n"
    }
   }
  },
  {
   "cell_type": "code",
   "execution_count": 301,
   "outputs": [
    {
     "name": "stdout",
     "output_type": "stream",
     "text": [
      "want\n"
     ]
    }
   ],
   "source": [
    "doc = nlp(\"Apple does want to buy U.K. startup for $1 billion\")\n",
    "\n",
    "neg_root = None\n",
    "for token in doc:\n",
    "    if token.dep_ == 'ROOT':\n",
    "        cur_root = token.lemma_\n",
    "    if token.dep_ == 'neg' and token.head.dep_ == 'ROOT':\n",
    "        neg_root = token.lemma_ + \" \" + token.head.lemma_\n",
    "        print(neg_root)\n",
    "    if neg_root:\n",
    "        cur_root = neg_root\n",
    "print(cur_root)"
   ],
   "metadata": {
    "collapsed": false,
    "pycharm": {
     "name": "#%%\n"
    }
   }
  },
  {
   "cell_type": "code",
   "execution_count": 444,
   "outputs": [],
   "source": [
    "n = gpt_pred.shape[0]\n",
    "expls = [nlp(gpt_pred.pred_explanation.iloc[i]) for i in range(n)]\n",
    "sent1s = [nlp(gpt_pred.Sentence1.iloc[i]) for i in range(n)]\n",
    "sent2s = [nlp(gpt_pred.Sentence2.iloc[i]) for i in range(n)]\n",
    "input_sentence_root = [[sent1s[j][i].lemma_ for i in range(len(sent1s[j])) if sent1s[j][i].dep_==\"ROOT\"] + [sent2s[j][i].lemma_ for i in range(len(sent2s[j])) if sent2s[j][i].dep_==\"ROOT\"] for j in range(n)]\n",
    "input_sentence_subj = [[sent1s[j][i].lemma_ for i in range(len(sent1s[j])) if sent1s[j][i].dep_==\"ROOT\"] + [sent2s[j][i].lemma_ for i in range(len(sent2s[j])) if sent2s[j][i].dep_==\"ROOT\"] for j in range(n)]"
   ],
   "metadata": {
    "collapsed": false,
    "pycharm": {
     "name": "#%%\n"
    }
   }
  },
  {
   "cell_type": "code",
   "execution_count": 446,
   "outputs": [
    {
     "data": {
      "text/plain": "['walk', 'walk']"
     },
     "execution_count": 446,
     "metadata": {},
     "output_type": "execute_result"
    }
   ],
   "source": [
    "input_sentence_root[0]"
   ],
   "metadata": {
    "collapsed": false,
    "pycharm": {
     "name": "#%%\n"
    }
   }
  },
  {
   "cell_type": "code",
   "execution_count": 447,
   "outputs": [],
   "source": [
    "verbs_sentence = list()\n",
    "\n",
    "cur_index = 0\n",
    "verb_dict = dict()\n",
    "root_term_dict = dict()\n",
    "\n",
    "# loop through each row in the test data\n",
    "for expl, input_sent in zip(expls, input_sentence_root):\n",
    "    cur_verbs = list()\n",
    "    neg_root = None\n",
    "    contains_different = False\n",
    "    root_in_input_sentence_lemmata = False\n",
    "\n",
    "    # loop through each token in current explanation\n",
    "    for token in expl:\n",
    "        if token.lemma_ == 'different':\n",
    "            contains_different = True\n",
    "        if token.dep_ == 'ROOT':\n",
    "            cur_root = token.lemma_\n",
    "            if cur_root in input_sent:\n",
    "                root_in_input_sentence_lemmata = True\n",
    "        if token.dep_ == 'neg' and token.head.dep_ == 'ROOT':\n",
    "            neg_root = token.lemma_ + \" \" + token.head.lemma_\n",
    "        if token.pos_ == 'VERB' and token.lemma_ not in input_sent:\n",
    "            cur_verbs += [token.lemma_,]\n",
    "            if token.lemma_ not in verb_dict.keys():\n",
    "                verb_dict[token.lemma_] = [cur_index]\n",
    "            else:\n",
    "                verb_dict[token.lemma_] += [cur_index]\n",
    "        if token.dep_ == 'ROOT':\n",
    "            cur_root = token.lemma_\n",
    "    if neg_root:\n",
    "        cur_root = neg_root\n",
    "    if contains_different:\n",
    "        cur_root += \" different\"\n",
    "    if root_in_input_sentence_lemmata:\n",
    "        cur_root = \"root is in input sentence\"\n",
    "    if cur_root not in root_term_dict.keys():\n",
    "        root_term_dict[cur_root] = [cur_index]\n",
    "    else:\n",
    "        root_term_dict[cur_root] += [cur_index]\n",
    "    verbs_sentence += [cur_verbs, ]\n",
    "    cur_index += 1\n",
    "verbs_sentence = pd.Series(verbs_sentence)\n",
    "verbs = pd.Series([i for b in map(lambda x:[x] if not isinstance(x, list) else x, verbs_sentence.values) for i in b])"
   ],
   "metadata": {
    "collapsed": false,
    "pycharm": {
     "name": "#%%\n"
    }
   }
  },
  {
   "cell_type": "code",
   "execution_count": 448,
   "outputs": [
    {
     "data": {
      "text/plain": "be                           [0, 4, 11, 27, 45, 47, 53, 65, 83, 84, 86, 88,...\nsmile                                                                 [1, 188]\nrepeat                                                                     [2]\nroot is in input sentence    [3, 14, 16, 25, 39, 40, 42, 51, 56, 61, 62, 63...\nrefer                                             [5, 472, 476, 667, 869, 966]\n                                                   ...                        \nsell                                                                     [883]\nnot assume                                                               [894]\nnot mean different                                                       [972]\nrestate                                                                  [973]\ncause                                                                    [994]\nLength: 97, dtype: object"
     },
     "execution_count": 448,
     "metadata": {},
     "output_type": "execute_result"
    }
   ],
   "source": [
    "pd.Series(root_term_dict)"
   ],
   "metadata": {
    "collapsed": false,
    "pycharm": {
     "name": "#%%\n"
    }
   }
  },
  {
   "cell_type": "code",
   "execution_count": 449,
   "outputs": [
    {
     "data": {
      "text/plain": "                                             Sentence1  \\\n3    A man wielding an electric razor is gleefully ...   \n14   A woman in a striped shirt is walking a horse ...   \n16   The basketball player in red is challenging th...   \n25   Two people are playing wiffle ball in a suburb...   \n39              a man giving two thumbs up to a crowd.   \n..                                                 ...   \n974  A man wearing a snorkel and goggles gives a th...   \n975  Two mountaineers are walking across a snowcapp...   \n985           Two small children walk away in a field.   \n992  A woman examines a poster mounted on the wall ...   \n995        Three men are standing on stage performing.   \n\n                                             Sentence2  \\\n3                    There is only one person present.   \n14   A woman in a striped shirt is running with a d...   \n16   A basketball player in red is trying to grab t...   \n25                     Two men are playing basketball.   \n39                               The crowd watches him   \n..                                                 ...   \n974                            Two guys are on a lake.   \n975             Two mountaineers sitting at the beach.   \n985  Two small children are sitting down, eating ic...   \n992         There is a woman under fluorescent lights.   \n995          Women are playing trumpets on the street.   \n\n                                      pred_explanation  \n3       There are two people present in the statement.  \n14   The woman cannot be walking a horse and runnin...  \n16   The basketball player in red is challenging th...  \n25   The two people are playing wiffle ball, which ...  \n39   For the man to give two thumbs up to the crowd...  \n..                                                 ...  \n974  A lake is a body of water and snorkeling requi...  \n975  Mountaineers cannot be walking across a snowca...  \n985  The two children are walking away in one state...  \n992  If a woman is examining a poster mounted on th...  \n995  The men are standing on stage performing, whil...  \n\n[182 rows x 3 columns]",
      "text/html": "<div>\n<style scoped>\n    .dataframe tbody tr th:only-of-type {\n        vertical-align: middle;\n    }\n\n    .dataframe tbody tr th {\n        vertical-align: top;\n    }\n\n    .dataframe thead th {\n        text-align: right;\n    }\n</style>\n<table border=\"1\" class=\"dataframe\">\n  <thead>\n    <tr style=\"text-align: right;\">\n      <th></th>\n      <th>Sentence1</th>\n      <th>Sentence2</th>\n      <th>pred_explanation</th>\n    </tr>\n  </thead>\n  <tbody>\n    <tr>\n      <th>3</th>\n      <td>A man wielding an electric razor is gleefully ...</td>\n      <td>There is only one person present.</td>\n      <td>There are two people present in the statement.</td>\n    </tr>\n    <tr>\n      <th>14</th>\n      <td>A woman in a striped shirt is walking a horse ...</td>\n      <td>A woman in a striped shirt is running with a d...</td>\n      <td>The woman cannot be walking a horse and runnin...</td>\n    </tr>\n    <tr>\n      <th>16</th>\n      <td>The basketball player in red is challenging th...</td>\n      <td>A basketball player in red is trying to grab t...</td>\n      <td>The basketball player in red is challenging th...</td>\n    </tr>\n    <tr>\n      <th>25</th>\n      <td>Two people are playing wiffle ball in a suburb...</td>\n      <td>Two men are playing basketball.</td>\n      <td>The two people are playing wiffle ball, which ...</td>\n    </tr>\n    <tr>\n      <th>39</th>\n      <td>a man giving two thumbs up to a crowd.</td>\n      <td>The crowd watches him</td>\n      <td>For the man to give two thumbs up to the crowd...</td>\n    </tr>\n    <tr>\n      <th>...</th>\n      <td>...</td>\n      <td>...</td>\n      <td>...</td>\n    </tr>\n    <tr>\n      <th>974</th>\n      <td>A man wearing a snorkel and goggles gives a th...</td>\n      <td>Two guys are on a lake.</td>\n      <td>A lake is a body of water and snorkeling requi...</td>\n    </tr>\n    <tr>\n      <th>975</th>\n      <td>Two mountaineers are walking across a snowcapp...</td>\n      <td>Two mountaineers sitting at the beach.</td>\n      <td>Mountaineers cannot be walking across a snowca...</td>\n    </tr>\n    <tr>\n      <th>985</th>\n      <td>Two small children walk away in a field.</td>\n      <td>Two small children are sitting down, eating ic...</td>\n      <td>The two children are walking away in one state...</td>\n    </tr>\n    <tr>\n      <th>992</th>\n      <td>A woman examines a poster mounted on the wall ...</td>\n      <td>There is a woman under fluorescent lights.</td>\n      <td>If a woman is examining a poster mounted on th...</td>\n    </tr>\n    <tr>\n      <th>995</th>\n      <td>Three men are standing on stage performing.</td>\n      <td>Women are playing trumpets on the street.</td>\n      <td>The men are standing on stage performing, whil...</td>\n    </tr>\n  </tbody>\n</table>\n<p>182 rows × 3 columns</p>\n</div>"
     },
     "execution_count": 449,
     "metadata": {},
     "output_type": "execute_result"
    }
   ],
   "source": [
    "gpt_pred[[\"Sentence1\", \"Sentence2\", \"pred_explanation\"]].iloc[root_term_dict['root is in input sentence']]"
   ],
   "metadata": {
    "collapsed": false,
    "pycharm": {
     "name": "#%%\n"
    }
   }
  },
  {
   "cell_type": "code",
   "execution_count": 419,
   "outputs": [
    {
     "data": {
      "text/plain": "     Unnamed: 0               pairID     gold_label  \\\n26           26  4824252063.jpg#1r1e     entailment   \n79           79  2324374253.jpg#4r1c  contradiction   \n133         133  4429727181.jpg#0r1e     entailment   \n154         154  5745422329.jpg#2r1c  contradiction   \n204         204  4081678254.jpg#0r1c  contradiction   \n282         282  3773298212.jpg#0r1c  contradiction   \n335         335  4705913066.jpg#4r1c  contradiction   \n489         489  3143978284.jpg#0r1e     entailment   \n501         501  3560726559.jpg#2r1n        neutral   \n608         608  2391442557.jpg#0r1e     entailment   \n635         635  3000428313.jpg#4r1n     entailment   \n651         651  2218519240.jpg#2r1c  contradiction   \n664         664     4906946.jpg#1r1e     entailment   \n696         696  4923472130.jpg#2r1c  contradiction   \n715         715  6491219799.jpg#3r1c  contradiction   \n818         818  5371247136.jpg#0r1c  contradiction   \n870         870  2306799249.jpg#0r1c  contradiction   \n\n                                             Sentence1  \\\n26   A man with a latex glove and black t-shit is s...   \n79                          Two kids in their pajamas.   \n133  A young male wearing a blue hat turned backwar...   \n154  One man wearing a pink and blue striped shirt,...   \n204  A man wearing dark jeans, an orange shirt, and...   \n282  A man dressed in a brown shirt and tan shorts ...   \n335        A man in a suit speaking to a seated woman.   \n489  Two older women with a baby that has a pacifie...   \n501  A young boy wearing a suit and top hat is hold...   \n608  Woman wearing dark brown leather jacket, sungl...   \n635                    Two kids in blue wetsuits surf.   \n651  A man is wearing protective hair and face cove...   \n664  Two roadside workers with lime green safety ja...   \n696  A person in a red shirt and black pants hunche...   \n715  Performer who is wearing 2 hats a scary mask a...   \n818  A woman in a bright pink jacket and jeans, wit...   \n870  A young man standing on one foot in colorful b...   \n\n                                             Sentence2  \\\n26                    a man standing in front of a van   \n79   Two children are wearing bright bathing suits ...   \n133                            A man is wearing a hat.   \n154                              Nobody has a shirt on   \n204                    The woman is wearing a red top.   \n282                      The man is wearing tan pants.   \n335        A man in a costume speaking to another man.   \n489                          A baby is wearing orange.   \n501                              they are at a wedding   \n608     A nicely dressed woman is sitting in the park.   \n635                    Two children surf in the ocean.   \n651            A woman is sitting outside in the rain.   \n664            Two men are wearing lime green jackets.   \n696               The person is wearing a green shirt.   \n715                            The performer is naked.   \n818                 A woman has a bright white jacket.   \n870   A young man is standing on both feet barefooted.   \n\n                                         Explanation_1  \\\n26   A man standing in front of a Chevy van is in f...   \n79                       bathing suits are not pajamas   \n133  Young male is a man, and blue hat is a type of...   \n154  The man can't have a shirt while not wearing a...   \n204  A woman wearing a red top cannot transform int...   \n282           Shorts and pants are not the same thing.   \n335  If he is in a suit talking to a woman, he is n...   \n489  The baby wears an orange and brown dress, so i...   \n501  Wearing a suit does not imply one is at a wedd...   \n608  Nicely dressed woman is a rephrasing of woman ...   \n635          Two children is a rephrasing of two kids.   \n651             Either the person is a man or a woman.   \n664  The roadside workers are men and are wearing l...   \n696  It is either a red shirt or a green shirt, can...   \n715                 Naked can not be wearing anything.   \n818      Pink jacket is different than a white jacket.   \n870  The young man can't stand on one foot and both...   \n\n                                    Sentence1_marked_1  \\\n26    A man with a latex glove and black t-shit is ...   \n79                        Two kids in their *pajamas.*   \n133   A *young* *male* wearing a *blue* *hat* turne...   \n154   One man *wearing* a pink and blue striped *sh...   \n204   A *man* wearing dark jeans, an *orange* *shir...   \n282  A man dressed in a brown shirt and tan *shorts...   \n335    A man in a *suit* speaking to a seated *woman.*   \n489   Two older women with a baby that has a pacifi...   \n501  A young boy wearing a suit and top hat is hold...   \n608   *Woman* *wearing* *dark* *brown* *leather* *j...   \n635                *Two* *kids* in blue wetsuits surf.   \n651  A *man* is wearing protective hair and face co...   \n664   Two roadside workers with lime *green* safety...   \n696  A person in a *red* *shirt* and black pants hu...   \n715  Performer who is wearing 2 hats a scary mask a...   \n818   A woman in a bright *pink* jacket and jeans, ...   \n870  A young man standing on *one* *foot* in colorf...   \n\n                                    Sentence2_marked_1  \\\n26                a man *standing* in front of a *van*   \n79   Two children are wearing bright *bathing* *sui...   \n133                        A *man* is wearing a *hat.*   \n154                            *Nobody* has a shirt on   \n204              The *woman* is wearing a *red* *top.*   \n282                    The man is wearing tan *pants.*   \n335    A man in a *costume* speaking to another *man.*   \n489                      A baby is *wearing* *orange.*   \n501                            they are at a *wedding*   \n608   A *nicely* *dressed* *woman* is sitting in th...   \n635                *Two* *children* surf in the ocean.   \n651          A *woman* is sitting outside in the rain.   \n664      Two men are wearing *lime* *green* *jackets.*   \n696           The person is wearing a *green* *shirt.*   \n715                          The performer is *naked.*   \n818               A woman has a bright *white* jacket.   \n870  A young man is standing *on* *both* *feet* bar...   \n\n    Sentence1_Highlighted_1 Sentence2_Highlighted_1  ...  \\\n26                 16,15,10                     7,2  ...   \n79                        4                     6,5  ...   \n133                 1,2,5,6                     1,5  ...   \n154                     2,8                       0  ...   \n204                   1,6,7                   1,5,6  ...   \n282                       9                       5  ...   \n335                     4,9                     4,8  ...   \n489       15,16,17,20,19,18                     3,4  ...   \n501                      {}                       4  ...   \n608             0,1,2,3,4,5                   1,2,3  ...   \n635                     1,0                     1,0  ...   \n651                       1                       1  ...   \n664                       5                   4,5,6  ...   \n696                     4,5                     5,6  ...   \n715                      14                       3  ...   \n818                       5                       5  ...   \n870                     5,6                   5,6,7  ...   \n\n    Sentence1_Highlighted_2 Sentence2_Highlighted_2  \\\n26          1,2,3,4,5,15,16                     1,7   \n79                        4                     5,6   \n133                       2                       1   \n154       0,1,2,3,4,5,6,7,8               0,1,2,3,4   \n204                   6,7,1                   5,6,1   \n282                       9                       5   \n335                   9,5,1                   5,8,1   \n489             14,15,17,20                   1,4,3   \n501                      {}               0,1,2,3,4   \n608         4,5,6,8,9,11,12                     1,2   \n635                       1                       1   \n651                       1                       1   \n664                     1,2                       1   \n696                       4                       5   \n715                       3                       3   \n818                     6,5                     5,6   \n870                5,6,9,10                   6,7,8   \n\n                                         Explanation_3  \\\n26            A Chevy van is a specific type of a van.   \n79   children can't be wearing bathing suites if th...   \n133  A young man wearing a blue hat turned backward...   \n154  Nobody refers to not a single person, and one ...   \n204    The woman can't have on a red top and blue top.   \n282                           Shorts can not be pants.   \n335                   A MAN AND A WOMAN CANNOT BE SAME   \n489  Someone in an orange dress would be wearing or...   \n501  Just because a young boy is wearing a suit and...   \n608  it is likely that if the woman is sitting on a...   \n635                               Two kids are surfing   \n651  A man and a woman are not the same thing.  Wea...   \n664  Two roadside workers are men, and lime green s...   \n696       A red shirt is different from a green shirt.   \n715  If the performer is naked, he is not wearing h...   \n818  A woman cannot be wearing a bright pink jacket...   \n870  The man cannot be on one foot if he is standin...   \n\n                                    Sentence1_marked_3  \\\n26    A man with a latex glove and black t-shit is ...   \n79                    Two *kids* *in* their *pajamas.*   \n133   A young *male* *wearing* a blue *hat* turned ...   \n154   *One* *man* wearing a pink and blue striped s...   \n204   A man wearing dark jeans, an orange shirt, an...   \n282  A man dressed in a brown shirt and tan *shorts...   \n335      A man in a suit speaking to a seated *woman.*   \n489   Two older women with a baby that has a pacifi...   \n501  A young boy wearing a suit and top hat is hold...   \n608   Woman wearing dark brown leather jacket, sung...   \n635              *Two* *kids* in blue wetsuits *surf.*   \n651  A *man* is *wearing* *protective* *hair* *and*...   \n664   Two roadside workers with *lime* *green* *saf...   \n696  A person in a *red* *shirt* and black pants hu...   \n715  Performer who is wearing 2 *hats* a scary *mas...   \n818   A woman in a *bright* *pink* *jacket* and jea...   \n870  A young man standing on *one* *foot* in *color...   \n\n                                    Sentence2_marked_3  \\\n26                  a man standing in front of a *van*   \n79   Two *children* are wearing bright *bathing* *s...   \n133                      A *man* is *wearing* a *hat.*   \n154                            *Nobody* has a shirt on   \n204              The *woman* is wearing a *red* *top.*   \n282                    The man is wearing tan *pants.*   \n335      A man in a costume speaking to another *man.*   \n489                      A baby is *wearing* *orange.*   \n501                            they are at a *wedding*   \n608   A nicely dressed woman is *sitting* *in* *the...   \n635                Two children *surf* in the *ocean.*   \n651  A *woman* is *sitting* *outside* *in* *the* *r...   \n664      Two men are wearing *lime* *green* *jackets.*   \n696           The person is wearing a *green* *shirt.*   \n715                          The performer is *naked.*   \n818           A woman has a *bright* *white* *jacket.*   \n870  A young man is *standing* *on* *both* *feet* *...   \n\n    Sentence1_Highlighted_3 Sentence2_Highlighted_3  \\\n26                    15,16                       7   \n79                    4,2,1                   5,6,1   \n133                   3,6,2                   3,5,1   \n154                     1,0                       0   \n204                23,27,26                   1,5,6   \n282                       9                       5   \n335                       9                       8   \n489                14,17,20                     3,4   \n501                      {}                       4   \n608                13,19,20                 5,6,7,8   \n635                   0,1,5                     5,2   \n651           1,3,4,5,6,7,8             1,3,4,5,6,7   \n664                 4,5,6,7                   4,5,6   \n696                     4,5                     5,6   \n715                  5,8,14                       3   \n818                   4,5,6                   4,5,6   \n870              5,6,8,9,10               4,5,6,7,8   \n\n                                                prompt  \\\n26   Statement: A soccer team dressed in blue has c...   \n79   Statement: A man sitting in between two roads ...   \n133  Statement: A woman in a black shirt and jeans,...   \n154  Statement: A boy jumping off a yellow spring b...   \n204  Statement: Men looking under the hood of a dra...   \n282  Statement: Two girls going down a water slide....   \n335  Statement: Surfer in wetsuit riding a wave.\\nS...   \n489  Statement: Two boys are in martial arts poses ...   \n501  Statement: Blurry picture of mountain biker de...   \n608  Statement: People are visiting an old castle o...   \n635  Statement: Someone walks in a hallway.\\nStatem...   \n651  Statement: This is the inside of a small resta...   \n664  Statement: Man with short hair in a blue jacke...   \n696  Statement: a boy smiles by the pool.\\nStatemen...   \n715  Statement: Worker in orange jumpsuit and headl...   \n818  Statement: Bum listening to the radio by a lig...   \n870  Statement: A man in a military uniform is play...   \n\n                                      pred_explanation     pred_label  \n26   The man is wearing a latex glove and black t-s...     entailment  \n79   The two kids are wearing pajamas, which are no...  contradiction  \n133  If there is a young male wearing a blue hat, t...     entailment  \n154  The man is wearing a pink and blue striped shirt.  contradiction  \n204    The woman is wearing a blue top, not a red top.  contradiction  \n282              The man is wearing shorts, not pants.  contradiction  \n335  The man is wearing a suit and the woman is sea...  contradiction  \n489  The baby is wearing an orange and brown dress ...     entailment  \n501  Wearing a suit and a top hat is usually associ...     entailment  \n608  The woman is wearing dark brown leather jacket...     entailment  \n635  Wetsuits are typically worn while surfing in t...     entailment  \n651  The man is wearing protective gear while the w...  contradiction  \n664  If they are roadside workers with lime green s...     entailment  \n696  The person is wearing a red shirt, not a green...  contradiction  \n715  The performer is wearing clothes and cannot be...  contradiction  \n818  The woman is wearing a pink jacket, not a whit...  contradiction  \n870  The man is standing on one foot in the first s...  contradiction  \n\n[17 rows x 23 columns]",
      "text/html": "<div>\n<style scoped>\n    .dataframe tbody tr th:only-of-type {\n        vertical-align: middle;\n    }\n\n    .dataframe tbody tr th {\n        vertical-align: top;\n    }\n\n    .dataframe thead th {\n        text-align: right;\n    }\n</style>\n<table border=\"1\" class=\"dataframe\">\n  <thead>\n    <tr style=\"text-align: right;\">\n      <th></th>\n      <th>Unnamed: 0</th>\n      <th>pairID</th>\n      <th>gold_label</th>\n      <th>Sentence1</th>\n      <th>Sentence2</th>\n      <th>Explanation_1</th>\n      <th>Sentence1_marked_1</th>\n      <th>Sentence2_marked_1</th>\n      <th>Sentence1_Highlighted_1</th>\n      <th>Sentence2_Highlighted_1</th>\n      <th>...</th>\n      <th>Sentence1_Highlighted_2</th>\n      <th>Sentence2_Highlighted_2</th>\n      <th>Explanation_3</th>\n      <th>Sentence1_marked_3</th>\n      <th>Sentence2_marked_3</th>\n      <th>Sentence1_Highlighted_3</th>\n      <th>Sentence2_Highlighted_3</th>\n      <th>prompt</th>\n      <th>pred_explanation</th>\n      <th>pred_label</th>\n    </tr>\n  </thead>\n  <tbody>\n    <tr>\n      <th>26</th>\n      <td>26</td>\n      <td>4824252063.jpg#1r1e</td>\n      <td>entailment</td>\n      <td>A man with a latex glove and black t-shit is s...</td>\n      <td>a man standing in front of a van</td>\n      <td>A man standing in front of a Chevy van is in f...</td>\n      <td>A man with a latex glove and black t-shit is ...</td>\n      <td>a man *standing* in front of a *van*</td>\n      <td>16,15,10</td>\n      <td>7,2</td>\n      <td>...</td>\n      <td>1,2,3,4,5,15,16</td>\n      <td>1,7</td>\n      <td>A Chevy van is a specific type of a van.</td>\n      <td>A man with a latex glove and black t-shit is ...</td>\n      <td>a man standing in front of a *van*</td>\n      <td>15,16</td>\n      <td>7</td>\n      <td>Statement: A soccer team dressed in blue has c...</td>\n      <td>The man is wearing a latex glove and black t-s...</td>\n      <td>entailment</td>\n    </tr>\n    <tr>\n      <th>79</th>\n      <td>79</td>\n      <td>2324374253.jpg#4r1c</td>\n      <td>contradiction</td>\n      <td>Two kids in their pajamas.</td>\n      <td>Two children are wearing bright bathing suits ...</td>\n      <td>bathing suits are not pajamas</td>\n      <td>Two kids in their *pajamas.*</td>\n      <td>Two children are wearing bright *bathing* *sui...</td>\n      <td>4</td>\n      <td>6,5</td>\n      <td>...</td>\n      <td>4</td>\n      <td>5,6</td>\n      <td>children can't be wearing bathing suites if th...</td>\n      <td>Two *kids* *in* their *pajamas.*</td>\n      <td>Two *children* are wearing bright *bathing* *s...</td>\n      <td>4,2,1</td>\n      <td>5,6,1</td>\n      <td>Statement: A man sitting in between two roads ...</td>\n      <td>The two kids are wearing pajamas, which are no...</td>\n      <td>contradiction</td>\n    </tr>\n    <tr>\n      <th>133</th>\n      <td>133</td>\n      <td>4429727181.jpg#0r1e</td>\n      <td>entailment</td>\n      <td>A young male wearing a blue hat turned backwar...</td>\n      <td>A man is wearing a hat.</td>\n      <td>Young male is a man, and blue hat is a type of...</td>\n      <td>A *young* *male* wearing a *blue* *hat* turne...</td>\n      <td>A *man* is wearing a *hat.*</td>\n      <td>1,2,5,6</td>\n      <td>1,5</td>\n      <td>...</td>\n      <td>2</td>\n      <td>1</td>\n      <td>A young man wearing a blue hat turned backward...</td>\n      <td>A young *male* *wearing* a blue *hat* turned ...</td>\n      <td>A *man* is *wearing* a *hat.*</td>\n      <td>3,6,2</td>\n      <td>3,5,1</td>\n      <td>Statement: A woman in a black shirt and jeans,...</td>\n      <td>If there is a young male wearing a blue hat, t...</td>\n      <td>entailment</td>\n    </tr>\n    <tr>\n      <th>154</th>\n      <td>154</td>\n      <td>5745422329.jpg#2r1c</td>\n      <td>contradiction</td>\n      <td>One man wearing a pink and blue striped shirt,...</td>\n      <td>Nobody has a shirt on</td>\n      <td>The man can't have a shirt while not wearing a...</td>\n      <td>One man *wearing* a pink and blue striped *sh...</td>\n      <td>*Nobody* has a shirt on</td>\n      <td>2,8</td>\n      <td>0</td>\n      <td>...</td>\n      <td>0,1,2,3,4,5,6,7,8</td>\n      <td>0,1,2,3,4</td>\n      <td>Nobody refers to not a single person, and one ...</td>\n      <td>*One* *man* wearing a pink and blue striped s...</td>\n      <td>*Nobody* has a shirt on</td>\n      <td>1,0</td>\n      <td>0</td>\n      <td>Statement: A boy jumping off a yellow spring b...</td>\n      <td>The man is wearing a pink and blue striped shirt.</td>\n      <td>contradiction</td>\n    </tr>\n    <tr>\n      <th>204</th>\n      <td>204</td>\n      <td>4081678254.jpg#0r1c</td>\n      <td>contradiction</td>\n      <td>A man wearing dark jeans, an orange shirt, and...</td>\n      <td>The woman is wearing a red top.</td>\n      <td>A woman wearing a red top cannot transform int...</td>\n      <td>A *man* wearing dark jeans, an *orange* *shir...</td>\n      <td>The *woman* is wearing a *red* *top.*</td>\n      <td>1,6,7</td>\n      <td>1,5,6</td>\n      <td>...</td>\n      <td>6,7,1</td>\n      <td>5,6,1</td>\n      <td>The woman can't have on a red top and blue top.</td>\n      <td>A man wearing dark jeans, an orange shirt, an...</td>\n      <td>The *woman* is wearing a *red* *top.*</td>\n      <td>23,27,26</td>\n      <td>1,5,6</td>\n      <td>Statement: Men looking under the hood of a dra...</td>\n      <td>The woman is wearing a blue top, not a red top.</td>\n      <td>contradiction</td>\n    </tr>\n    <tr>\n      <th>282</th>\n      <td>282</td>\n      <td>3773298212.jpg#0r1c</td>\n      <td>contradiction</td>\n      <td>A man dressed in a brown shirt and tan shorts ...</td>\n      <td>The man is wearing tan pants.</td>\n      <td>Shorts and pants are not the same thing.</td>\n      <td>A man dressed in a brown shirt and tan *shorts...</td>\n      <td>The man is wearing tan *pants.*</td>\n      <td>9</td>\n      <td>5</td>\n      <td>...</td>\n      <td>9</td>\n      <td>5</td>\n      <td>Shorts can not be pants.</td>\n      <td>A man dressed in a brown shirt and tan *shorts...</td>\n      <td>The man is wearing tan *pants.*</td>\n      <td>9</td>\n      <td>5</td>\n      <td>Statement: Two girls going down a water slide....</td>\n      <td>The man is wearing shorts, not pants.</td>\n      <td>contradiction</td>\n    </tr>\n    <tr>\n      <th>335</th>\n      <td>335</td>\n      <td>4705913066.jpg#4r1c</td>\n      <td>contradiction</td>\n      <td>A man in a suit speaking to a seated woman.</td>\n      <td>A man in a costume speaking to another man.</td>\n      <td>If he is in a suit talking to a woman, he is n...</td>\n      <td>A man in a *suit* speaking to a seated *woman.*</td>\n      <td>A man in a *costume* speaking to another *man.*</td>\n      <td>4,9</td>\n      <td>4,8</td>\n      <td>...</td>\n      <td>9,5,1</td>\n      <td>5,8,1</td>\n      <td>A MAN AND A WOMAN CANNOT BE SAME</td>\n      <td>A man in a suit speaking to a seated *woman.*</td>\n      <td>A man in a costume speaking to another *man.*</td>\n      <td>9</td>\n      <td>8</td>\n      <td>Statement: Surfer in wetsuit riding a wave.\\nS...</td>\n      <td>The man is wearing a suit and the woman is sea...</td>\n      <td>contradiction</td>\n    </tr>\n    <tr>\n      <th>489</th>\n      <td>489</td>\n      <td>3143978284.jpg#0r1e</td>\n      <td>entailment</td>\n      <td>Two older women with a baby that has a pacifie...</td>\n      <td>A baby is wearing orange.</td>\n      <td>The baby wears an orange and brown dress, so i...</td>\n      <td>Two older women with a baby that has a pacifi...</td>\n      <td>A baby is *wearing* *orange.*</td>\n      <td>15,16,17,20,19,18</td>\n      <td>3,4</td>\n      <td>...</td>\n      <td>14,15,17,20</td>\n      <td>1,4,3</td>\n      <td>Someone in an orange dress would be wearing or...</td>\n      <td>Two older women with a baby that has a pacifi...</td>\n      <td>A baby is *wearing* *orange.*</td>\n      <td>14,17,20</td>\n      <td>3,4</td>\n      <td>Statement: Two boys are in martial arts poses ...</td>\n      <td>The baby is wearing an orange and brown dress ...</td>\n      <td>entailment</td>\n    </tr>\n    <tr>\n      <th>501</th>\n      <td>501</td>\n      <td>3560726559.jpg#2r1n</td>\n      <td>neutral</td>\n      <td>A young boy wearing a suit and top hat is hold...</td>\n      <td>they are at a wedding</td>\n      <td>Wearing a suit does not imply one is at a wedd...</td>\n      <td>A young boy wearing a suit and top hat is hold...</td>\n      <td>they are at a *wedding*</td>\n      <td>{}</td>\n      <td>4</td>\n      <td>...</td>\n      <td>{}</td>\n      <td>0,1,2,3,4</td>\n      <td>Just because a young boy is wearing a suit and...</td>\n      <td>A young boy wearing a suit and top hat is hold...</td>\n      <td>they are at a *wedding*</td>\n      <td>{}</td>\n      <td>4</td>\n      <td>Statement: Blurry picture of mountain biker de...</td>\n      <td>Wearing a suit and a top hat is usually associ...</td>\n      <td>entailment</td>\n    </tr>\n    <tr>\n      <th>608</th>\n      <td>608</td>\n      <td>2391442557.jpg#0r1e</td>\n      <td>entailment</td>\n      <td>Woman wearing dark brown leather jacket, sungl...</td>\n      <td>A nicely dressed woman is sitting in the park.</td>\n      <td>Nicely dressed woman is a rephrasing of woman ...</td>\n      <td>*Woman* *wearing* *dark* *brown* *leather* *j...</td>\n      <td>A *nicely* *dressed* *woman* is sitting in th...</td>\n      <td>0,1,2,3,4,5</td>\n      <td>1,2,3</td>\n      <td>...</td>\n      <td>4,5,6,8,9,11,12</td>\n      <td>1,2</td>\n      <td>it is likely that if the woman is sitting on a...</td>\n      <td>Woman wearing dark brown leather jacket, sung...</td>\n      <td>A nicely dressed woman is *sitting* *in* *the...</td>\n      <td>13,19,20</td>\n      <td>5,6,7,8</td>\n      <td>Statement: People are visiting an old castle o...</td>\n      <td>The woman is wearing dark brown leather jacket...</td>\n      <td>entailment</td>\n    </tr>\n    <tr>\n      <th>635</th>\n      <td>635</td>\n      <td>3000428313.jpg#4r1n</td>\n      <td>entailment</td>\n      <td>Two kids in blue wetsuits surf.</td>\n      <td>Two children surf in the ocean.</td>\n      <td>Two children is a rephrasing of two kids.</td>\n      <td>*Two* *kids* in blue wetsuits surf.</td>\n      <td>*Two* *children* surf in the ocean.</td>\n      <td>1,0</td>\n      <td>1,0</td>\n      <td>...</td>\n      <td>1</td>\n      <td>1</td>\n      <td>Two kids are surfing</td>\n      <td>*Two* *kids* in blue wetsuits *surf.*</td>\n      <td>Two children *surf* in the *ocean.*</td>\n      <td>0,1,5</td>\n      <td>5,2</td>\n      <td>Statement: Someone walks in a hallway.\\nStatem...</td>\n      <td>Wetsuits are typically worn while surfing in t...</td>\n      <td>entailment</td>\n    </tr>\n    <tr>\n      <th>651</th>\n      <td>651</td>\n      <td>2218519240.jpg#2r1c</td>\n      <td>contradiction</td>\n      <td>A man is wearing protective hair and face cove...</td>\n      <td>A woman is sitting outside in the rain.</td>\n      <td>Either the person is a man or a woman.</td>\n      <td>A *man* is wearing protective hair and face co...</td>\n      <td>A *woman* is sitting outside in the rain.</td>\n      <td>1</td>\n      <td>1</td>\n      <td>...</td>\n      <td>1</td>\n      <td>1</td>\n      <td>A man and a woman are not the same thing.  Wea...</td>\n      <td>A *man* is *wearing* *protective* *hair* *and*...</td>\n      <td>A *woman* is *sitting* *outside* *in* *the* *r...</td>\n      <td>1,3,4,5,6,7,8</td>\n      <td>1,3,4,5,6,7</td>\n      <td>Statement: This is the inside of a small resta...</td>\n      <td>The man is wearing protective gear while the w...</td>\n      <td>contradiction</td>\n    </tr>\n    <tr>\n      <th>664</th>\n      <td>664</td>\n      <td>4906946.jpg#1r1e</td>\n      <td>entailment</td>\n      <td>Two roadside workers with lime green safety ja...</td>\n      <td>Two men are wearing lime green jackets.</td>\n      <td>The roadside workers are men and are wearing l...</td>\n      <td>Two roadside workers with lime *green* safety...</td>\n      <td>Two men are wearing *lime* *green* *jackets.*</td>\n      <td>5</td>\n      <td>4,5,6</td>\n      <td>...</td>\n      <td>1,2</td>\n      <td>1</td>\n      <td>Two roadside workers are men, and lime green s...</td>\n      <td>Two roadside workers with *lime* *green* *saf...</td>\n      <td>Two men are wearing *lime* *green* *jackets.*</td>\n      <td>4,5,6,7</td>\n      <td>4,5,6</td>\n      <td>Statement: Man with short hair in a blue jacke...</td>\n      <td>If they are roadside workers with lime green s...</td>\n      <td>entailment</td>\n    </tr>\n    <tr>\n      <th>696</th>\n      <td>696</td>\n      <td>4923472130.jpg#2r1c</td>\n      <td>contradiction</td>\n      <td>A person in a red shirt and black pants hunche...</td>\n      <td>The person is wearing a green shirt.</td>\n      <td>It is either a red shirt or a green shirt, can...</td>\n      <td>A person in a *red* *shirt* and black pants hu...</td>\n      <td>The person is wearing a *green* *shirt.*</td>\n      <td>4,5</td>\n      <td>5,6</td>\n      <td>...</td>\n      <td>4</td>\n      <td>5</td>\n      <td>A red shirt is different from a green shirt.</td>\n      <td>A person in a *red* *shirt* and black pants hu...</td>\n      <td>The person is wearing a *green* *shirt.*</td>\n      <td>4,5</td>\n      <td>5,6</td>\n      <td>Statement: a boy smiles by the pool.\\nStatemen...</td>\n      <td>The person is wearing a red shirt, not a green...</td>\n      <td>contradiction</td>\n    </tr>\n    <tr>\n      <th>715</th>\n      <td>715</td>\n      <td>6491219799.jpg#3r1c</td>\n      <td>contradiction</td>\n      <td>Performer who is wearing 2 hats a scary mask a...</td>\n      <td>The performer is naked.</td>\n      <td>Naked can not be wearing anything.</td>\n      <td>Performer who is wearing 2 hats a scary mask a...</td>\n      <td>The performer is *naked.*</td>\n      <td>14</td>\n      <td>3</td>\n      <td>...</td>\n      <td>3</td>\n      <td>3</td>\n      <td>If the performer is naked, he is not wearing h...</td>\n      <td>Performer who is wearing 2 *hats* a scary *mas...</td>\n      <td>The performer is *naked.*</td>\n      <td>5,8,14</td>\n      <td>3</td>\n      <td>Statement: Worker in orange jumpsuit and headl...</td>\n      <td>The performer is wearing clothes and cannot be...</td>\n      <td>contradiction</td>\n    </tr>\n    <tr>\n      <th>818</th>\n      <td>818</td>\n      <td>5371247136.jpg#0r1c</td>\n      <td>contradiction</td>\n      <td>A woman in a bright pink jacket and jeans, wit...</td>\n      <td>A woman has a bright white jacket.</td>\n      <td>Pink jacket is different than a white jacket.</td>\n      <td>A woman in a bright *pink* jacket and jeans, ...</td>\n      <td>A woman has a bright *white* jacket.</td>\n      <td>5</td>\n      <td>5</td>\n      <td>...</td>\n      <td>6,5</td>\n      <td>5,6</td>\n      <td>A woman cannot be wearing a bright pink jacket...</td>\n      <td>A woman in a *bright* *pink* *jacket* and jea...</td>\n      <td>A woman has a *bright* *white* *jacket.*</td>\n      <td>4,5,6</td>\n      <td>4,5,6</td>\n      <td>Statement: Bum listening to the radio by a lig...</td>\n      <td>The woman is wearing a pink jacket, not a whit...</td>\n      <td>contradiction</td>\n    </tr>\n    <tr>\n      <th>870</th>\n      <td>870</td>\n      <td>2306799249.jpg#0r1c</td>\n      <td>contradiction</td>\n      <td>A young man standing on one foot in colorful b...</td>\n      <td>A young man is standing on both feet barefooted.</td>\n      <td>The young man can't stand on one foot and both...</td>\n      <td>A young man standing on *one* *foot* in colorf...</td>\n      <td>A young man is standing *on* *both* *feet* bar...</td>\n      <td>5,6</td>\n      <td>5,6,7</td>\n      <td>...</td>\n      <td>5,6,9,10</td>\n      <td>6,7,8</td>\n      <td>The man cannot be on one foot if he is standin...</td>\n      <td>A young man standing on *one* *foot* in *color...</td>\n      <td>A young man is *standing* *on* *both* *feet* *...</td>\n      <td>5,6,8,9,10</td>\n      <td>4,5,6,7,8</td>\n      <td>Statement: A man in a military uniform is play...</td>\n      <td>The man is standing on one foot in the first s...</td>\n      <td>contradiction</td>\n    </tr>\n  </tbody>\n</table>\n<p>17 rows × 23 columns</p>\n</div>"
     },
     "execution_count": 419,
     "metadata": {},
     "output_type": "execute_result"
    }
   ],
   "source": [
    "gpt_pred.iloc[root_term_dict['wear']]"
   ],
   "metadata": {
    "collapsed": false,
    "pycharm": {
     "name": "#%%\n"
    }
   }
  },
  {
   "cell_type": "code",
   "execution_count": 344,
   "outputs": [
    {
     "data": {
      "text/plain": "0                The man is young and the hat is orange.\n3         There are two people present in the statement.\n4      Staring at a wall filled with drawings is a fo...\n11     Cooking on a grill is a rewording of having a ...\n27     Watching a golf putt on the set of Sports Cent...\n                             ...                        \n982    Hanging on to the bottom of an airplane and dr...\n983    \"Playing catch\" is an activity that children c...\n986    Tom and Sue are two people, and they are playi...\n992    If a woman is examining a poster mounted on th...\n997    The statement does not give any indication tha...\nName: pred_explanation, Length: 241, dtype: object"
     },
     "execution_count": 344,
     "metadata": {},
     "output_type": "execute_result"
    }
   ],
   "source": [
    "gpt_pred.pred_explanation.iloc[root_term_dict['be']]"
   ],
   "metadata": {
    "collapsed": false,
    "pycharm": {
     "name": "#%%\n"
    }
   }
  },
  {
   "cell_type": "code",
   "execution_count": 356,
   "outputs": [],
   "source": [
    "root_words = list()\n",
    "n = gpt_pred.shape[0]\n",
    "cur_index = 0\n",
    "root_term_dict = dict()\n",
    "expls = [nlp(gpt_pred.pred_explanation.iloc[i]) for i in range(n)]\n",
    "for expl in expls:\n",
    "    for token in expl:\n",
    "        if token.lemma_ == 'different':\n",
    "            root_words += [token.head.text]\n",
    "            if token.head.lemma_ not in root_term_dict.keys():\n",
    "                root_term_dict[token.head.lemma_] = [cur_index]\n",
    "            else:\n",
    "                root_term_dict[token.head.lemma_] += [cur_index]\n",
    "    cur_index += 1\n",
    "verbs_sentence = pd.Series(root_words)"
   ],
   "metadata": {
    "collapsed": false,
    "pycharm": {
     "name": "#%%\n"
    }
   }
  },
  {
   "cell_type": "code",
   "execution_count": 373,
   "outputs": [
    {
     "name": "stdout",
     "output_type": "stream",
     "text": [
      "=========================\n",
      "action\n",
      "0.9166666666666666\n",
      "=========================\n",
      "age\n",
      "0\n",
      "=========================\n",
      "be\n",
      "0.7692307692307693\n",
      "=========================\n",
      "activity\n",
      "0.88\n",
      "=========================\n",
      "scene\n",
      "1.0\n",
      "=========================\n",
      "setting\n",
      "0\n",
      "=========================\n",
      "thing\n",
      "1.0\n",
      "=========================\n",
      "scenario\n",
      "1.0\n",
      "=========================\n",
      "game\n",
      "1.0\n",
      "=========================\n",
      "location\n",
      "1.0\n",
      "=========================\n",
      "sport\n",
      "1.0\n",
      "=========================\n",
      "term\n",
      "0\n",
      "=========================\n",
      "people\n",
      "1.0\n",
      "=========================\n",
      "description\n",
      "1.0\n",
      "=========================\n",
      "shot\n",
      "1.0\n",
      "=========================\n",
      "word\n",
      "0\n",
      "=========================\n",
      "item\n",
      "1.0\n",
      "=========================\n",
      "background\n",
      "1.0\n",
      "=========================\n",
      "time\n",
      "1.0\n",
      "=========================\n",
      "environment\n",
      "0.3333333333333333\n",
      "=========================\n",
      "same\n",
      "0\n",
      "=========================\n",
      "situation\n",
      "1.0\n",
      "=========================\n",
      "place\n",
      "1.0\n",
      "=========================\n",
      "type\n",
      "1.0\n",
      "=========================\n",
      "equipment\n",
      "1.0\n",
      "=========================\n",
      "clothing\n",
      "1.0\n",
      "=========================\n",
      "animal\n",
      "1.0\n",
      "=========================\n",
      "country\n",
      "0\n",
      "=========================\n",
      "emotion\n",
      "1.0\n",
      "=========================\n",
      "instrument\n",
      "1.0\n",
      "=========================\n",
      "dog\n",
      "1.0\n",
      "=========================\n",
      "mode\n",
      "1.0\n",
      "=========================\n",
      "technique\n",
      "1.0\n"
     ]
    }
   ],
   "source": [
    "for k, v in zip(root_term_dict.keys(), root_term_dict.values()):\n",
    "    print('=========================')\n",
    "    print(k)\n",
    "    try:\n",
    "        print(gpt_pred.gold_label.iloc[v].value_counts()['contradiction'] / gpt_pred.gold_label.iloc[v].value_counts().sum())\n",
    "    except:\n",
    "        print(0)"
   ],
   "metadata": {
    "collapsed": false,
    "pycharm": {
     "name": "#%%\n"
    }
   }
  },
  {
   "cell_type": "code",
   "execution_count": 375,
   "outputs": [
    {
     "data": {
      "text/plain": "     Unnamed: 0               pairID     gold_label  \\\n8             8  4547257158.jpg#2r1c  contradiction   \n58           58  4604977910.jpg#1r1c  contradiction   \n153         153  3519155763.jpg#3r1c  contradiction   \n216         216  3025315215.jpg#0r1c  contradiction   \n219         219  3246016210.jpg#4r1c  contradiction   \n364         364  7249180494.jpg#0r1c  contradiction   \n385         385  3836884647.jpg#3r1c  contradiction   \n551         551  3591462960.jpg#2r1e     entailment   \n587         587  1384292980.jpg#1r1c  contradiction   \n657         657  4793317845.jpg#3r1c  contradiction   \n788         788  3736786640.jpg#1r1c  contradiction   \n918         918     8378599.jpg#1r1c  contradiction   \n\n                                             Sentence1  \\\n8    Four women carrying shoulder bags are walking ...   \n58   A woman standing in front of a large tank at a...   \n153  A dog opens its mouth to catch a blue and yell...   \n216  a brown dog coming out of an orange and yellow...   \n219         One man cutting through ice on a cold day.   \n364  A professional swimmer spits water out after s...   \n385                A man walks by a building at night.   \n551  The man in black is flying off the full in fro...   \n587                    The girls walk down the street.   \n657  A man spraying water onto a former piece of ar...   \n788  Two kids in black trunks bouncing on a wet tra...   \n918  A boy in a blue jacket rides a skateboard down...   \n\n                                             Sentence2  \\\n8    Four women are running away from a man in the ...   \n58                          A woman is tying her shoes   \n153                       The pet is chewing on a bone   \n216  A brown dog dancing out of a orange and yellow...   \n219               The man is running around his house.   \n364       The swimmer is eating a toasted marshmallow.   \n385                       A man is sitting in the sun.   \n551                      The man is next to the fence.   \n587                      Girls set down in the street.   \n657                      A man throws rocks at a wall.   \n788   Two kids are building a trampoline from scratch.   \n918  A blue jacketed boy is standing in football fi...   \n\n                                         Explanation_1  \\\n8         Running and walking are two different gaits.   \n58   The woman can't be tying her shoes while stand...   \n153                     Bones are not blue and yellow.   \n216  The dog cannot be both coming and dancing out ...   \n219  one can not be cutting through ice and be runn...   \n364  The swimmer is either swimming or eating a mar...   \n385  The man cannot simultaneously be sitting and walk   \n551  In front of a red fence implies next to the fe...   \n587  The girls either walk down the street or set d...   \n657  The man is either spraying water or throws a r...   \n788  They cannot be bouncing on a trampoline that t...   \n918          The boy can either be riding or standing.   \n\n                                    Sentence1_marked_1  \\\n8    Four women carrying shoulder bags are *walking...   \n58   A woman *standing* in front of a large tank at...   \n153  A dog opens its mouth to catch a *blue* *and* ...   \n216  a brown *dog* *coming* out of an orange and ye...   \n219   One man *cutting* *through* *ice* on a cold day.   \n364  A professional swimmer spits water out after *...   \n385              A man *walks* by a building at night.   \n551   The man in black is flying off the full *in* ...   \n587                The girls *walk* *down* the street.   \n657  A man *spraying* *water* onto a former piece o...   \n788  Two kids in black trunks *bouncing* *on* a wet...   \n918  A boy in a blue jacket *rides* a skateboard do...   \n\n                                    Sentence2_marked_1  \\\n8    Four women are *running* away from a man in th...   \n58                        A woman is *tying* her shoes   \n153                     The pet is chewing on a *bone*   \n216  A brown *dog* *dancing* out of a orange and ye...   \n219           The man is *running* around his *house.*   \n364     The swimmer is *eating* a toasted marshmallow.   \n385                     A man is *sitting* in the sun.   \n551              The man is *next* *to* *the* *fence.*   \n587                Girls *set* *down* in the *street.*   \n657                  A man *throws* *rocks* at a wall.   \n788  Two kids are *building* a trampoline from scra...   \n918  A blue jacketed boy is *standing* in football ...   \n\n    Sentence1_Highlighted_1 Sentence2_Highlighted_1  ...  \\\n8                         6                       3  ...   \n58                        2                       3  ...   \n153               10,11,9,8                       6  ...   \n216                     3,2                     3,2  ...   \n219                   2,3,4                     3,6  ...   \n364                       7                       3  ...   \n385                       2                       3  ...   \n551        9,10,11,12,13,14                 3,4,5,6  ...   \n587                     2,3                   1,2,5  ...   \n657                     2,3                     2,3  ...   \n788                     5,6                       3  ...   \n918                       6                       5  ...   \n\n    Sentence1_Highlighted_2 Sentence2_Highlighted_2  \\\n8                         6                       3   \n58                    12,13                   3,4,5   \n153                 11,8,10                       6   \n216                       3                       3   \n219                   2,3,4                 3,4,5,6   \n364                       3                       3   \n385                     2,7                     3,6   \n551           10,9,14,12,11                 3,4,5,6   \n587                       2                       1   \n657         2,3,4,5,6,7,8,9               2,3,4,5,6   \n788                       5                       3   \n918                     8,6                   5,7,8   \n\n                                         Explanation_3  \\\n8                                  walking not running   \n58   She cannot be tying her shoes while she turns ...   \n153  A pet is not necessarily a dog.  The pet is ei...   \n216  A dog dancing out could not have been coming out.   \n219  Cutting through ice isnt running around the ho...   \n364  If one spits water, they can not be eating a t...   \n385  A MAN EITHER WALKS OR HE WILL BE SITTING IN TH...   \n551  If he is in front of a fence he is next to the...   \n587  The girls cannot walk and set down at the same...   \n657  A man can't be spraying water and throws rocks...   \n788  If the kids are bouncing on a trampoline, they...   \n918  You cannot ride a skateboard and be standing i...   \n\n                                    Sentence1_marked_3  \\\n8    Four women carrying shoulder bags are *walking...   \n58   A woman standing in front of a large tank at a...   \n153  A *dog* *opens* *its* *mouth* *to* *catch* a b...   \n216  a brown dog *coming* *out* of an orange and ye...   \n219   One man *cutting* *through* *ice* on a cold day.   \n364  A professional swimmer *spits* *water* out aft...   \n385              A man *walks* by a building at night.   \n551   The man in black is flying off the full in *f...   \n587                The *girls* *walk* down the street.   \n657  A man *spraying* *water* onto a former piece o...   \n788  Two kids in black trunks *bouncing* on a wet *...   \n918  A boy in a blue jacket *rides* a *skateboard* ...   \n\n                                    Sentence2_marked_3  \\\n8    Four women are *running* away from a man in th...   \n58                    A woman is *tying* *her* *shoes*   \n153                 The *pet* *is* *chewing* on a bone   \n216  A brown dog *dancing* *out* of a orange and ye...   \n219         The man is *running* *around* his *house.*   \n364  The swimmer is *eating* *a* *toasted* *marshma...   \n385                     A man is *sitting* in the sun.   \n551                  The man is *next* to the *fence.*   \n587                *Girls* *set* *down* in the street.   \n657                  A man *throws* *rocks* at a wall.   \n788  Two kids are *building* a *trampoline* from sc...   \n918  A blue jacketed boy is *standing* in football ...   \n\n    Sentence1_Highlighted_3 Sentence2_Highlighted_3  \\\n8                         6                       3   \n58                    12,13                   3,4,5   \n153             1,2,3,4,5,6                   1,2,3   \n216                     3,4                     3,4   \n219                   2,3,4                   3,4,6   \n364                     3,4                 4,3,5,6   \n385                       2                       3   \n551                   10,14                     6,3   \n587                     1,2                   0,1,2   \n657                     2,3                     2,3   \n788                     5,9                     3,5   \n918                     6,8                     5,8   \n\n                                                prompt  \\\n8    Statement: people playing, basketball ball in ...   \n58   Statement: Man wearing black shirt throwing an...   \n153  Statement: One dog is chasing another dog that...   \n216  Statement: Girl with crossed arms stands in st...   \n219  Statement: Two women in their karate uniforms ...   \n364  Statement: These two ladies are working in the...   \n385  Statement: A middle-aged man wearing black is ...   \n551  Statement: Several people are sitting at a tab...   \n587  Statement: A young African boy sits in a dirt ...   \n657  Statement: People in the buffet line the North...   \n788  Statement: Two young children dressed as Spide...   \n918  Statement: There's a group of folks with heaps...   \n\n                                      pred_explanation     pred_label  \n8    The statements are describing two different ac...  contradiction  \n58   The statement does not describe the woman stan...  contradiction  \n153  opening mouth to catch a toy and chewing on a ...  contradiction  \n216  The sentences have different actions (coming o...  contradiction  \n219  Cutting through ice and running around a house...  contradiction  \n364  Spitting water out and eating a toasted marshm...  contradiction  \n385  Walking and sitting are two different actions ...  contradiction  \n551    Flying and being next to are different actions.        neutral  \n587     Walking and sitting are two different actions.  contradiction  \n657  the two statements describe two different acti...  contradiction  \n788       bouncing and building are different actions.  contradiction  \n918  The statements are describing two different ac...  contradiction  \n\n[12 rows x 23 columns]",
      "text/html": "<div>\n<style scoped>\n    .dataframe tbody tr th:only-of-type {\n        vertical-align: middle;\n    }\n\n    .dataframe tbody tr th {\n        vertical-align: top;\n    }\n\n    .dataframe thead th {\n        text-align: right;\n    }\n</style>\n<table border=\"1\" class=\"dataframe\">\n  <thead>\n    <tr style=\"text-align: right;\">\n      <th></th>\n      <th>Unnamed: 0</th>\n      <th>pairID</th>\n      <th>gold_label</th>\n      <th>Sentence1</th>\n      <th>Sentence2</th>\n      <th>Explanation_1</th>\n      <th>Sentence1_marked_1</th>\n      <th>Sentence2_marked_1</th>\n      <th>Sentence1_Highlighted_1</th>\n      <th>Sentence2_Highlighted_1</th>\n      <th>...</th>\n      <th>Sentence1_Highlighted_2</th>\n      <th>Sentence2_Highlighted_2</th>\n      <th>Explanation_3</th>\n      <th>Sentence1_marked_3</th>\n      <th>Sentence2_marked_3</th>\n      <th>Sentence1_Highlighted_3</th>\n      <th>Sentence2_Highlighted_3</th>\n      <th>prompt</th>\n      <th>pred_explanation</th>\n      <th>pred_label</th>\n    </tr>\n  </thead>\n  <tbody>\n    <tr>\n      <th>8</th>\n      <td>8</td>\n      <td>4547257158.jpg#2r1c</td>\n      <td>contradiction</td>\n      <td>Four women carrying shoulder bags are walking ...</td>\n      <td>Four women are running away from a man in the ...</td>\n      <td>Running and walking are two different gaits.</td>\n      <td>Four women carrying shoulder bags are *walking...</td>\n      <td>Four women are *running* away from a man in th...</td>\n      <td>6</td>\n      <td>3</td>\n      <td>...</td>\n      <td>6</td>\n      <td>3</td>\n      <td>walking not running</td>\n      <td>Four women carrying shoulder bags are *walking...</td>\n      <td>Four women are *running* away from a man in th...</td>\n      <td>6</td>\n      <td>3</td>\n      <td>Statement: people playing, basketball ball in ...</td>\n      <td>The statements are describing two different ac...</td>\n      <td>contradiction</td>\n    </tr>\n    <tr>\n      <th>58</th>\n      <td>58</td>\n      <td>4604977910.jpg#1r1c</td>\n      <td>contradiction</td>\n      <td>A woman standing in front of a large tank at a...</td>\n      <td>A woman is tying her shoes</td>\n      <td>The woman can't be tying her shoes while stand...</td>\n      <td>A woman *standing* in front of a large tank at...</td>\n      <td>A woman is *tying* her shoes</td>\n      <td>2</td>\n      <td>3</td>\n      <td>...</td>\n      <td>12,13</td>\n      <td>3,4,5</td>\n      <td>She cannot be tying her shoes while she turns ...</td>\n      <td>A woman standing in front of a large tank at a...</td>\n      <td>A woman is *tying* *her* *shoes*</td>\n      <td>12,13</td>\n      <td>3,4,5</td>\n      <td>Statement: Man wearing black shirt throwing an...</td>\n      <td>The statement does not describe the woman stan...</td>\n      <td>contradiction</td>\n    </tr>\n    <tr>\n      <th>153</th>\n      <td>153</td>\n      <td>3519155763.jpg#3r1c</td>\n      <td>contradiction</td>\n      <td>A dog opens its mouth to catch a blue and yell...</td>\n      <td>The pet is chewing on a bone</td>\n      <td>Bones are not blue and yellow.</td>\n      <td>A dog opens its mouth to catch a *blue* *and* ...</td>\n      <td>The pet is chewing on a *bone*</td>\n      <td>10,11,9,8</td>\n      <td>6</td>\n      <td>...</td>\n      <td>11,8,10</td>\n      <td>6</td>\n      <td>A pet is not necessarily a dog.  The pet is ei...</td>\n      <td>A *dog* *opens* *its* *mouth* *to* *catch* a b...</td>\n      <td>The *pet* *is* *chewing* on a bone</td>\n      <td>1,2,3,4,5,6</td>\n      <td>1,2,3</td>\n      <td>Statement: One dog is chasing another dog that...</td>\n      <td>opening mouth to catch a toy and chewing on a ...</td>\n      <td>contradiction</td>\n    </tr>\n    <tr>\n      <th>216</th>\n      <td>216</td>\n      <td>3025315215.jpg#0r1c</td>\n      <td>contradiction</td>\n      <td>a brown dog coming out of an orange and yellow...</td>\n      <td>A brown dog dancing out of a orange and yellow...</td>\n      <td>The dog cannot be both coming and dancing out ...</td>\n      <td>a brown *dog* *coming* out of an orange and ye...</td>\n      <td>A brown *dog* *dancing* out of a orange and ye...</td>\n      <td>3,2</td>\n      <td>3,2</td>\n      <td>...</td>\n      <td>3</td>\n      <td>3</td>\n      <td>A dog dancing out could not have been coming out.</td>\n      <td>a brown dog *coming* *out* of an orange and ye...</td>\n      <td>A brown dog *dancing* *out* of a orange and ye...</td>\n      <td>3,4</td>\n      <td>3,4</td>\n      <td>Statement: Girl with crossed arms stands in st...</td>\n      <td>The sentences have different actions (coming o...</td>\n      <td>contradiction</td>\n    </tr>\n    <tr>\n      <th>219</th>\n      <td>219</td>\n      <td>3246016210.jpg#4r1c</td>\n      <td>contradiction</td>\n      <td>One man cutting through ice on a cold day.</td>\n      <td>The man is running around his house.</td>\n      <td>one can not be cutting through ice and be runn...</td>\n      <td>One man *cutting* *through* *ice* on a cold day.</td>\n      <td>The man is *running* around his *house.*</td>\n      <td>2,3,4</td>\n      <td>3,6</td>\n      <td>...</td>\n      <td>2,3,4</td>\n      <td>3,4,5,6</td>\n      <td>Cutting through ice isnt running around the ho...</td>\n      <td>One man *cutting* *through* *ice* on a cold day.</td>\n      <td>The man is *running* *around* his *house.*</td>\n      <td>2,3,4</td>\n      <td>3,4,6</td>\n      <td>Statement: Two women in their karate uniforms ...</td>\n      <td>Cutting through ice and running around a house...</td>\n      <td>contradiction</td>\n    </tr>\n    <tr>\n      <th>364</th>\n      <td>364</td>\n      <td>7249180494.jpg#0r1c</td>\n      <td>contradiction</td>\n      <td>A professional swimmer spits water out after s...</td>\n      <td>The swimmer is eating a toasted marshmallow.</td>\n      <td>The swimmer is either swimming or eating a mar...</td>\n      <td>A professional swimmer spits water out after *...</td>\n      <td>The swimmer is *eating* a toasted marshmallow.</td>\n      <td>7</td>\n      <td>3</td>\n      <td>...</td>\n      <td>3</td>\n      <td>3</td>\n      <td>If one spits water, they can not be eating a t...</td>\n      <td>A professional swimmer *spits* *water* out aft...</td>\n      <td>The swimmer is *eating* *a* *toasted* *marshma...</td>\n      <td>3,4</td>\n      <td>4,3,5,6</td>\n      <td>Statement: These two ladies are working in the...</td>\n      <td>Spitting water out and eating a toasted marshm...</td>\n      <td>contradiction</td>\n    </tr>\n    <tr>\n      <th>385</th>\n      <td>385</td>\n      <td>3836884647.jpg#3r1c</td>\n      <td>contradiction</td>\n      <td>A man walks by a building at night.</td>\n      <td>A man is sitting in the sun.</td>\n      <td>The man cannot simultaneously be sitting and walk</td>\n      <td>A man *walks* by a building at night.</td>\n      <td>A man is *sitting* in the sun.</td>\n      <td>2</td>\n      <td>3</td>\n      <td>...</td>\n      <td>2,7</td>\n      <td>3,6</td>\n      <td>A MAN EITHER WALKS OR HE WILL BE SITTING IN TH...</td>\n      <td>A man *walks* by a building at night.</td>\n      <td>A man is *sitting* in the sun.</td>\n      <td>2</td>\n      <td>3</td>\n      <td>Statement: A middle-aged man wearing black is ...</td>\n      <td>Walking and sitting are two different actions ...</td>\n      <td>contradiction</td>\n    </tr>\n    <tr>\n      <th>551</th>\n      <td>551</td>\n      <td>3591462960.jpg#2r1e</td>\n      <td>entailment</td>\n      <td>The man in black is flying off the full in fro...</td>\n      <td>The man is next to the fence.</td>\n      <td>In front of a red fence implies next to the fe...</td>\n      <td>The man in black is flying off the full *in* ...</td>\n      <td>The man is *next* *to* *the* *fence.*</td>\n      <td>9,10,11,12,13,14</td>\n      <td>3,4,5,6</td>\n      <td>...</td>\n      <td>10,9,14,12,11</td>\n      <td>3,4,5,6</td>\n      <td>If he is in front of a fence he is next to the...</td>\n      <td>The man in black is flying off the full in *f...</td>\n      <td>The man is *next* to the *fence.*</td>\n      <td>10,14</td>\n      <td>6,3</td>\n      <td>Statement: Several people are sitting at a tab...</td>\n      <td>Flying and being next to are different actions.</td>\n      <td>neutral</td>\n    </tr>\n    <tr>\n      <th>587</th>\n      <td>587</td>\n      <td>1384292980.jpg#1r1c</td>\n      <td>contradiction</td>\n      <td>The girls walk down the street.</td>\n      <td>Girls set down in the street.</td>\n      <td>The girls either walk down the street or set d...</td>\n      <td>The girls *walk* *down* the street.</td>\n      <td>Girls *set* *down* in the *street.*</td>\n      <td>2,3</td>\n      <td>1,2,5</td>\n      <td>...</td>\n      <td>2</td>\n      <td>1</td>\n      <td>The girls cannot walk and set down at the same...</td>\n      <td>The *girls* *walk* down the street.</td>\n      <td>*Girls* *set* *down* in the street.</td>\n      <td>1,2</td>\n      <td>0,1,2</td>\n      <td>Statement: A young African boy sits in a dirt ...</td>\n      <td>Walking and sitting are two different actions.</td>\n      <td>contradiction</td>\n    </tr>\n    <tr>\n      <th>657</th>\n      <td>657</td>\n      <td>4793317845.jpg#3r1c</td>\n      <td>contradiction</td>\n      <td>A man spraying water onto a former piece of ar...</td>\n      <td>A man throws rocks at a wall.</td>\n      <td>The man is either spraying water or throws a r...</td>\n      <td>A man *spraying* *water* onto a former piece o...</td>\n      <td>A man *throws* *rocks* at a wall.</td>\n      <td>2,3</td>\n      <td>2,3</td>\n      <td>...</td>\n      <td>2,3,4,5,6,7,8,9</td>\n      <td>2,3,4,5,6</td>\n      <td>A man can't be spraying water and throws rocks...</td>\n      <td>A man *spraying* *water* onto a former piece o...</td>\n      <td>A man *throws* *rocks* at a wall.</td>\n      <td>2,3</td>\n      <td>2,3</td>\n      <td>Statement: People in the buffet line the North...</td>\n      <td>the two statements describe two different acti...</td>\n      <td>contradiction</td>\n    </tr>\n    <tr>\n      <th>788</th>\n      <td>788</td>\n      <td>3736786640.jpg#1r1c</td>\n      <td>contradiction</td>\n      <td>Two kids in black trunks bouncing on a wet tra...</td>\n      <td>Two kids are building a trampoline from scratch.</td>\n      <td>They cannot be bouncing on a trampoline that t...</td>\n      <td>Two kids in black trunks *bouncing* *on* a wet...</td>\n      <td>Two kids are *building* a trampoline from scra...</td>\n      <td>5,6</td>\n      <td>3</td>\n      <td>...</td>\n      <td>5</td>\n      <td>3</td>\n      <td>If the kids are bouncing on a trampoline, they...</td>\n      <td>Two kids in black trunks *bouncing* on a wet *...</td>\n      <td>Two kids are *building* a *trampoline* from sc...</td>\n      <td>5,9</td>\n      <td>3,5</td>\n      <td>Statement: Two young children dressed as Spide...</td>\n      <td>bouncing and building are different actions.</td>\n      <td>contradiction</td>\n    </tr>\n    <tr>\n      <th>918</th>\n      <td>918</td>\n      <td>8378599.jpg#1r1c</td>\n      <td>contradiction</td>\n      <td>A boy in a blue jacket rides a skateboard down...</td>\n      <td>A blue jacketed boy is standing in football fi...</td>\n      <td>The boy can either be riding or standing.</td>\n      <td>A boy in a blue jacket *rides* a skateboard do...</td>\n      <td>A blue jacketed boy is *standing* in football ...</td>\n      <td>6</td>\n      <td>5</td>\n      <td>...</td>\n      <td>8,6</td>\n      <td>5,7,8</td>\n      <td>You cannot ride a skateboard and be standing i...</td>\n      <td>A boy in a blue jacket *rides* a *skateboard* ...</td>\n      <td>A blue jacketed boy is *standing* in football ...</td>\n      <td>6,8</td>\n      <td>5,8</td>\n      <td>Statement: There's a group of folks with heaps...</td>\n      <td>The statements are describing two different ac...</td>\n      <td>contradiction</td>\n    </tr>\n  </tbody>\n</table>\n<p>12 rows × 23 columns</p>\n</div>"
     },
     "execution_count": 375,
     "metadata": {},
     "output_type": "execute_result"
    }
   ],
   "source": [
    "gpt_pred.iloc[root_term_dict['action']]"
   ],
   "metadata": {
    "collapsed": false,
    "pycharm": {
     "name": "#%%\n"
    }
   }
  },
  {
   "cell_type": "code",
   "execution_count": 405,
   "outputs": [
    {
     "data": {
      "text/plain": "'The woman is wearing dark brown leather jacket, sunglasses, brown leather boots, and a silver designer handbag, which implies that she is nicely dressed.'"
     },
     "execution_count": 405,
     "metadata": {},
     "output_type": "execute_result"
    }
   ],
   "source": [
    "gpt_pred.iloc[608].pred_explanation"
   ],
   "metadata": {
    "collapsed": false,
    "pycharm": {
     "name": "#%%\n"
    }
   }
  }
 ],
 "metadata": {
  "kernelspec": {
   "display_name": "Python 3",
   "language": "python",
   "name": "python3"
  },
  "language_info": {
   "codemirror_mode": {
    "name": "ipython",
    "version": 2
   },
   "file_extension": ".py",
   "mimetype": "text/x-python",
   "name": "python",
   "nbconvert_exporter": "python",
   "pygments_lexer": "ipython2",
   "version": "2.7.6"
  }
 },
 "nbformat": 4,
 "nbformat_minor": 0
}