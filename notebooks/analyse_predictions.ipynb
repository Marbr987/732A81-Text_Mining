{
 "cells": [
  {
   "cell_type": "markdown",
   "source": [
    "# Setup"
   ],
   "metadata": {
    "collapsed": false,
    "pycharm": {
     "name": "#%% md\n"
    }
   }
  },
  {
   "cell_type": "markdown",
   "source": [
    "## Load Packages"
   ],
   "metadata": {
    "collapsed": false,
    "pycharm": {
     "name": "#%% md\n"
    }
   }
  },
  {
   "cell_type": "code",
   "execution_count": 1,
   "outputs": [
    {
     "name": "stderr",
     "output_type": "stream",
     "text": [
      "/Users/marcbraun/.conda/envs/732A81-Text_Mining/lib/python3.10/site-packages/tqdm/auto.py:22: TqdmWarning: IProgress not found. Please update jupyter and ipywidgets. See https://ipywidgets.readthedocs.io/en/stable/user_install.html\n",
      "  from .autonotebook import tqdm as notebook_tqdm\n"
     ]
    }
   ],
   "source": [
    "import random\n",
    "import pandas as pd\n",
    "import numpy as np\n",
    "import matplotlib.pyplot as plt\n",
    "import os\n",
    "import openai\n",
    "import re\n",
    "import time\n",
    "from scripts.prepare_data_helpers import prepare_examples, create_query\n",
    "import spacy\n",
    "import textacy\n",
    "from dotenv import load_dotenv\n",
    "\n",
    "load_dotenv()\n",
    "nlp = spacy.load('en_core_web_sm')"
   ],
   "metadata": {
    "collapsed": false,
    "pycharm": {
     "name": "#%%\n"
    }
   }
  },
  {
   "cell_type": "markdown",
   "source": [
    "## Prepare Data"
   ],
   "metadata": {
    "collapsed": false,
    "pycharm": {
     "name": "#%% md\n"
    }
   }
  },
  {
   "cell_type": "code",
   "execution_count": 2,
   "outputs": [],
   "source": [
    "train1 = pd.read_csv('../../e-SNLI/dataset/esnli_train_1.csv')\n",
    "train2 = pd.read_csv('../../e-SNLI/dataset/esnli_train_2.csv')\n",
    "train = pd.concat([train1, train2])\n",
    "dev = pd.read_csv('../../e-SNLI/dataset/esnli_dev.csv')\n",
    "test = pd.read_csv('../../e-SNLI/dataset/esnli_test.csv')\n",
    "\n",
    "train = train.dropna(subset=['Sentence1', 'Sentence2', 'Explanation_1'])\n",
    "train = train.reset_index(drop=True)\n",
    "\n",
    "np.random.seed(12345) # seed for numpy package\n",
    "test_indices = list(np.random.choice(test.index.values, size=1000, replace=False))\n",
    "test = test.loc[test_indices]\n",
    "test = test.reset_index(drop=True)"
   ],
   "metadata": {
    "collapsed": false,
    "pycharm": {
     "name": "#%%\n"
    }
   }
  },
  {
   "cell_type": "code",
   "execution_count": 4,
   "outputs": [],
   "source": [
    "gpt_pred = pd.read_csv('../output_data/test_predictions_4examples.csv', sep=';')"
   ],
   "metadata": {
    "collapsed": false,
    "pycharm": {
     "name": "#%%\n"
    }
   }
  },
  {
   "cell_type": "code",
   "execution_count": 5,
   "outputs": [
    {
     "data": {
      "text/plain": "     Unnamed: 0               pairID     gold_label  \\\n0             0  4813951931.jpg#3r1e     entailment   \n1             1  4678320536.jpg#1r1c  contradiction   \n2             2   661749711.jpg#2r1e     entailment   \n3             3    44904567.jpg#1r1c  contradiction   \n4             4    32542645.jpg#0r1n        neutral   \n..          ...                  ...            ...   \n995         995  2429284131.jpg#2r1c  contradiction   \n996         996  4460943467.jpg#0r1e     entailment   \n997         997  2226343167.jpg#0r1n        neutral   \n998         998  3389707399.jpg#4r1e     entailment   \n999         999  3559425864.jpg#1r1c  contradiction   \n\n                                             Sentence1  \\\n0    A young man in an orange hat walks his bicycle...   \n1    A woman standing with smile on her face and sh...   \n2             A dog jumps to catch a red ball outside.   \n3    A man wielding an electric razor is gleefully ...   \n4    A group of people stares at a wall that is fil...   \n..                                                 ...   \n995        Three men are standing on stage performing.   \n996  3 young man in hoods standing in the middle of...   \n997  A woman in skirt, torn stockings and combat bo...   \n998                     Two men shining peoples shoes.   \n999  Bicyclist ride the course near the ocean as th...   \n\n                                             Sentence2  \\\n0    A man in an orange hat walks his bike down a s...   \n1          A woman stands holding her baby and crying.   \n2                                  the dog is jumping.   \n3                    There is only one person present.   \n4               A group of people analyze art together   \n..                                                 ...   \n995          Women are playing trumpets on the street.   \n996       Three hood wearing people stand in a street.   \n997  The man and woman are going to a movie in the ...   \n998                             Two men shining shoes.   \n999             The cyclist was riding in the morning.   \n\n                                         Explanation_1  \\\n0           A bicycle and a bike, are the same object.   \n1    If a woman has a smile on her face then she is...   \n2         Jumping is an action needed to catch a ball.   \n3    There cannot be one person present if one man ...   \n4             Not necessary that they analyze the art.   \n..                                                 ...   \n995  either there are men on stage, or women playin...   \n996            3 Man in hoods are hood wearing people.   \n997  walking down a street does not mean they are g...   \n998  Two men are shining shoes if two men are shini...   \n999  This implies that it is either a (regular) bic...   \n\n                                    Sentence1_marked_1  \\\n0     A young man in an orange hat walks his *bicyc...   \n1    A woman standing with *smile* *on* *her* *face...   \n2     A *dog* *jumps* to *catch* a red *ball* *outs...   \n3    A *man* wielding an electric razor is gleefull...   \n4    A group of people stares at a wall that is fil...   \n..                                                 ...   \n995      Three *men* are standing on stage performing.   \n996   *3* young *man* in *hoods* standing in the mi...   \n997  A woman in skirt, torn stockings and combat bo...   \n998                 Two *men* *shining* peoples shoes.   \n999  *Bicyclist* ride the course near the ocean as ...   \n\n                                    Sentence2_marked_1  \\\n0     A man in an orange hat walks his *bike* down ...   \n1        A woman stands holding her baby and *crying.*   \n2                              the *dog* is *jumping.*   \n3              There is only *one* *person* *present.*   \n4             A group of people *analyze* art together   \n..                                                 ...   \n995        *Women* are playing trumpets on the street.   \n996   Three *hood* *wearing* *people* stand in a st...   \n997   The man and woman are going to a *movie* in t...   \n998                         Two *men* *shining* shoes.   \n999         *The* *cyclist* was riding in the morning.   \n\n    Sentence1_Highlighted_1 Sentence2_Highlighted_1  ...  \\\n0                         9                       8  ...   \n1                   4,5,6,7                       7  ...   \n2                 2,7,8,1,4                     3,1  ...   \n3                   1,10,11                   3,4,5  ...   \n4                        {}                       4  ...   \n..                      ...                     ...  ...   \n995                       1                       0  ...   \n996                   2,0,4                   1,2,3  ...   \n997                      {}                       8  ...   \n998                     1,2                     1,2  ...   \n999                       0                     1,0  ...   \n\n    Sentence1_Highlighted_2 Sentence2_Highlighted_2  \\\n0                     9,1,2                     8,1   \n1                        13                       5   \n2                       1,2                     1,3   \n3                        10                     3,2   \n4                        {}                     4,5   \n..                      ...                     ...   \n995                       1                       0   \n996              1,0,2,4,12                 0,1,4,7   \n997                      {}                1,3,8,11   \n998                   1,4,2                   1,2,3   \n999           9,10,11,13,12                       6   \n\n                                         Explanation_3  \\\n0    The young man in an orange hart is the man wal...   \n1            the woman is either crying or has a smile   \n2       If the dog jumps to catch, the dog is jumping.   \n3    It cannot be claimed that there is only one pe...   \n4    The group may have just been admiring as oppos...   \n..                                                 ...   \n995                  There can be either men or women.   \n996  If they are standing in the middle of a quiet ...   \n997  Just because a man and woman are wearing theme...   \n998  \"Two men shining shoes\" is a rephrasing of \"tw...   \n999    The day does not come to an end in the morning.   \n\n                                    Sentence1_marked_3  \\\n0     A *young* *man* in *an* *orange* *hat* *walks...   \n1    A *woman* standing with *smile* on her face an...   \n2         A dog *jumps* to *catch* a red ball outside.   \n3    A *man* wielding an electric razor is gleefull...   \n4    A group of people stares at a wall that is fil...   \n..                                                 ...   \n995      Three *men* are standing on stage performing.   \n996   3 young man in hoods *standing* *in* *the* *m...   \n997  A woman in skirt, torn stockings and combat bo...   \n998               Two men *shining* *peoples* *shoes.*   \n999  Bicyclist ride the course near the ocean as th...   \n\n                                    Sentence2_marked_3  \\\n0     A *man* in *an* *orange* *hat* *walks* *his* ...   \n1      A *woman* stands holding her baby and *crying.*   \n2                                the dog is *jumping.*   \n3              There is *only* *one* *person* present.   \n4           A group of people *analyze* art *together*   \n..                                                 ...   \n995        *Women* are playing trumpets on the street.   \n996   Three hood wearing people *stand* *in* *a* *s...   \n997   The man and woman are going to a *movie* in t...   \n998                         Two men *shining* *shoes.*   \n999           The cyclist was riding in the *morning.*   \n\n    Sentence1_Highlighted_3 Sentence2_Highlighted_3  \\\n0     1,2,4,5,6,7,8,9,10,12      1,5,4,3,11,9,8,7,6   \n1                       4,1                     1,7   \n2                       2,4                       3   \n3                   1,10,11                   2,3,4   \n4                        {}                     4,6   \n..                      ...                     ...   \n995                       1                       0   \n996      5,6,7,8,9,11,10,12                 4,5,6,7   \n997                      {}                       8   \n998                   2,3,4                     2,3   \n999           9,11,10,12,13                       6   \n\n                                                prompt  \\\n0    Statement: Two african women bike down a dirt ...   \n1    Statement: A man with a striped shirt and glas...   \n2    Statement: a lone rock climber in a harness cl...   \n3    Statement: A young girl is climbing on a woode...   \n4    Statement: A girl in a red and pink shirt is c...   \n..                                                 ...   \n995  Statement: Boy in shorts, face down in shallow...   \n996  Statement: Two youth getting squirted by water...   \n997  Statement: A bride and groom stand in front of...   \n998  Statement: A woman praying to her gods.\\nState...   \n999  Statement: A shirtless man sits beside an Asia...   \n\n                                      pred_explanation     pred_label  \n0    A young man in an orange hat is a rephrasing o...     entailment  \n1    The woman is smiling and holding a wood, not a...  contradiction  \n2    The statement implies that the dog is jumping ...     entailment  \n3    There are two people present, the man wielding...  contradiction  \n4      Staring at drawings is a form of analyzing art.     entailment  \n..                                                 ...            ...  \n995  The statement describes three men on stage per...  contradiction  \n996  The answer implies that the people in the stre...     entailment  \n997  The clothing does not necessarily indicate tha...        neutral  \n998  Shining shoes is a specific type of activity t...     entailment  \n999  The day coming to an end implies it is evening...  contradiction  \n\n[1000 rows x 23 columns]",
      "text/html": "<div>\n<style scoped>\n    .dataframe tbody tr th:only-of-type {\n        vertical-align: middle;\n    }\n\n    .dataframe tbody tr th {\n        vertical-align: top;\n    }\n\n    .dataframe thead th {\n        text-align: right;\n    }\n</style>\n<table border=\"1\" class=\"dataframe\">\n  <thead>\n    <tr style=\"text-align: right;\">\n      <th></th>\n      <th>Unnamed: 0</th>\n      <th>pairID</th>\n      <th>gold_label</th>\n      <th>Sentence1</th>\n      <th>Sentence2</th>\n      <th>Explanation_1</th>\n      <th>Sentence1_marked_1</th>\n      <th>Sentence2_marked_1</th>\n      <th>Sentence1_Highlighted_1</th>\n      <th>Sentence2_Highlighted_1</th>\n      <th>...</th>\n      <th>Sentence1_Highlighted_2</th>\n      <th>Sentence2_Highlighted_2</th>\n      <th>Explanation_3</th>\n      <th>Sentence1_marked_3</th>\n      <th>Sentence2_marked_3</th>\n      <th>Sentence1_Highlighted_3</th>\n      <th>Sentence2_Highlighted_3</th>\n      <th>prompt</th>\n      <th>pred_explanation</th>\n      <th>pred_label</th>\n    </tr>\n  </thead>\n  <tbody>\n    <tr>\n      <th>0</th>\n      <td>0</td>\n      <td>4813951931.jpg#3r1e</td>\n      <td>entailment</td>\n      <td>A young man in an orange hat walks his bicycle...</td>\n      <td>A man in an orange hat walks his bike down a s...</td>\n      <td>A bicycle and a bike, are the same object.</td>\n      <td>A young man in an orange hat walks his *bicyc...</td>\n      <td>A man in an orange hat walks his *bike* down ...</td>\n      <td>9</td>\n      <td>8</td>\n      <td>...</td>\n      <td>9,1,2</td>\n      <td>8,1</td>\n      <td>The young man in an orange hart is the man wal...</td>\n      <td>A *young* *man* in *an* *orange* *hat* *walks...</td>\n      <td>A *man* in *an* *orange* *hat* *walks* *his* ...</td>\n      <td>1,2,4,5,6,7,8,9,10,12</td>\n      <td>1,5,4,3,11,9,8,7,6</td>\n      <td>Statement: Two african women bike down a dirt ...</td>\n      <td>A young man in an orange hat is a rephrasing o...</td>\n      <td>entailment</td>\n    </tr>\n    <tr>\n      <th>1</th>\n      <td>1</td>\n      <td>4678320536.jpg#1r1c</td>\n      <td>contradiction</td>\n      <td>A woman standing with smile on her face and sh...</td>\n      <td>A woman stands holding her baby and crying.</td>\n      <td>If a woman has a smile on her face then she is...</td>\n      <td>A woman standing with *smile* *on* *her* *face...</td>\n      <td>A woman stands holding her baby and *crying.*</td>\n      <td>4,5,6,7</td>\n      <td>7</td>\n      <td>...</td>\n      <td>13</td>\n      <td>5</td>\n      <td>the woman is either crying or has a smile</td>\n      <td>A *woman* standing with *smile* on her face an...</td>\n      <td>A *woman* stands holding her baby and *crying.*</td>\n      <td>4,1</td>\n      <td>1,7</td>\n      <td>Statement: A man with a striped shirt and glas...</td>\n      <td>The woman is smiling and holding a wood, not a...</td>\n      <td>contradiction</td>\n    </tr>\n    <tr>\n      <th>2</th>\n      <td>2</td>\n      <td>661749711.jpg#2r1e</td>\n      <td>entailment</td>\n      <td>A dog jumps to catch a red ball outside.</td>\n      <td>the dog is jumping.</td>\n      <td>Jumping is an action needed to catch a ball.</td>\n      <td>A *dog* *jumps* to *catch* a red *ball* *outs...</td>\n      <td>the *dog* is *jumping.*</td>\n      <td>2,7,8,1,4</td>\n      <td>3,1</td>\n      <td>...</td>\n      <td>1,2</td>\n      <td>1,3</td>\n      <td>If the dog jumps to catch, the dog is jumping.</td>\n      <td>A dog *jumps* to *catch* a red ball outside.</td>\n      <td>the dog is *jumping.*</td>\n      <td>2,4</td>\n      <td>3</td>\n      <td>Statement: a lone rock climber in a harness cl...</td>\n      <td>The statement implies that the dog is jumping ...</td>\n      <td>entailment</td>\n    </tr>\n    <tr>\n      <th>3</th>\n      <td>3</td>\n      <td>44904567.jpg#1r1c</td>\n      <td>contradiction</td>\n      <td>A man wielding an electric razor is gleefully ...</td>\n      <td>There is only one person present.</td>\n      <td>There cannot be one person present if one man ...</td>\n      <td>A *man* wielding an electric razor is gleefull...</td>\n      <td>There is only *one* *person* *present.*</td>\n      <td>1,10,11</td>\n      <td>3,4,5</td>\n      <td>...</td>\n      <td>10</td>\n      <td>3,2</td>\n      <td>It cannot be claimed that there is only one pe...</td>\n      <td>A *man* wielding an electric razor is gleefull...</td>\n      <td>There is *only* *one* *person* present.</td>\n      <td>1,10,11</td>\n      <td>2,3,4</td>\n      <td>Statement: A young girl is climbing on a woode...</td>\n      <td>There are two people present, the man wielding...</td>\n      <td>contradiction</td>\n    </tr>\n    <tr>\n      <th>4</th>\n      <td>4</td>\n      <td>32542645.jpg#0r1n</td>\n      <td>neutral</td>\n      <td>A group of people stares at a wall that is fil...</td>\n      <td>A group of people analyze art together</td>\n      <td>Not necessary that they analyze the art.</td>\n      <td>A group of people stares at a wall that is fil...</td>\n      <td>A group of people *analyze* art together</td>\n      <td>{}</td>\n      <td>4</td>\n      <td>...</td>\n      <td>{}</td>\n      <td>4,5</td>\n      <td>The group may have just been admiring as oppos...</td>\n      <td>A group of people stares at a wall that is fil...</td>\n      <td>A group of people *analyze* art *together*</td>\n      <td>{}</td>\n      <td>4,6</td>\n      <td>Statement: A girl in a red and pink shirt is c...</td>\n      <td>Staring at drawings is a form of analyzing art.</td>\n      <td>entailment</td>\n    </tr>\n    <tr>\n      <th>...</th>\n      <td>...</td>\n      <td>...</td>\n      <td>...</td>\n      <td>...</td>\n      <td>...</td>\n      <td>...</td>\n      <td>...</td>\n      <td>...</td>\n      <td>...</td>\n      <td>...</td>\n      <td>...</td>\n      <td>...</td>\n      <td>...</td>\n      <td>...</td>\n      <td>...</td>\n      <td>...</td>\n      <td>...</td>\n      <td>...</td>\n      <td>...</td>\n      <td>...</td>\n      <td>...</td>\n    </tr>\n    <tr>\n      <th>995</th>\n      <td>995</td>\n      <td>2429284131.jpg#2r1c</td>\n      <td>contradiction</td>\n      <td>Three men are standing on stage performing.</td>\n      <td>Women are playing trumpets on the street.</td>\n      <td>either there are men on stage, or women playin...</td>\n      <td>Three *men* are standing on stage performing.</td>\n      <td>*Women* are playing trumpets on the street.</td>\n      <td>1</td>\n      <td>0</td>\n      <td>...</td>\n      <td>1</td>\n      <td>0</td>\n      <td>There can be either men or women.</td>\n      <td>Three *men* are standing on stage performing.</td>\n      <td>*Women* are playing trumpets on the street.</td>\n      <td>1</td>\n      <td>0</td>\n      <td>Statement: Boy in shorts, face down in shallow...</td>\n      <td>The statement describes three men on stage per...</td>\n      <td>contradiction</td>\n    </tr>\n    <tr>\n      <th>996</th>\n      <td>996</td>\n      <td>4460943467.jpg#0r1e</td>\n      <td>entailment</td>\n      <td>3 young man in hoods standing in the middle of...</td>\n      <td>Three hood wearing people stand in a street.</td>\n      <td>3 Man in hoods are hood wearing people.</td>\n      <td>*3* young *man* in *hoods* standing in the mi...</td>\n      <td>Three *hood* *wearing* *people* stand in a st...</td>\n      <td>2,0,4</td>\n      <td>1,2,3</td>\n      <td>...</td>\n      <td>1,0,2,4,12</td>\n      <td>0,1,4,7</td>\n      <td>If they are standing in the middle of a quiet ...</td>\n      <td>3 young man in hoods *standing* *in* *the* *m...</td>\n      <td>Three hood wearing people *stand* *in* *a* *s...</td>\n      <td>5,6,7,8,9,11,10,12</td>\n      <td>4,5,6,7</td>\n      <td>Statement: Two youth getting squirted by water...</td>\n      <td>The answer implies that the people in the stre...</td>\n      <td>entailment</td>\n    </tr>\n    <tr>\n      <th>997</th>\n      <td>997</td>\n      <td>2226343167.jpg#0r1n</td>\n      <td>neutral</td>\n      <td>A woman in skirt, torn stockings and combat bo...</td>\n      <td>The man and woman are going to a movie in the ...</td>\n      <td>walking down a street does not mean they are g...</td>\n      <td>A woman in skirt, torn stockings and combat bo...</td>\n      <td>The man and woman are going to a *movie* in t...</td>\n      <td>{}</td>\n      <td>8</td>\n      <td>...</td>\n      <td>{}</td>\n      <td>1,3,8,11</td>\n      <td>Just because a man and woman are wearing theme...</td>\n      <td>A woman in skirt, torn stockings and combat bo...</td>\n      <td>The man and woman are going to a *movie* in t...</td>\n      <td>{}</td>\n      <td>8</td>\n      <td>Statement: A bride and groom stand in front of...</td>\n      <td>The clothing does not necessarily indicate tha...</td>\n      <td>neutral</td>\n    </tr>\n    <tr>\n      <th>998</th>\n      <td>998</td>\n      <td>3389707399.jpg#4r1e</td>\n      <td>entailment</td>\n      <td>Two men shining peoples shoes.</td>\n      <td>Two men shining shoes.</td>\n      <td>Two men are shining shoes if two men are shini...</td>\n      <td>Two *men* *shining* peoples shoes.</td>\n      <td>Two *men* *shining* shoes.</td>\n      <td>1,2</td>\n      <td>1,2</td>\n      <td>...</td>\n      <td>1,4,2</td>\n      <td>1,2,3</td>\n      <td>\"Two men shining shoes\" is a rephrasing of \"tw...</td>\n      <td>Two men *shining* *peoples* *shoes.*</td>\n      <td>Two men *shining* *shoes.*</td>\n      <td>2,3,4</td>\n      <td>2,3</td>\n      <td>Statement: A woman praying to her gods.\\nState...</td>\n      <td>Shining shoes is a specific type of activity t...</td>\n      <td>entailment</td>\n    </tr>\n    <tr>\n      <th>999</th>\n      <td>999</td>\n      <td>3559425864.jpg#1r1c</td>\n      <td>contradiction</td>\n      <td>Bicyclist ride the course near the ocean as th...</td>\n      <td>The cyclist was riding in the morning.</td>\n      <td>This implies that it is either a (regular) bic...</td>\n      <td>*Bicyclist* ride the course near the ocean as ...</td>\n      <td>*The* *cyclist* was riding in the morning.</td>\n      <td>0</td>\n      <td>1,0</td>\n      <td>...</td>\n      <td>9,10,11,13,12</td>\n      <td>6</td>\n      <td>The day does not come to an end in the morning.</td>\n      <td>Bicyclist ride the course near the ocean as th...</td>\n      <td>The cyclist was riding in the *morning.*</td>\n      <td>9,11,10,12,13</td>\n      <td>6</td>\n      <td>Statement: A shirtless man sits beside an Asia...</td>\n      <td>The day coming to an end implies it is evening...</td>\n      <td>contradiction</td>\n    </tr>\n  </tbody>\n</table>\n<p>1000 rows × 23 columns</p>\n</div>"
     },
     "execution_count": 5,
     "metadata": {},
     "output_type": "execute_result"
    }
   ],
   "source": [
    "gpt_pred"
   ],
   "metadata": {
    "collapsed": false,
    "pycharm": {
     "name": "#%%\n"
    }
   }
  },
  {
   "cell_type": "markdown",
   "source": [
    "# Prepare Input Sentences"
   ],
   "metadata": {
    "collapsed": false,
    "pycharm": {
     "name": "#%% md\n"
    }
   }
  },
  {
   "cell_type": "code",
   "execution_count": 6,
   "outputs": [],
   "source": [
    "def extract_SVO(txt):\n",
    "    res = list()\n",
    "    doc = nlp(txt)\n",
    "\n",
    "    for cur_nsubj in list(textacy.extract.matches.token_matches(doc, [{\"DEP\": \"nsubj\"}])) + list(textacy.extract.matches.token_matches(doc, [{\"DEP\": \"nsubjpass\"}])):\n",
    "        verbs = list()\n",
    "        if cur_nsubj[0].head.pos_ == \"AUX\":\n",
    "            for cur_verb in textacy.extract.matches.token_matches(doc, [{\"POS\": \"VERB\"}]):\n",
    "                if cur_verb[0].head == cur_nsubj[0]:\n",
    "                    verbs += [cur_verb[0]]\n",
    "        else:\n",
    "            verbs += [cur_nsubj[0].head]\n",
    "        for cur_verb in verbs:\n",
    "            dobjs = list(textacy.extract.matches.token_matches(doc, [{\"DEP\": \"dobj\"}]))\n",
    "            if len(dobjs) == 0:\n",
    "                res += [(cur_nsubj[0], cur_verb, None)]\n",
    "            else:\n",
    "                for cur_dobj in dobjs:\n",
    "                    if cur_dobj[0].head == cur_verb:\n",
    "                        res += [(cur_nsubj[0], cur_verb, cur_dobj[0])]\n",
    "                    else:\n",
    "                        res += [(cur_nsubj[0], cur_verb, None)]\n",
    "\n",
    "\n",
    "    if len(res) == 0:\n",
    "        cur_root = list(textacy.extract.matches.token_matches(doc, [{\"DEP\": \"ROOT\", \"POS\": \"NOUN\"}]))\n",
    "        if len(cur_root) != 0:\n",
    "            cur_root = cur_root[0][0]\n",
    "            for cur_verb in textacy.extract.matches.token_matches(doc, [{\"DEP\": \"acl\"}]):\n",
    "                if cur_verb[0].head == cur_root:\n",
    "                    dobjs = list(textacy.extract.matches.token_matches(doc, [{\"DEP\": \"dobj\"}]))\n",
    "                    if len(dobjs) == 0:\n",
    "                        res += [(cur_root, cur_verb[0], None)]\n",
    "                    for cur_dobj in dobjs:\n",
    "                        if cur_dobj[0].head == cur_verb[0]:\n",
    "                            res += [(cur_root, cur_verb[0], cur_dobj[0])]\n",
    "                        else:\n",
    "                            res += [(cur_root, cur_verb[0], None)]\n",
    "\n",
    "    return res"
   ],
   "metadata": {
    "collapsed": false,
    "pycharm": {
     "name": "#%%\n"
    }
   }
  },
  {
   "cell_type": "code",
   "execution_count": 7,
   "outputs": [],
   "source": [
    "gpt_pred['S1_SVO'] = [extract_SVO(gpt_pred.Sentence1.iloc[i]) for i in range(gpt_pred.shape[0])]\n",
    "gpt_pred['S2_SVO'] = [extract_SVO(gpt_pred.Sentence2.iloc[i]) for i in range(gpt_pred.shape[0])]"
   ],
   "metadata": {
    "collapsed": false,
    "pycharm": {
     "name": "#%%\n"
    }
   }
  },
  {
   "cell_type": "code",
   "execution_count": 8,
   "outputs": [
    {
     "data": {
      "text/plain": "                                              S1_SVO  \\\n0                            [(man, walks, bicycle)]   \n1     [(woman, holding, wood), (she, holding, wood)]   \n2                               [(dog, jumps, None)]   \n3    [(man, wielding, razor), (man, wielding, None)]   \n4      [(group, stares, None), (that, filled, None)]   \n..                                               ...   \n995                          [(men, standing, None)]   \n996                          [(man, standing, None)]   \n997                       [(woman, torn, stockings)]   \n998                          [(men, shining, shoes)]   \n999  [(Bicyclist, ride, course), (day, comes, None)]   \n\n                           S2_SVO  \\\n0            [(man, walks, bike)]   \n1         [(woman, stands, None)]   \n2          [(dog, jumping, None)]   \n3                              []   \n4         [(group, analyze, art)]   \n..                            ...   \n995  [(Women, playing, trumpets)]   \n996       [(people, stand, None)]   \n997          [(man, going, None)]   \n998                            []   \n999     [(cyclist, riding, None)]   \n\n                                         Explanation_1  \n0           A bicycle and a bike, are the same object.  \n1    If a woman has a smile on her face then she is...  \n2         Jumping is an action needed to catch a ball.  \n3    There cannot be one person present if one man ...  \n4             Not necessary that they analyze the art.  \n..                                                 ...  \n995  either there are men on stage, or women playin...  \n996            3 Man in hoods are hood wearing people.  \n997  walking down a street does not mean they are g...  \n998  Two men are shining shoes if two men are shini...  \n999  This implies that it is either a (regular) bic...  \n\n[1000 rows x 3 columns]",
      "text/html": "<div>\n<style scoped>\n    .dataframe tbody tr th:only-of-type {\n        vertical-align: middle;\n    }\n\n    .dataframe tbody tr th {\n        vertical-align: top;\n    }\n\n    .dataframe thead th {\n        text-align: right;\n    }\n</style>\n<table border=\"1\" class=\"dataframe\">\n  <thead>\n    <tr style=\"text-align: right;\">\n      <th></th>\n      <th>S1_SVO</th>\n      <th>S2_SVO</th>\n      <th>Explanation_1</th>\n    </tr>\n  </thead>\n  <tbody>\n    <tr>\n      <th>0</th>\n      <td>[(man, walks, bicycle)]</td>\n      <td>[(man, walks, bike)]</td>\n      <td>A bicycle and a bike, are the same object.</td>\n    </tr>\n    <tr>\n      <th>1</th>\n      <td>[(woman, holding, wood), (she, holding, wood)]</td>\n      <td>[(woman, stands, None)]</td>\n      <td>If a woman has a smile on her face then she is...</td>\n    </tr>\n    <tr>\n      <th>2</th>\n      <td>[(dog, jumps, None)]</td>\n      <td>[(dog, jumping, None)]</td>\n      <td>Jumping is an action needed to catch a ball.</td>\n    </tr>\n    <tr>\n      <th>3</th>\n      <td>[(man, wielding, razor), (man, wielding, None)]</td>\n      <td>[]</td>\n      <td>There cannot be one person present if one man ...</td>\n    </tr>\n    <tr>\n      <th>4</th>\n      <td>[(group, stares, None), (that, filled, None)]</td>\n      <td>[(group, analyze, art)]</td>\n      <td>Not necessary that they analyze the art.</td>\n    </tr>\n    <tr>\n      <th>...</th>\n      <td>...</td>\n      <td>...</td>\n      <td>...</td>\n    </tr>\n    <tr>\n      <th>995</th>\n      <td>[(men, standing, None)]</td>\n      <td>[(Women, playing, trumpets)]</td>\n      <td>either there are men on stage, or women playin...</td>\n    </tr>\n    <tr>\n      <th>996</th>\n      <td>[(man, standing, None)]</td>\n      <td>[(people, stand, None)]</td>\n      <td>3 Man in hoods are hood wearing people.</td>\n    </tr>\n    <tr>\n      <th>997</th>\n      <td>[(woman, torn, stockings)]</td>\n      <td>[(man, going, None)]</td>\n      <td>walking down a street does not mean they are g...</td>\n    </tr>\n    <tr>\n      <th>998</th>\n      <td>[(men, shining, shoes)]</td>\n      <td>[]</td>\n      <td>Two men are shining shoes if two men are shini...</td>\n    </tr>\n    <tr>\n      <th>999</th>\n      <td>[(Bicyclist, ride, course), (day, comes, None)]</td>\n      <td>[(cyclist, riding, None)]</td>\n      <td>This implies that it is either a (regular) bic...</td>\n    </tr>\n  </tbody>\n</table>\n<p>1000 rows × 3 columns</p>\n</div>"
     },
     "execution_count": 8,
     "metadata": {},
     "output_type": "execute_result"
    }
   ],
   "source": [
    "gpt_pred[[\"S1_SVO\", \"S2_SVO\", \"Explanation_1\"]]"
   ],
   "metadata": {
    "collapsed": false,
    "pycharm": {
     "name": "#%%\n"
    }
   }
  },
  {
   "cell_type": "code",
   "execution_count": 9,
   "outputs": [],
   "source": [
    "has_svo_structure = [not (gpt_pred[\"S1_SVO\"].iloc[i] == list() or gpt_pred[\"S2_SVO\"].iloc[i] == list()) for i in range(gpt_pred.shape[0])]\n",
    "gpt_pred_svo = gpt_pred[has_svo_structure]"
   ],
   "metadata": {
    "collapsed": false,
    "pycharm": {
     "name": "#%%\n"
    }
   }
  },
  {
   "cell_type": "code",
   "execution_count": 10,
   "outputs": [
    {
     "data": {
      "text/plain": "0.667"
     },
     "execution_count": 10,
     "metadata": {},
     "output_type": "execute_result"
    }
   ],
   "source": [
    "np.mean(has_svo_structure)"
   ],
   "metadata": {
    "collapsed": false,
    "pycharm": {
     "name": "#%%\n"
    }
   }
  },
  {
   "cell_type": "code",
   "execution_count": 11,
   "outputs": [
    {
     "data": {
      "text/plain": "     Unnamed: 0               pairID     gold_label  \\\n0             0  4813951931.jpg#3r1e     entailment   \n1             1  4678320536.jpg#1r1c  contradiction   \n2             2   661749711.jpg#2r1e     entailment   \n4             4    32542645.jpg#0r1n        neutral   \n7             7  4911982235.jpg#0r1c  contradiction   \n..          ...                  ...            ...   \n994         994  3251646144.jpg#0r1n        neutral   \n995         995  2429284131.jpg#2r1c  contradiction   \n996         996  4460943467.jpg#0r1e     entailment   \n997         997  2226343167.jpg#0r1n        neutral   \n999         999  3559425864.jpg#1r1c  contradiction   \n\n                                             Sentence1  \\\n0    A young man in an orange hat walks his bicycle...   \n1    A woman standing with smile on her face and sh...   \n2             A dog jumps to catch a red ball outside.   \n4    A group of people stares at a wall that is fil...   \n7    A man in a plaid shirt is walking on a street ...   \n..                                                 ...   \n994  A boy is running in a spinning metal tunnel in...   \n995        Three men are standing on stage performing.   \n996  3 young man in hoods standing in the middle of...   \n997  A woman in skirt, torn stockings and combat bo...   \n999  Bicyclist ride the course near the ocean as th...   \n\n                                             Sentence2  \\\n0    A man in an orange hat walks his bike down a s...   \n1          A woman stands holding her baby and crying.   \n2                                  the dog is jumping.   \n4               A group of people analyze art together   \n7                          He is walking on his hands.   \n..                                                 ...   \n994                               He is getting dizzy.   \n995          Women are playing trumpets on the street.   \n996       Three hood wearing people stand in a street.   \n997  The man and woman are going to a movie in the ...   \n999             The cyclist was riding in the morning.   \n\n                                         Explanation_1  \\\n0           A bicycle and a bike, are the same object.   \n1    If a woman has a smile on her face then she is...   \n2         Jumping is an action needed to catch a ball.   \n4             Not necessary that they analyze the art.   \n7    The man is either walking or walking on his ha...   \n..                                                 ...   \n994               A boy can run without getting dizzy.   \n995  either there are men on stage, or women playin...   \n996            3 Man in hoods are hood wearing people.   \n997  walking down a street does not mean they are g...   \n999  This implies that it is either a (regular) bic...   \n\n                                    Sentence1_marked_1  \\\n0     A young man in an orange hat walks his *bicyc...   \n1    A woman standing with *smile* *on* *her* *face...   \n2     A *dog* *jumps* to *catch* a red *ball* *outs...   \n4    A group of people stares at a wall that is fil...   \n7    A man in a plaid shirt is *walking* on a *stre...   \n..                                                 ...   \n994  A boy is running in a spinning metal tunnel in...   \n995      Three *men* are standing on stage performing.   \n996   *3* young *man* in *hoods* standing in the mi...   \n997  A woman in skirt, torn stockings and combat bo...   \n999  *Bicyclist* ride the course near the ocean as ...   \n\n                                    Sentence2_marked_1  \\\n0     A man in an orange hat walks his *bike* down ...   \n1        A woman stands holding her baby and *crying.*   \n2                              the *dog* is *jumping.*   \n4             A group of people *analyze* art together   \n7                      He is *walking* on his *hands.*   \n..                                                 ...   \n994                             He is getting *dizzy.*   \n995        *Women* are playing trumpets on the street.   \n996   Three *hood* *wearing* *people* stand in a st...   \n997   The man and woman are going to a *movie* in t...   \n999         *The* *cyclist* was riding in the morning.   \n\n    Sentence1_Highlighted_1 Sentence2_Highlighted_1  ...  \\\n0                         9                       8  ...   \n1                   4,5,6,7                       7  ...   \n2                 2,7,8,1,4                     3,1  ...   \n4                        {}                       4  ...   \n7                      7,10                     2,5  ...   \n..                      ...                     ...  ...   \n994                      {}                       3  ...   \n995                       1                       0  ...   \n996                   2,0,4                   1,2,3  ...   \n997                      {}                       8  ...   \n999                       0                     1,0  ...   \n\n                                         Explanation_3  \\\n0    The young man in an orange hart is the man wal...   \n1            the woman is either crying or has a smile   \n2       If the dog jumps to catch, the dog is jumping.   \n4    The group may have just been admiring as oppos...   \n7    A man cannot be walking on a street and walkin...   \n..                                                 ...   \n994  Running in a spinning metal tunnel does not al...   \n995                  There can be either men or women.   \n996  If they are standing in the middle of a quiet ...   \n997  Just because a man and woman are wearing theme...   \n999    The day does not come to an end in the morning.   \n\n                                    Sentence1_marked_3  \\\n0     A *young* *man* in *an* *orange* *hat* *walks...   \n1    A *woman* standing with *smile* on her face an...   \n2         A dog *jumps* to *catch* a red ball outside.   \n4    A group of people stares at a wall that is fil...   \n7    A man in a plaid shirt is *walking* *on* *a* *...   \n..                                                 ...   \n994  A boy is running in a spinning metal tunnel in...   \n995      Three *men* are standing on stage performing.   \n996   3 young man in hoods *standing* *in* *the* *m...   \n997  A woman in skirt, torn stockings and combat bo...   \n999  Bicyclist ride the course near the ocean as th...   \n\n                                    Sentence2_marked_3  \\\n0     A *man* in *an* *orange* *hat* *walks* *his* ...   \n1      A *woman* stands holding her baby and *crying.*   \n2                                the dog is *jumping.*   \n4           A group of people *analyze* art *together*   \n7                  He is *walking* *on* *his* *hands.*   \n..                                                 ...   \n994                             He is getting *dizzy.*   \n995        *Women* are playing trumpets on the street.   \n996   Three hood wearing people *stand* *in* *a* *s...   \n997   The man and woman are going to a *movie* in t...   \n999           The cyclist was riding in the *morning.*   \n\n    Sentence1_Highlighted_3 Sentence2_Highlighted_3  \\\n0     1,2,4,5,6,7,8,9,10,12      1,5,4,3,11,9,8,7,6   \n1                       4,1                     1,7   \n2                       2,4                       3   \n4                        {}                     4,6   \n7                  7,8,9,10                 2,3,4,5   \n..                      ...                     ...   \n994                      {}                       3   \n995                       1                       0   \n996      5,6,7,8,9,11,10,12                 4,5,6,7   \n997                      {}                       8   \n999           9,11,10,12,13                       6   \n\n                                                prompt  \\\n0    Statement: Two african women bike down a dirt ...   \n1    Statement: A man with a striped shirt and glas...   \n2    Statement: a lone rock climber in a harness cl...   \n4    Statement: A girl in a red and pink shirt is c...   \n7    Statement: A woman wearing blue pants and a wh...   \n..                                                 ...   \n994  Statement: A group of women in saris sit, talk...   \n995  Statement: Boy in shorts, face down in shallow...   \n996  Statement: Two youth getting squirted by water...   \n997  Statement: A bride and groom stand in front of...   \n999  Statement: A shirtless man sits beside an Asia...   \n\n                                      pred_explanation     pred_label  \\\n0    A young man in an orange hat is a rephrasing o...     entailment   \n1    The woman is smiling and holding a wood, not a...  contradiction   \n2    The statement implies that the dog is jumping ...     entailment   \n4      Staring at drawings is a form of analyzing art.     entailment   \n7    Walking on a street and walking on hands are t...  contradiction   \n..                                                 ...            ...   \n994  We don't know if the boy is getting dizzy or not.        neutral   \n995  The statement describes three men on stage per...  contradiction   \n996  The answer implies that the people in the stre...     entailment   \n997  The clothing does not necessarily indicate tha...        neutral   \n999  The day coming to an end implies it is evening...  contradiction   \n\n                                              S1_SVO  \\\n0                            [(man, walks, bicycle)]   \n1     [(woman, holding, wood), (she, holding, wood)]   \n2                               [(dog, jumps, None)]   \n4      [(group, stares, None), (that, filled, None)]   \n7                             [(man, walking, None)]   \n..                                               ...   \n994                           [(boy, running, None)]   \n995                          [(men, standing, None)]   \n996                          [(man, standing, None)]   \n997                       [(woman, torn, stockings)]   \n999  [(Bicyclist, ride, course), (day, comes, None)]   \n\n                           S2_SVO  \n0            [(man, walks, bike)]  \n1         [(woman, stands, None)]  \n2          [(dog, jumping, None)]  \n4         [(group, analyze, art)]  \n7           [(He, walking, None)]  \n..                            ...  \n994         [(He, getting, None)]  \n995  [(Women, playing, trumpets)]  \n996       [(people, stand, None)]  \n997          [(man, going, None)]  \n999     [(cyclist, riding, None)]  \n\n[667 rows x 25 columns]",
      "text/html": "<div>\n<style scoped>\n    .dataframe tbody tr th:only-of-type {\n        vertical-align: middle;\n    }\n\n    .dataframe tbody tr th {\n        vertical-align: top;\n    }\n\n    .dataframe thead th {\n        text-align: right;\n    }\n</style>\n<table border=\"1\" class=\"dataframe\">\n  <thead>\n    <tr style=\"text-align: right;\">\n      <th></th>\n      <th>Unnamed: 0</th>\n      <th>pairID</th>\n      <th>gold_label</th>\n      <th>Sentence1</th>\n      <th>Sentence2</th>\n      <th>Explanation_1</th>\n      <th>Sentence1_marked_1</th>\n      <th>Sentence2_marked_1</th>\n      <th>Sentence1_Highlighted_1</th>\n      <th>Sentence2_Highlighted_1</th>\n      <th>...</th>\n      <th>Explanation_3</th>\n      <th>Sentence1_marked_3</th>\n      <th>Sentence2_marked_3</th>\n      <th>Sentence1_Highlighted_3</th>\n      <th>Sentence2_Highlighted_3</th>\n      <th>prompt</th>\n      <th>pred_explanation</th>\n      <th>pred_label</th>\n      <th>S1_SVO</th>\n      <th>S2_SVO</th>\n    </tr>\n  </thead>\n  <tbody>\n    <tr>\n      <th>0</th>\n      <td>0</td>\n      <td>4813951931.jpg#3r1e</td>\n      <td>entailment</td>\n      <td>A young man in an orange hat walks his bicycle...</td>\n      <td>A man in an orange hat walks his bike down a s...</td>\n      <td>A bicycle and a bike, are the same object.</td>\n      <td>A young man in an orange hat walks his *bicyc...</td>\n      <td>A man in an orange hat walks his *bike* down ...</td>\n      <td>9</td>\n      <td>8</td>\n      <td>...</td>\n      <td>The young man in an orange hart is the man wal...</td>\n      <td>A *young* *man* in *an* *orange* *hat* *walks...</td>\n      <td>A *man* in *an* *orange* *hat* *walks* *his* ...</td>\n      <td>1,2,4,5,6,7,8,9,10,12</td>\n      <td>1,5,4,3,11,9,8,7,6</td>\n      <td>Statement: Two african women bike down a dirt ...</td>\n      <td>A young man in an orange hat is a rephrasing o...</td>\n      <td>entailment</td>\n      <td>[(man, walks, bicycle)]</td>\n      <td>[(man, walks, bike)]</td>\n    </tr>\n    <tr>\n      <th>1</th>\n      <td>1</td>\n      <td>4678320536.jpg#1r1c</td>\n      <td>contradiction</td>\n      <td>A woman standing with smile on her face and sh...</td>\n      <td>A woman stands holding her baby and crying.</td>\n      <td>If a woman has a smile on her face then she is...</td>\n      <td>A woman standing with *smile* *on* *her* *face...</td>\n      <td>A woman stands holding her baby and *crying.*</td>\n      <td>4,5,6,7</td>\n      <td>7</td>\n      <td>...</td>\n      <td>the woman is either crying or has a smile</td>\n      <td>A *woman* standing with *smile* on her face an...</td>\n      <td>A *woman* stands holding her baby and *crying.*</td>\n      <td>4,1</td>\n      <td>1,7</td>\n      <td>Statement: A man with a striped shirt and glas...</td>\n      <td>The woman is smiling and holding a wood, not a...</td>\n      <td>contradiction</td>\n      <td>[(woman, holding, wood), (she, holding, wood)]</td>\n      <td>[(woman, stands, None)]</td>\n    </tr>\n    <tr>\n      <th>2</th>\n      <td>2</td>\n      <td>661749711.jpg#2r1e</td>\n      <td>entailment</td>\n      <td>A dog jumps to catch a red ball outside.</td>\n      <td>the dog is jumping.</td>\n      <td>Jumping is an action needed to catch a ball.</td>\n      <td>A *dog* *jumps* to *catch* a red *ball* *outs...</td>\n      <td>the *dog* is *jumping.*</td>\n      <td>2,7,8,1,4</td>\n      <td>3,1</td>\n      <td>...</td>\n      <td>If the dog jumps to catch, the dog is jumping.</td>\n      <td>A dog *jumps* to *catch* a red ball outside.</td>\n      <td>the dog is *jumping.*</td>\n      <td>2,4</td>\n      <td>3</td>\n      <td>Statement: a lone rock climber in a harness cl...</td>\n      <td>The statement implies that the dog is jumping ...</td>\n      <td>entailment</td>\n      <td>[(dog, jumps, None)]</td>\n      <td>[(dog, jumping, None)]</td>\n    </tr>\n    <tr>\n      <th>4</th>\n      <td>4</td>\n      <td>32542645.jpg#0r1n</td>\n      <td>neutral</td>\n      <td>A group of people stares at a wall that is fil...</td>\n      <td>A group of people analyze art together</td>\n      <td>Not necessary that they analyze the art.</td>\n      <td>A group of people stares at a wall that is fil...</td>\n      <td>A group of people *analyze* art together</td>\n      <td>{}</td>\n      <td>4</td>\n      <td>...</td>\n      <td>The group may have just been admiring as oppos...</td>\n      <td>A group of people stares at a wall that is fil...</td>\n      <td>A group of people *analyze* art *together*</td>\n      <td>{}</td>\n      <td>4,6</td>\n      <td>Statement: A girl in a red and pink shirt is c...</td>\n      <td>Staring at drawings is a form of analyzing art.</td>\n      <td>entailment</td>\n      <td>[(group, stares, None), (that, filled, None)]</td>\n      <td>[(group, analyze, art)]</td>\n    </tr>\n    <tr>\n      <th>7</th>\n      <td>7</td>\n      <td>4911982235.jpg#0r1c</td>\n      <td>contradiction</td>\n      <td>A man in a plaid shirt is walking on a street ...</td>\n      <td>He is walking on his hands.</td>\n      <td>The man is either walking or walking on his ha...</td>\n      <td>A man in a plaid shirt is *walking* on a *stre...</td>\n      <td>He is *walking* on his *hands.*</td>\n      <td>7,10</td>\n      <td>2,5</td>\n      <td>...</td>\n      <td>A man cannot be walking on a street and walkin...</td>\n      <td>A man in a plaid shirt is *walking* *on* *a* *...</td>\n      <td>He is *walking* *on* *his* *hands.*</td>\n      <td>7,8,9,10</td>\n      <td>2,3,4,5</td>\n      <td>Statement: A woman wearing blue pants and a wh...</td>\n      <td>Walking on a street and walking on hands are t...</td>\n      <td>contradiction</td>\n      <td>[(man, walking, None)]</td>\n      <td>[(He, walking, None)]</td>\n    </tr>\n    <tr>\n      <th>...</th>\n      <td>...</td>\n      <td>...</td>\n      <td>...</td>\n      <td>...</td>\n      <td>...</td>\n      <td>...</td>\n      <td>...</td>\n      <td>...</td>\n      <td>...</td>\n      <td>...</td>\n      <td>...</td>\n      <td>...</td>\n      <td>...</td>\n      <td>...</td>\n      <td>...</td>\n      <td>...</td>\n      <td>...</td>\n      <td>...</td>\n      <td>...</td>\n      <td>...</td>\n      <td>...</td>\n    </tr>\n    <tr>\n      <th>994</th>\n      <td>994</td>\n      <td>3251646144.jpg#0r1n</td>\n      <td>neutral</td>\n      <td>A boy is running in a spinning metal tunnel in...</td>\n      <td>He is getting dizzy.</td>\n      <td>A boy can run without getting dizzy.</td>\n      <td>A boy is running in a spinning metal tunnel in...</td>\n      <td>He is getting *dizzy.*</td>\n      <td>{}</td>\n      <td>3</td>\n      <td>...</td>\n      <td>Running in a spinning metal tunnel does not al...</td>\n      <td>A boy is running in a spinning metal tunnel in...</td>\n      <td>He is getting *dizzy.*</td>\n      <td>{}</td>\n      <td>3</td>\n      <td>Statement: A group of women in saris sit, talk...</td>\n      <td>We don't know if the boy is getting dizzy or not.</td>\n      <td>neutral</td>\n      <td>[(boy, running, None)]</td>\n      <td>[(He, getting, None)]</td>\n    </tr>\n    <tr>\n      <th>995</th>\n      <td>995</td>\n      <td>2429284131.jpg#2r1c</td>\n      <td>contradiction</td>\n      <td>Three men are standing on stage performing.</td>\n      <td>Women are playing trumpets on the street.</td>\n      <td>either there are men on stage, or women playin...</td>\n      <td>Three *men* are standing on stage performing.</td>\n      <td>*Women* are playing trumpets on the street.</td>\n      <td>1</td>\n      <td>0</td>\n      <td>...</td>\n      <td>There can be either men or women.</td>\n      <td>Three *men* are standing on stage performing.</td>\n      <td>*Women* are playing trumpets on the street.</td>\n      <td>1</td>\n      <td>0</td>\n      <td>Statement: Boy in shorts, face down in shallow...</td>\n      <td>The statement describes three men on stage per...</td>\n      <td>contradiction</td>\n      <td>[(men, standing, None)]</td>\n      <td>[(Women, playing, trumpets)]</td>\n    </tr>\n    <tr>\n      <th>996</th>\n      <td>996</td>\n      <td>4460943467.jpg#0r1e</td>\n      <td>entailment</td>\n      <td>3 young man in hoods standing in the middle of...</td>\n      <td>Three hood wearing people stand in a street.</td>\n      <td>3 Man in hoods are hood wearing people.</td>\n      <td>*3* young *man* in *hoods* standing in the mi...</td>\n      <td>Three *hood* *wearing* *people* stand in a st...</td>\n      <td>2,0,4</td>\n      <td>1,2,3</td>\n      <td>...</td>\n      <td>If they are standing in the middle of a quiet ...</td>\n      <td>3 young man in hoods *standing* *in* *the* *m...</td>\n      <td>Three hood wearing people *stand* *in* *a* *s...</td>\n      <td>5,6,7,8,9,11,10,12</td>\n      <td>4,5,6,7</td>\n      <td>Statement: Two youth getting squirted by water...</td>\n      <td>The answer implies that the people in the stre...</td>\n      <td>entailment</td>\n      <td>[(man, standing, None)]</td>\n      <td>[(people, stand, None)]</td>\n    </tr>\n    <tr>\n      <th>997</th>\n      <td>997</td>\n      <td>2226343167.jpg#0r1n</td>\n      <td>neutral</td>\n      <td>A woman in skirt, torn stockings and combat bo...</td>\n      <td>The man and woman are going to a movie in the ...</td>\n      <td>walking down a street does not mean they are g...</td>\n      <td>A woman in skirt, torn stockings and combat bo...</td>\n      <td>The man and woman are going to a *movie* in t...</td>\n      <td>{}</td>\n      <td>8</td>\n      <td>...</td>\n      <td>Just because a man and woman are wearing theme...</td>\n      <td>A woman in skirt, torn stockings and combat bo...</td>\n      <td>The man and woman are going to a *movie* in t...</td>\n      <td>{}</td>\n      <td>8</td>\n      <td>Statement: A bride and groom stand in front of...</td>\n      <td>The clothing does not necessarily indicate tha...</td>\n      <td>neutral</td>\n      <td>[(woman, torn, stockings)]</td>\n      <td>[(man, going, None)]</td>\n    </tr>\n    <tr>\n      <th>999</th>\n      <td>999</td>\n      <td>3559425864.jpg#1r1c</td>\n      <td>contradiction</td>\n      <td>Bicyclist ride the course near the ocean as th...</td>\n      <td>The cyclist was riding in the morning.</td>\n      <td>This implies that it is either a (regular) bic...</td>\n      <td>*Bicyclist* ride the course near the ocean as ...</td>\n      <td>*The* *cyclist* was riding in the morning.</td>\n      <td>0</td>\n      <td>1,0</td>\n      <td>...</td>\n      <td>The day does not come to an end in the morning.</td>\n      <td>Bicyclist ride the course near the ocean as th...</td>\n      <td>The cyclist was riding in the *morning.*</td>\n      <td>9,11,10,12,13</td>\n      <td>6</td>\n      <td>Statement: A shirtless man sits beside an Asia...</td>\n      <td>The day coming to an end implies it is evening...</td>\n      <td>contradiction</td>\n      <td>[(Bicyclist, ride, course), (day, comes, None)]</td>\n      <td>[(cyclist, riding, None)]</td>\n    </tr>\n  </tbody>\n</table>\n<p>667 rows × 25 columns</p>\n</div>"
     },
     "execution_count": 11,
     "metadata": {},
     "output_type": "execute_result"
    }
   ],
   "source": [
    "gpt_pred_svo"
   ],
   "metadata": {
    "collapsed": false,
    "pycharm": {
     "name": "#%%\n"
    }
   }
  },
  {
   "cell_type": "markdown",
   "source": [
    "# Analyse Predictions"
   ],
   "metadata": {
    "collapsed": false,
    "pycharm": {
     "name": "#%% md\n"
    }
   }
  },
  {
   "cell_type": "code",
   "execution_count": 4,
   "outputs": [],
   "source": [
    "docs = [nlp(test.iloc[i].Explanation_1) for i in range(20)]"
   ],
   "metadata": {
    "collapsed": false,
    "pycharm": {
     "name": "#%%\n"
    }
   }
  },
  {
   "cell_type": "code",
   "execution_count": 5,
   "outputs": [
    {
     "name": "stdout",
     "output_type": "stream",
     "text": [
      "A bicycle // bicycle // nsubj // are\n",
      "a bike // bike // conj // bicycle\n",
      "the same object // object // attr // are\n",
      "-----------------------------------------\n",
      "a woman // woman // nsubj // has\n",
      "a smile // smile // dobj // has\n",
      "her face // face // pobj // on\n",
      "she // she // nsubj // crying\n",
      "-----------------------------------------\n",
      "Jumping // Jumping // nsubj // is\n",
      "an action // action // attr // is\n",
      "a ball // ball // dobj // catch\n",
      "-----------------------------------------\n",
      "one person // person // attr // be\n",
      "one man // man // nsubj // shaving\n",
      "another man's hair // hair // dobj // shaving\n",
      "-----------------------------------------\n",
      "they // they // nsubj // analyze\n",
      "the art // art // dobj // analyze\n",
      "-----------------------------------------\n",
      "A snowboarder // snowboarder // nsubj // is\n",
      "a person // person // attr // is\n",
      "a snowboarder // snowboarder // nsubj // sails\n",
      "the air // air // pobj // through\n",
      "they // they // nsubj // snowboarding\n",
      "a person // person // nsubj // snowboarding\n",
      "-----------------------------------------\n",
      "A person // person // nsubj // chew\n",
      "a liquid // liquid // dobj // chew\n",
      "they // they // nsubj // consume\n",
      "a liquid // liquid // dobj // consume\n",
      "the phone // phone // pobj // on\n",
      "-----------------------------------------\n",
      "The man // man // nsubj // walking\n",
      "his hands // hands // pobj // on\n",
      "people // people // nsubj // walk\n",
      "their hands // hands // pobj // on\n",
      "the street // street // pobj // down\n",
      "-----------------------------------------\n",
      "two different gaits // gaits // attr // are\n",
      "-----------------------------------------\n",
      "a young man // man // nsubj // constitute\n",
      "an older man // man // conj // man\n",
      "people // people // dobj // constitute\n",
      "differing ages // ages // pobj // of\n",
      "-----------------------------------------\n",
      "a woman // woman // nsubj // helping\n",
      "a girl // girl // nsubj // mean\n",
      "the girl // girl // nsubj // is\n",
      "her child // child // attr // is\n",
      "-----------------------------------------\n",
      "Two people // people // nsubj // do\n",
      "something // something // dobj // do\n",
      "a park // park // pobj // in\n",
      "them // them // nsubj // having\n",
      "a couple // couple // attr // be\n",
      "It // It // nsubj // 's\n",
      "they // they // nsubj // are\n",
      "-----------------------------------------\n",
      "A house's flower garden // garden // nsubj // is\n",
      "a street // street // pobj // on\n",
      "-----------------------------------------\n",
      "A man // man // nsubj // sits\n",
      "front // front // pobj // in\n",
      "another man // man // pobj // of\n",
      "-----------------------------------------\n",
      "The woman // woman // nsubj // walking\n",
      "either a horse // horse // pobj // with\n",
      "a dog // dog // conj // horse\n",
      "who // who // nsubj // walks\n",
      "a horse // horse // dobj // walks\n",
      "the middle // middle // pobj // in\n",
      "a street // street // pobj // of\n",
      "-----------------------------------------\n",
      "The man // man // nsubj // has\n",
      "shorts // shorts // dobj // has\n",
      "he // he // nsubj // is\n",
      "a leaf-patterned pair // pair // pobj // in\n",
      "short (shorts // shorts // pobj // of\n",
      "-----------------------------------------\n",
      "You // You // nsubj // challenge\n",
      "someone // someone // dobj // challenge\n",
      "you // you // nsubj // try\n",
      "a ball // ball // dobj // grab\n",
      "them // them // pobj // from\n",
      "-----------------------------------------\n",
      "The woman // woman // nsubj // looking\n",
      "a mirror // mirror // pobj // in\n",
      "she // she // nsubj // were\n",
      "-----------------------------------------\n",
      "You // You // nsubj // infer\n",
      "they // they // nsubj // are\n",
      "-----------------------------------------\n",
      "You // You // nsubj // infer\n",
      "the sun sets // sets // dobj // infer\n",
      "-----------------------------------------\n"
     ]
    }
   ],
   "source": [
    "for doc in docs:\n",
    "    for chunk in doc.noun_chunks:\n",
    "        print(chunk.text, '//', chunk.root.text, '//', chunk.root.dep_, '//', chunk.root.head.text)\n",
    "    print('-----------------------------------------')"
   ],
   "metadata": {
    "collapsed": false,
    "pycharm": {
     "name": "#%%\n"
    }
   }
  },
  {
   "cell_type": "code",
   "execution_count": 74,
   "outputs": [],
   "source": [
    "doc = nlp(gpt_pred.iloc[9].Sentence2)\n",
    "html = spacy.displacy.render(doc, style='dep', jupyter=False)\n",
    "with open('data_vis' + 'test' + '.html', 'w') as f:\n",
    "    f.write(html)"
   ],
   "metadata": {
    "collapsed": false,
    "pycharm": {
     "name": "#%%\n"
    }
   }
  },
  {
   "cell_type": "markdown",
   "source": [
    "# Currently Explanation 1 -> Change to pred_explanation"
   ],
   "metadata": {
    "collapsed": false,
    "pycharm": {
     "name": "#%% md\n"
    }
   }
  },
  {
   "cell_type": "code",
   "execution_count": 12,
   "outputs": [],
   "source": [
    "n = gpt_pred.shape[0]\n",
    "expls = [nlp(gpt_pred.pred_explanation.iloc[i]) for i in range(n)]"
   ],
   "metadata": {
    "collapsed": false,
    "pycharm": {
     "name": "#%%\n"
    }
   }
  },
  {
   "cell_type": "code",
   "execution_count": 13,
   "outputs": [],
   "source": [
    "verbs_sentence = list()\n",
    "\n",
    "cur_index = 0\n",
    "verb_dict = dict()\n",
    "root_term_dict = dict()\n",
    "\n",
    "# loop through each row in the test data\n",
    "for expl in expls:\n",
    "    cur_verbs = list()\n",
    "    neg_root = None\n",
    "    contains_different = False\n",
    "    contains_same = False\n",
    "\n",
    "    # loop through each token in current explanation\n",
    "    for token in expl:\n",
    "        if token.lemma_ == 'different':\n",
    "            contains_different = True\n",
    "        if token.lemma_ == 'same':\n",
    "            contains_same = True\n",
    "        if token.dep_ == 'ROOT':\n",
    "            cur_root = token.lemma_\n",
    "        if token.dep_ == 'neg' and token.head.dep_ == 'ROOT':\n",
    "            neg_root = token.lemma_ + \" \" + token.head.lemma_\n",
    "    if neg_root:\n",
    "        cur_root = neg_root\n",
    "    if contains_different:\n",
    "        cur_root += \" different\"\n",
    "    if contains_same:\n",
    "        cur_root += \" same\"\n",
    "    if cur_root not in root_term_dict.keys():\n",
    "        root_term_dict[cur_root] = [cur_index]\n",
    "    else:\n",
    "        root_term_dict[cur_root] += [cur_index]\n",
    "    cur_index += 1"
   ],
   "metadata": {
    "collapsed": false,
    "pycharm": {
     "name": "#%%\n"
    }
   }
  },
  {
   "cell_type": "code",
   "execution_count": 14,
   "outputs": [
    {
     "data": {
      "text/plain": "be                  184\nimply               167\nbe different         64\nnot mean             49\nnot be same          34\n                   ... \nnot be different      1\ninclude               1\nsmile                 1\ngo                    1\nshine                 1\nLength: 213, dtype: int64"
     },
     "execution_count": 14,
     "metadata": {},
     "output_type": "execute_result"
    }
   ],
   "source": [
    "pd.Series(root_term_dict).apply(lambda x: len(x)).sort_values(ascending=False)"
   ],
   "metadata": {
    "collapsed": false,
    "pycharm": {
     "name": "#%%\n"
    }
   }
  },
  {
   "cell_type": "code",
   "execution_count": 36,
   "outputs": [
    {
     "name": "stdout",
     "output_type": "stream",
     "text": [
      "Max number of SVO structures in sentence 1:  6\n",
      "Max number of SVO structures in sentence 2:  4\n"
     ]
    }
   ],
   "source": [
    "print(\"Max number of SVO structures in sentence 1: \", gpt_pred.S1_SVO.apply(lambda x: len(x)).max())\n",
    "print(\"Max number of SVO structures in sentence 2: \", gpt_pred.S2_SVO.apply(lambda x: len(x)).max())"
   ],
   "metadata": {
    "collapsed": false,
    "pycharm": {
     "name": "#%%\n"
    }
   }
  },
  {
   "cell_type": "code",
   "execution_count": 37,
   "outputs": [
    {
     "name": "stdout",
     "output_type": "stream",
     "text": [
      "[be]\n",
      "[smile]\n",
      "[imply]\n",
      "[have]\n",
      "[be, different]\n",
      "[walk]\n",
      "[imply, different]\n",
      "[infer]\n",
      "[involve]\n",
      "[not, know]\n",
      "[have, same]\n",
      "[not, run]\n",
      "[provide]\n",
      "[challenge]\n",
      "[look]\n",
      "[not, specify]\n",
      "[cast]\n",
      "[indicate]\n",
      "[wear]\n",
      "[not, be, same]\n",
      "[lie]\n",
      "[write]\n",
      "[not, infer]\n",
      "[not, fight]\n",
      "[describe, different]\n",
      "[not, be]\n",
      "[not, mean]\n",
      "[contradict]\n",
      "[watch]\n",
      "[not, imply]\n",
      "[be, same]\n",
      "[not, mention]\n",
      "[not, do, different, same]\n",
      "[not, sit]\n",
      "[not, play]\n",
      "[not, describe]\n",
      "[not, assume]\n",
      "[not, match]\n",
      "[not, play, same]\n",
      "[pass]\n",
      "[mention]\n",
      "[talk]\n",
      "[not, need]\n",
      "[touch]\n",
      "[describe]\n",
      "[fix]\n",
      "[singe]\n",
      "[dump]\n",
      "[decorate]\n",
      "[specify]\n",
      "[sit]\n",
      "[not, refer]\n",
      "[married]\n",
      "[not, cut]\n",
      "[not, provide]\n",
      "[race]\n",
      "[donate]\n",
      "[mean, same]\n",
      "[eat]\n",
      "[not, eat, same]\n",
      "[hold]\n",
      "[not, walk, same]\n",
      "[kneeling]\n",
      "[not, relate]\n",
      "[show]\n",
      "[lay]\n",
      "[not, drink]\n",
      "[not, dance]\n",
      "[breakdance]\n",
      "[describe, same]\n",
      "[say]\n",
      "[occur]\n",
      "[block]\n",
      "[depict]\n",
      "[not, ride, same]\n",
      "[associate]\n",
      "[say, same]\n",
      "[not, gather, same]\n",
      "[point]\n",
      "[not, state]\n",
      "[take]\n",
      "[chisel]\n",
      "[rephrase]\n",
      "[perform]\n",
      "[not, do, same]\n",
      "[not, pull]\n",
      "[practice]\n",
      "[cut]\n",
      "[not, fight, same]\n",
      "[stand]\n",
      "[not, have]\n",
      "[interpret]\n",
      "[saw]\n",
      "[classify]\n",
      "[not, sleep, same]\n",
      "[not, spin, same]\n",
      "[not, look]\n",
      "[not, indicate]\n",
      "[pose]\n",
      "[balance]\n",
      "[not, collect]\n",
      "[stretch]\n",
      "[want]\n",
      "[not, be, different]\n",
      "[include]\n",
      "[not, run, same]\n",
      "[ask]\n",
      "[run]\n",
      "[go]\n",
      "[imply, same]\n",
      "[attempt]\n",
      "[not, say]\n",
      "[locate]\n",
      "[not, dance, same]\n",
      "[compete]\n",
      "[not, carry, same]\n",
      "[walk, same]\n",
      "[need]\n",
      "[wait]\n",
      "[be, different, same]\n",
      "[learn]\n",
      "[not, perform, same]\n",
      "[not, climb, same]\n",
      "[do]\n",
      "[require]\n",
      "[yell]\n",
      "[not, toe]\n",
      "[consider]\n",
      "[not, clean, same]\n",
      "[observe]\n",
      "[play]\n",
      "[not, celebrate]\n",
      "[clarify]\n",
      "[work]\n",
      "[cook]\n",
      "[not, give]\n",
      "[not, fly, same]\n",
      "[refer, same]\n",
      "[throw]\n",
      "[suggest]\n",
      "[not, stand]\n",
      "[seat]\n",
      "[not, try, same]\n",
      "[sweep]\n",
      "[not, wear, same]\n",
      "[draw]\n",
      "[refer]\n",
      "[ride]\n",
      "[laugh]\n",
      "[gather]\n",
      "[not, wait]\n",
      "[pour]\n",
      "[state]\n",
      "[not, sit, same]\n",
      "[not, have, same]\n",
      "[not, buy]\n",
      "[add]\n",
      "[not, change]\n",
      "[not, pass, same]\n",
      "[entail]\n",
      "[not, swim]\n",
      "[use]\n",
      "[not, take]\n",
      "[teach]\n",
      "[not, throw, same]\n",
      "[swinge]\n",
      "[not, paint, same]\n",
      "[spray]\n",
      "[not, give, same]\n",
      "[demonstrate]\n",
      "[not, stand, same]\n",
      "[not, climb]\n",
      "[not, confirm]\n",
      "[not, sell, same]\n",
      "[mean]\n",
      "[take, same]\n",
      "[not, occupy, same]\n",
      "[try]\n",
      "[not, ride]\n",
      "[not, direct]\n",
      "[nap]\n",
      "[shop]\n",
      "[travel]\n",
      "[not, hail]\n",
      "[not, singe, same]\n",
      "[create]\n",
      "[not, follow]\n",
      "[bounce]\n",
      "[see]\n",
      "[light]\n",
      "[photograph]\n",
      "[not, blind]\n",
      "[make]\n",
      "[pitch]\n",
      "[film]\n",
      "[not, be, different, same]\n",
      "[measure]\n",
      "[not, leave]\n",
      "[not, eat]\n",
      "[carry]\n",
      "[not, rollerskate, same]\n",
      "[fly]\n",
      "[search]\n",
      "[jump]\n",
      "[happen]\n",
      "[not, work, same]\n",
      "[train]\n",
      "[reach]\n",
      "[pull]\n",
      "[do, same]\n",
      "[not, drive]\n",
      "[enjoy]\n",
      "[shine]\n"
     ]
    }
   ],
   "source": [
    "for i in root_term_dict.keys():\n",
    "    doc = nlp(i)\n",
    "    print([doc[j] for j in range(len(doc))])"
   ],
   "metadata": {
    "collapsed": false,
    "pycharm": {
     "name": "#%%\n"
    }
   }
  },
  {
   "cell_type": "code",
   "execution_count": 44,
   "outputs": [
    {
     "data": {
      "text/plain": "{'be': [0,\n  3,\n  4,\n  5,\n  20,\n  23,\n  44,\n  48,\n  50,\n  53,\n  55,\n  56,\n  57,\n  62,\n  68,\n  72,\n  82,\n  86,\n  93,\n  97,\n  98,\n  123,\n  128,\n  140,\n  147,\n  156,\n  164,\n  175,\n  177,\n  180,\n  181,\n  184,\n  185,\n  189,\n  198,\n  203,\n  209,\n  211,\n  212,\n  231,\n  232,\n  237,\n  239,\n  243,\n  244,\n  247,\n  252,\n  256,\n  259,\n  269,\n  271,\n  281,\n  296,\n  306,\n  314,\n  328,\n  331,\n  336,\n  337,\n  349,\n  356,\n  357,\n  367,\n  368,\n  369,\n  370,\n  372,\n  387,\n  389,\n  391,\n  402,\n  406,\n  407,\n  416,\n  424,\n  430,\n  438,\n  440,\n  442,\n  447,\n  453,\n  466,\n  479,\n  480,\n  483,\n  486,\n  488,\n  493,\n  495,\n  499,\n  515,\n  521,\n  522,\n  523,\n  524,\n  528,\n  529,\n  538,\n  551,\n  555,\n  560,\n  564,\n  566,\n  567,\n  568,\n  584,\n  585,\n  586,\n  593,\n  604,\n  608,\n  617,\n  618,\n  620,\n  625,\n  633,\n  640,\n  651,\n  661,\n  663,\n  666,\n  671,\n  674,\n  681,\n  685,\n  689,\n  690,\n  691,\n  697,\n  706,\n  710,\n  713,\n  716,\n  721,\n  734,\n  735,\n  740,\n  750,\n  753,\n  761,\n  764,\n  766,\n  777,\n  783,\n  785,\n  787,\n  791,\n  797,\n  807,\n  812,\n  828,\n  833,\n  839,\n  842,\n  844,\n  846,\n  847,\n  850,\n  858,\n  881,\n  884,\n  885,\n  886,\n  892,\n  904,\n  905,\n  908,\n  919,\n  934,\n  936,\n  944,\n  948,\n  950,\n  951,\n  953,\n  955,\n  962,\n  966,\n  968,\n  971,\n  974,\n  976,\n  981,\n  987],\n 'smile': [1],\n 'imply': [2,\n  22,\n  24,\n  36,\n  40,\n  52,\n  54,\n  61,\n  73,\n  76,\n  83,\n  84,\n  85,\n  87,\n  88,\n  101,\n  127,\n  130,\n  136,\n  142,\n  146,\n  152,\n  157,\n  169,\n  170,\n  182,\n  183,\n  186,\n  187,\n  192,\n  206,\n  208,\n  218,\n  225,\n  238,\n  240,\n  245,\n  248,\n  249,\n  260,\n  262,\n  265,\n  275,\n  277,\n  278,\n  283,\n  300,\n  309,\n  316,\n  321,\n  327,\n  332,\n  334,\n  342,\n  354,\n  361,\n  365,\n  366,\n  375,\n  382,\n  383,\n  384,\n  388,\n  390,\n  397,\n  403,\n  409,\n  410,\n  411,\n  412,\n  415,\n  426,\n  429,\n  434,\n  445,\n  446,\n  459,\n  469,\n  474,\n  476,\n  482,\n  490,\n  496,\n  503,\n  506,\n  510,\n  511,\n  517,\n  530,\n  536,\n  537,\n  539,\n  543,\n  549,\n  563,\n  565,\n  570,\n  575,\n  577,\n  582,\n  589,\n  592,\n  597,\n  602,\n  609,\n  621,\n  624,\n  627,\n  631,\n  634,\n  645,\n  665,\n  680,\n  686,\n  687,\n  699,\n  700,\n  704,\n  712,\n  717,\n  719,\n  722,\n  724,\n  738,\n  755,\n  768,\n  771,\n  772,\n  774,\n  776,\n  780,\n  784,\n  790,\n  795,\n  809,\n  810,\n  811,\n  816,\n  823,\n  835,\n  836,\n  848,\n  872,\n  876,\n  888,\n  890,\n  896,\n  906,\n  909,\n  911,\n  912,\n  913,\n  916,\n  930,\n  939,\n  940,\n  946,\n  947,\n  954,\n  957,\n  973,\n  978,\n  986,\n  989,\n  991,\n  996,\n  999],\n 'have': [6, 235, 318, 432, 534, 553, 664, 760, 867],\n 'be different': [7,\n  25,\n  38,\n  41,\n  66,\n  67,\n  79,\n  100,\n  120,\n  141,\n  148,\n  151,\n  165,\n  168,\n  196,\n  199,\n  201,\n  210,\n  214,\n  216,\n  219,\n  220,\n  263,\n  295,\n  299,\n  303,\n  319,\n  323,\n  335,\n  364,\n  377,\n  414,\n  451,\n  456,\n  477,\n  492,\n  509,\n  531,\n  544,\n  548,\n  552,\n  558,\n  559,\n  561,\n  587,\n  605,\n  614,\n  615,\n  701,\n  725,\n  749,\n  813,\n  821,\n  827,\n  832,\n  838,\n  861,\n  862,\n  880,\n  883,\n  893,\n  903,\n  980,\n  982],\n 'walk': [8, 313, 470, 574],\n 'imply different': [9, 707, 775],\n 'infer': [10, 215, 471],\n 'involve': [11, 158, 325, 556, 694],\n 'not know': [12,\n  95,\n  268,\n  292,\n  293,\n  324,\n  359,\n  405,\n  448,\n  579,\n  698,\n  840,\n  920,\n  964,\n  994],\n 'have same': [13],\n 'not run': [14],\n 'provide': [15, 423],\n 'challenge': [16],\n 'look': [17, 255, 569],\n 'not specify': [18, 932, 943],\n 'cast': [19],\n 'indicate': [21, 545, 808],\n 'wear': [26,\n  59,\n  133,\n  154,\n  200,\n  204,\n  236,\n  274,\n  282,\n  340,\n  386,\n  396,\n  489,\n  497,\n  514,\n  526,\n  542,\n  678,\n  763,\n  796,\n  804,\n  806,\n  818,\n  831,\n  849,\n  863,\n  952],\n 'not be same': [27,\n  29,\n  49,\n  74,\n  80,\n  92,\n  153,\n  166,\n  173,\n  308,\n  326,\n  341,\n  348,\n  422,\n  462,\n  505,\n  590,\n  595,\n  637,\n  646,\n  659,\n  668,\n  692,\n  702,\n  743,\n  759,\n  815,\n  824,\n  825,\n  841,\n  851,\n  856,\n  891,\n  902],\n 'lie': [28],\n 'write': [30],\n 'not infer': [31, 121, 167, 250, 596, 733, 924],\n 'not fight': [32],\n 'describe different': [33, 228, 639, 877, 927],\n 'not be': [34,\n  131,\n  174,\n  221,\n  258,\n  270,\n  339,\n  350,\n  355,\n  428,\n  431,\n  439,\n  468,\n  519,\n  572,\n  613,\n  626,\n  642,\n  660,\n  718,\n  745,\n  770,\n  803,\n  830,\n  859,\n  926,\n  961],\n 'not mean': [35,\n  42,\n  47,\n  69,\n  91,\n  108,\n  159,\n  223,\n  226,\n  227,\n  251,\n  272,\n  298,\n  310,\n  312,\n  315,\n  320,\n  338,\n  346,\n  373,\n  421,\n  436,\n  450,\n  460,\n  473,\n  508,\n  581,\n  591,\n  598,\n  629,\n  632,\n  644,\n  649,\n  673,\n  709,\n  727,\n  739,\n  748,\n  779,\n  799,\n  826,\n  845,\n  852,\n  857,\n  864,\n  878,\n  979,\n  983,\n  988],\n 'contradict': [37, 172, 374, 696, 941],\n 'watch': [39, 126, 233, 343],\n 'not imply': [43,\n  51,\n  116,\n  138,\n  202,\n  242,\n  279,\n  280,\n  333,\n  380,\n  464,\n  475,\n  540,\n  636,\n  705,\n  711,\n  752,\n  756,\n  781,\n  786,\n  801,\n  963],\n 'be same': [45,\n  63,\n  65,\n  124,\n  129,\n  132,\n  207,\n  305,\n  329,\n  385,\n  394,\n  404,\n  491,\n  525,\n  628,\n  650,\n  675,\n  679,\n  751,\n  789,\n  794,\n  865,\n  894,\n  990],\n 'not mention': [46,\n  110,\n  150,\n  197,\n  381,\n  408,\n  441,\n  500,\n  513,\n  643,\n  708,\n  741,\n  889],\n 'not do different same': [58],\n 'not sit': [60, 655],\n 'not play': [64, 418],\n 'not describe': [70, 103, 266],\n 'not assume': [71, 353],\n 'not match': [75, 669],\n 'not play same': [77, 139, 600, 866, 958],\n 'pass': [78],\n 'mention': [81, 102, 195, 285, 472, 554, 684, 907],\n 'talk': [89, 425, 656, 869],\n 'not need': [90],\n 'touch': [94, 294],\n 'describe': [96,\n  155,\n  213,\n  433,\n  435,\n  437,\n  449,\n  588,\n  658,\n  730,\n  814,\n  871,\n  879,\n  937,\n  995],\n 'fix': [99],\n 'singe': [104],\n 'dump': [105],\n 'decorate': [106],\n 'specify': [107],\n 'sit': [109, 454, 461, 854, 899, 925],\n 'not refer': [111],\n 'married': [112],\n 'not cut': [113],\n 'not provide': [114, 119, 230, 654, 672, 737, 898, 900, 923, 945],\n 'race': [115],\n 'donate': [117],\n 'mean same': [118],\n 'eat': [122, 178],\n 'not eat same': [125, 413],\n 'hold': [134, 188, 910],\n 'not walk same': [135, 191, 257, 284, 599, 606, 855, 921, 975, 985],\n 'kneeling': [137],\n 'not relate': [143, 145, 576],\n 'show': [144],\n 'lay': [149],\n 'not drink': [160],\n 'not dance': [161],\n 'breakdance': [162],\n 'describe same': [163, 241, 607, 897],\n 'say': [171, 518],\n 'occur': [176],\n 'block': [179, 512],\n 'depict': [190],\n 'not ride same': [193, 291, 732, 918],\n 'associate': [194],\n 'say same': [205],\n 'not gather same': [217],\n 'point': [222, 895],\n 'not state': [224, 527],\n 'take': [229, 667, 977],\n 'chisel': [234],\n 'rephrase': [246],\n 'perform': [253, 276, 612, 773, 792, 817],\n 'not do same': [254],\n 'not pull': [261],\n 'practice': [264],\n 'cut': [267],\n 'not fight same': [273],\n 'stand': [286, 583],\n 'not have': [287, 965],\n 'interpret': [288],\n 'saw': [289],\n 'classify': [290],\n 'not sleep same': [297, 485],\n 'not spin same': [301],\n 'not look': [302],\n 'not indicate': [304, 616, 933, 970, 997],\n 'pose': [307, 351, 507],\n 'balance': [311],\n 'not collect': [317],\n 'stretch': [322],\n 'want': [330],\n 'not be different': [344],\n 'include': [345],\n 'not run same': [347, 478, 819],\n 'ask': [352],\n 'run': [358, 623, 868],\n 'go': [360],\n 'imply same': [362, 395, 758],\n 'attempt': [363],\n 'not say': [371],\n 'locate': [376, 798],\n 'not dance same': [378],\n 'compete': [379],\n 'not carry same': [392, 550],\n 'walk same': [393],\n 'need': [398],\n 'wait': [399, 611],\n 'be different same': [400, 762],\n 'learn': [401],\n 'not perform same': [417],\n 'not climb same': [419],\n 'do': [420, 504, 754, 972],\n 'require': [427, 729],\n 'yell': [443],\n 'not toe': [444],\n 'consider': [452],\n 'not clean same': [455],\n 'observe': [457, 928],\n 'play': [458, 747, 829, 942],\n 'not celebrate': [463],\n 'clarify': [465],\n 'work': [467],\n 'cook': [481],\n 'not give': [484],\n 'not fly same': [487],\n 'refer same': [494],\n 'throw': [498],\n 'suggest': [501, 535],\n 'not stand': [502],\n 'seat': [516],\n 'not try same': [520],\n 'sweep': [532],\n 'not wear same': [533, 715, 726, 736, 767],\n 'draw': [541],\n 'refer': [546],\n 'ride': [547, 949],\n 'laugh': [557, 769],\n 'gather': [562],\n 'not wait': [571],\n 'pour': [573],\n 'state': [578, 887, 956, 967],\n 'not sit same': [580, 744],\n 'not have same': [594],\n 'not buy': [601],\n 'add': [603, 843],\n 'not change': [610, 757, 992],\n 'not pass same': [619],\n 'entail': [622, 915],\n 'not swim': [630],\n 'use': [635, 638, 723],\n 'not take': [641],\n 'teach': [647],\n 'not throw same': [648],\n 'swinge': [652],\n 'not paint same': [653],\n 'spray': [657],\n 'not give same': [662],\n 'demonstrate': [670],\n 'not stand same': [676, 860, 870],\n 'not climb': [677],\n 'not confirm': [682],\n 'not sell same': [683],\n 'mean': [688, 984],\n 'take same': [693],\n 'not occupy same': [695],\n 'try': [703],\n 'not ride': [714],\n 'not direct': [720],\n 'nap': [728],\n 'shop': [731],\n 'travel': [742],\n 'not hail': [746],\n 'not singe same': [765],\n 'create': [778],\n 'not follow': [782],\n 'bounce': [788],\n 'see': [793],\n 'light': [800],\n 'photograph': [802],\n 'not blind': [805],\n 'make': [820],\n 'pitch': [822],\n 'film': [834],\n 'not be different same': [837],\n 'measure': [853],\n 'not leave': [873],\n 'not eat': [874],\n 'carry': [875],\n 'not rollerskate same': [882],\n 'fly': [901],\n 'search': [914],\n 'jump': [917],\n 'happen': [922],\n 'not work same': [929],\n 'train': [931],\n 'reach': [935, 938],\n 'pull': [959],\n 'do same': [960],\n 'not drive': [969],\n 'enjoy': [993],\n 'shine': [998]}"
     },
     "execution_count": 44,
     "metadata": {},
     "output_type": "execute_result"
    }
   ],
   "source": [
    "root_term_dict"
   ],
   "metadata": {
    "collapsed": false,
    "pycharm": {
     "name": "#%%\n"
    }
   }
  },
  {
   "cell_type": "code",
   "execution_count": 38,
   "outputs": [
    {
     "name": "stderr",
     "output_type": "stream",
     "text": [
      "/var/folders/lp/djryk53n11b_ww_n9xbjm4s80000gn/T/ipykernel_41602/2143099419.py:45: SettingWithCopyWarning: \n",
      "A value is trying to be set on a copy of a slice from a DataFrame\n",
      "\n",
      "See the caveats in the documentation: https://pandas.pydata.org/pandas-docs/stable/user_guide/indexing.html#returning-a-view-versus-a-copy\n",
      "  gpt_pred['reduced_expl'].loc[i] = temp\n"
     ]
    }
   ],
   "source": [
    "gpt_pred[\"reduced_expl\"] = None\n",
    "for root_term in root_term_dict.keys():\n",
    "    for i in root_term_dict[root_term]:\n",
    "        try:\n",
    "            temp = list()\n",
    "            doc = nlp(gpt_pred.loc[i].pred_explanation)\n",
    "            for token in doc:\n",
    "                new_word = None\n",
    "                add_S1S2 = False\n",
    "                root_doc = nlp(root_term)\n",
    "                if token.lemma_ in [root_doc[j].lemma_ for j in range(len(root_doc))]:\n",
    "                    temp += [token.lemma_]\n",
    "                for SVO_structure in gpt_pred.loc[i].S1_SVO:\n",
    "                    if token.lemma_ == SVO_structure[0].lemma_:\n",
    "                        new_word = \"S1_Subj\"\n",
    "                    if not pd.isna(SVO_structure[1]):\n",
    "                        if token.lemma_ == SVO_structure[1].lemma_:\n",
    "                            new_word = \"S1_Verb\"\n",
    "                    if not pd.isna(SVO_structure[2]):\n",
    "                        if token.lemma_ == SVO_structure[2].lemma_:\n",
    "                            new_word = \"S1_Obj\"\n",
    "                for SVO_structure in gpt_pred.loc[i].S2_SVO:\n",
    "                    if token.lemma_ == SVO_structure[0].lemma_:\n",
    "                        if new_word:\n",
    "                            temp += [\"S1S2_Subj\"]\n",
    "                            add_S1S2 = True\n",
    "                        else:\n",
    "                            temp += [\"S2_Subj\"]\n",
    "                    if not pd.isna(SVO_structure[1]):\n",
    "                        if token.lemma_ == SVO_structure[1].lemma_:\n",
    "                            if new_word:\n",
    "                                temp += [\"S1S2_Verb\"]\n",
    "                                add_S1S2 = True\n",
    "                            else:\n",
    "                                temp += [\"S2_Verb\"]\n",
    "                    if not pd.isna(SVO_structure[2]):\n",
    "                        if token.lemma_ == SVO_structure[2].lemma_:\n",
    "                            if new_word:\n",
    "                                temp += [\"S1S2_Obj\"]\n",
    "                                add_S1S2 = True\n",
    "                            else:\n",
    "                                temp += [\"S2_Obj\"]\n",
    "                if not pd.isna(new_word) and not add_S1S2:\n",
    "                    temp += [new_word]\n",
    "            gpt_pred['reduced_expl'].loc[i] = temp\n",
    "        except:\n",
    "            None"
   ],
   "metadata": {
    "collapsed": false,
    "pycharm": {
     "name": "#%%\n"
    }
   }
  },
  {
   "cell_type": "code",
   "execution_count": 102,
   "outputs": [
    {
     "name": "stderr",
     "output_type": "stream",
     "text": [
      "/var/folders/lp/djryk53n11b_ww_n9xbjm4s80000gn/T/ipykernel_41602/3537545050.py:29: SettingWithCopyWarning: \n",
      "A value is trying to be set on a copy of a slice from a DataFrame\n",
      "\n",
      "See the caveats in the documentation: https://pandas.pydata.org/pandas-docs/stable/user_guide/indexing.html#returning-a-view-versus-a-copy\n",
      "  gpt_pred.pos_expl.loc[i] = temp\n"
     ]
    }
   ],
   "source": [
    "gpt_pred[\"pos_expl\"] = None\n",
    "for i, row in gpt_pred.iterrows():\n",
    "    temp = list()\n",
    "    doc_expl = nlp(row.pred_explanation)\n",
    "    doc_S1 = nlp(row.Sentence1)\n",
    "    doc_S2 = nlp(row.Sentence2)\n",
    "    for token in doc_expl:\n",
    "        if (token.lemma_ == \"not\" or token.lemma_ == \"be\" or not token.is_stop) and token.pos_ != \"PUNCT\":\n",
    "            add_S1S2 = False\n",
    "            new_word = None\n",
    "            for S1_token in doc_S1:\n",
    "                if S1_token.lemma_ == token.lemma_:\n",
    "                    if token.lemma_ in [S2_token.lemma_ for S2_token in doc_S2]:\n",
    "                        new_word = \"S1S2_\" + S1_token.pos_\n",
    "                        add_S1S2 = True\n",
    "                    else:\n",
    "                        new_word = \"S1_\" + S1_token.pos_\n",
    "                    # Avoid multiple POS get added\n",
    "                    break\n",
    "            if not add_S1S2:\n",
    "                for S2_token in doc_S2:\n",
    "                    if S2_token.lemma_ == token.lemma_:\n",
    "                        new_word = \"S2_\" + S2_token.pos_\n",
    "            if token.lemma_ == \"be\":\n",
    "                new_word = \"be\"\n",
    "            if pd.isna(new_word):\n",
    "                new_word = token.lemma_\n",
    "            temp += [new_word]\n",
    "    gpt_pred.pos_expl.loc[i] = temp"
   ],
   "metadata": {
    "collapsed": false,
    "pycharm": {
     "name": "#%%\n"
    }
   }
  },
  {
   "cell_type": "code",
   "execution_count": 103,
   "outputs": [
    {
     "data": {
      "text/plain": "'The woman is smiling and holding a wood, not a baby.'"
     },
     "execution_count": 103,
     "metadata": {},
     "output_type": "execute_result"
    }
   ],
   "source": [
    "gpt_pred.pred_explanation[1]"
   ],
   "metadata": {
    "collapsed": false,
    "pycharm": {
     "name": "#%%\n"
    }
   }
  },
  {
   "cell_type": "code",
   "execution_count": 105,
   "outputs": [
    {
     "data": {
      "text/plain": "['S1S2_NOUN', 'be', 'S1_NOUN', 'S1S2_VERB', 'S1_NOUN', 'not', 'S2_NOUN']"
     },
     "execution_count": 105,
     "metadata": {},
     "output_type": "execute_result"
    }
   ],
   "source": [
    "gpt_pred.pos_expl[1]"
   ],
   "metadata": {
    "collapsed": false,
    "pycharm": {
     "name": "#%%\n"
    }
   }
  },
  {
   "cell_type": "code",
   "execution_count": 106,
   "outputs": [
    {
     "data": {
      "text/plain": "                                              S1_SVO  \\\n0                            [(man, walks, bicycle)]   \n1     [(woman, holding, wood), (she, holding, wood)]   \n2                               [(dog, jumps, None)]   \n3    [(man, wielding, razor), (man, wielding, None)]   \n4      [(group, stares, None), (that, filled, None)]   \n..                                               ...   \n995                          [(men, standing, None)]   \n996                          [(man, standing, None)]   \n997                       [(woman, torn, stockings)]   \n998                          [(men, shining, shoes)]   \n999  [(Bicyclist, ride, course), (day, comes, None)]   \n\n                           S2_SVO  \\\n0            [(man, walks, bike)]   \n1         [(woman, stands, None)]   \n2          [(dog, jumping, None)]   \n3                              []   \n4         [(group, analyze, art)]   \n..                            ...   \n995  [(Women, playing, trumpets)]   \n996       [(people, stand, None)]   \n997          [(man, going, None)]   \n998                            []   \n999     [(cyclist, riding, None)]   \n\n                                             Sentence1  \\\n0    A young man in an orange hat walks his bicycle...   \n1    A woman standing with smile on her face and sh...   \n2             A dog jumps to catch a red ball outside.   \n3    A man wielding an electric razor is gleefully ...   \n4    A group of people stares at a wall that is fil...   \n..                                                 ...   \n995        Three men are standing on stage performing.   \n996  3 young man in hoods standing in the middle of...   \n997  A woman in skirt, torn stockings and combat bo...   \n998                     Two men shining peoples shoes.   \n999  Bicyclist ride the course near the ocean as th...   \n\n                                             Sentence2  \\\n0    A man in an orange hat walks his bike down a s...   \n1          A woman stands holding her baby and crying.   \n2                                  the dog is jumping.   \n3                    There is only one person present.   \n4               A group of people analyze art together   \n..                                                 ...   \n995          Women are playing trumpets on the street.   \n996       Three hood wearing people stand in a street.   \n997  The man and woman are going to a movie in the ...   \n998                             Two men shining shoes.   \n999             The cyclist was riding in the morning.   \n\n                                      pred_explanation  \\\n0    A young man in an orange hat is a rephrasing o...   \n1    The woman is smiling and holding a wood, not a...   \n2    The statement implies that the dog is jumping ...   \n3    There are two people present, the man wielding...   \n4      Staring at drawings is a form of analyzing art.   \n..                                                 ...   \n995  The statement describes three men on stage per...   \n996  The answer implies that the people in the stre...   \n997  The clothing does not necessarily indicate tha...   \n998  Shining shoes is a specific type of activity t...   \n999  The day coming to an end implies it is evening...   \n\n                                          reduced_expl  \\\n0                                      [S1S2_Subj, be]   \n1                  [S1S2_Subj, smile, S1_Verb, S1_Obj]   \n2                        [imply, S1S2_Subj, S1S2_Verb]   \n3      [be, S1_Subj, S1_Verb, S1_Obj, S1_Subj, be, be]   \n4                       [S1_Verb, be, S2_Verb, S2_Obj]   \n..                                                 ...   \n995  [describe, S1_Subj, describe, S2_Subj, S2_Verb...   \n996                          [imply, S2_Subj, S1_Subj]   \n997                           [not, indicate, S2_Verb]   \n998  [shine, S1_Verb, S1_Obj, S1_Subj, shine, S1_Ve...   \n999                          [S1_Subj, S1_Verb, imply]   \n\n                                              pos_expl  \n0    [S1_ADJ, S1S2_NOUN, S1S2_ADJ, S1S2_NOUN, be, r...  \n1    [S1S2_NOUN, be, S1_NOUN, S1S2_VERB, S1_NOUN, n...  \n2    [statement, imply, S1S2_NOUN, be, S1S2_VERB, S...  \n3    [be, people, S2_ADJ, S1_NOUN, S1_VERB, S1_ADJ,...  \n4       [S1_VERB, S1_NOUN, be, form, S2_VERB, S2_NOUN]  \n..                                                 ...  \n995  [statement, describe, S1_NOUN, S1_NOUN, S1_VER...  \n996  [answer, imply, S2_NOUN, S1S2_NOUN, be, S1_ADJ...  \n997  [clothing, not, necessarily, indicate, be, S2_...  \n998  [S1S2_VERB, S1S2_NOUN, be, specific, type, act...  \n999  [S1_NOUN, S1_VERB, S1_NOUN, imply, be, evening...  \n\n[1000 rows x 7 columns]",
      "text/html": "<div>\n<style scoped>\n    .dataframe tbody tr th:only-of-type {\n        vertical-align: middle;\n    }\n\n    .dataframe tbody tr th {\n        vertical-align: top;\n    }\n\n    .dataframe thead th {\n        text-align: right;\n    }\n</style>\n<table border=\"1\" class=\"dataframe\">\n  <thead>\n    <tr style=\"text-align: right;\">\n      <th></th>\n      <th>S1_SVO</th>\n      <th>S2_SVO</th>\n      <th>Sentence1</th>\n      <th>Sentence2</th>\n      <th>pred_explanation</th>\n      <th>reduced_expl</th>\n      <th>pos_expl</th>\n    </tr>\n  </thead>\n  <tbody>\n    <tr>\n      <th>0</th>\n      <td>[(man, walks, bicycle)]</td>\n      <td>[(man, walks, bike)]</td>\n      <td>A young man in an orange hat walks his bicycle...</td>\n      <td>A man in an orange hat walks his bike down a s...</td>\n      <td>A young man in an orange hat is a rephrasing o...</td>\n      <td>[S1S2_Subj, be]</td>\n      <td>[S1_ADJ, S1S2_NOUN, S1S2_ADJ, S1S2_NOUN, be, r...</td>\n    </tr>\n    <tr>\n      <th>1</th>\n      <td>[(woman, holding, wood), (she, holding, wood)]</td>\n      <td>[(woman, stands, None)]</td>\n      <td>A woman standing with smile on her face and sh...</td>\n      <td>A woman stands holding her baby and crying.</td>\n      <td>The woman is smiling and holding a wood, not a...</td>\n      <td>[S1S2_Subj, smile, S1_Verb, S1_Obj]</td>\n      <td>[S1S2_NOUN, be, S1_NOUN, S1S2_VERB, S1_NOUN, n...</td>\n    </tr>\n    <tr>\n      <th>2</th>\n      <td>[(dog, jumps, None)]</td>\n      <td>[(dog, jumping, None)]</td>\n      <td>A dog jumps to catch a red ball outside.</td>\n      <td>the dog is jumping.</td>\n      <td>The statement implies that the dog is jumping ...</td>\n      <td>[imply, S1S2_Subj, S1S2_Verb]</td>\n      <td>[statement, imply, S1S2_NOUN, be, S1S2_VERB, S...</td>\n    </tr>\n    <tr>\n      <th>3</th>\n      <td>[(man, wielding, razor), (man, wielding, None)]</td>\n      <td>[]</td>\n      <td>A man wielding an electric razor is gleefully ...</td>\n      <td>There is only one person present.</td>\n      <td>There are two people present, the man wielding...</td>\n      <td>[be, S1_Subj, S1_Verb, S1_Obj, S1_Subj, be, be]</td>\n      <td>[be, people, S2_ADJ, S1_NOUN, S1_VERB, S1_ADJ,...</td>\n    </tr>\n    <tr>\n      <th>4</th>\n      <td>[(group, stares, None), (that, filled, None)]</td>\n      <td>[(group, analyze, art)]</td>\n      <td>A group of people stares at a wall that is fil...</td>\n      <td>A group of people analyze art together</td>\n      <td>Staring at drawings is a form of analyzing art.</td>\n      <td>[S1_Verb, be, S2_Verb, S2_Obj]</td>\n      <td>[S1_VERB, S1_NOUN, be, form, S2_VERB, S2_NOUN]</td>\n    </tr>\n    <tr>\n      <th>...</th>\n      <td>...</td>\n      <td>...</td>\n      <td>...</td>\n      <td>...</td>\n      <td>...</td>\n      <td>...</td>\n      <td>...</td>\n    </tr>\n    <tr>\n      <th>995</th>\n      <td>[(men, standing, None)]</td>\n      <td>[(Women, playing, trumpets)]</td>\n      <td>Three men are standing on stage performing.</td>\n      <td>Women are playing trumpets on the street.</td>\n      <td>The statement describes three men on stage per...</td>\n      <td>[describe, S1_Subj, describe, S2_Subj, S2_Verb...</td>\n      <td>[statement, describe, S1_NOUN, S1_NOUN, S1_VER...</td>\n    </tr>\n    <tr>\n      <th>996</th>\n      <td>[(man, standing, None)]</td>\n      <td>[(people, stand, None)]</td>\n      <td>3 young man in hoods standing in the middle of...</td>\n      <td>Three hood wearing people stand in a street.</td>\n      <td>The answer implies that the people in the stre...</td>\n      <td>[imply, S2_Subj, S1_Subj]</td>\n      <td>[answer, imply, S2_NOUN, S1S2_NOUN, be, S1_ADJ...</td>\n    </tr>\n    <tr>\n      <th>997</th>\n      <td>[(woman, torn, stockings)]</td>\n      <td>[(man, going, None)]</td>\n      <td>A woman in skirt, torn stockings and combat bo...</td>\n      <td>The man and woman are going to a movie in the ...</td>\n      <td>The clothing does not necessarily indicate tha...</td>\n      <td>[not, indicate, S2_Verb]</td>\n      <td>[clothing, not, necessarily, indicate, be, S2_...</td>\n    </tr>\n    <tr>\n      <th>998</th>\n      <td>[(men, shining, shoes)]</td>\n      <td>[]</td>\n      <td>Two men shining peoples shoes.</td>\n      <td>Two men shining shoes.</td>\n      <td>Shining shoes is a specific type of activity t...</td>\n      <td>[shine, S1_Verb, S1_Obj, S1_Subj, shine, S1_Ve...</td>\n      <td>[S1S2_VERB, S1S2_NOUN, be, specific, type, act...</td>\n    </tr>\n    <tr>\n      <th>999</th>\n      <td>[(Bicyclist, ride, course), (day, comes, None)]</td>\n      <td>[(cyclist, riding, None)]</td>\n      <td>Bicyclist ride the course near the ocean as th...</td>\n      <td>The cyclist was riding in the morning.</td>\n      <td>The day coming to an end implies it is evening...</td>\n      <td>[S1_Subj, S1_Verb, imply]</td>\n      <td>[S1_NOUN, S1_VERB, S1_NOUN, imply, be, evening...</td>\n    </tr>\n  </tbody>\n</table>\n<p>1000 rows × 7 columns</p>\n</div>"
     },
     "execution_count": 106,
     "metadata": {},
     "output_type": "execute_result"
    }
   ],
   "source": [
    "gpt_pred[[\"S1_SVO\", \"S2_SVO\", \"Sentence1\", \"Sentence2\", \"pred_explanation\", \"reduced_expl\", \"pos_expl\"]]"
   ],
   "metadata": {
    "collapsed": false,
    "pycharm": {
     "name": "#%%\n"
    }
   }
  },
  {
   "cell_type": "code",
   "execution_count": 107,
   "outputs": [
    {
     "data": {
      "text/plain": "<bound method IndexOpsMixin.value_counts of 0      [S1_ADJ, S1S2_NOUN, S1S2_ADJ, S1S2_NOUN, be, r...\n1      [S1S2_NOUN, be, S1_NOUN, S1S2_VERB, S1_NOUN, n...\n2      [statement, imply, S1S2_NOUN, be, S1S2_VERB, S...\n3      [be, people, S2_ADJ, S1_NOUN, S1_VERB, S1_ADJ,...\n4         [S1_VERB, S1_NOUN, be, form, S2_VERB, S2_NOUN]\n                             ...                        \n995    [statement, describe, S1_NOUN, S1_NOUN, S1_VER...\n996    [answer, imply, S2_NOUN, S1S2_NOUN, be, S1_ADJ...\n997    [clothing, not, necessarily, indicate, be, S2_...\n998    [S1S2_VERB, S1S2_NOUN, be, specific, type, act...\n999    [S1_NOUN, S1_VERB, S1_NOUN, imply, be, evening...\nName: pos_expl, Length: 1000, dtype: object>"
     },
     "execution_count": 107,
     "metadata": {},
     "output_type": "execute_result"
    }
   ],
   "source": [
    "gpt_pred.pos_expl.value_counts"
   ],
   "metadata": {
    "collapsed": false,
    "pycharm": {
     "name": "#%%\n"
    }
   }
  },
  {
   "cell_type": "code",
   "execution_count": 108,
   "outputs": [],
   "source": [
    "gpt_pred.to_csv('../output_data/svo_structure_4.csv', sep=';')"
   ],
   "metadata": {
    "collapsed": false,
    "pycharm": {
     "name": "#%%\n"
    }
   }
  },
  {
   "cell_type": "code",
   "execution_count": null,
   "outputs": [],
   "source": [],
   "metadata": {
    "collapsed": false,
    "pycharm": {
     "name": "#%%\n"
    }
   }
  }
 ],
 "metadata": {
  "kernelspec": {
   "display_name": "Python 3",
   "language": "python",
   "name": "python3"
  },
  "language_info": {
   "codemirror_mode": {
    "name": "ipython",
    "version": 2
   },
   "file_extension": ".py",
   "mimetype": "text/x-python",
   "name": "python",
   "nbconvert_exporter": "python",
   "pygments_lexer": "ipython2",
   "version": "2.7.6"
  }
 },
 "nbformat": 4,
 "nbformat_minor": 0
}