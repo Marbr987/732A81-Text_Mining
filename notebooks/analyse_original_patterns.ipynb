{
 "cells": [
  {
   "cell_type": "code",
   "execution_count": 13,
   "outputs": [],
   "source": [
    "import random\n",
    "import pandas as pd\n",
    "import numpy as np\n",
    "import matplotlib.pyplot as plt\n",
    "import os\n",
    "import openai\n",
    "import re\n",
    "import time\n",
    "from scripts.prepare_data_helpers import prepare_examples, create_query\n",
    "import spacy\n",
    "import textacy\n",
    "from dotenv import load_dotenv\n",
    "\n",
    "load_dotenv()\n",
    "nlp = spacy.load('en_core_web_sm')\n",
    "import re\n",
    "\n",
    "from sklearn.feature_extraction.text import CountVectorizer\n",
    "from sklearn import metrics\n",
    "from sklearn.model_selection import train_test_split\n",
    "from sklearn.naive_bayes import GaussianNB, MultinomialNB\n",
    "import xgboost as xgb\n",
    "import shap"
   ],
   "metadata": {
    "collapsed": false,
    "pycharm": {
     "name": "#%%\n"
    }
   }
  },
  {
   "cell_type": "markdown",
   "source": [
    "## Prepare Data"
   ],
   "metadata": {
    "collapsed": false,
    "pycharm": {
     "name": "#%% md\n"
    }
   }
  },
  {
   "cell_type": "code",
   "execution_count": 79,
   "outputs": [],
   "source": [
    "train1 = pd.read_csv('../../e-SNLI/dataset/esnli_train_1.csv')\n",
    "train2 = pd.read_csv('../../e-SNLI/dataset/esnli_train_2.csv')\n",
    "train = pd.concat([train1, train2])\n",
    "dev = pd.read_csv('../../e-SNLI/dataset/esnli_dev.csv')\n",
    "test = pd.read_csv('../../e-SNLI/dataset/esnli_test.csv')\n",
    "\n",
    "train = train.dropna(subset=['Sentence1', 'Sentence2', 'Explanation_1'])\n",
    "train = train.reset_index(drop=True)\n",
    "\n",
    "np.random.seed(12345) # seed for numpy package\n",
    "test_indices = list(np.random.choice(test.index.values, size=1000, replace=False))\n",
    "test = test.loc[test_indices]\n",
    "test = test.reset_index(drop=True)"
   ],
   "metadata": {
    "collapsed": false,
    "pycharm": {
     "name": "#%%\n"
    }
   }
  },
  {
   "cell_type": "code",
   "execution_count": 172,
   "outputs": [],
   "source": [
    "gpt_pred = pd.read_csv(\"../output_data/svo_structure_4.csv\", sep=\";\")\n",
    "gpt2 = pd.read_csv(\"../output_data/svo_structure_gpt2.csv\", sep=\";\")\n",
    "\n",
    "# Transform list to single string\n",
    "\n",
    "# GPT-3\n",
    "gpt_pred.reduced_expl = [i.replace(\"'\", \" \").replace(\" \", \"\").strip(\"][\").replace(\",\", \" \") for i in gpt_pred.reduced_expl]\n",
    "gpt_pred.pos_expl = [i.replace(\"'\", \" \").replace(\" \", \"\").strip(\"][\").replace(\",\", \" \") for i in gpt_pred.pos_expl]\n",
    "\n",
    "# Gold Explanations\n",
    "gpt_pred.reduced_gold_expl = [i.replace(\"'\", \" \").replace(\" \", \"\").strip(\"][\").replace(\",\", \" \") for i in gpt_pred.reduced_gold_expl]\n",
    "gpt_pred.pos_gold_expl = [i.replace(\"'\", \" \").replace(\" \", \"\").strip(\"][\").replace(\",\", \" \") for i in gpt_pred.pos_gold_expl]\n",
    "\n",
    "# GPT-2\n",
    "gpt2.reduced_expl = [i.replace(\"'\", \" \").replace(\" \", \"\").strip(\"][\").replace(\",\", \" \") for i in gpt2.reduced_expl]\n",
    "gpt2.pos_expl = [i.replace(\"'\", \" \").replace(\" \", \"\").strip(\"][\").replace(\",\", \" \") for i in gpt2.pos_expl]\n",
    "gpt2[\"pred_label\"] = gpt2.labels\n",
    "gpt2_label_mapping = {0: \"contradiction\", 1: \"neutral\", 2: \"entailment\"}\n",
    "inverse_gpt2_label_mapping = {\"contradiction\": 0, \"neutral\": 1, \"entailment\": 2}"
   ],
   "metadata": {
    "collapsed": false,
    "pycharm": {
     "name": "#%%\n"
    }
   }
  },
  {
   "cell_type": "code",
   "execution_count": 173,
   "outputs": [],
   "source": [
    "original_patterns = {\"general\": pd.Series([\"^sentence 1 states .+\\. sentence 2 is stating .+$\", \"^sentence 2 states .+\\. sentence 1 is stating .+$\", \"^there is .+$\"]),\n",
    "                     \"entailment\": [\"implies\", \"^if .+ then .+\", \"is a rephrasing of\", \"^in both sentences\", \"would be\", \"can also be said as\", \"is a less specific rephrasing of\", \"^this clarifies that\", \"^if .+ it means\", \"in both sentences\\.?$\", \"in both\\.?$\", \"is same as\", \"is synonym of\"],\n",
    "                     \"neutral\": [\"^just because .+ doesn't mean\", \"^cannot infer the\", \"^one cannot assume\", \"^one cannot infer that\", \"^cannot assume\", \"does not mean\", \"^we don't know that .+\", \"^the fact that .+ doesn't mean .+\", \"^the fact that .+ does not imply .+\", \"^the fact that .+ does not always mean .+\", \"^the fact that .+ doesn't always imply .+\"],\n",
    "                     \"contradiction\": [\"^in sentence 1 .+ while in sentence 2 .+\", \"^it can either be .+ or .+\", \"^it cannot be .+ if .+\", \"and other\", \"after\", \"is not the same as\", \"is contradictory to\", \"contradicts\", \"cannot also be\", \"^either .+ or .+\", \"^either .+ or .+ not both at the same time\", \".+ or .+ not both at the same time\"]}"
   ],
   "metadata": {
    "collapsed": false,
    "pycharm": {
     "name": "#%%\n"
    }
   }
  },
  {
   "cell_type": "code",
   "execution_count": 174,
   "outputs": [],
   "source": [
    "def find_pattern(expl, pattern_for_class):\n",
    "    return np.sum([1 for i in range(len(original_patterns[pattern_for_class])) if len(re.findall(original_patterns[pattern_for_class][i], expl.lower())) != 0])"
   ],
   "metadata": {
    "collapsed": false,
    "pycharm": {
     "name": "#%%\n"
    }
   }
  },
  {
   "cell_type": "markdown",
   "source": [
    "## GPT-3"
   ],
   "metadata": {
    "collapsed": false,
    "pycharm": {
     "name": "#%% md\n"
    }
   }
  },
  {
   "cell_type": "code",
   "execution_count": 186,
   "outputs": [
    {
     "name": "stdout",
     "output_type": "stream",
     "text": [
      "Explanations with template in class contradiction\n",
      "0.07954545454545454\n",
      "Explanations with template in class entailment\n",
      "0.39544513457556935\n",
      "Explanations with template in class neutral\n",
      "0.16463414634146342\n"
     ]
    }
   ],
   "source": [
    "for cur_class in [\"contradiction\", \"entailment\", \"neutral\"]:\n",
    "    print(f\"Explanations with template in class {cur_class}\")\n",
    "    print(gpt_pred.pred_explanation[gpt_pred.pred_label == cur_class].apply(find_pattern, pattern_for_class=cur_class).mean())"
   ],
   "metadata": {
    "collapsed": false,
    "pycharm": {
     "name": "#%%\n"
    }
   }
  },
  {
   "cell_type": "code",
   "execution_count": 176,
   "outputs": [
    {
     "data": {
      "text/plain": "array([0.   , 0.   , 0.   , 0.   , 0.007, 0.018, 0.   , 0.008, 0.   ,\n       0.   , 0.   , 0.002])"
     },
     "execution_count": 176,
     "metadata": {},
     "output_type": "execute_result"
    }
   ],
   "source": [
    "np.array([[len(re.findall(original_patterns[\"contradiction\"][i], gpt_pred.pred_explanation[j].lower())) for i in range(len(original_patterns[\"contradiction\"]))] for j in range(gpt_pred.shape[0])]).mean(axis=0)"
   ],
   "metadata": {
    "collapsed": false,
    "pycharm": {
     "name": "#%%\n"
    }
   }
  },
  {
   "cell_type": "code",
   "execution_count": 177,
   "outputs": [
    {
     "data": {
      "text/plain": "'is contradictory to'"
     },
     "execution_count": 177,
     "metadata": {},
     "output_type": "execute_result"
    }
   ],
   "source": [
    "original_patterns[\"contradiction\"][6]"
   ],
   "metadata": {
    "collapsed": false,
    "pycharm": {
     "name": "#%%\n"
    }
   }
  },
  {
   "cell_type": "code",
   "execution_count": 188,
   "outputs": [
    {
     "data": {
      "text/plain": "array([0.35403727, 0.02277433, 0.01242236, 0.        , 0.00828157,\n       0.        , 0.        , 0.        , 0.        , 0.        ,\n       0.        , 0.        , 0.        ])"
     },
     "execution_count": 188,
     "metadata": {},
     "output_type": "execute_result"
    }
   ],
   "source": [
    "np.array([[len(re.findall(original_patterns[\"entailment\"][i], gpt_pred.pred_explanation[gpt_pred.pred_label == \"entailment\"].iloc[j].lower())) for i in range(len(original_patterns[\"entailment\"]))] for j in range(gpt_pred[gpt_pred.pred_label == \"entailment\"].shape[0])]).mean(axis=0)"
   ],
   "metadata": {
    "collapsed": false,
    "pycharm": {
     "name": "#%%\n"
    }
   }
  },
  {
   "cell_type": "code",
   "execution_count": 179,
   "outputs": [
    {
     "data": {
      "text/plain": "'implies'"
     },
     "execution_count": 179,
     "metadata": {},
     "output_type": "execute_result"
    }
   ],
   "source": [
    "original_patterns[\"entailment\"][0]"
   ],
   "metadata": {
    "collapsed": false,
    "pycharm": {
     "name": "#%%\n"
    }
   }
  },
  {
   "cell_type": "code",
   "execution_count": 183,
   "outputs": [
    {
     "data": {
      "text/plain": "'^if .+ then .+'"
     },
     "execution_count": 183,
     "metadata": {},
     "output_type": "execute_result"
    }
   ],
   "source": [
    "original_patterns[\"entailment\"][1]"
   ],
   "metadata": {
    "collapsed": false,
    "pycharm": {
     "name": "#%%\n"
    }
   }
  },
  {
   "cell_type": "code",
   "execution_count": 180,
   "outputs": [
    {
     "data": {
      "text/plain": "array([0.01 , 0.   , 0.   , 0.   , 0.   , 0.018, 0.   , 0.   , 0.   ,\n       0.   , 0.   ])"
     },
     "execution_count": 180,
     "metadata": {},
     "output_type": "execute_result"
    }
   ],
   "source": [
    "np.array([[len(re.findall(original_patterns[\"neutral\"][i], gpt_pred.pred_explanation[j].lower())) for i in range(len(original_patterns[\"neutral\"]))] for j in range(gpt_pred.shape[0])]).mean(axis=0)"
   ],
   "metadata": {
    "collapsed": false,
    "pycharm": {
     "name": "#%%\n"
    }
   }
  },
  {
   "cell_type": "code",
   "execution_count": 181,
   "outputs": [
    {
     "data": {
      "text/plain": "'does not mean'"
     },
     "execution_count": 181,
     "metadata": {},
     "output_type": "execute_result"
    }
   ],
   "source": [
    "original_patterns[\"neutral\"][5]"
   ],
   "metadata": {
    "collapsed": false,
    "pycharm": {
     "name": "#%%\n"
    }
   }
  },
  {
   "cell_type": "markdown",
   "source": [
    "## GPT-2"
   ],
   "metadata": {
    "collapsed": false,
    "pycharm": {
     "name": "#%% md\n"
    }
   }
  },
  {
   "cell_type": "code",
   "execution_count": 182,
   "outputs": [
    {
     "name": "stdout",
     "output_type": "stream",
     "text": [
      "Explanations with template in class contradiction\n",
      "0.03867403314917127\n",
      "Explanations with template in class entailment\n",
      "0.1557632398753894\n",
      "Explanations with template in class neutral\n",
      "0.2082018927444795\n"
     ]
    }
   ],
   "source": [
    "for cur_class in [\"contradiction\", \"entailment\", \"neutral\"]:\n",
    "    print(f\"Explanations with template in class {cur_class}\")\n",
    "    print(gpt2.generated[gpt2.labels == inverse_gpt2_label_mapping[cur_class]] .apply(find_pattern, pattern_for_class=cur_class).mean())"
   ],
   "metadata": {
    "collapsed": false,
    "pycharm": {
     "name": "#%%\n"
    }
   }
  },
  {
   "cell_type": "code",
   "execution_count": 148,
   "outputs": [
    {
     "data": {
      "text/plain": "array([0.   , 0.   , 0.   , 0.   , 0.001, 0.006, 0.018, 0.   , 0.   ,\n       0.   , 0.   , 0.   , 0.   ])"
     },
     "execution_count": 148,
     "metadata": {},
     "output_type": "execute_result"
    }
   ],
   "source": [
    "np.array([[len(re.findall(original_patterns[\"contradiction\"][i], gpt2.generated[j].lower())) for i in range(len(original_patterns[\"contradiction\"]))] for j in range(gpt2.shape[0])]).mean(axis=0)"
   ],
   "metadata": {
    "collapsed": false,
    "pycharm": {
     "name": "#%%\n"
    }
   }
  },
  {
   "cell_type": "code",
   "execution_count": 149,
   "outputs": [
    {
     "data": {
      "text/plain": "'is not the same as'"
     },
     "execution_count": 149,
     "metadata": {},
     "output_type": "execute_result"
    }
   ],
   "source": [
    "original_patterns[\"contradiction\"][6]"
   ],
   "metadata": {
    "collapsed": false,
    "pycharm": {
     "name": "#%%\n"
    }
   }
  },
  {
   "cell_type": "code",
   "execution_count": 152,
   "outputs": [
    {
     "data": {
      "text/plain": "array([0.02 , 0.01 , 0.022, 0.   , 0.001, 0.   , 0.   , 0.   , 0.   ,\n       0.   , 0.   , 0.005, 0.   ])"
     },
     "execution_count": 152,
     "metadata": {},
     "output_type": "execute_result"
    }
   ],
   "source": [
    "np.array([[len(re.findall(original_patterns[\"entailment\"][i], gpt2.generated[j].lower())) for i in range(len(original_patterns[\"entailment\"]))] for j in range(gpt2.shape[0])]).mean(axis=0)"
   ],
   "metadata": {
    "collapsed": false,
    "pycharm": {
     "name": "#%%\n"
    }
   }
  },
  {
   "cell_type": "code",
   "execution_count": 153,
   "outputs": [
    {
     "data": {
      "text/plain": "'is a rephrasing of'"
     },
     "execution_count": 153,
     "metadata": {},
     "output_type": "execute_result"
    }
   ],
   "source": [
    "original_patterns[\"entailment\"][2]"
   ],
   "metadata": {
    "collapsed": false,
    "pycharm": {
     "name": "#%%\n"
    }
   }
  },
  {
   "cell_type": "code",
   "execution_count": 155,
   "outputs": [
    {
     "data": {
      "text/plain": "array([0.02 , 0.   , 0.   , 0.   , 0.   , 0.062, 0.   , 0.   , 0.   ,\n       0.   , 0.   ])"
     },
     "execution_count": 155,
     "metadata": {},
     "output_type": "execute_result"
    }
   ],
   "source": [
    "np.array([[len(re.findall(original_patterns[\"neutral\"][i], gpt2.generated[j].lower())) for i in range(len(original_patterns[\"neutral\"]))] for j in range(gpt2.shape[0])]).mean(axis=0)"
   ],
   "metadata": {
    "collapsed": false,
    "pycharm": {
     "name": "#%%\n"
    }
   }
  },
  {
   "cell_type": "code",
   "execution_count": 157,
   "outputs": [
    {
     "data": {
      "text/plain": "'does not mean'"
     },
     "execution_count": 157,
     "metadata": {},
     "output_type": "execute_result"
    }
   ],
   "source": [
    "original_patterns[\"neutral\"][5]"
   ],
   "metadata": {
    "collapsed": false,
    "pycharm": {
     "name": "#%%\n"
    }
   }
  },
  {
   "cell_type": "markdown",
   "source": [
    "## Gold Explanations"
   ],
   "metadata": {
    "collapsed": false,
    "pycharm": {
     "name": "#%% md\n"
    }
   }
  },
  {
   "cell_type": "code",
   "execution_count": 72,
   "outputs": [
    {
     "name": "stdout",
     "output_type": "stream",
     "text": [
      "Explanations with template in class contradiction\n",
      "0.06070774862721171\n",
      "Explanations with template in class entailment\n",
      "0.17452688495043556\n",
      "Explanations with template in class neutral\n",
      "0.1795981452859351\n"
     ]
    }
   ],
   "source": [
    "for cur_class in [\"contradiction\", \"entailment\", \"neutral\"]:\n",
    "    print(f\"Explanations with template in class {cur_class}\")\n",
    "    print(dev.Explanation_1[dev.gold_label == cur_class].apply(find_pattern, pattern_for_class=cur_class).mean())"
   ],
   "metadata": {
    "collapsed": false,
    "pycharm": {
     "name": "#%%\n"
    }
   }
  },
  {
   "cell_type": "code",
   "execution_count": 165,
   "outputs": [
    {
     "data": {
      "text/plain": "array([0.   , 0.   , 0.   , 0.001, 0.004, 0.002, 0.001, 0.   , 0.003,\n       0.008, 0.   , 0.002])"
     },
     "execution_count": 165,
     "metadata": {},
     "output_type": "execute_result"
    }
   ],
   "source": [
    "np.array([[len(re.findall(original_patterns[\"contradiction\"][i], gpt_pred.Explanation_1[j].lower())) for i in range(len(original_patterns[\"contradiction\"]))] for j in range(gpt_pred.shape[0])]).mean(axis=0)"
   ],
   "metadata": {
    "collapsed": false,
    "pycharm": {
     "name": "#%%\n"
    }
   }
  },
  {
   "cell_type": "code",
   "execution_count": 166,
   "outputs": [
    {
     "data": {
      "text/plain": "'^either .+ or .+'"
     },
     "execution_count": 166,
     "metadata": {},
     "output_type": "execute_result"
    }
   ],
   "source": [
    "original_patterns[\"contradiction\"][9]"
   ],
   "metadata": {
    "collapsed": false,
    "pycharm": {
     "name": "#%%\n"
    }
   }
  },
  {
   "cell_type": "code",
   "execution_count": 167,
   "outputs": [
    {
     "data": {
      "text/plain": "array([0.036, 0.013, 0.016, 0.   , 0.007, 0.   , 0.   , 0.   , 0.001,\n       0.001, 0.001, 0.   , 0.   ])"
     },
     "execution_count": 167,
     "metadata": {},
     "output_type": "execute_result"
    }
   ],
   "source": [
    "np.array([[len(re.findall(original_patterns[\"entailment\"][i], gpt_pred.Explanation_1[j].lower())) for i in range(len(original_patterns[\"entailment\"]))] for j in range(gpt_pred.shape[0])]).mean(axis=0)"
   ],
   "metadata": {
    "collapsed": false,
    "pycharm": {
     "name": "#%%\n"
    }
   }
  },
  {
   "cell_type": "code",
   "execution_count": 168,
   "outputs": [
    {
     "data": {
      "text/plain": "'implies'"
     },
     "execution_count": 168,
     "metadata": {},
     "output_type": "execute_result"
    }
   ],
   "source": [
    "original_patterns[\"entailment\"][0]"
   ],
   "metadata": {
    "collapsed": false,
    "pycharm": {
     "name": "#%%\n"
    }
   }
  },
  {
   "cell_type": "code",
   "execution_count": 169,
   "outputs": [
    {
     "data": {
      "text/plain": "array([0.016, 0.   , 0.   , 0.   , 0.   , 0.026, 0.   , 0.   , 0.   ,\n       0.   , 0.   ])"
     },
     "execution_count": 169,
     "metadata": {},
     "output_type": "execute_result"
    }
   ],
   "source": [
    "np.array([[len(re.findall(original_patterns[\"neutral\"][i], gpt_pred.Explanation_1[j].lower())) for i in range(len(original_patterns[\"neutral\"]))] for j in range(gpt_pred.shape[0])]).mean(axis=0)"
   ],
   "metadata": {
    "collapsed": false,
    "pycharm": {
     "name": "#%%\n"
    }
   }
  },
  {
   "cell_type": "code",
   "execution_count": 170,
   "outputs": [
    {
     "data": {
      "text/plain": "'does not mean'"
     },
     "execution_count": 170,
     "metadata": {},
     "output_type": "execute_result"
    }
   ],
   "source": [
    "original_patterns[\"neutral\"][5]"
   ],
   "metadata": {
    "collapsed": false,
    "pycharm": {
     "name": "#%%\n"
    }
   }
  }
 ],
 "metadata": {
  "kernelspec": {
   "display_name": "Python 3",
   "language": "python",
   "name": "python3"
  },
  "language_info": {
   "codemirror_mode": {
    "name": "ipython",
    "version": 2
   },
   "file_extension": ".py",
   "mimetype": "text/x-python",
   "name": "python",
   "nbconvert_exporter": "python",
   "pygments_lexer": "ipython2",
   "version": "2.7.6"
  }
 },
 "nbformat": 4,
 "nbformat_minor": 0
}