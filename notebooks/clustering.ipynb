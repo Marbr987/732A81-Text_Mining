{
 "cells": [
  {
   "cell_type": "code",
   "execution_count": 30,
   "outputs": [],
   "source": [
    "import random\n",
    "import pandas as pd\n",
    "import numpy as np\n",
    "import matplotlib.pyplot as plt\n",
    "import os\n",
    "import openai\n",
    "import re\n",
    "import time\n",
    "from scripts.prepare_data_helpers import prepare_examples, create_query\n",
    "import spacy\n",
    "import textacy\n",
    "from dotenv import load_dotenv\n",
    "\n",
    "load_dotenv()\n",
    "nlp = spacy.load('en_core_web_sm')\n",
    "\n",
    "from sklearn.feature_extraction.text import CountVectorizer\n",
    "import sklearn\n",
    "from sklearn import metrics\n",
    "from sklearn.model_selection import train_test_split\n",
    "from sklearn.naive_bayes import GaussianNB, MultinomialNB\n",
    "from sklearn.cluster import KMeans\n",
    "import kmedoids"
   ],
   "metadata": {
    "collapsed": false,
    "pycharm": {
     "name": "#%%\n"
    }
   }
  },
  {
   "cell_type": "markdown",
   "source": [
    "## Prepare Data"
   ],
   "metadata": {
    "collapsed": false,
    "pycharm": {
     "name": "#%% md\n"
    }
   }
  },
  {
   "cell_type": "code",
   "execution_count": 2,
   "outputs": [],
   "source": [
    "train1 = pd.read_csv('../../e-SNLI/dataset/esnli_train_1.csv')\n",
    "train2 = pd.read_csv('../../e-SNLI/dataset/esnli_train_2.csv')\n",
    "train = pd.concat([train1, train2])\n",
    "dev = pd.read_csv('../../e-SNLI/dataset/esnli_dev.csv')\n",
    "test = pd.read_csv('../../e-SNLI/dataset/esnli_test.csv')\n",
    "\n",
    "train = train.dropna(subset=['Sentence1', 'Sentence2', 'Explanation_1'])\n",
    "train = train.reset_index(drop=True)\n",
    "\n",
    "np.random.seed(12345) # seed for numpy package\n",
    "test_indices = list(np.random.choice(test.index.values, size=1000, replace=False))\n",
    "test = test.loc[test_indices]\n",
    "test = test.reset_index(drop=True)"
   ],
   "metadata": {
    "collapsed": false,
    "pycharm": {
     "name": "#%%\n"
    }
   }
  },
  {
   "cell_type": "code",
   "execution_count": 3,
   "outputs": [],
   "source": [
    "gpt_pred = pd.read_csv('../output_data/svo_structure_4.csv', sep=';')\n",
    "# Transform list to single string\n",
    "gpt_pred.reduced_expl = [i.replace(\"'\", \" \").replace(\" \", \"\").strip(\"][\").replace(\",\", \" \") for i in gpt_pred.reduced_expl]\n",
    "gpt_pred.pos_expl = [i.replace(\"'\", \" \").replace(\" \", \"\").strip(\"][\").replace(\",\", \" \") for i in gpt_pred.pos_expl]"
   ],
   "metadata": {
    "collapsed": false,
    "pycharm": {
     "name": "#%%\n"
    }
   }
  },
  {
   "cell_type": "markdown",
   "source": [
    "# Cluster Reduced Explanations"
   ],
   "metadata": {
    "collapsed": false,
    "pycharm": {
     "name": "#%% md\n"
    }
   }
  },
  {
   "cell_type": "markdown",
   "source": [
    "## PAM Clustering"
   ],
   "metadata": {
    "collapsed": false,
    "pycharm": {
     "name": "#%% md\n"
    }
   }
  },
  {
   "cell_type": "markdown",
   "source": [
    "### SVO Structure"
   ],
   "metadata": {
    "collapsed": false,
    "pycharm": {
     "name": "#%% md\n"
    }
   }
  },
  {
   "cell_type": "code",
   "execution_count": 5,
   "outputs": [],
   "source": [
    "vectorizer = CountVectorizer(ngram_range=(1, 3))\n",
    "X = vectorizer.fit_transform(gpt_pred.reduced_expl)"
   ],
   "metadata": {
    "collapsed": false,
    "pycharm": {
     "name": "#%%\n"
    }
   }
  },
  {
   "cell_type": "code",
   "execution_count": 28,
   "outputs": [
    {
     "name": "stdout",
     "output_type": "stream",
     "text": [
      "[[0 0 0 ... 0 0 0]\n",
      " [0 0 0 ... 0 0 0]\n",
      " [0 0 0 ... 0 0 0]\n",
      " ...\n",
      " [0 0 0 ... 0 0 0]\n",
      " [0 0 0 ... 0 0 0]\n",
      " [0 0 0 ... 0 0 0]]\n"
     ]
    }
   ],
   "source": [
    "print(X.toarray())"
   ],
   "metadata": {
    "collapsed": false,
    "pycharm": {
     "name": "#%%\n"
    }
   }
  },
  {
   "cell_type": "code",
   "execution_count": 105,
   "outputs": [
    {
     "data": {
      "text/plain": "[<matplotlib.lines.Line2D at 0x19feec910>]"
     },
     "execution_count": 105,
     "metadata": {},
     "output_type": "execute_result"
    },
    {
     "data": {
      "text/plain": "<Figure size 640x480 with 1 Axes>",
      "image/png": "[encoded data removed]"
     },
     "metadata": {},
     "output_type": "display_data"
    }
   ],
   "source": [
    "SSD = list()\n",
    "for k in range(1,21):\n",
    "    km = kmedoids.KMedoids(n_clusters=k, method=\"pam\")\n",
    "    kmfit = km.fit(metrics.pairwise.euclidean_distances(X))\n",
    "    SSD += [kmfit.inertia_]\n",
    "plt.plot(SSD)"
   ],
   "metadata": {
    "collapsed": false,
    "pycharm": {
     "name": "#%%\n"
    }
   }
  },
  {
   "cell_type": "code",
   "execution_count": 106,
   "outputs": [
    {
     "name": "stdout",
     "output_type": "stream",
     "text": [
      "------------------\n",
      "imply\n",
      "Medoid class: entailment\n",
      "entailment    33\n",
      "neutral        3\n",
      "Name: pred_label, dtype: int64\n",
      "------------------\n",
      "not mean\n",
      "Medoid class: neutral\n",
      "neutral          45\n",
      "contradiction    13\n",
      "Name: pred_label, dtype: int64\n",
      "------------------\n",
      "S1_Verb S1_Obj be\n",
      "Medoid class: entailment\n",
      "entailment       24\n",
      "contradiction     7\n",
      "neutral           2\n",
      "Name: pred_label, dtype: int64\n",
      "------------------\n",
      "S2_Verb\n",
      "Medoid class: entailment\n",
      "entailment       72\n",
      "contradiction    70\n",
      "neutral          15\n",
      "Name: pred_label, dtype: int64\n",
      "------------------\n",
      "S1_Subj S1_Verb imply\n",
      "Medoid class: entailment\n",
      "entailment       15\n",
      "contradiction     5\n",
      "Name: pred_label, dtype: int64\n",
      "------------------\n",
      "be S2_Verb S2_Obj\n",
      "Medoid class: entailment\n",
      "entailment       21\n",
      "contradiction     5\n",
      "neutral           1\n",
      "Name: pred_label, dtype: int64\n",
      "------------------\n",
      "be not same\n",
      "Medoid class: contradiction\n",
      "contradiction    32\n",
      "Name: pred_label, dtype: int64\n",
      "------------------\n",
      "imply S1S2_Subj S2_Verb S2_Obj\n",
      "Medoid class: contradiction\n",
      "entailment       13\n",
      "neutral           6\n",
      "contradiction     3\n",
      "Name: pred_label, dtype: int64\n",
      "------------------\n",
      "be different\n",
      "Medoid class: contradiction\n",
      "contradiction    47\n",
      "neutral           1\n",
      "Name: pred_label, dtype: int64\n",
      "------------------\n",
      "S2_Subj not mean S2_Verb S2_Obj\n",
      "Medoid class: neutral\n",
      "neutral    13\n",
      "Name: pred_label, dtype: int64\n",
      "------------------\n",
      "S1S2_Subj S1_Verb not imply S2_Verb S2_Obj\n",
      "Medoid class: neutral\n",
      "contradiction    5\n",
      "neutral          4\n",
      "Name: pred_label, dtype: int64\n",
      "------------------\n",
      "imply S1S2_Subj S1S2_Verb\n",
      "Medoid class: entailment\n",
      "entailment       39\n",
      "neutral           1\n",
      "contradiction     1\n",
      "Name: pred_label, dtype: int64\n",
      "------------------\n",
      "be\n",
      "Medoid class: entailment\n",
      "entailment       71\n",
      "contradiction    32\n",
      "neutral          10\n",
      "Name: pred_label, dtype: int64\n",
      "------------------\n",
      "S1_Verb S2_Verb S2_Obj be different\n",
      "Medoid class: contradiction\n",
      "contradiction    13\n",
      "entailment        2\n",
      "Name: pred_label, dtype: int64\n",
      "------------------\n",
      "S1S2_Subj not walk S1_Verb S2_Verb same\n",
      "Medoid class: contradiction\n",
      "contradiction    14\n",
      "Name: pred_label, dtype: int64\n",
      "------------------\n",
      "S1_Subj be\n",
      "Medoid class: contradiction\n",
      "entailment       29\n",
      "contradiction    14\n",
      "neutral           7\n",
      "Name: pred_label, dtype: int64\n",
      "------------------\n",
      "be be\n",
      "Medoid class: entailment\n",
      "entailment       17\n",
      "neutral           5\n",
      "contradiction     3\n",
      "Name: pred_label, dtype: int64\n",
      "------------------\n",
      "imply S2_Subj S2_Verb S2_Obj\n",
      "Medoid class: entailment\n",
      "entailment       21\n",
      "contradiction     9\n",
      "neutral           9\n",
      "Name: pred_label, dtype: int64\n",
      "------------------\n",
      "\n",
      "Medoid class: neutral\n",
      "entailment       79\n",
      "contradiction    76\n",
      "neutral          39\n",
      "Neutral           1\n",
      "Name: pred_label, dtype: int64\n",
      "------------------\n",
      "imply S1_Subj\n",
      "Medoid class: contradiction\n",
      "entailment       47\n",
      "neutral           3\n",
      "contradiction     3\n",
      "Name: pred_label, dtype: int64\n"
     ]
    }
   ],
   "source": [
    "for i in range(len(SSD)):\n",
    "    print(\"------------------\")\n",
    "    print(gpt_pred.iloc[kmfit.medoid_indices_[i]].reduced_expl)\n",
    "    print(f\"Medoid class: {gpt_pred.iloc[kmfit.medoid_indices_[i]].pred_label}\")\n",
    "    print(gpt_pred[kmfit.labels_ == i].pred_label.value_counts())"
   ],
   "metadata": {
    "collapsed": false,
    "pycharm": {
     "name": "#%%\n"
    }
   }
  },
  {
   "cell_type": "markdown",
   "source": [
    "### SVO Structure"
   ],
   "metadata": {
    "collapsed": false,
    "pycharm": {
     "name": "#%% md\n"
    }
   }
  },
  {
   "cell_type": "code",
   "execution_count": 107,
   "outputs": [],
   "source": [
    "vectorizer = CountVectorizer(ngram_range=(1, 3))\n",
    "X = vectorizer.fit_transform(gpt_pred.pos_expl)"
   ],
   "metadata": {
    "collapsed": false,
    "pycharm": {
     "name": "#%%\n"
    }
   }
  },
  {
   "cell_type": "code",
   "execution_count": 108,
   "outputs": [
    {
     "name": "stdout",
     "output_type": "stream",
     "text": [
      "[[0 0 0 ... 0 0 0]\n",
      " [0 0 0 ... 0 0 0]\n",
      " [0 0 0 ... 0 0 0]\n",
      " ...\n",
      " [0 0 0 ... 0 0 0]\n",
      " [0 0 0 ... 0 0 0]\n",
      " [0 0 0 ... 0 0 0]]\n"
     ]
    }
   ],
   "source": [
    "print(X.toarray())"
   ],
   "metadata": {
    "collapsed": false,
    "pycharm": {
     "name": "#%%\n"
    }
   }
  },
  {
   "cell_type": "code",
   "execution_count": 109,
   "outputs": [
    {
     "data": {
      "text/plain": "[<matplotlib.lines.Line2D at 0x19f8db370>]"
     },
     "execution_count": 109,
     "metadata": {},
     "output_type": "execute_result"
    },
    {
     "data": {
      "text/plain": "<Figure size 640x480 with 1 Axes>",
      "image/png": "[encoded data removed]"
     },
     "metadata": {},
     "output_type": "display_data"
    }
   ],
   "source": [
    "SSD = list()\n",
    "for k in range(1,21):\n",
    "    km = kmedoids.KMedoids(n_clusters=k, method=\"pam\")\n",
    "    kmfit = km.fit(metrics.pairwise.euclidean_distances(X))\n",
    "    SSD += [kmfit.inertia_]\n",
    "plt.plot(SSD)"
   ],
   "metadata": {
    "collapsed": false,
    "pycharm": {
     "name": "#%%\n"
    }
   }
  },
  {
   "cell_type": "code",
   "execution_count": 112,
   "outputs": [
    {
     "name": "stdout",
     "output_type": "stream",
     "text": [
      "------------------\n",
      "Actual Expl: The crowd could be watching the duo in blue dance on a stage or sitting in a lounge.\n",
      "SVO Structure: S1_Subj watch S1_Verb S1_Obj S2_Verb\n",
      "POS Structure: S1_NOUN be S1_VERB S1_NOUN S1_ADJ S1_NOUN S1_NOUN S2_VERB S2_NOUN\n",
      "Medoid class: neutral\n",
      "entailment       16\n",
      "contradiction     7\n",
      "neutral           2\n",
      "Name: pred_label, dtype: int64\n",
      "------------------\n",
      "Actual Expl: A group of cyclists at a race implies that they are racing.\n",
      "SVO Structure: S2_Subj S2_Verb imply S2_Verb\n",
      "POS Structure: S1S2_NOUN S1S2_NOUN S1S2_NOUN imply be S1S2_NOUN\n",
      "Medoid class: entailment\n",
      "entailment       20\n",
      "contradiction     1\n",
      "neutral           1\n",
      "Name: pred_label, dtype: int64\n",
      "------------------\n",
      "Actual Expl: Pitching the ball is the same as throwing the ball.\n",
      "SVO Structure: S1_Verb S1S2_Obj be same S2_Verb S1S2_Obj\n",
      "POS Structure: S1_VERB S1S2_NOUN be S2_VERB S1S2_NOUN\n",
      "Medoid class: entailment\n",
      "entailment       41\n",
      "neutral          23\n",
      "contradiction    12\n",
      "Name: pred_label, dtype: int64\n",
      "------------------\n",
      "Actual Expl: A basketball player cannot be playing football.\n",
      "SVO Structure: not play S2_Verb S2_Obj\n",
      "POS Structure: S1_NOUN S1_NOUN not be S2_VERB S2_NOUN\n",
      "Medoid class: contradiction\n",
      "contradiction    15\n",
      "neutral          13\n",
      "entailment        1\n",
      "Name: pred_label, dtype: int64\n",
      "------------------\n",
      "Actual Expl: The two men are fixing a bicycle.\n",
      "SVO Structure: S1S2_Subj fix S1S2_Verb S1S2_Obj\n",
      "POS Structure: S1S2_NOUN be S1S2_VERB S1S2_NOUN\n",
      "Medoid class: entailment\n",
      "entailment       85\n",
      "neutral          23\n",
      "contradiction    22\n",
      "Neutral           1\n",
      "Name: pred_label, dtype: int64\n",
      "------------------\n",
      "Actual Expl: A man cannot be walking out of the water and laying on the beach at the same time.\n",
      "SVO Structure: S1S2_Subj not walk S1_Verb S2_Verb same\n",
      "POS Structure: S1S2_NOUN not be S1_VERB S1_NOUN S2_VERB S2_NOUN time\n",
      "Medoid class: contradiction\n",
      "contradiction    29\n",
      "Name: pred_label, dtype: int64\n",
      "------------------\n",
      "Actual Expl: A couple cannot be walking and sitting at the same time.\n",
      "SVO Structure: S2_Subj not walk S2_Verb same\n",
      "POS Structure: S1S2_NOUN not be S1_VERB S2_VERB time\n",
      "Medoid class: contradiction\n",
      "contradiction    18\n",
      "Name: pred_label, dtype: int64\n",
      "------------------\n",
      "Actual Expl: A guitar is an instrument.\n",
      "SVO Structure: be\n",
      "POS Structure: S1_NOUN be S2_NOUN\n",
      "Medoid class: entailment\n",
      "entailment       144\n",
      "contradiction     61\n",
      "neutral           44\n",
      "Name: pred_label, dtype: int64\n",
      "------------------\n",
      "Actual Expl: The statement implies that two girls are in a race.\n",
      "SVO Structure: imply S1_Subj S1_Verb\n",
      "POS Structure: statement imply S1S2_NOUN be S1S2_VERB\n",
      "Medoid class: entailment\n",
      "entailment       35\n",
      "contradiction     8\n",
      "Name: pred_label, dtype: int64\n",
      "------------------\n",
      "Actual Expl: Riding a motorcycle and sparring in the gym are different activities.\n",
      "SVO Structure: S1_Verb S1_Obj S2_Verb be different\n",
      "POS Structure: S1_VERB S1_NOUN S2_VERB S2_NOUN be different activity\n",
      "Medoid class: contradiction\n",
      "contradiction    20\n",
      "Name: pred_label, dtype: int64\n",
      "------------------\n",
      "Actual Expl: Staring at something is looking at something.\n",
      "SVO Structure: S1_Verb look S2_Verb\n",
      "POS Structure: S1_VERB be S2_VERB\n",
      "Medoid class: entailment\n",
      "entailment       21\n",
      "neutral          11\n",
      "contradiction    11\n",
      "Name: pred_label, dtype: int64\n",
      "------------------\n",
      "Actual Expl: Fencing and dodgeball are different sports.\n",
      "SVO Structure: S2_Obj be different\n",
      "POS Structure: S1_NOUN S2_NOUN be different S1_NOUN\n",
      "Medoid class: contradiction\n",
      "contradiction    22\n",
      "neutral           1\n",
      "Name: pred_label, dtype: int64\n",
      "------------------\n",
      "Actual Expl: Not all farms have cows.\n",
      "SVO Structure: have\n",
      "POS Structure: not S2_NOUN S1_NOUN\n",
      "Medoid class: neutral\n",
      "contradiction    27\n",
      "neutral          16\n",
      "entailment        1\n",
      "Name: pred_label, dtype: int64\n",
      "------------------\n",
      "Actual Expl: Two children are sitting together on a white blanket.\n",
      "SVO Structure: S1_Subj sit S1_Verb\n",
      "POS Structure: S1S2_NOUN be S1_VERB S1_ADJ S1_NOUN\n",
      "Medoid class: entailment\n",
      "entailment       32\n",
      "contradiction    11\n",
      "neutral           5\n",
      "Name: pred_label, dtype: int64\n",
      "------------------\n",
      "Actual Expl: If the two people are sitting in a car, then they are in front of the man.\n",
      "SVO Structure: be be S1S2_Subj\n",
      "POS Structure: S1S2_NOUN be S1_VERB S1_NOUN be S1S2_NOUN\n",
      "Medoid class: entailment\n",
      "entailment       28\n",
      "contradiction     8\n",
      "neutral           2\n",
      "Name: pred_label, dtype: int64\n",
      "------------------\n",
      "Actual Expl: The dog is running in a field, not going to the vet.\n",
      "SVO Structure: S1S2_Subj run S1_Verb S2_Verb\n",
      "POS Structure: S1S2_NOUN be S1_VERB S1_NOUN not S2_VERB S2_NOUN\n",
      "Medoid class: contradiction\n",
      "contradiction    16\n",
      "neutral           7\n",
      "entailment        1\n",
      "Name: pred_label, dtype: int64\n",
      "------------------\n",
      "Actual Expl: Looking through microscopes is not the same as watching TV.\n",
      "SVO Structure: S1_Verb be not same S2_Verb S2_Obj\n",
      "POS Structure: S1_VERB S1_NOUN be not S2_VERB S2_NOUN\n",
      "Medoid class: contradiction\n",
      "contradiction    19\n",
      "entailment        5\n",
      "neutral           1\n",
      "Name: pred_label, dtype: int64\n",
      "------------------\n",
      "Actual Expl: The men are posing behind a cash register.\n",
      "SVO Structure: S1S2_Subj pose S1S2_Verb\n",
      "POS Structure: S1S2_NOUN be S1S2_VERB S1_NOUN S1_NOUN\n",
      "Medoid class: entailment\n",
      "entailment       25\n",
      "contradiction    12\n",
      "neutral           4\n",
      "Name: pred_label, dtype: int64\n",
      "------------------\n",
      "Actual Expl: A mechanic would be performing auto repair.\n",
      "SVO Structure: perform S1_Verb S1_Obj\n",
      "POS Structure: S2_NOUN be S1_VERB S1_NOUN S1_NOUN\n",
      "Medoid class: entailment\n",
      "entailment       24\n",
      "contradiction    14\n",
      "neutral           7\n",
      "Name: pred_label, dtype: int64\n",
      "------------------\n",
      "Actual Expl: The man of the cloth is not at the park.\n",
      "SVO Structure: S1_Subj be not\n",
      "POS Structure: S1_NOUN S1_NOUN be not S2_NOUN\n",
      "Medoid class: contradiction\n",
      "contradiction    19\n",
      "neutral           4\n",
      "entailment        4\n",
      "Name: pred_label, dtype: int64\n"
     ]
    }
   ],
   "source": [
    "for i in range(len(SSD)):\n",
    "    print(\"------------------\")\n",
    "    print(f\"Actual Expl: {gpt_pred.iloc[kmfit.medoid_indices_[i]].pred_explanation}\")\n",
    "    print(f\"SVO Structure: {gpt_pred.iloc[kmfit.medoid_indices_[i]].reduced_expl}\")\n",
    "    print(f\"POS Structure: {gpt_pred.iloc[kmfit.medoid_indices_[i]].pos_expl}\")\n",
    "    print(f\"Medoid class: {gpt_pred.iloc[kmfit.medoid_indices_[i]].pred_label}\")\n",
    "    print(gpt_pred[kmfit.labels_ == i].pred_label.value_counts())"
   ],
   "metadata": {
    "collapsed": false,
    "pycharm": {
     "name": "#%%\n"
    }
   }
  },
  {
   "cell_type": "code",
   "execution_count": null,
   "outputs": [],
   "source": [],
   "metadata": {
    "collapsed": false,
    "pycharm": {
     "name": "#%%\n"
    }
   }
  }
 ],
 "metadata": {
  "kernelspec": {
   "display_name": "Python 3",
   "language": "python",
   "name": "python3"
  },
  "language_info": {
   "codemirror_mode": {
    "name": "ipython",
    "version": 2
   },
   "file_extension": ".py",
   "mimetype": "text/x-python",
   "name": "python",
   "nbconvert_exporter": "python",
   "pygments_lexer": "ipython2",
   "version": "2.7.6"
  }
 },
 "nbformat": 4,
 "nbformat_minor": 0
}