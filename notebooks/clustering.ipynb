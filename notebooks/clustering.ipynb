{
 "cells": [
  {
   "cell_type": "code",
   "execution_count": 1,
   "outputs": [
    {
     "name": "stderr",
     "output_type": "stream",
     "text": [
      "/Users/marcbraun/.conda/envs/732A81-Text_Mining/lib/python3.10/site-packages/tqdm/auto.py:22: TqdmWarning: IProgress not found. Please update jupyter and ipywidgets. See https://ipywidgets.readthedocs.io/en/stable/user_install.html\n",
      "  from .autonotebook import tqdm as notebook_tqdm\n"
     ]
    }
   ],
   "source": [
    "import random\n",
    "import pandas as pd\n",
    "import numpy as np\n",
    "import matplotlib.pyplot as plt\n",
    "import os\n",
    "import openai\n",
    "import re\n",
    "import time\n",
    "from scripts.prepare_data_helpers import prepare_examples, create_query\n",
    "import spacy\n",
    "import textacy\n",
    "from dotenv import load_dotenv\n",
    "\n",
    "load_dotenv()\n",
    "nlp = spacy.load('en_core_web_sm')\n",
    "\n",
    "from sklearn.feature_extraction.text import CountVectorizer\n",
    "import sklearn\n",
    "from sklearn import metrics\n",
    "from sklearn.model_selection import train_test_split\n",
    "from sklearn.naive_bayes import GaussianNB, MultinomialNB\n",
    "from sklearn.cluster import KMeans\n",
    "import kmedoids"
   ],
   "metadata": {
    "collapsed": false,
    "pycharm": {
     "name": "#%%\n"
    }
   }
  },
  {
   "cell_type": "markdown",
   "source": [
    "## Prepare Data"
   ],
   "metadata": {
    "collapsed": false,
    "pycharm": {
     "name": "#%% md\n"
    }
   }
  },
  {
   "cell_type": "code",
   "execution_count": 2,
   "outputs": [],
   "source": [
    "train1 = pd.read_csv('../../e-SNLI/dataset/esnli_train_1.csv')\n",
    "train2 = pd.read_csv('../../e-SNLI/dataset/esnli_train_2.csv')\n",
    "train = pd.concat([train1, train2])\n",
    "dev = pd.read_csv('../../e-SNLI/dataset/esnli_dev.csv')\n",
    "test = pd.read_csv('../../e-SNLI/dataset/esnli_test.csv')\n",
    "\n",
    "train = train.dropna(subset=['Sentence1', 'Sentence2', 'Explanation_1'])\n",
    "train = train.reset_index(drop=True)\n",
    "\n",
    "np.random.seed(12345) # seed for numpy package\n",
    "test_indices = list(np.random.choice(test.index.values, size=1000, replace=False))\n",
    "test = test.loc[test_indices]\n",
    "test = test.reset_index(drop=True)"
   ],
   "metadata": {
    "collapsed": false,
    "pycharm": {
     "name": "#%%\n"
    }
   }
  },
  {
   "cell_type": "code",
   "execution_count": 3,
   "outputs": [],
   "source": [
    "gpt_pred = pd.read_csv(\"../output_data/svo_structure_4.csv\", sep=\";\")\n",
    "gpt2 = pd.read_csv(\"../output_data/svo_structure_gpt2.csv\", sep=\";\")\n",
    "\n",
    "# Transform list to single string\n",
    "\n",
    "# GPT-3\n",
    "gpt_pred.reduced_expl = [i.replace(\"'\", \" \").replace(\" \", \"\").strip(\"][\").replace(\",\", \" \") for i in gpt_pred.reduced_expl]\n",
    "gpt_pred.pos_expl = [i.replace(\"'\", \" \").replace(\" \", \"\").strip(\"][\").replace(\",\", \" \") for i in gpt_pred.pos_expl]\n",
    "\n",
    "# Gold Explanations\n",
    "gpt_pred.reduced_gold_expl = [i.replace(\"'\", \" \").replace(\" \", \"\").strip(\"][\").replace(\",\", \" \") for i in gpt_pred.reduced_gold_expl]\n",
    "gpt_pred.pos_gold_expl = [i.replace(\"'\", \" \").replace(\" \", \"\").strip(\"][\").replace(\",\", \" \") for i in gpt_pred.pos_gold_expl]\n",
    "\n",
    "# GPT-2\n",
    "gpt2.reduced_expl = [i.replace(\"'\", \" \").replace(\" \", \"\").strip(\"][\").replace(\",\", \" \") for i in gpt2.reduced_expl]\n",
    "gpt2.pos_expl = [i.replace(\"'\", \" \").replace(\" \", \"\").strip(\"][\").replace(\",\", \" \") for i in gpt2.pos_expl]\n",
    "gpt2[\"pred_label\"] = gpt2.labels\n",
    "gpt2_label_mapping = {0: \"contradiction\", 1: \"neutral\", 2: \"entailment\"}\n",
    "inverse_gpt2_label_mapping = {\"contradiction\": 0, \"neutral\": 1, \"entailment\": 2}"
   ],
   "metadata": {
    "collapsed": false,
    "pycharm": {
     "name": "#%%\n"
    }
   }
  },
  {
   "cell_type": "markdown",
   "source": [
    "# GPT-3"
   ],
   "metadata": {
    "collapsed": false,
    "pycharm": {
     "name": "#%% md\n"
    }
   }
  },
  {
   "cell_type": "markdown",
   "source": [
    "## SVO Structure"
   ],
   "metadata": {
    "collapsed": false,
    "pycharm": {
     "name": "#%% md\n"
    }
   }
  },
  {
   "cell_type": "code",
   "execution_count": 4,
   "outputs": [],
   "source": [
    "vectorizer = CountVectorizer(ngram_range=(1, 4))\n",
    "X = vectorizer.fit_transform(gpt_pred.reduced_expl)"
   ],
   "metadata": {
    "collapsed": false,
    "pycharm": {
     "name": "#%%\n"
    }
   }
  },
  {
   "cell_type": "code",
   "execution_count": 5,
   "outputs": [
    {
     "name": "stdout",
     "output_type": "stream",
     "text": [
      "[[0 0 0 ... 0 0 0]\n",
      " [0 0 0 ... 0 0 0]\n",
      " [0 0 0 ... 0 0 0]\n",
      " ...\n",
      " [0 0 0 ... 0 0 0]\n",
      " [0 0 0 ... 0 0 0]\n",
      " [0 0 0 ... 0 0 0]]\n"
     ]
    }
   ],
   "source": [
    "print(X.toarray())"
   ],
   "metadata": {
    "collapsed": false,
    "pycharm": {
     "name": "#%%\n"
    }
   }
  },
  {
   "cell_type": "code",
   "execution_count": 6,
   "outputs": [
    {
     "data": {
      "text/plain": "[<matplotlib.lines.Line2D at 0x19d4ea950>]"
     },
     "execution_count": 6,
     "metadata": {},
     "output_type": "execute_result"
    },
    {
     "data": {
      "text/plain": "<Figure size 640x480 with 1 Axes>",
      "image/png": "[encoded data removed]"
     },
     "metadata": {},
     "output_type": "display_data"
    }
   ],
   "source": [
    "SSD = list()\n",
    "for k in range(1,21):\n",
    "    km = kmedoids.KMedoids(n_clusters=k, method=\"pam\")\n",
    "    kmfit = km.fit(metrics.pairwise.euclidean_distances(X))\n",
    "    SSD += [kmfit.inertia_]\n",
    "plt.plot(SSD)"
   ],
   "metadata": {
    "collapsed": false,
    "pycharm": {
     "name": "#%%\n"
    }
   }
  },
  {
   "cell_type": "code",
   "execution_count": 7,
   "outputs": [
    {
     "name": "stdout",
     "output_type": "stream",
     "text": [
      "------------------\n",
      "S1S2_Subj S1_Verb not imply S2_Verb S2_Obj\n",
      "Medoid class: contradiction\n",
      "contradiction    4\n",
      "neutral          3\n",
      "Name: pred_label, dtype: int64\n",
      "------------------\n",
      "S1S2_Subj not walk S1_Verb S2_Verb same\n",
      "Medoid class: contradiction\n",
      "contradiction    8\n",
      "Name: pred_label, dtype: int64\n",
      "------------------\n",
      "S1_Subj S1_Verb imply\n",
      "Medoid class: entailment\n",
      "entailment       14\n",
      "contradiction     6\n",
      "Name: pred_label, dtype: int64\n",
      "------------------\n",
      "be not same\n",
      "Medoid class: contradiction\n",
      "contradiction    29\n",
      "Name: pred_label, dtype: int64\n",
      "------------------\n",
      "imply S1S2_Subj S1S2_Verb\n",
      "Medoid class: entailment\n",
      "entailment       39\n",
      "neutral           1\n",
      "contradiction     1\n",
      "Name: pred_label, dtype: int64\n",
      "------------------\n",
      "S1_Subj be\n",
      "Medoid class: entailment\n",
      "entailment       28\n",
      "contradiction    11\n",
      "neutral           7\n",
      "Name: pred_label, dtype: int64\n",
      "------------------\n",
      "be S2_Verb S2_Obj\n",
      "Medoid class: entailment\n",
      "entailment       20\n",
      "contradiction     5\n",
      "neutral           1\n",
      "Name: pred_label, dtype: int64\n",
      "------------------\n",
      "imply S1_Subj\n",
      "Medoid class: entailment\n",
      "entailment       48\n",
      "contradiction     7\n",
      "neutral           3\n",
      "Name: pred_label, dtype: int64\n",
      "------------------\n",
      "be be\n",
      "Medoid class: entailment\n",
      "entailment       18\n",
      "neutral           5\n",
      "contradiction     3\n",
      "Name: pred_label, dtype: int64\n",
      "------------------\n",
      "imply S2_Subj S2_Verb S2_Obj\n",
      "Medoid class: entailment\n",
      "entailment       20\n",
      "neutral           9\n",
      "contradiction     7\n",
      "Name: pred_label, dtype: int64\n",
      "------------------\n",
      "be different\n",
      "Medoid class: contradiction\n",
      "contradiction    47\n",
      "neutral           1\n",
      "Name: pred_label, dtype: int64\n",
      "------------------\n",
      "S1_Verb S1_Obj be\n",
      "Medoid class: entailment\n",
      "entailment       27\n",
      "contradiction    10\n",
      "neutral           2\n",
      "Name: pred_label, dtype: int64\n",
      "------------------\n",
      "imply S1S2_Subj S2_Verb S2_Obj\n",
      "Medoid class: entailment\n",
      "entailment       13\n",
      "neutral           6\n",
      "contradiction     3\n",
      "Name: pred_label, dtype: int64\n",
      "------------------\n",
      "be\n",
      "Medoid class: entailment\n",
      "entailment       70\n",
      "contradiction    32\n",
      "neutral          10\n",
      "Name: pred_label, dtype: int64\n",
      "------------------\n",
      "S1_Verb S2_Verb S2_Obj be different\n",
      "Medoid class: contradiction\n",
      "contradiction    13\n",
      "Name: pred_label, dtype: int64\n",
      "------------------\n",
      "\n",
      "Medoid class: neutral\n",
      "entailment       80\n",
      "contradiction    76\n",
      "neutral          39\n",
      "Neutral           1\n",
      "Name: pred_label, dtype: int64\n",
      "------------------\n",
      "S2_Verb\n",
      "Medoid class: entailment\n",
      "contradiction    81\n",
      "entailment       73\n",
      "neutral          24\n",
      "Name: pred_label, dtype: int64\n",
      "------------------\n",
      "S2_Subj not mean S2_Verb S2_Obj\n",
      "Medoid class: neutral\n",
      "neutral    10\n",
      "Name: pred_label, dtype: int64\n",
      "------------------\n",
      "imply\n",
      "Medoid class: entailment\n",
      "entailment    33\n",
      "neutral        3\n",
      "Name: pred_label, dtype: int64\n",
      "------------------\n",
      "not mean\n",
      "Medoid class: neutral\n",
      "neutral          40\n",
      "contradiction     9\n",
      "Name: pred_label, dtype: int64\n"
     ]
    }
   ],
   "source": [
    "for i in range(len(SSD)):\n",
    "    print(\"------------------\")\n",
    "    print(gpt_pred.iloc[kmfit.medoid_indices_[i]].reduced_expl)\n",
    "    print(f\"Medoid class: {gpt_pred.iloc[kmfit.medoid_indices_[i]].pred_label}\")\n",
    "    print(gpt_pred[kmfit.labels_ == i].pred_label.value_counts())"
   ],
   "metadata": {
    "collapsed": false,
    "pycharm": {
     "name": "#%%\n"
    }
   }
  },
  {
   "cell_type": "code",
   "execution_count": 8,
   "outputs": [
    {
     "name": "stdout",
     "output_type": "stream",
     "text": [
      "['S1S2_Subj S1_Verb not imply S2_Verb S2_Obj', 'S1S2_Subj not walk S1_Verb S2_Verb same', 'S1_Subj S1_Verb imply', 'be not same', 'imply S1S2_Subj S1S2_Verb', 'S1_Subj be', 'be S2_Verb S2_Obj', 'imply S1_Subj', 'be be', 'imply S2_Subj S2_Verb S2_Obj', 'be different', 'S1_Verb S1_Obj be', 'imply S1S2_Subj S2_Verb S2_Obj', 'be', 'S1_Verb S2_Verb S2_Obj be different', '', 'S2_Verb', 'S2_Subj not mean S2_Verb S2_Obj', 'imply', 'not mean']\n"
     ]
    }
   ],
   "source": [
    "print([gpt_pred.iloc[kmfit.medoid_indices_[i]].reduced_expl for i in range(len(SSD))])"
   ],
   "metadata": {
    "collapsed": false,
    "pycharm": {
     "name": "#%%\n"
    }
   }
  },
  {
   "cell_type": "markdown",
   "source": [
    "## POS Structure"
   ],
   "metadata": {
    "collapsed": false,
    "pycharm": {
     "name": "#%% md\n"
    }
   }
  },
  {
   "cell_type": "code",
   "execution_count": 9,
   "outputs": [],
   "source": [
    "vectorizer = CountVectorizer(ngram_range=(1, 4))\n",
    "X = vectorizer.fit_transform(gpt_pred.pos_expl)"
   ],
   "metadata": {
    "collapsed": false,
    "pycharm": {
     "name": "#%%\n"
    }
   }
  },
  {
   "cell_type": "code",
   "execution_count": 10,
   "outputs": [
    {
     "name": "stdout",
     "output_type": "stream",
     "text": [
      "[[0 0 0 ... 0 0 0]\n",
      " [0 0 0 ... 0 0 0]\n",
      " [0 0 0 ... 0 0 0]\n",
      " ...\n",
      " [0 0 0 ... 0 0 0]\n",
      " [0 0 0 ... 0 0 0]\n",
      " [0 0 0 ... 0 0 0]]\n"
     ]
    }
   ],
   "source": [
    "print(X.toarray())"
   ],
   "metadata": {
    "collapsed": false,
    "pycharm": {
     "name": "#%%\n"
    }
   }
  },
  {
   "cell_type": "code",
   "execution_count": 11,
   "outputs": [
    {
     "data": {
      "text/plain": "[<matplotlib.lines.Line2D at 0x19d615360>]"
     },
     "execution_count": 11,
     "metadata": {},
     "output_type": "execute_result"
    },
    {
     "data": {
      "text/plain": "<Figure size 640x480 with 1 Axes>",
      "image/png": "[encoded data removed]"
     },
     "metadata": {},
     "output_type": "display_data"
    }
   ],
   "source": [
    "SSD = list()\n",
    "for k in range(1,21):\n",
    "    km = kmedoids.KMedoids(n_clusters=k, method=\"pam\")\n",
    "    kmfit = km.fit(metrics.pairwise.euclidean_distances(X))\n",
    "    SSD += [kmfit.inertia_]\n",
    "plt.plot(SSD)"
   ],
   "metadata": {
    "collapsed": false,
    "pycharm": {
     "name": "#%%\n"
    }
   }
  },
  {
   "cell_type": "code",
   "execution_count": 12,
   "outputs": [
    {
     "name": "stdout",
     "output_type": "stream",
     "text": [
      "------------------\n",
      "Actual Expl: A mechanic would be performing auto repair.\n",
      "SVO Structure: perform S1_Verb S1_Obj\n",
      "POS Structure: S2_NOUN be S1_VERB S1_NOUN S1_NOUN\n",
      "Medoid class: entailment\n",
      "entailment       19\n",
      "contradiction    18\n",
      "neutral           7\n",
      "Name: pred_label, dtype: int64\n",
      "------------------\n",
      "Actual Expl: If the person is falling off a surfboard, then they are in the water.\n",
      "SVO Structure: S1_Subj be S1_Verb be\n",
      "POS Structure: S1S2_NOUN be S1_VERB S1_NOUN be S2_NOUN\n",
      "Medoid class: entailment\n",
      "entailment       15\n",
      "contradiction     5\n",
      "neutral           1\n",
      "Name: pred_label, dtype: int64\n",
      "------------------\n",
      "Actual Expl: The statement does not describe a white man in a blue uniform pushing away a black man in a red uniform while the two play soccer on a green field.\n",
      "SVO Structure: not describe S1_Obj S1_Verb S1_Obj\n",
      "POS Structure: statement not describe S1_ADJ S1_NOUN S1_ADJ S1_NOUN S1_VERB S1_ADP S1_ADJ S1_NOUN S1_ADJ S1_NOUN S1_NOUN S1_NOUN S1_ADJ S1_NOUN\n",
      "Medoid class: contradiction\n",
      "entailment       2\n",
      "contradiction    1\n",
      "Name: pred_label, dtype: int64\n",
      "------------------\n",
      "Actual Expl: Two children are sitting together on a white blanket.\n",
      "SVO Structure: S1_Subj sit S1_Verb\n",
      "POS Structure: S1S2_NOUN be S1_VERB S1_ADJ S1_NOUN\n",
      "Medoid class: entailment\n",
      "entailment       26\n",
      "contradiction     9\n",
      "neutral           5\n",
      "Name: pred_label, dtype: int64\n",
      "------------------\n",
      "Actual Expl: A boy cannot be running across a road and sleeping in his bed at the same time.\n",
      "SVO Structure: S1S2_Subj not run S1_Verb S2_Verb same\n",
      "POS Structure: S1S2_NOUN not be S1_VERB S1_NOUN S2_VERB S2_NOUN time\n",
      "Medoid class: contradiction\n",
      "contradiction    27\n",
      "entailment        1\n",
      "Name: pred_label, dtype: int64\n",
      "------------------\n",
      "Actual Expl: Taking pictures and playing soccer are two different activities.\n",
      "SVO Structure: S1_Verb S1_Obj S2_Verb S2_Obj be different\n",
      "POS Structure: S1_VERB S1_NOUN S2_VERB S2_NOUN be different activity\n",
      "Medoid class: contradiction\n",
      "contradiction    16\n",
      "Name: pred_label, dtype: int64\n",
      "------------------\n",
      "Actual Expl: The dog is running in a field, not going to the vet.\n",
      "SVO Structure: S1S2_Subj run S1_Verb S2_Verb\n",
      "POS Structure: S1S2_NOUN be S1_VERB S1_NOUN not S2_VERB S2_NOUN\n",
      "Medoid class: contradiction\n",
      "contradiction    8\n",
      "neutral          3\n",
      "Name: pred_label, dtype: int64\n",
      "------------------\n",
      "Actual Expl: The statement implies that two girls are in a race.\n",
      "SVO Structure: imply S1_Subj S1_Verb\n",
      "POS Structure: statement imply S1S2_NOUN be S1S2_VERB\n",
      "Medoid class: entailment\n",
      "entailment       31\n",
      "contradiction     5\n",
      "Name: pred_label, dtype: int64\n",
      "------------------\n",
      "Actual Expl: Staring at something is looking at something.\n",
      "SVO Structure: S1_Verb look S2_Verb\n",
      "POS Structure: S1_VERB be S2_VERB\n",
      "Medoid class: entailment\n",
      "entailment       27\n",
      "contradiction    24\n",
      "neutral          18\n",
      "Name: pred_label, dtype: int64\n",
      "------------------\n",
      "Actual Expl: Fruits and vegetables are not the same as clothing.\n",
      "SVO Structure: S1_Obj be not same S2_Obj\n",
      "POS Structure: S1_NOUN S1_NOUN be not S2_NOUN\n",
      "Medoid class: contradiction\n",
      "contradiction    19\n",
      "entailment        4\n",
      "neutral           1\n",
      "Name: pred_label, dtype: int64\n",
      "------------------\n",
      "Actual Expl: The boy carrying a bag and a pail does not imply he is walking to the beach.\n",
      "SVO Structure: S1S2_Subj S1_Verb S1_Obj not imply S2_Verb\n",
      "POS Structure: S1S2_NOUN S1_VERB S1_NOUN S1_NOUN not imply be S2_VERB S2_NOUN\n",
      "Medoid class: neutral\n",
      "contradiction    4\n",
      "neutral          3\n",
      "Name: pred_label, dtype: int64\n",
      "------------------\n",
      "Actual Expl: A couple cannot be walking and sitting at the same time.\n",
      "SVO Structure: S2_Subj not walk S2_Verb same\n",
      "POS Structure: S1S2_NOUN not be S1_VERB S2_VERB time\n",
      "Medoid class: contradiction\n",
      "contradiction    10\n",
      "Name: pred_label, dtype: int64\n",
      "------------------\n",
      "Actual Expl: A violin is an instrument.\n",
      "SVO Structure: S1_Obj be S2_Obj\n",
      "POS Structure: S1_NOUN be S2_NOUN\n",
      "Medoid class: entailment\n",
      "entailment       191\n",
      "contradiction    107\n",
      "neutral           69\n",
      "Name: pred_label, dtype: int64\n",
      "------------------\n",
      "Actual Expl: Pitching the ball is the same as throwing the ball.\n",
      "SVO Structure: S1_Verb S1S2_Obj be same S2_Verb S1S2_Obj\n",
      "POS Structure: S1_VERB S1S2_NOUN be S2_VERB S1S2_NOUN\n",
      "Medoid class: entailment\n",
      "entailment       31\n",
      "neutral          13\n",
      "contradiction     8\n",
      "Name: pred_label, dtype: int64\n",
      "------------------\n",
      "Actual Expl: Playing catch is not the same as tossing a frisbee.\n",
      "SVO Structure: S1_Verb S1_Obj be not same S2_Verb S2_Obj\n",
      "POS Structure: S1_VERB S1_NOUN be not S2_VERB S2_NOUN\n",
      "Medoid class: contradiction\n",
      "contradiction    15\n",
      "entailment        2\n",
      "neutral           1\n",
      "Name: pred_label, dtype: int64\n",
      "------------------\n",
      "Actual Expl: The men are posing behind a cash register.\n",
      "SVO Structure: S1S2_Subj pose S1S2_Verb\n",
      "POS Structure: S1S2_NOUN be S1S2_VERB S1_NOUN S1_NOUN\n",
      "Medoid class: entailment\n",
      "entailment       18\n",
      "contradiction     9\n",
      "neutral           3\n",
      "Name: pred_label, dtype: int64\n",
      "------------------\n",
      "Actual Expl: Fencing and dodgeball are different sports.\n",
      "SVO Structure: S2_Obj be different\n",
      "POS Structure: S1_NOUN S2_NOUN be different S1_NOUN\n",
      "Medoid class: contradiction\n",
      "contradiction    14\n",
      "neutral           1\n",
      "Name: pred_label, dtype: int64\n",
      "------------------\n",
      "Actual Expl: The man could be next to the fence or flying off the full.\n",
      "SVO Structure: S1_Subj be S1_Verb S1_Obj\n",
      "POS Structure: S1S2_NOUN be S1S2_NOUN S1_VERB\n",
      "Medoid class: neutral\n",
      "entailment       32\n",
      "neutral           4\n",
      "contradiction     3\n",
      "Name: pred_label, dtype: int64\n",
      "------------------\n",
      "Actual Expl: The two men are fixing a bicycle.\n",
      "SVO Structure: S1S2_Subj fix S1S2_Verb S1S2_Obj\n",
      "POS Structure: S1S2_NOUN be S1S2_VERB S1S2_NOUN\n",
      "Medoid class: entailment\n",
      "entailment       83\n",
      "contradiction    20\n",
      "neutral          18\n",
      "Neutral           1\n",
      "Name: pred_label, dtype: int64\n",
      "------------------\n",
      "Actual Expl: Not all farms have cows.\n",
      "SVO Structure: have\n",
      "POS Structure: not S2_NOUN S1_NOUN\n",
      "Medoid class: neutral\n",
      "contradiction    30\n",
      "neutral          17\n",
      "entailment        1\n",
      "Name: pred_label, dtype: int64\n"
     ]
    }
   ],
   "source": [
    "for i in range(len(SSD)):\n",
    "    print(\"------------------\")\n",
    "    print(f\"Actual Expl: {gpt_pred.iloc[kmfit.medoid_indices_[i]].pred_explanation}\")\n",
    "    print(f\"SVO Structure: {gpt_pred.iloc[kmfit.medoid_indices_[i]].reduced_expl}\")\n",
    "    print(f\"POS Structure: {gpt_pred.iloc[kmfit.medoid_indices_[i]].pos_expl}\")\n",
    "    print(f\"Medoid class: {gpt_pred.iloc[kmfit.medoid_indices_[i]].pred_label}\")\n",
    "    print(gpt_pred[kmfit.labels_ == i].pred_label.value_counts())"
   ],
   "metadata": {
    "collapsed": false,
    "pycharm": {
     "name": "#%%\n"
    }
   }
  },
  {
   "cell_type": "code",
   "execution_count": 13,
   "outputs": [
    {
     "name": "stdout",
     "output_type": "stream",
     "text": [
      "['S2_NOUN be S1_VERB S1_NOUN S1_NOUN', 'S1S2_NOUN be S1_VERB S1_NOUN be S2_NOUN', 'statement not describe S1_ADJ S1_NOUN S1_ADJ S1_NOUN S1_VERB S1_ADP S1_ADJ S1_NOUN S1_ADJ S1_NOUN S1_NOUN S1_NOUN S1_ADJ S1_NOUN', 'S1S2_NOUN be S1_VERB S1_ADJ S1_NOUN', 'S1S2_NOUN not be S1_VERB S1_NOUN S2_VERB S2_NOUN time', 'S1_VERB S1_NOUN S2_VERB S2_NOUN be different activity', 'S1S2_NOUN be S1_VERB S1_NOUN not S2_VERB S2_NOUN', 'statement imply S1S2_NOUN be S1S2_VERB', 'S1_VERB be S2_VERB', 'S1_NOUN S1_NOUN be not S2_NOUN', 'S1S2_NOUN S1_VERB S1_NOUN S1_NOUN not imply be S2_VERB S2_NOUN', 'S1S2_NOUN not be S1_VERB S2_VERB time', 'S1_NOUN be S2_NOUN', 'S1_VERB S1S2_NOUN be S2_VERB S1S2_NOUN', 'S1_VERB S1_NOUN be not S2_VERB S2_NOUN', 'S1S2_NOUN be S1S2_VERB S1_NOUN S1_NOUN', 'S1_NOUN S2_NOUN be different S1_NOUN', 'S1S2_NOUN be S1S2_NOUN S1_VERB', 'S1S2_NOUN be S1S2_VERB S1S2_NOUN', 'not S2_NOUN S1_NOUN']\n"
     ]
    }
   ],
   "source": [
    "print([gpt_pred.iloc[kmfit.medoid_indices_[i]].pos_expl for i in range(len(SSD))])"
   ],
   "metadata": {
    "collapsed": false,
    "pycharm": {
     "name": "#%%\n"
    }
   }
  },
  {
   "cell_type": "markdown",
   "source": [
    "## Full Explanations"
   ],
   "metadata": {
    "collapsed": false,
    "pycharm": {
     "name": "#%% md\n"
    }
   }
  },
  {
   "cell_type": "code",
   "execution_count": 19,
   "outputs": [],
   "source": [
    "vectorizer = CountVectorizer(ngram_range=(1, 4))\n",
    "X = vectorizer.fit_transform(gpt_pred.pred_explanation)"
   ],
   "metadata": {
    "collapsed": false,
    "pycharm": {
     "name": "#%%\n"
    }
   }
  },
  {
   "cell_type": "code",
   "execution_count": 20,
   "outputs": [
    {
     "name": "stdout",
     "output_type": "stream",
     "text": [
      "[[0 0 0 ... 0 0 0]\n",
      " [0 0 0 ... 0 0 0]\n",
      " [0 0 0 ... 0 0 0]\n",
      " ...\n",
      " [0 0 0 ... 0 0 0]\n",
      " [0 0 0 ... 0 0 0]\n",
      " [0 0 0 ... 0 0 0]]\n"
     ]
    }
   ],
   "source": [
    "print(X.toarray())"
   ],
   "metadata": {
    "collapsed": false,
    "pycharm": {
     "name": "#%%\n"
    }
   }
  },
  {
   "cell_type": "code",
   "execution_count": 21,
   "outputs": [
    {
     "data": {
      "text/plain": "[<matplotlib.lines.Line2D at 0x1a1232fb0>]"
     },
     "execution_count": 21,
     "metadata": {},
     "output_type": "execute_result"
    },
    {
     "data": {
      "text/plain": "<Figure size 640x480 with 1 Axes>",
      "image/png": "[encoded data removed]"
     },
     "metadata": {},
     "output_type": "display_data"
    }
   ],
   "source": [
    "SSD = list()\n",
    "for k in range(1,21):\n",
    "    km = kmedoids.KMedoids(n_clusters=k, method=\"pam\")\n",
    "    kmfit = km.fit(metrics.pairwise.euclidean_distances(X))\n",
    "    SSD += [kmfit.inertia_]\n",
    "plt.plot(SSD)"
   ],
   "metadata": {
    "collapsed": false,
    "pycharm": {
     "name": "#%%\n"
    }
   }
  },
  {
   "cell_type": "code",
   "execution_count": 22,
   "outputs": [
    {
     "name": "stdout",
     "output_type": "stream",
     "text": [
      "------------------\n",
      "Actual Expl: Standing and playing are two different activities.\n",
      "SVO Structure: S1_Verb be different\n",
      "POS Structure: S1_VERB playing be different activity\n",
      "Medoid class: contradiction\n",
      "contradiction    24\n",
      "Name: pred_label, dtype: int64\n",
      "------------------\n",
      "Actual Expl: The man is wearing a shirt.\n",
      "SVO Structure: S1_Subj wear S1_Verb S1S2_Obj\n",
      "POS Structure: S1_NOUN be S1_VERB S1S2_NOUN\n",
      "Medoid class: contradiction\n",
      "entailment       54\n",
      "contradiction    22\n",
      "neutral          15\n",
      "Name: pred_label, dtype: int64\n",
      "------------------\n",
      "Actual Expl: The beach is outdoors.\n",
      "SVO Structure: be\n",
      "POS Structure: S1_NOUN be S2_ADV\n",
      "Medoid class: entailment\n",
      "entailment       300\n",
      "contradiction    138\n",
      "neutral           97\n",
      "Name: pred_label, dtype: int64\n",
      "------------------\n",
      "Actual Expl: Six people being led in a straight line across a sandy slope with mountains in the background is an example of many people being led through the desert on the backs of camels.\n",
      "SVO Structure: S1S2_Subj be S2_Verb be S1S2_Subj be S2_Verb S1_Obj\n",
      "POS Structure: S1S2_NOUN be S1S2_VERB S1_ADJ S1_NOUN S1_ADJ S1_NOUN S1_NOUN S1_NOUN be example S1S2_NOUN be S1S2_VERB S2_NOUN S2_NOUN S1S2_NOUN\n",
      "Medoid class: entailment\n",
      "entailment    1\n",
      "Name: pred_label, dtype: int64\n",
      "------------------\n",
      "Actual Expl: The two statements are contradictory as the first statement describes a woman reading and drinking in the sun while the second statement describes her running through the waves.\n",
      "SVO Structure: be S1S2_Subj S1_Verb S2_Verb\n",
      "POS Structure: statement be contradictory statement describe S1S2_NOUN S1_VERB S1_VERB S1_NOUN second statement describe S2_VERB S2_NOUN\n",
      "Medoid class: contradiction\n",
      "contradiction    1\n",
      "Name: pred_label, dtype: int64\n",
      "------------------\n",
      "Actual Expl: The statement implies the man is wearing dark knee boots, a green cape, and a hat with two big feathers on the front and has a blue and white patterned piece of wheeled luggage to his right.\n",
      "SVO Structure: imply S1S2_Subj S1_Subj\n",
      "POS Structure: statement imply S1S2_NOUN be S1_VERB S1_ADJ S1_NOUN S1_NOUN S1_ADJ S1_NOUN S1_NOUN S1_ADJ S1_NOUN S1_ADJ S1_ADJ S1_VERB S1_NOUN S1_ADJ S1_NOUN S1_NOUN\n",
      "Medoid class: entailment\n",
      "entailment    1\n",
      "Name: pred_label, dtype: int64\n",
      "------------------\n",
      "Actual Expl: The first sentence implies that there are two soccer players, and the second sentence confirms that there are two soccer players.\n",
      "SVO Structure: imply S1_Subj S1_Subj\n",
      "POS Structure: sentence imply be S1S2_NOUN S1S2_NOUN second sentence confirm be S1S2_NOUN S1S2_NOUN\n",
      "Medoid class: entailment\n",
      "entailment    1\n",
      "Name: pred_label, dtype: int64\n",
      "------------------\n",
      "Actual Expl: The statement describes the man wearing his hat on his head, while the other statement describes the man wearing his hat on his foot.\n",
      "SVO Structure: describe S2_Subj S2_Verb S2_Obj describe S2_Subj S2_Verb S2_Obj\n",
      "POS Structure: statement describe S2_NOUN S1S2_VERB S1S2_NOUN head statement describe S2_NOUN S1S2_VERB S1S2_NOUN S2_NOUN\n",
      "Medoid class: contradiction\n",
      "contradiction    1\n",
      "Name: pred_label, dtype: int64\n",
      "------------------\n",
      "Actual Expl: The statement contradicts the original statement as the people have no equipment and the trees are to the right of them instead of the left.\n",
      "SVO Structure: contradict\n",
      "POS Structure: statement contradict original statement people S2_NOUN S1S2_NOUN be S2_NOUN instead S1_NOUN\n",
      "Medoid class: contradiction\n",
      "contradiction    1\n",
      "Name: pred_label, dtype: int64\n",
      "------------------\n",
      "Actual Expl: The man spraying water onto a former piece of architecture is the same man in the second sentence. The machine is taking down the architecture and the man is spraying water on it.\n",
      "SVO Structure: S2_Subj S2_Subj S2_Verb S2_Verb S2_Obj S2_Obj same S2_Subj S2_Subj S2_Subj S2_Subj take S1S2_Verb S1S2_Verb S2_Obj S2_Subj S2_Subj S2_Verb S2_Verb S2_Obj\n",
      "POS Structure: S1S2_NOUN S1S2_VERB S1S2_NOUN S1_NOUN S1S2_NOUN be S1S2_NOUN second sentence S2_NOUN be S1S2_VERB S1S2_NOUN S1S2_NOUN be S1S2_VERB S1S2_NOUN\n",
      "Medoid class: entailment\n",
      "entailment    1\n",
      "Name: pred_label, dtype: int64\n",
      "------------------\n",
      "Actual Expl: Skateboarding is not the same as rollerblading.\n",
      "SVO Structure: be not same S2_Verb\n",
      "POS Structure: skateboard be not S2_VERB\n",
      "Medoid class: contradiction\n",
      "contradiction    19\n",
      "Name: pred_label, dtype: int64\n",
      "------------------\n",
      "Actual Expl: A scope is a type of microscope.\n",
      "SVO Structure: be\n",
      "POS Structure: S1_NOUN be type S2_NOUN\n",
      "Medoid class: entailment\n",
      "entailment    16\n",
      "Name: pred_label, dtype: int64\n",
      "------------------\n",
      "Actual Expl: The statement does not mention a bunny being present.\n",
      "SVO Structure: not mention\n",
      "POS Structure: statement not mention S2_NOUN present\n",
      "Medoid class: contradiction\n",
      "neutral          17\n",
      "contradiction    11\n",
      "Name: pred_label, dtype: int64\n",
      "------------------\n",
      "Actual Expl: The statement implies that the woman is riding a horse.\n",
      "SVO Structure: imply S1S2_Subj S1S2_Verb S1S2_Obj\n",
      "POS Structure: statement imply S1S2_NOUN be S1S2_VERB S1S2_NOUN\n",
      "Medoid class: entailment\n",
      "entailment       36\n",
      "contradiction    11\n",
      "neutral           1\n",
      "Name: pred_label, dtype: int64\n",
      "------------------\n",
      "Actual Expl: A crowd of people standing in street in front of a series of white tents implies that a crowd of people are standing in the street.\n",
      "SVO Structure: S1S2_Subj S1S2_Verb imply S1S2_Subj S1S2_Verb\n",
      "POS Structure: S1S2_NOUN S1S2_NOUN S1S2_VERB S1S2_NOUN S1_NOUN S1_ADJ S1_NOUN imply S1S2_NOUN S1S2_NOUN be S1S2_VERB S1S2_NOUN\n",
      "Medoid class: entailment\n",
      "entailment    1\n",
      "Name: pred_label, dtype: int64\n",
      "------------------\n",
      "Actual Expl: A young blond girl cannot be eating her frozen snack while sitting on a bench next to a red stroller and also be a woman with two blue cars sitting in a parking lot at the same time.\n",
      "SVO Structure: S1_Subj not eat S1_Verb S1_Obj S2_Verb S2_Subj S2_Verb same\n",
      "POS Structure: S1_ADJ S1_ADJ S1_NOUN not be S1_VERB S1_ADJ S1_NOUN S1S2_VERB S1_NOUN S1_ADJ S1_NOUN be S2_NOUN S2_ADJ S2_NOUN S1S2_VERB S2_NOUN S2_NOUN time\n",
      "Medoid class: contradiction\n",
      "contradiction    1\n",
      "Name: pred_label, dtype: int64\n",
      "------------------\n",
      "Actual Expl: Playing implies being outside.\n",
      "SVO Structure: imply\n",
      "POS Structure: S2_NOUN imply be S1S2_ADV\n",
      "Medoid class: entailment\n",
      "entailment       33\n",
      "contradiction     2\n",
      "Name: pred_label, dtype: int64\n",
      "------------------\n",
      "Actual Expl: Photos are not sandwiches.\n",
      "SVO Structure: be not S2_Subj\n",
      "POS Structure: S1_NOUN be not S2_NOUN\n",
      "Medoid class: contradiction\n",
      "contradiction    66\n",
      "entailment       39\n",
      "neutral          33\n",
      "Neutral           1\n",
      "Name: pred_label, dtype: int64\n",
      "------------------\n",
      "Actual Expl: A couple cannot be walking and sitting at the same time.\n",
      "SVO Structure: S2_Subj not walk S2_Verb same\n",
      "POS Structure: S1S2_NOUN not be S1_VERB S2_VERB time\n",
      "Medoid class: contradiction\n",
      "contradiction    55\n",
      "Name: pred_label, dtype: int64\n",
      "------------------\n",
      "Actual Expl: Not all groups of people using ATMs are friends, and not all groups of people using ATMs are getting money before they go to dinner.\n",
      "SVO Structure: S2_Subj S1_Verb be S2_Subj S1_Verb be S2_Verb S2_Obj S2_Subj S2_Verb\n",
      "POS Structure: not S2_NOUN people atm be S2_NOUN not S2_NOUN people atm be S2_VERB S2_NOUN S2_NOUN\n",
      "Medoid class: neutral\n",
      "neutral    1\n",
      "Name: pred_label, dtype: int64\n"
     ]
    }
   ],
   "source": [
    "for i in range(len(SSD)):\n",
    "    print(\"------------------\")\n",
    "    print(f\"Actual Expl: {gpt_pred.iloc[kmfit.medoid_indices_[i]].pred_explanation}\")\n",
    "    print(f\"SVO Structure: {gpt_pred.iloc[kmfit.medoid_indices_[i]].reduced_expl}\")\n",
    "    print(f\"POS Structure: {gpt_pred.iloc[kmfit.medoid_indices_[i]].pos_expl}\")\n",
    "    print(f\"Medoid class: {gpt_pred.iloc[kmfit.medoid_indices_[i]].pred_label}\")\n",
    "    print(gpt_pred[kmfit.labels_ == i].pred_label.value_counts())"
   ],
   "metadata": {
    "collapsed": false,
    "pycharm": {
     "name": "#%%\n"
    }
   }
  },
  {
   "cell_type": "code",
   "execution_count": 23,
   "outputs": [
    {
     "name": "stdout",
     "output_type": "stream",
     "text": [
      "['Standing and playing are two different activities.', 'The man is wearing a shirt.', 'The beach is outdoors.', 'Six people being led in a straight line across a sandy slope with mountains in the background is an example of many people being led through the desert on the backs of camels.', 'The two statements are contradictory as the first statement describes a woman reading and drinking in the sun while the second statement describes her running through the waves.', 'The statement implies the man is wearing dark knee boots, a green cape, and a hat with two big feathers on the front and has a blue and white patterned piece of wheeled luggage to his right.', 'The first sentence implies that there are two soccer players, and the second sentence confirms that there are two soccer players.', 'The statement describes the man wearing his hat on his head, while the other statement describes the man wearing his hat on his foot.', 'The statement contradicts the original statement as the people have no equipment and the trees are to the right of them instead of the left.', 'The man spraying water onto a former piece of architecture is the same man in the second sentence. The machine is taking down the architecture and the man is spraying water on it.', 'Skateboarding is not the same as rollerblading.', 'A scope is a type of microscope.', 'The statement does not mention a bunny being present.', 'The statement implies that the woman is riding a horse.', 'A crowd of people standing in street in front of a series of white tents implies that a crowd of people are standing in the street.', 'A young blond girl cannot be eating her frozen snack while sitting on a bench next to a red stroller and also be a woman with two blue cars sitting in a parking lot at the same time.', 'Playing implies being outside.', 'Photos are not sandwiches.', 'A couple cannot be walking and sitting at the same time.', 'Not all groups of people using ATMs are friends, and not all groups of people using ATMs are getting money before they go to dinner.']\n"
     ]
    }
   ],
   "source": [
    "print([gpt_pred.iloc[kmfit.medoid_indices_[i]].pred_explanation for i in range(len(SSD))])"
   ],
   "metadata": {
    "collapsed": false,
    "pycharm": {
     "name": "#%%\n"
    }
   }
  },
  {
   "cell_type": "markdown",
   "source": [
    "# GPT-2 Explanations"
   ],
   "metadata": {
    "collapsed": false,
    "pycharm": {
     "name": "#%% md\n"
    }
   }
  },
  {
   "cell_type": "markdown",
   "source": [
    "## SVO Structure"
   ],
   "metadata": {
    "collapsed": false,
    "pycharm": {
     "name": "#%% md\n"
    }
   }
  },
  {
   "cell_type": "code",
   "execution_count": 24,
   "outputs": [],
   "source": [
    "vectorizer = CountVectorizer(ngram_range=(1, 4))\n",
    "X = vectorizer.fit_transform(gpt2.reduced_expl)"
   ],
   "metadata": {
    "collapsed": false,
    "pycharm": {
     "name": "#%%\n"
    }
   }
  },
  {
   "cell_type": "code",
   "execution_count": 25,
   "outputs": [
    {
     "name": "stdout",
     "output_type": "stream",
     "text": [
      "[[0 0 0 ... 0 0 0]\n",
      " [0 0 0 ... 0 0 0]\n",
      " [0 0 0 ... 0 0 0]\n",
      " ...\n",
      " [0 0 0 ... 0 0 0]\n",
      " [0 0 0 ... 0 0 0]\n",
      " [0 0 0 ... 0 0 0]]\n"
     ]
    }
   ],
   "source": [
    "print(X.toarray())"
   ],
   "metadata": {
    "collapsed": false,
    "pycharm": {
     "name": "#%%\n"
    }
   }
  },
  {
   "cell_type": "code",
   "execution_count": 26,
   "outputs": [
    {
     "data": {
      "text/plain": "[<matplotlib.lines.Line2D at 0x1a1503a90>]"
     },
     "execution_count": 26,
     "metadata": {},
     "output_type": "execute_result"
    },
    {
     "data": {
      "text/plain": "<Figure size 640x480 with 1 Axes>",
      "image/png": "[encoded data removed]"
     },
     "metadata": {},
     "output_type": "display_data"
    }
   ],
   "source": [
    "SSD = list()\n",
    "for k in range(1,41):\n",
    "    km = kmedoids.KMedoids(n_clusters=k, method=\"pam\")\n",
    "    kmfit = km.fit(metrics.pairwise.euclidean_distances(X))\n",
    "    SSD += [kmfit.inertia_]\n",
    "plt.plot(SSD)"
   ],
   "metadata": {
    "collapsed": false,
    "pycharm": {
     "name": "#%%\n"
    }
   }
  },
  {
   "cell_type": "code",
   "execution_count": 27,
   "outputs": [
    {
     "name": "stdout",
     "output_type": "stream",
     "text": [
      "------------------\n",
      "Actual Expl: If a woman has a smile on her face then she is not crying sadly.\n",
      "SVO Structure: S1S2_Subj S1_Subj not cry\n",
      "POS Structure: S1S2_NOUN S1_NOUN S1_NOUN be not S2_VERB sadly\n",
      "Medoid class: contradiction\n",
      "contradiction    26\n",
      "entailment       23\n",
      "neutral          10\n",
      "Name: pred_label, dtype: int64\n",
      "------------------\n",
      "Actual Expl: Just because the couple is enjoying a mean, it does not necessary mean that they are eating steak.  Enjoying a mean, does not necessarily mean that they are, \"eating.\"\n",
      "SVO Structure: mean not mean S2_Obj mean not mean\n",
      "POS Structure: S1_NOUN be S1_VERB mean not necessary mean be eat S2_NOUN  S1_VERB mean not necessarily mean be eat\n",
      "Medoid class: neutral\n",
      "entailment       14\n",
      "contradiction     9\n",
      "neutral           7\n",
      "Name: pred_label, dtype: int64\n",
      "------------------\n",
      "Actual Expl: A bicycle and a bike, are the same object.\n",
      "SVO Structure: S1_Obj S2_Obj be same\n",
      "POS Structure: S1_NOUN S2_NOUN be object\n",
      "Medoid class: entailment\n",
      "contradiction    14\n",
      "entailment       12\n",
      "neutral           3\n",
      "Name: pred_label, dtype: int64\n",
      "------------------\n",
      "Actual Expl: The girls either walk down the street or set down in the street.\n",
      "SVO Structure: S1S2_Subj walk S1_Verb S2_Verb\n",
      "POS Structure: S1S2_NOUN S1_VERB S1S2_NOUN S2_VERB S1S2_NOUN\n",
      "Medoid class: contradiction\n",
      "entailment       76\n",
      "contradiction    50\n",
      "neutral          24\n",
      "Neutral           1\n",
      "Name: pred_label, dtype: int64\n",
      "------------------\n",
      "Actual Expl: A grassy area near a building can only be outside.\n",
      "SVO Structure: be\n",
      "POS Structure: S1_ADJ S1_NOUN S1_ADP S1_NOUN be S2_ADV\n",
      "Medoid class: entailment\n",
      "entailment       13\n",
      "contradiction     7\n",
      "neutral           4\n",
      "Name: pred_label, dtype: int64\n",
      "------------------\n",
      "Actual Expl: basket weaving instructor is a rephrase of Instructor on basket weaving\n",
      "SVO Structure: be\n",
      "POS Structure: S2_NOUN S1S2_NOUN S1S2_NOUN be rephrase Instructor S2_NOUN S1S2_NOUN\n",
      "Medoid class: entailment\n",
      "entailment       18\n",
      "contradiction     8\n",
      "neutral           4\n",
      "Name: pred_label, dtype: int64\n",
      "------------------\n",
      "Actual Expl: sit on a beach doesn't always mean  gathered on a sunny day at the beach.\n",
      "SVO Structure: S1_Verb gather S2_Verb\n",
      "POS Structure: S1_VERB S1S2_NOUN not mean  S2_VERB S2_ADJ S2_NOUN S1S2_NOUN\n",
      "Medoid class: neutral\n",
      "entailment       5\n",
      "contradiction    5\n",
      "neutral          2\n",
      "Name: pred_label, dtype: int64\n",
      "------------------\n",
      "Actual Expl: It is inferred that both subjects are having a meal, but first subjects are female and next are male.\n",
      "SVO Structure: infer S2_Verb S1_Obj\n",
      "POS Structure: be infer subject be S2_VERB S1_NOUN subject be female be male\n",
      "Medoid class: contradiction\n",
      "contradiction    13\n",
      "entailment       10\n",
      "neutral           2\n",
      "Name: pred_label, dtype: int64\n",
      "------------------\n",
      "Actual Expl: The chef cannot be cutting a piece of fish while fast asleep.\n",
      "SVO Structure: S1_Subj not cut S1_Verb S1_Obj\n",
      "POS Structure: S1S2_NOUN not be S1_VERB S1_NOUN S1_NOUN S2_ADV S2_ADJ\n",
      "Medoid class: contradiction\n",
      "contradiction    4\n",
      "entailment       2\n",
      "neutral          2\n",
      "Name: pred_label, dtype: int64\n",
      "------------------\n",
      "Actual Expl: Chefs don't necessarily likes to cook.\n",
      "SVO Structure: S1_Subj not like S2_Verb\n",
      "POS Structure: S1_NOUN not necessarily S2_VERB S2_VERB\n",
      "Medoid class: neutral\n",
      "entailment       9\n",
      "contradiction    3\n",
      "neutral          2\n",
      "Name: pred_label, dtype: int64\n",
      "------------------\n",
      "Actual Expl: A jumper jump the hurdle.\n",
      "SVO Structure: S1S2_Subj jump S2_Verb S2_Obj\n",
      "POS Structure: S1S2_NOUN S1S2_VERB S2_NOUN\n",
      "Medoid class: entailment\n",
      "contradiction    8\n",
      "entailment       6\n",
      "neutral          2\n",
      "Name: pred_label, dtype: int64\n",
      "------------------\n",
      "Actual Expl: There is no implication that the man standing on the dock has brown hair.\n",
      "SVO Structure: be S1S2_Subj S1S2_Verb\n",
      "POS Structure: be implication S1S2_NOUN S1S2_VERB S1S2_NOUN S2_ADJ S2_NOUN\n",
      "Medoid class: neutral\n",
      "contradiction    6\n",
      "entailment       6\n",
      "neutral          3\n",
      "Name: pred_label, dtype: int64\n",
      "------------------\n",
      "Actual Expl: A girl standing in the middle of the street is not a boy collecting candy.\n",
      "SVO Structure: S1_Subj be not\n",
      "POS Structure: S1_NOUN S1_VERB S1_NOUN S1_NOUN be not S2_NOUN S2_VERB S2_NOUN\n",
      "Medoid class: contradiction\n",
      "contradiction    3\n",
      "neutral          3\n",
      "entailment       3\n",
      "Name: pred_label, dtype: int64\n",
      "------------------\n",
      "Actual Expl: laying floor tiles is hard work, therefor not being lazy\n",
      "SVO Structure: S1_Verb S1_Obj be be\n",
      "POS Structure: S1_VERB S1_NOUN S1_NOUN be hard work therefor not be S2_ADJ\n",
      "Medoid class: contradiction\n",
      "entailment       7\n",
      "contradiction    5\n",
      "neutral          3\n",
      "Name: pred_label, dtype: int64\n",
      "------------------\n",
      "Actual Expl: Walking and lying down contradict each other.\n",
      "SVO Structure: S1_Verb S2_Verb contradict\n",
      "POS Structure: S1_VERB S2_VERB contradict\n",
      "Medoid class: contradiction\n",
      "contradiction    6\n",
      "neutral          4\n",
      "entailment       4\n",
      "Name: pred_label, dtype: int64\n",
      "------------------\n",
      "Actual Expl: Raising hands does not always imply that people have questions.\n",
      "SVO Structure: S1_Verb S1_Obj not imply S2_Subj S2_Verb S2_Obj\n",
      "POS Structure: S1_VERB S1_NOUN not imply S1S2_NOUN S2_NOUN\n",
      "Medoid class: neutral\n",
      "contradiction    2\n",
      "entailment       1\n",
      "Name: pred_label, dtype: int64\n",
      "------------------\n",
      "Actual Expl: One is either a man or one is a woman but not both at the same time, and one either sits in a green and yellow taxi or one is next to a green and yellow taxi but not both simultaneously.\n",
      "SVO Structure: be S1_Subj be S2_Subj same S2_Verb be\n",
      "POS Structure: be S1_NOUN be S2_NOUN not time S2_VERB S1S2_ADJ S1S2_ADJ S1S2_NOUN be S1S2_ADJ S1S2_ADJ S1S2_NOUN not simultaneously\n",
      "Medoid class: contradiction\n",
      "entailment       19\n",
      "contradiction    10\n",
      "neutral           5\n",
      "Name: pred_label, dtype: int64\n",
      "------------------\n",
      "Actual Expl: You can hold the handles on a two wheeled object and not be riding a bike.\n",
      "SVO Structure: hold S2_Verb S2_Obj\n",
      "POS Structure: S1_VERB S1_NOUN S1_ADJ S1_NOUN not be S2_VERB S2_NOUN\n",
      "Medoid class: neutral\n",
      "entailment       99\n",
      "contradiction    60\n",
      "neutral          34\n",
      "Name: pred_label, dtype: int64\n",
      "------------------\n",
      "Actual Expl: The couple is either swimming or walking.\n",
      "SVO Structure: S1S2_Subj be S2_Verb\n",
      "POS Structure: S1S2_NOUN be S2_VERB S1_VERB\n",
      "Medoid class: contradiction\n",
      "contradiction    1\n",
      "Name: pred_label, dtype: int64\n",
      "------------------\n",
      "Actual Expl: The subject is either a boy or girl.\n",
      "SVO Structure: be S1_Subj S2_Subj\n",
      "POS Structure: subject be S1_NOUN S2_NOUN\n",
      "Medoid class: contradiction\n",
      "contradiction    3\n",
      "neutral          1\n",
      "Name: pred_label, dtype: int64\n",
      "------------------\n",
      "Actual Expl: One cannot be playing wiffle ball and basketball simultaneously.\n",
      "SVO Structure: not play S1S2_Verb S1_Obj S2_Obj\n",
      "POS Structure: not be S1S2_VERB S1_ADV S1_NOUN S2_NOUN simultaneously\n",
      "Medoid class: contradiction\n",
      "entailment       13\n",
      "neutral           4\n",
      "contradiction     1\n",
      "Name: pred_label, dtype: int64\n",
      "------------------\n",
      "Actual Expl: Atop is on the building.\n",
      "SVO Structure: be\n",
      "POS Structure: Atop be S1S2_NOUN\n",
      "Medoid class: entailment\n",
      "entailment       12\n",
      "neutral           5\n",
      "contradiction     2\n",
      "Name: pred_label, dtype: int64\n",
      "------------------\n",
      "Actual Expl: Just because someone is outside jumping over rocks doesn't mean they're trying to escape something, much less wild boars.\n",
      "SVO Structure: S1S2_Verb not mean\n",
      "POS Structure: be outside S1S2_VERB S1S2_NOUN not mean be try S2_VERB S2_ADJ S2_NOUN\n",
      "Medoid class: neutral\n",
      "contradiction    7\n",
      "entailment       4\n",
      "neutral          1\n",
      "Name: pred_label, dtype: int64\n",
      "------------------\n",
      "Actual Expl: Women can be wearing a red and blue dresses\n",
      "SVO Structure: S1_Subj wear\n",
      "POS Structure: S1S2_NOUN be S1S2_VERB S1_NOUN S2_ADJ S2_NOUN\n",
      "Medoid class: contradiction\n",
      "entailment       5\n",
      "contradiction    3\n",
      "neutral          2\n",
      "Name: pred_label, dtype: int64\n",
      "------------------\n",
      "Actual Expl: The man is either working laying shingles or watching TV, not both.\n",
      "SVO Structure: S1S2_Subj work S1_Verb S2_Verb S2_Obj\n",
      "POS Structure: S1S2_NOUN be S1_VERB S1_VERB S1_NOUN S2_VERB S2_NOUN not\n",
      "Medoid class: contradiction\n",
      "contradiction    8\n",
      "entailment       6\n",
      "neutral          1\n",
      "Name: pred_label, dtype: int64\n",
      "------------------\n",
      "Actual Expl: The women are not necessarily looking at the lake.\n",
      "SVO Structure: S2_Subj not look S2_Verb\n",
      "POS Structure: S2_NOUN be not necessarily S2_VERB S2_NOUN\n",
      "Medoid class: neutral\n",
      "entailment       4\n",
      "contradiction    2\n",
      "neutral          1\n",
      "Name: pred_label, dtype: int64\n",
      "------------------\n",
      "Actual Expl: The people cannot simultaneously walk with no equipment and with nets and backpacks\n",
      "SVO Structure: not walk S1_Verb\n",
      "POS Structure: people not simultaneously S1S2_NOUN S2_NOUN S1_NOUN S1_NOUN\n",
      "Medoid class: contradiction\n",
      "contradiction    3\n",
      "neutral          1\n",
      "Name: pred_label, dtype: int64\n",
      "------------------\n",
      "Actual Expl: There can be either two or three people\n",
      "SVO Structure: be S1_Subj\n",
      "POS Structure: be S1_NOUN\n",
      "Medoid class: contradiction\n",
      "entailment       3\n",
      "contradiction    2\n",
      "neutral          2\n",
      "Name: pred_label, dtype: int64\n",
      "------------------\n",
      "Actual Expl: Just because the men are working, that doesn't mean they are not wearing shirts.\n",
      "SVO Structure: S1S2_Subj not mean not S2_Verb S2_Obj\n",
      "POS Structure: S1S2_NOUN be work S2_PART mean be S2_PART S2_VERB S2_NOUN\n",
      "Medoid class: neutral\n",
      "entailment       4\n",
      "contradiction    3\n",
      "Name: pred_label, dtype: int64\n",
      "------------------\n",
      "Actual Expl: A man that puts his hands up could not have been the one that row the boat.\n",
      "SVO Structure: S1S2_Subj S1_Verb S1_Obj not be S2_Verb S2_Obj\n",
      "POS Structure: S1S2_NOUN S1_VERB S1_NOUN not be S2_VERB S2_NOUN\n",
      "Medoid class: contradiction\n",
      "entailment       20\n",
      "contradiction    11\n",
      "neutral           3\n",
      "Name: pred_label, dtype: int64\n",
      "------------------\n",
      "Actual Expl: If one is selling something, they are not buying it.\n",
      "SVO Structure: S1_Verb not buy S2_Verb\n",
      "POS Structure: be S1_VERB be not S2_VERB\n",
      "Medoid class: contradiction\n",
      "entailment       11\n",
      "contradiction     9\n",
      "neutral           2\n",
      "Name: pred_label, dtype: int64\n",
      "------------------\n",
      "Actual Expl: bicycle can't be train.\n",
      "SVO Structure: not be\n",
      "POS Structure: S1_VERB not be S2_NOUN\n",
      "Medoid class: contradiction\n",
      "entailment       29\n",
      "contradiction    21\n",
      "neutral           7\n",
      "Name: pred_label, dtype: int64\n",
      "------------------\n",
      "Actual Expl: There wouldn't be any sun at nighttime.\n",
      "SVO Structure: not be\n",
      "POS Structure: not be S2_NOUN S1_NOUN\n",
      "Medoid class: contradiction\n",
      "contradiction    4\n",
      "entailment       2\n",
      "neutral          1\n",
      "Name: pred_label, dtype: int64\n",
      "------------------\n",
      "Actual Expl: The two men are under a waterfall in order to cool off.\n",
      "SVO Structure: S1_Subj be S1_Verb\n",
      "POS Structure: S1S2_NOUN be S1S2_NOUN order S1_VERB\n",
      "Medoid class: entailment\n",
      "entailment       6\n",
      "contradiction    6\n",
      "neutral          1\n",
      "Name: pred_label, dtype: int64\n",
      "------------------\n",
      "Actual Expl: Photographer filming a cyclist is rephrased as cyclist is being filmed\n",
      "SVO Structure: S2_Verb S1S2_Subj rephrase S1S2_Subj S2_Verb\n",
      "POS Structure: S1_NOUN S1S2_NOUN S1S2_NOUN be rephrase S1S2_NOUN be be S1S2_NOUN\n",
      "Medoid class: entailment\n",
      "entailment       5\n",
      "neutral          4\n",
      "contradiction    3\n",
      "Name: pred_label, dtype: int64\n",
      "------------------\n",
      "Actual Expl: One individual is a snowboarder and the other is a skier.\n",
      "SVO Structure: be be S2_Subj\n",
      "POS Structure: individual be S1_NOUN be S2_NOUN\n",
      "Medoid class: contradiction\n",
      "entailment       6\n",
      "contradiction    3\n",
      "neutral          3\n",
      "Name: pred_label, dtype: int64\n",
      "------------------\n",
      "Actual Expl: Just because she is digging in the ground does not mean she is looking for gold.\n",
      "SVO Structure: S1S2_Verb not mean\n",
      "POS Structure: be S1S2_NOUN S1S2_NOUN not mean be look S2_NOUN\n",
      "Medoid class: neutral\n",
      "entailment       7\n",
      "contradiction    5\n",
      "neutral          4\n",
      "Name: pred_label, dtype: int64\n",
      "------------------\n",
      "Actual Expl: The boy can't be the fan.\n",
      "SVO Structure: not be S2_Subj\n",
      "POS Structure: S1_NOUN not be S2_NOUN\n",
      "Medoid class: contradiction\n",
      "entailment       7\n",
      "contradiction    5\n",
      "neutral          1\n",
      "Name: pred_label, dtype: int64\n",
      "------------------\n",
      "Actual Expl: He cannot be pointing his toy at the camera and digging a large hole simultaneously.\n",
      "SVO Structure: S1_Subj not point S1_Verb S1_Obj S2_Verb S2_Obj\n",
      "POS Structure: not be S1_VERB S1_NOUN S1_NOUN S2_VERB S2_ADJ S2_NOUN simultaneously\n",
      "Medoid class: contradiction\n",
      "contradiction    4\n",
      "neutral          2\n",
      "entailment       2\n",
      "Name: pred_label, dtype: int64\n",
      "------------------\n",
      "Actual Expl: If nobody has a trumpet, then the boy cannot play it.\n",
      "SVO Structure: S2_Subj S2_Verb S1S2_Obj S1_Subj not play S1_Verb\n",
      "POS Structure: S1S2_NOUN S1_NOUN not S1_VERB\n",
      "Medoid class: contradiction\n",
      "entailment       10\n",
      "contradiction     7\n",
      "neutral           4\n",
      "Name: pred_label, dtype: int64\n"
     ]
    }
   ],
   "source": [
    "for i in range(len(SSD)):\n",
    "    print(\"------------------\")\n",
    "    print(f\"Actual Expl: {gpt_pred.iloc[kmfit.medoid_indices_[i]].Explanation_1}\")\n",
    "    print(f\"SVO Structure: {gpt_pred.iloc[kmfit.medoid_indices_[i]].reduced_gold_expl}\")\n",
    "    print(f\"POS Structure: {gpt_pred.iloc[kmfit.medoid_indices_[i]].pos_gold_expl}\")\n",
    "    print(f\"Medoid class: {gpt_pred.iloc[kmfit.medoid_indices_[i]].gold_label}\")\n",
    "    print(gpt_pred[kmfit.labels_ == i].pred_label.value_counts())"
   ],
   "metadata": {
    "collapsed": false,
    "pycharm": {
     "name": "#%%\n"
    }
   }
  },
  {
   "cell_type": "code",
   "execution_count": 28,
   "outputs": [
    {
     "name": "stdout",
     "output_type": "stream",
     "text": [
      "['be not', 'S1_Verb S1_Obj imply', 'be S2_Subj', 'S1S2_Subj', 'not imply', 'S1S2_Subj be S1S2_Subj', 'not play S2_Verb S2_Obj', 'not imply S2_Verb', 'S1S2_Subj not stand S1_Verb S2_Verb same', 'S1S2_Subj not mean S2_Verb S2_Obj', 'be different', 'S1S2_Subj S1_Verb not mean S2_Verb', 'S1S2_Subj use S1S2_Verb S1S2_Obj', 'be not S2_Subj', 'S1_Subj S1_Verb not mean', 'S1S2_Subj sit S1S2_Verb sit S1S2_Verb', 'not mean', 'be', 'S1S2_Subj S1S2_Obj help S1S2_Verb S1S2_Subj S1S2_Obj S1S2_Subj S1S2_Obj help S1S2_Verb S1S2_Subj S1S2_Obj S1_Subj S1_Verb', 'play S1S2_Verb S1_Obj play S1S2_Verb S2_Obj', 'S1_Subj be S1_Subj', 'S1_Subj be not', 'not be', 'not walk S2_Verb', 'be S1_Subj', 'S1S2_Subj not repair S1_Verb S1_Obj S2_Verb S2_Obj same', 'S1S2_Subj S1S2_Verb be same S1S2_Subj be S1S2_Verb', 'S1S2_Subj not walk S1_Verb S2_Verb same', 'S1_Subj not be same', 'S1_Subj be S2_Subj', 'be S2_Obj', 'S1_Subj be', 'S2_Subj not sit S2_Verb S1_Verb', 'be be', 'S1_Subj S1_Verb S1_Obj not mean', 'not be same', 'be not same', 'S1_Obj be S2_Obj', 'S1_Verb not imply S2_Verb S2_Obj', 'S1_Subj be not S2_Subj']\n"
     ]
    }
   ],
   "source": [
    "print([gpt2.iloc[kmfit.medoid_indices_[i]].reduced_expl for i in range(len(SSD))])"
   ],
   "metadata": {
    "collapsed": false,
    "pycharm": {
     "name": "#%%\n"
    }
   }
  },
  {
   "cell_type": "markdown",
   "source": [
    "## POS Structure"
   ],
   "metadata": {
    "collapsed": false,
    "pycharm": {
     "name": "#%% md\n"
    }
   }
  },
  {
   "cell_type": "code",
   "execution_count": 29,
   "outputs": [],
   "source": [
    "vectorizer = CountVectorizer(ngram_range=(1, 4))\n",
    "X = vectorizer.fit_transform(gpt2.pos_expl)"
   ],
   "metadata": {
    "collapsed": false,
    "pycharm": {
     "name": "#%%\n"
    }
   }
  },
  {
   "cell_type": "code",
   "execution_count": 30,
   "outputs": [
    {
     "name": "stdout",
     "output_type": "stream",
     "text": [
      "[[0 0 0 ... 0 0 0]\n",
      " [0 0 0 ... 0 0 0]\n",
      " [0 0 0 ... 0 0 0]\n",
      " ...\n",
      " [0 0 0 ... 0 0 0]\n",
      " [0 0 0 ... 0 0 0]\n",
      " [0 0 0 ... 0 0 0]]\n"
     ]
    }
   ],
   "source": [
    "print(X.toarray())"
   ],
   "metadata": {
    "collapsed": false,
    "pycharm": {
     "name": "#%%\n"
    }
   }
  },
  {
   "cell_type": "code",
   "execution_count": 31,
   "outputs": [
    {
     "data": {
      "text/plain": "[<matplotlib.lines.Line2D at 0x1a0f41f90>]"
     },
     "execution_count": 31,
     "metadata": {},
     "output_type": "execute_result"
    },
    {
     "data": {
      "text/plain": "<Figure size 640x480 with 1 Axes>",
      "image/png": "[encoded data removed]"
     },
     "metadata": {},
     "output_type": "display_data"
    }
   ],
   "source": [
    "SSD = list()\n",
    "for k in range(1,21):\n",
    "    km = kmedoids.KMedoids(n_clusters=k, method=\"pam\")\n",
    "    kmfit = km.fit(metrics.pairwise.euclidean_distances(X))\n",
    "    SSD += [kmfit.inertia_]\n",
    "plt.plot(SSD)"
   ],
   "metadata": {
    "collapsed": false,
    "pycharm": {
     "name": "#%%\n"
    }
   }
  },
  {
   "cell_type": "code",
   "execution_count": 32,
   "outputs": [
    {
     "name": "stdout",
     "output_type": "stream",
     "text": [
      "------------------\n",
      "Actual Expl: If the man gets the skateboard on the big rock, the skateboarder would be near a rock.\n",
      "SVO Structure: S1_Subj S1_Verb S1_Obj be\n",
      "POS Structure: S1_NOUN S1_VERB S1_NOUN S1_ADJ S1S2_NOUN S2_NOUN be S2_ADP S1S2_NOUN\n",
      "Medoid class: entailment\n",
      "entailment       9\n",
      "contradiction    4\n",
      "neutral          2\n",
      "Name: pred_label, dtype: int64\n",
      "------------------\n",
      "Actual Expl: The roadside workers are men and are wearing lime green jackets.\n",
      "SVO Structure: be S2_Subj be S2_Verb S2_Obj\n",
      "POS Structure: S1_NOUN S1_NOUN be S2_NOUN be S2_VERB S1S2_NOUN S1S2_ADJ S1S2_NOUN\n",
      "Medoid class: entailment\n",
      "entailment       20\n",
      "contradiction     9\n",
      "neutral           3\n",
      "Name: pred_label, dtype: int64\n",
      "------------------\n",
      "Actual Expl: Not all people are bicyclers. They might not be carrying their bikes at night, it could be daytime.\n",
      "SVO Structure: be S1_Subj be S1S2_Verb S1S2_Obj be\n",
      "POS Structure: not people be S1_NOUN not be S1S2_VERB S1S2_NOUN S2_NOUN be daytime\n",
      "Medoid class: neutral\n",
      "entailment       16\n",
      "contradiction     8\n",
      "neutral           6\n",
      "Name: pred_label, dtype: int64\n",
      "------------------\n",
      "Actual Expl: The three men are seated.\n",
      "SVO Structure: S1_Subj seat\n",
      "POS Structure: S1_NOUN be S2_VERB\n",
      "Medoid class: entailment\n",
      "entailment       5\n",
      "contradiction    5\n",
      "neutral          3\n",
      "Name: pred_label, dtype: int64\n",
      "------------------\n",
      "Actual Expl: Woman in a green flowered dress is a lady in a dress.\n",
      "SVO Structure: S1_Subj be S2_Subj\n",
      "POS Structure: S1_NOUN S1_ADJ S1_VERB S1S2_NOUN be S2_NOUN S1S2_NOUN\n",
      "Medoid class: entailment\n",
      "contradiction    6\n",
      "entailment       5\n",
      "neutral          2\n",
      "Name: pred_label, dtype: int64\n",
      "------------------\n",
      "Actual Expl: We have no idea if they are getting ready to open up shop, they could be closing it. We have no idea if it is very famous or not, ti could be any store.\n",
      "SVO Structure: have S2_Verb have\n",
      "POS Structure: idea be S2_VERB S2_ADJ S2_VERB S1S2_NOUN be close idea be S2_ADJ not ti be store\n",
      "Medoid class: neutral\n",
      "entailment       15\n",
      "contradiction    11\n",
      "neutral           7\n",
      "Name: pred_label, dtype: int64\n",
      "------------------\n",
      "Actual Expl: There are people on the beach, adding details about the sign and the weather help to give the scene more details.\n",
      "SVO Structure: be S1_Subj S1_Subj\n",
      "POS Structure: be S1S2_NOUN S1S2_NOUN add detail S1_NOUN weather help scene detail\n",
      "Medoid class: entailment\n",
      "entailment       18\n",
      "contradiction    18\n",
      "neutral           8\n",
      "Name: pred_label, dtype: int64\n",
      "------------------\n",
      "Actual Expl: being led doesn't mean by a man\n",
      "SVO Structure: S2_Verb not mean\n",
      "POS Structure: be S1S2_VERB not mean S1_NOUN\n",
      "Medoid class: neutral\n",
      "entailment       34\n",
      "contradiction    23\n",
      "neutral           5\n",
      "Name: pred_label, dtype: int64\n",
      "------------------\n",
      "Actual Expl: Jumping is an action needed to catch a ball.\n",
      "SVO Structure: be\n",
      "POS Structure: jumping be action need S1_VERB S1_NOUN\n",
      "Medoid class: entailment\n",
      "entailment       30\n",
      "contradiction    12\n",
      "neutral           8\n",
      "Name: pred_label, dtype: int64\n",
      "------------------\n",
      "Actual Expl: A man and women taking a break need not always look through CD's at a street vendor.\n",
      "SVO Structure: S1S2_Subj S2_Verb S2_Obj need S1_Verb\n",
      "POS Structure: S1S2_NOUN S1S2_NOUN S2_VERB S2_NOUN need not S1_VERB S1_NOUN S1_NOUN S1_NOUN\n",
      "Medoid class: neutral\n",
      "entailment       14\n",
      "contradiction    13\n",
      "neutral           5\n",
      "Name: pred_label, dtype: int64\n",
      "------------------\n",
      "Actual Expl: It sounds more like the two people were in a class as opposed to being in an art contest.\n",
      "SVO Structure: sound S2_Subj\n",
      "POS Structure: sound like S2_NOUN be class oppose be S1S2_NOUN S2_NOUN\n",
      "Medoid class: neutral\n",
      "contradiction    12\n",
      "entailment        9\n",
      "neutral           7\n",
      "Name: pred_label, dtype: int64\n",
      "------------------\n",
      "Actual Expl: One cannot be laughing while they are crying.\n",
      "SVO Structure: not laugh S1_Verb S2_Verb\n",
      "POS Structure: not be S1_VERB be S2_VERB\n",
      "Medoid class: contradiction\n",
      "entailment       20\n",
      "contradiction     9\n",
      "neutral           6\n",
      "Name: pred_label, dtype: int64\n",
      "------------------\n",
      "Actual Expl: The people wouldn't be walking on the bed. If the dog is sleeping it cannot be walking.\n",
      "SVO Structure: not walk not walk\n",
      "POS Structure: people not be S1_VERB S2_NOUN S1S2_NOUN be S2_VERB not be S1_VERB\n",
      "Medoid class: contradiction\n",
      "entailment       114\n",
      "contradiction     79\n",
      "neutral           32\n",
      "Neutral            1\n",
      "Name: pred_label, dtype: int64\n",
      "------------------\n",
      "Actual Expl: A girl that helps a boy with tying his shoelaces definitely him tie his shoes.\n",
      "SVO Structure: S1S2_Subj S1S2_Verb S2_Subj tie S2_Verb tie S2_Verb S2_Obj\n",
      "POS Structure: S1S2_NOUN S1S2_VERB S1S2_NOUN S1S2_VERB S1_NOUN definitely S1S2_VERB S2_NOUN\n",
      "Medoid class: entailment\n",
      "entailment       13\n",
      "contradiction    12\n",
      "neutral           5\n",
      "Name: pred_label, dtype: int64\n",
      "------------------\n",
      "Actual Expl: The men fix the bicycle because they first work on fixing the bicycle.\n",
      "SVO Structure: S1S2_Subj fix S1S2_Verb S1S2_Obj fix S1S2_Verb S1S2_Obj\n",
      "POS Structure: S1S2_NOUN S1S2_VERB S1S2_NOUN work S1S2_VERB S1S2_NOUN\n",
      "Medoid class: entailment\n",
      "contradiction    39\n",
      "entailment       31\n",
      "neutral          11\n",
      "Name: pred_label, dtype: int64\n",
      "------------------\n",
      "Actual Expl: Girls watching are not necessarily critiquing the dance moves.\n",
      "SVO Structure: S1S2_Subj not critique S2_Verb S1_Obj S2_Obj\n",
      "POS Structure: S1S2_NOUN watching be not necessarily S2_VERB S1S2_NOUN S2_NOUN\n",
      "Medoid class: neutral\n",
      "entailment       25\n",
      "contradiction    19\n",
      "neutral          13\n",
      "Name: pred_label, dtype: int64\n",
      "------------------\n",
      "Actual Expl: A being cannot be both lying on their bed and playing on the grass at the same time.\n",
      "SVO Structure: not lie S2_Verb S1_Verb same\n",
      "POS Structure: not be S2_VERB S2_NOUN S1_VERB S1_NOUN time\n",
      "Medoid class: contradiction\n",
      "entailment       16\n",
      "contradiction    14\n",
      "neutral           4\n",
      "Name: pred_label, dtype: int64\n",
      "------------------\n",
      "Actual Expl: Art is not sharks.\n",
      "SVO Structure: be not\n",
      "POS Structure: S1_NOUN be not S2_NOUN\n",
      "Medoid class: contradiction\n",
      "contradiction    13\n",
      "entailment       12\n",
      "neutral           3\n",
      "Name: pred_label, dtype: int64\n",
      "------------------\n",
      "Actual Expl: You challenge someone if you try to grab a ball from them.\n",
      "SVO Structure: challenge S1_Verb S2_Verb\n",
      "POS Structure: S1_VERB S2_VERB S2_VERB S1S2_NOUN\n",
      "Medoid class: entailment\n",
      "entailment       9\n",
      "contradiction    7\n",
      "neutral          5\n",
      "Name: pred_label, dtype: int64\n",
      "------------------\n",
      "Actual Expl: Ducking down doesn't imply hiding.\n",
      "SVO Structure: S1_Verb not imply S2_Verb\n",
      "POS Structure: S1_VERB not imply S2_VERB\n",
      "Medoid class: neutral\n",
      "entailment       68\n",
      "contradiction    39\n",
      "neutral          29\n",
      "Name: pred_label, dtype: int64\n"
     ]
    }
   ],
   "source": [
    "for i in range(len(SSD)):\n",
    "    print(\"------------------\")\n",
    "    print(f\"Actual Expl: {gpt_pred.iloc[kmfit.medoid_indices_[i]].Explanation_1}\")\n",
    "    print(f\"SVO Structure: {gpt_pred.iloc[kmfit.medoid_indices_[i]].reduced_gold_expl}\")\n",
    "    print(f\"POS Structure: {gpt_pred.iloc[kmfit.medoid_indices_[i]].pos_gold_expl}\")\n",
    "    print(f\"Medoid class: {gpt_pred.iloc[kmfit.medoid_indices_[i]].gold_label}\")\n",
    "    print(gpt_pred[kmfit.labels_ == i].pred_label.value_counts())"
   ],
   "metadata": {
    "collapsed": false,
    "pycharm": {
     "name": "#%%\n"
    }
   }
  },
  {
   "cell_type": "code",
   "execution_count": 33,
   "outputs": [
    {
     "name": "stdout",
     "output_type": "stream",
     "text": [
      "['S1_NOUN S1_NOUN be not necessarily S2_NOUN', 'S1_ADJ S1_NOUN be S2_NOUN', 'S1_ADJ S1S2_NOUN be S1S2_NOUN', 'S1S2_NOUN not be S1S2_VERB S1_NOUN S2_NOUN time', 'S2_NOUN be not S1_NOUN', 'S1S2_NOUN be S1_VERB S1_NOUN not mean be S2_VERB S2_NOUN', 'S1S2_NOUN not be S1_VERB S2_VERB time', 'S1_NOUN S1_NOUN be S2_NOUN', 'S1_NOUN be S2_NOUN', 'not S1S2_NOUN be S2_ADJ', 'S1_VERB S1_NOUN not imply S2_VERB S2_NOUN', 'S1S2_NOUN not be S1_VERB S1_NOUN S2_VERB S2_NOUN time', 'S1_NOUN be', 'S1S2_NOUN be not necessarily S2_VERB S2_NOUN', 'be S2_NOUN', 'S1_NOUN be not S2_NOUN', 'S1S2_NOUN be S1S2_VERB S1S2_NOUN S1S2_NOUN', 'S1_VERB S1S2_NOUN be S2_VERB S1S2_NOUN', 'S1S2_NOUN not be S2_VERB S2_NOUN S1_VERB S1_NOUN', 'S1S2_NOUN be S1S2_NOUN']\n"
     ]
    }
   ],
   "source": [
    "print([gpt2.iloc[kmfit.medoid_indices_[i]].pos_expl for i in range(len(SSD))])"
   ],
   "metadata": {
    "collapsed": false,
    "pycharm": {
     "name": "#%%\n"
    }
   }
  },
  {
   "cell_type": "markdown",
   "source": [
    "## Full Explanations"
   ],
   "metadata": {
    "collapsed": false,
    "pycharm": {
     "name": "#%% md\n"
    }
   }
  },
  {
   "cell_type": "code",
   "execution_count": 34,
   "outputs": [],
   "source": [
    "vectorizer = CountVectorizer(ngram_range=(1, 4))\n",
    "X = vectorizer.fit_transform(gpt2.generated)"
   ],
   "metadata": {
    "collapsed": false,
    "pycharm": {
     "name": "#%%\n"
    }
   }
  },
  {
   "cell_type": "code",
   "execution_count": 35,
   "outputs": [
    {
     "name": "stdout",
     "output_type": "stream",
     "text": [
      "[[0 0 0 ... 0 0 0]\n",
      " [0 0 0 ... 0 0 0]\n",
      " [0 0 0 ... 0 0 0]\n",
      " ...\n",
      " [0 0 0 ... 0 0 0]\n",
      " [0 0 0 ... 0 0 0]\n",
      " [0 0 0 ... 0 0 0]]\n"
     ]
    }
   ],
   "source": [
    "print(X.toarray())"
   ],
   "metadata": {
    "collapsed": false,
    "pycharm": {
     "name": "#%%\n"
    }
   }
  },
  {
   "cell_type": "code",
   "execution_count": 36,
   "outputs": [
    {
     "data": {
      "text/plain": "[<matplotlib.lines.Line2D at 0x1a0b9c190>]"
     },
     "execution_count": 36,
     "metadata": {},
     "output_type": "execute_result"
    },
    {
     "data": {
      "text/plain": "<Figure size 640x480 with 1 Axes>",
      "image/png": "[encoded data removed]"
     },
     "metadata": {},
     "output_type": "display_data"
    }
   ],
   "source": [
    "SSD = list()\n",
    "for k in range(1,21):\n",
    "    km = kmedoids.KMedoids(n_clusters=k, method=\"pam\")\n",
    "    kmfit = km.fit(metrics.pairwise.euclidean_distances(X))\n",
    "    SSD += [kmfit.inertia_]\n",
    "plt.plot(SSD)"
   ],
   "metadata": {
    "collapsed": false,
    "pycharm": {
     "name": "#%%\n"
    }
   }
  },
  {
   "cell_type": "code",
   "execution_count": 37,
   "outputs": [
    {
     "name": "stdout",
     "output_type": "stream",
     "text": [
      "------------------\n",
      "Actual Expl: Hammering nails is a form of repair.\n",
      "SVO Structure: S1_Verb S1_Obj be S2_Obj\n",
      "POS Structure: S1_VERB S1_NOUN be form S2_NOUN\n",
      "Medoid class: entailment\n",
      "entailment    1\n",
      "Name: pred_label, dtype: int64\n",
      "------------------\n",
      "Actual Expl: The two statements are not related, and wearing hats with colored streamers does not indicate that the children are waiting in line for the bus.\n",
      "SVO Structure: not relate S1_Verb S1_Obj not S1_Subj S2_Verb\n",
      "POS Structure: statement be not relate S1_VERB S1_NOUN S1_ADJ S1_NOUN not indicate S1_NOUN be S2_VERB S2_NOUN S2_NOUN\n",
      "Medoid class: contradiction\n",
      "entailment       13\n",
      "contradiction     9\n",
      "neutral           2\n",
      "Name: pred_label, dtype: int64\n",
      "------------------\n",
      "Actual Expl: The statement is true, the other woman unloading skis is not mentioned.\n",
      "SVO Structure: S1_Subj S1_Verb S1_Obj not mention\n",
      "POS Structure: statement be true S1S2_NOUN S1_VERB S1_NOUN be not mention\n",
      "Medoid class: entailment\n",
      "entailment    1\n",
      "Name: pred_label, dtype: int64\n",
      "------------------\n",
      "Actual Expl: A young man in an orange hat is a rephrasing of the original.\n",
      "SVO Structure: S1S2_Subj be\n",
      "POS Structure: S1_ADJ S1S2_NOUN S1S2_ADJ S1S2_NOUN be rephrasing original\n",
      "Medoid class: entailment\n",
      "entailment       41\n",
      "contradiction    27\n",
      "neutral          11\n",
      "Name: pred_label, dtype: int64\n",
      "------------------\n",
      "Actual Expl: Blowing bubbles is a form of entertainment.\n",
      "SVO Structure: be\n",
      "POS Structure: S1_VERB S1_NOUN be form entertainment\n",
      "Medoid class: entailment\n",
      "entailment    1\n",
      "Name: pred_label, dtype: int64\n",
      "------------------\n",
      "Actual Expl: The older boy has a yellow balloon so it can be inferred he has a light yellow balloon.\n",
      "SVO Structure: S1S2_Subj have S2_Verb S2_Obj have S2_Verb S2_Obj\n",
      "POS Structure: S1_ADJ S1S2_NOUN S1S2_ADJ S1S2_NOUN be infer S2_ADJ S1S2_ADJ S1S2_NOUN\n",
      "Medoid class: entailment\n",
      "entailment    1\n",
      "Name: pred_label, dtype: int64\n",
      "------------------\n",
      "Actual Expl: The children must be watching the man blow up balloons in order to craft them into animals.\n",
      "SVO Structure: S2_Subj watch S2_Verb S1S2_Subj S1S2_Verb S1S2_Obj\n",
      "POS Structure: S1S2_NOUN be S2_VERB S1S2_NOUN S1S2_VERB S1S2_NOUN order S1_VERB S1_NOUN\n",
      "Medoid class: entailment\n",
      "entailment       5\n",
      "contradiction    5\n",
      "Name: pred_label, dtype: int64\n",
      "------------------\n",
      "Actual Expl: Playing catch is not the same as tossing a frisbee.\n",
      "SVO Structure: S1_Verb S1_Obj be not same S2_Verb S2_Obj\n",
      "POS Structure: S1_VERB S1_NOUN be not S2_VERB S2_NOUN\n",
      "Medoid class: contradiction\n",
      "entailment       371\n",
      "contradiction    280\n",
      "neutral          127\n",
      "Neutral            1\n",
      "Name: pred_label, dtype: int64\n",
      "------------------\n",
      "Actual Expl: If one player is chasing the other, they would be running around. The fact that one is falling down does not change this.\n",
      "SVO Structure: S2_Subj S2_Verb S1_Verb not change\n",
      "POS Structure: S1S2_NOUN be S1S2_VERB be S2_VERB fact be S1_VERB not change\n",
      "Medoid class: entailment\n",
      "entailment       9\n",
      "contradiction    5\n",
      "neutral          5\n",
      "Name: pred_label, dtype: int64\n",
      "------------------\n",
      "Actual Expl: The woman is looking in a mirror, which implies that she is not blind.\n",
      "SVO Structure: S1_Subj look\n",
      "POS Structure: S1S2_NOUN be S1_VERB S1_NOUN imply be not S2_ADJ\n",
      "Medoid class: contradiction\n",
      "contradiction    1\n",
      "Name: pred_label, dtype: int64\n",
      "------------------\n",
      "Actual Expl: There is no connection between the two statements.\n",
      "SVO Structure: be\n",
      "POS Structure: be connection statement\n",
      "Medoid class: neutral\n",
      "neutral    1\n",
      "Name: pred_label, dtype: int64\n",
      "------------------\n",
      "Actual Expl: Cars and people being outside of Hotel Carmel implies that people are getting out of cars for the party at Hotel Carmel.\n",
      "SVO Structure: imply S2_Verb\n",
      "POS Structure: S1S2_NOUN S1_NOUN be S1_ADP S1S2_PROPN S1S2_PROPN imply S1_NOUN be S2_VERB S1S2_NOUN S2_NOUN S1S2_PROPN S1S2_PROPN\n",
      "Medoid class: entailment\n",
      "entailment    1\n",
      "Name: pred_label, dtype: int64\n",
      "------------------\n",
      "Actual Expl: Students cannot be in two places at once.\n",
      "SVO Structure: not be\n",
      "POS Structure: S1S2_NOUN not be place\n",
      "Medoid class: contradiction\n",
      "neutral          1\n",
      "contradiction    1\n",
      "entailment       1\n",
      "Name: pred_label, dtype: int64\n",
      "------------------\n",
      "Actual Expl: A person cannot be flying through the air and sleeping at the same time.\n",
      "SVO Structure: S2_Subj not fly S1_Verb S2_Verb same\n",
      "POS Structure: S2_NOUN not be S1_VERB S1_NOUN S2_VERB time\n",
      "Medoid class: contradiction\n",
      "contradiction    1\n",
      "Name: pred_label, dtype: int64\n",
      "------------------\n",
      "Actual Expl: Playing with a barbie implies the young girl is having fun.\n",
      "SVO Structure: imply S2_Subj S2_Verb S2_Obj\n",
      "POS Structure: S1_VERB S1_NOUN imply S1S2_ADJ S1S2_NOUN be S2_VERB S2_NOUN\n",
      "Medoid class: entailment\n",
      "entailment       19\n",
      "contradiction    12\n",
      "neutral           8\n",
      "Name: pred_label, dtype: int64\n",
      "------------------\n",
      "Actual Expl: Steering and piloting a ship are the same thing.\n",
      "SVO Structure: S2_Verb S1_Obj be same\n",
      "POS Structure: steering S2_VERB S1_NOUN be thing\n",
      "Medoid class: entailment\n",
      "entailment    1\n",
      "Name: pred_label, dtype: int64\n",
      "------------------\n",
      "Actual Expl: The child is riding on the back of the woman who is wearing a hat, which is a picture.\n",
      "SVO Structure: S1_Subj ride S1_Verb S1_Subj S1_Verb S1_Obj\n",
      "POS Structure: S1S2_NOUN be S1_VERB S1S2_NOUN be S1_VERB S1_NOUN be S2_NOUN\n",
      "Medoid class: entailment\n",
      "entailment    1\n",
      "Name: pred_label, dtype: int64\n",
      "------------------\n",
      "Actual Expl: The statement implies that a man in a blue shirt is yelling and pointing off-camera, which is a form of yelling.\n",
      "SVO Structure: imply S2_Subj S1S2_Verb S1S2_Verb\n",
      "POS Structure: statement imply S1S2_NOUN S1_ADJ S1_NOUN be S1S2_VERB S1_VERB S1_NOUN be form S1S2_VERB\n",
      "Medoid class: entailment\n",
      "entailment    1\n",
      "Name: pred_label, dtype: int64\n",
      "------------------\n",
      "Actual Expl: The statement describes three men on stage performing, while the other statement describes women playing trumpets on the street.\n",
      "SVO Structure: describe S1_Subj describe S2_Subj S2_Verb S2_Obj\n",
      "POS Structure: statement describe S1_NOUN S1_NOUN S1_VERB statement describe S2_NOUN S2_VERB S2_NOUN S2_NOUN\n",
      "Medoid class: contradiction\n",
      "entailment       6\n",
      "contradiction    5\n",
      "neutral          3\n",
      "Name: pred_label, dtype: int64\n",
      "------------------\n",
      "Actual Expl: There is no information given to indicate that the couple is hispanic.\n",
      "SVO Structure: be S1_Subj be\n",
      "POS Structure: be information give indicate S1S2_NOUN be S2_ADJ\n",
      "Medoid class: neutral\n",
      "entailment       10\n",
      "contradiction     6\n",
      "neutral           6\n",
      "Name: pred_label, dtype: int64\n"
     ]
    }
   ],
   "source": [
    "for i in range(len(SSD)):\n",
    "    print(\"------------------\")\n",
    "    print(f\"Actual Expl: {gpt_pred.iloc[kmfit.medoid_indices_[i]].pred_explanation}\")\n",
    "    print(f\"SVO Structure: {gpt_pred.iloc[kmfit.medoid_indices_[i]].reduced_expl}\")\n",
    "    print(f\"POS Structure: {gpt_pred.iloc[kmfit.medoid_indices_[i]].pos_expl}\")\n",
    "    print(f\"Medoid class: {gpt_pred.iloc[kmfit.medoid_indices_[i]].pred_label}\")\n",
    "    print(gpt_pred[kmfit.labels_ == i].pred_label.value_counts())"
   ],
   "metadata": {
    "collapsed": false,
    "pycharm": {
     "name": "#%%\n"
    }
   }
  },
  {
   "cell_type": "code",
   "execution_count": 38,
   "outputs": [
    {
     "name": "stdout",
     "output_type": "stream",
     "text": [
      "['Two chefs in an Asian restaurant one cooking on a hibachi type girl the other standing by the refrigerators smiling for the camera does not indicate that they are waiting in line at the retail store.', 'A boy is a child.', 'A young woman peers at an object in her hand is the same as a young woman peers at an object in her hand.', 'A man is a person.', 'Not all older men are a tradesman. Not all older men sawing a piece of metal on the edge is cutting a piece of metal for his newest project.', \"Four people are standing together, with two people signing while the other two are looking at them. while in the same moment wouldn't be  there is a group of four people\", 'A dog cannot be running and sleeping at the same time.', 'screw', 'Walking is not the same as running.', 'A fully-padded hockey player sits on the ice holding his stick is same as Fully-padded hockey player sits on ice holding stick', 'The woman and child are not necessarily mom and her son. The child is not necessarily her son. The balcony is not necessarily below the balcony.', 'Just because three people are in an airport with one laying on the ground, a woman sitting against the window and a man standing with his luggage does not mean they are waiting to board their plane.', 'A group of people is more than one woman.', 'A man standing by a red car with a small child peering out the window does not indicate that The small child is peering out the window at the standing man.', 'A man cannot be standing and sitting at the same time.', 'A player in a red and black jersey is trying to run the football down the field while a group of players in purple and white jerseys try to stop him does not indicate that The football player in the', 'Just because the woman is sitting on the beach does not mean that she is sitting on a bench.  Just because she is sitting on the beach does not mean that it is a sunny day.', 'An Asian baby is sitting in a highchair and eating in the restaurant. while at the same time wont be An Asian baby is eating in a restaurant.', 'A man is not a woman.', 'A woman is not a man.']\n"
     ]
    }
   ],
   "source": [
    "print([gpt2.iloc[kmfit.medoid_indices_[i]].generated for i in range(len(SSD))])"
   ],
   "metadata": {
    "collapsed": false,
    "pycharm": {
     "name": "#%%\n"
    }
   }
  },
  {
   "cell_type": "markdown",
   "source": [
    "# Gold Explanations"
   ],
   "metadata": {
    "collapsed": false,
    "pycharm": {
     "name": "#%% md\n"
    }
   }
  },
  {
   "cell_type": "markdown",
   "source": [
    "## SVO Structure"
   ],
   "metadata": {
    "collapsed": false,
    "pycharm": {
     "name": "#%% md\n"
    }
   }
  },
  {
   "cell_type": "code",
   "execution_count": 39,
   "outputs": [],
   "source": [
    "vectorizer = CountVectorizer(ngram_range=(1, 4))\n",
    "X = vectorizer.fit_transform(gpt_pred.reduced_gold_expl)"
   ],
   "metadata": {
    "collapsed": false,
    "pycharm": {
     "name": "#%%\n"
    }
   }
  },
  {
   "cell_type": "code",
   "execution_count": 40,
   "outputs": [
    {
     "name": "stdout",
     "output_type": "stream",
     "text": [
      "[[0 0 0 ... 0 0 0]\n",
      " [0 0 0 ... 0 0 0]\n",
      " [0 0 0 ... 0 0 0]\n",
      " ...\n",
      " [0 0 0 ... 0 0 0]\n",
      " [0 0 0 ... 0 0 0]\n",
      " [0 0 0 ... 0 0 0]]\n"
     ]
    }
   ],
   "source": [
    "print(X.toarray())"
   ],
   "metadata": {
    "collapsed": false,
    "pycharm": {
     "name": "#%%\n"
    }
   }
  },
  {
   "cell_type": "code",
   "execution_count": 41,
   "outputs": [
    {
     "data": {
      "text/plain": "[<matplotlib.lines.Line2D at 0x1a05b6d10>]"
     },
     "execution_count": 41,
     "metadata": {},
     "output_type": "execute_result"
    },
    {
     "data": {
      "text/plain": "<Figure size 640x480 with 1 Axes>",
      "image/png": "[encoded data removed]"
     },
     "metadata": {},
     "output_type": "display_data"
    }
   ],
   "source": [
    "SSD = list()\n",
    "for k in range(1,41):\n",
    "    km = kmedoids.KMedoids(n_clusters=k, method=\"pam\")\n",
    "    kmfit = km.fit(metrics.pairwise.euclidean_distances(X))\n",
    "    SSD += [kmfit.inertia_]\n",
    "plt.plot(SSD)"
   ],
   "metadata": {
    "collapsed": false,
    "pycharm": {
     "name": "#%%\n"
    }
   }
  },
  {
   "cell_type": "code",
   "execution_count": 42,
   "outputs": [
    {
     "name": "stdout",
     "output_type": "stream",
     "text": [
      "------------------\n",
      "Actual Expl: The subject is either a boy or girl.\n",
      "SVO Structure: be S1_Subj S2_Subj\n",
      "POS Structure: subject be S1_NOUN S2_NOUN\n",
      "Medoid class: contradiction\n",
      "contradiction    9\n",
      "entailment       4\n",
      "neutral          1\n",
      "Name: pred_label, dtype: int64\n",
      "------------------\n",
      "Actual Expl: Playing with an art display does not imply swearing at an art display.\n",
      "SVO Structure: S1_Verb not imply S2_Verb\n",
      "POS Structure: S1_VERB S1S2_NOUN S1S2_NOUN not imply S2_VERB S1S2_NOUN S1S2_NOUN\n",
      "Medoid class: neutral\n",
      "neutral          5\n",
      "entailment       2\n",
      "contradiction    1\n",
      "Name: pred_label, dtype: int64\n",
      "------------------\n",
      "Actual Expl: The woman can't be walking while running.\n",
      "SVO Structure: S1S2_Subj not walk S1_Verb S2_Verb\n",
      "POS Structure: S1S2_NOUN not be S1_VERB S2_VERB\n",
      "Medoid class: contradiction\n",
      "contradiction    8\n",
      "Name: pred_label, dtype: int64\n",
      "------------------\n",
      "Actual Expl: Answer; The third boy is the another boy\n",
      "SVO Structure: S1S2_Subj S1S2_Subj S1S2_Subj S1S2_Subj be S1S2_Subj S1S2_Subj S1S2_Subj S1S2_Subj\n",
      "POS Structure: answer S1S2_NOUN be S1S2_NOUN\n",
      "Medoid class: entailment\n",
      "entailment    1\n",
      "Name: pred_label, dtype: int64\n",
      "------------------\n",
      "Actual Expl: Just because the couple is hand in hand doesn't mean they are married.\n",
      "SVO Structure: not mean\n",
      "POS Structure: S1S2_NOUN be S1_NOUN S1_NOUN not mean be married\n",
      "Medoid class: neutral\n",
      "contradiction    47\n",
      "neutral          35\n",
      "entailment       28\n",
      "Name: pred_label, dtype: int64\n",
      "------------------\n",
      "Actual Expl: five young blond and girls are group of kids.\n",
      "SVO Structure: S1_Subj be S2_Subj\n",
      "POS Structure: S1_ADJ S1_NOUN S1_NOUN be S2_NOUN S2_NOUN\n",
      "Medoid class: entailment\n",
      "entailment       14\n",
      "contradiction     5\n",
      "neutral           1\n",
      "Name: pred_label, dtype: int64\n",
      "------------------\n",
      "Actual Expl: There’s no way of knowing that the couple just got married.\n",
      "SVO Structure: S2_Subj S2_Verb\n",
      "POS Structure: way know S1S2_NOUN S2_AUX S2_VERB\n",
      "Medoid class: neutral\n",
      "entailment       51\n",
      "contradiction    32\n",
      "neutral          21\n",
      "Name: pred_label, dtype: int64\n",
      "------------------\n",
      "Actual Expl: The two people may or may not be a man and wife, and they are not standing at an alter if they are going to a hockey game. Also, the people involved are not man and wife until after they get married, not \"as\" they get married.\n",
      "SVO Structure: S2_Subj not be S1_Subj S1_Subj be not S1_Verb S1_Subj be S2_Verb S2_Subj be not S1_Subj S1_Subj S1_Verb not S1_Subj S1_Verb\n",
      "POS Structure: S2_NOUN not be S1_NOUN S1_NOUN be not S1_VERB S1_NOUN be S2_VERB S2_NOUN S2_NOUN S2_NOUN involve be not S1_NOUN S1_NOUN S1_VERB not S1_VERB\n",
      "Medoid class: contradiction\n",
      "contradiction    1\n",
      "Name: pred_label, dtype: int64\n",
      "------------------\n",
      "Actual Expl: Dumping soil doesn't mean they are leveling the area or building a basketball court.\n",
      "SVO Structure: S1_Verb S1_Obj not mean\n",
      "POS Structure: S1_VERB S1_NOUN not mean be S2_VERB S2_NOUN build S2_NOUN S2_NOUN\n",
      "Medoid class: neutral\n",
      "entailment       5\n",
      "contradiction    4\n",
      "neutral          3\n",
      "Name: pred_label, dtype: int64\n",
      "------------------\n",
      "Actual Expl: Planting something implies digging up the earth.\n",
      "SVO Structure: imply S2_Verb S2_Obj\n",
      "POS Structure: S1_VERB imply S2_VERB S2_NOUN\n",
      "Medoid class: entailment\n",
      "contradiction    22\n",
      "entailment       21\n",
      "neutral           8\n",
      "Name: pred_label, dtype: int64\n",
      "------------------\n",
      "Actual Expl: We have no idea if he is at the beach or somewhere else. there are alot of places with sandy water.\n",
      "SVO Structure: be be\n",
      "POS Structure: idea be S2_NOUN be alot place S1_ADJ S1_NOUN\n",
      "Medoid class: neutral\n",
      "entailment       19\n",
      "contradiction     6\n",
      "neutral           4\n",
      "Name: pred_label, dtype: int64\n",
      "------------------\n",
      "Actual Expl: A girl is a person and blowing bubbles is a common children's entertainment.\n",
      "SVO Structure: be S2_Subj be\n",
      "POS Structure: S1_NOUN be S2_NOUN S1_VERB S1_NOUN be common child entertainment\n",
      "Medoid class: entailment\n",
      "entailment       6\n",
      "neutral          4\n",
      "contradiction    2\n",
      "Name: pred_label, dtype: int64\n",
      "------------------\n",
      "Actual Expl: The woman may not be necessarily tall.\n",
      "SVO Structure: S1_Subj not be\n",
      "POS Structure: S1_NOUN not be necessarily S2_ADJ\n",
      "Medoid class: neutral\n",
      "contradiction    20\n",
      "neutral           6\n",
      "entailment        3\n",
      "Name: pred_label, dtype: int64\n",
      "------------------\n",
      "Actual Expl: A dog walking in shallow water must be walking outside.\n",
      "SVO Structure: S1S2_Subj walk S1S2_Verb walk S1S2_Verb\n",
      "POS Structure: S1S2_NOUN S1S2_VERB S1_ADJ S1_NOUN be S1S2_VERB S2_ADP\n",
      "Medoid class: entailment\n",
      "entailment       4\n",
      "contradiction    2\n",
      "Name: pred_label, dtype: int64\n",
      "------------------\n",
      "Actual Expl: The soldiers could be from any country.\n",
      "SVO Structure: S2_Obj be\n",
      "POS Structure: S1S2_NOUN be country\n",
      "Medoid class: neutral\n",
      "entailment       11\n",
      "contradiction     8\n",
      "neutral           1\n",
      "Name: pred_label, dtype: int64\n",
      "------------------\n",
      "Actual Expl: A house's flower garden is not on a street.\n",
      "SVO Structure: be not\n",
      "POS Structure: S1_NOUN S1_NOUN S1_NOUN be not S2_NOUN\n",
      "Medoid class: contradiction\n",
      "contradiction    23\n",
      "entailment        6\n",
      "neutral           3\n",
      "Name: pred_label, dtype: int64\n",
      "------------------\n",
      "Actual Expl: Not all children are insane.\n",
      "SVO Structure: S1_Subj be\n",
      "POS Structure: not S1S2_NOUN be S2_ADJ\n",
      "Medoid class: neutral\n",
      "entailment       44\n",
      "contradiction    19\n",
      "neutral           6\n",
      "Name: pred_label, dtype: int64\n",
      "------------------\n",
      "Actual Expl: Is hitting is a rephrasing of hitting.\n",
      "SVO Structure: be S2_Verb be S2_Verb\n",
      "POS Structure: be S1S2_VERB be rephrasing S1S2_VERB\n",
      "Medoid class: entailment\n",
      "entailment       6\n",
      "contradiction    2\n",
      "Name: pred_label, dtype: int64\n",
      "------------------\n",
      "Actual Expl: People and dogs in the woods does not imply the desire to want things to live or don't want them to.\n",
      "SVO Structure: not imply S2_Verb S2_Verb S2_Verb S2_Verb not S2_Verb S2_Verb S2_Subj S2_Verb\n",
      "POS Structure: People S1_NOUN S1_NOUN S2_PART imply desire S2_VERB thing S2_VERB S2_PART S2_VERB\n",
      "Medoid class: neutral\n",
      "contradiction    1\n",
      "Name: pred_label, dtype: int64\n",
      "------------------\n",
      "Actual Expl: There are other reasons a man can put on gloves besides cold weather.\n",
      "SVO Structure: be S1S2_Subj S1S2_Verb\n",
      "POS Structure: be reason S1S2_NOUN S1_NOUN S2_ADJ S2_NOUN\n",
      "Medoid class: neutral\n",
      "entailment       24\n",
      "neutral           7\n",
      "contradiction     1\n",
      "Name: pred_label, dtype: int64\n",
      "------------------\n",
      "Actual Expl: A dog and a cow are inside the fence, and the fence is outside.\n",
      "SVO Structure: S1_Subj be be\n",
      "POS Structure: S1S2_NOUN S1S2_NOUN be S1_ADP S1_NOUN S1_NOUN be S2_ADJ\n",
      "Medoid class: entailment\n",
      "entailment       8\n",
      "contradiction    3\n",
      "Name: pred_label, dtype: int64\n",
      "------------------\n",
      "Actual Expl: You can not infer they are happy.\n",
      "SVO Structure: not infer\n",
      "POS Structure: not infer be S2_ADJ\n",
      "Medoid class: neutral\n",
      "neutral          8\n",
      "entailment       8\n",
      "contradiction    3\n",
      "Neutral          1\n",
      "Name: pred_label, dtype: int64\n",
      "------------------\n",
      "Actual Expl: Standing and dancing are two different actions\n",
      "SVO Structure: be different\n",
      "POS Structure: standing dancing be different action\n",
      "Medoid class: contradiction\n",
      "contradiction    13\n",
      "entailment        2\n",
      "Name: pred_label, dtype: int64\n",
      "------------------\n",
      "Actual Expl: Girl, is a rephrasing of young girl.  A bikini is a bathing suit.\n",
      "SVO Structure: S1_Subj be S1_Subj be\n",
      "POS Structure: S1S2_NOUN be rephrasing S1_ADJ S1S2_NOUN  S1_NOUN be S2_NOUN S2_NOUN\n",
      "Medoid class: entailment\n",
      "entailment       7\n",
      "contradiction    2\n",
      "neutral          1\n",
      "Name: pred_label, dtype: int64\n",
      "------------------\n",
      "Actual Expl: Just because the woman is staring in to the right does not mean she is looking at a dog.\n",
      "SVO Structure: S1S2_Subj S1_Verb not mean S2_Verb\n",
      "POS Structure: S1S2_NOUN be S1_VERB S1_NOUN not mean be S2_VERB S2_NOUN\n",
      "Medoid class: neutral\n",
      "entailment    5\n",
      "neutral       3\n",
      "Name: pred_label, dtype: int64\n",
      "------------------\n",
      "Actual Expl: The laughing man may have been laughing about something entirely unrelated to the man stuffing his face.  He may have been laughing at him, but he may have been laughing with him.\n",
      "SVO Structure: laugh S2_Verb S1S2_Subj laugh S2_Verb S1S2_Subj S1S2_Verb S1S2_Obj laugh S2_Verb laugh S2_Verb\n",
      "POS Structure: S1S2_VERB S1S2_NOUN be S1S2_VERB entirely unrelated S1S2_NOUN S1S2_VERB S1S2_NOUN  be S1S2_VERB be S1S2_VERB\n",
      "Medoid class: neutral\n",
      "neutral    1\n",
      "Name: pred_label, dtype: int64\n",
      "------------------\n",
      "Actual Expl: There wouldn't be a sidewalk inside.\n",
      "SVO Structure: not be\n",
      "POS Structure: not be S1_NOUN S2_ADP\n",
      "Medoid class: contradiction\n",
      "contradiction    30\n",
      "entailment        4\n",
      "neutral           1\n",
      "Name: pred_label, dtype: int64\n",
      "------------------\n",
      "Actual Expl: The first sentence does not imply that the colorful structure is outdoors.\n",
      "SVO Structure: not imply\n",
      "POS Structure: sentence not imply S1_ADJ S1_NOUN be S2_ADV\n",
      "Medoid class: neutral\n",
      "neutral          9\n",
      "entailment       6\n",
      "contradiction    4\n",
      "Name: pred_label, dtype: int64\n",
      "------------------\n",
      "Actual Expl: Rests above a metro entrance implies near a metro station.\n",
      "SVO Structure: imply\n",
      "POS Structure: S1_NOUN S1S2_PROPN S1_NOUN imply S2_ADP S1S2_PROPN S2_NOUN\n",
      "Medoid class: entailment\n",
      "entailment       64\n",
      "neutral          14\n",
      "contradiction    13\n",
      "Name: pred_label, dtype: int64\n",
      "------------------\n",
      "Actual Expl: The man can't be playing billiards and checkers at the same time.\n",
      "SVO Structure: S1S2_Subj not play S1S2_Verb S1_Obj S2_Obj same\n",
      "POS Structure: S1S2_NOUN not be S1S2_VERB S1_NOUN S2_NOUN time\n",
      "Medoid class: contradiction\n",
      "contradiction    7\n",
      "Name: pred_label, dtype: int64\n",
      "------------------\n",
      "Actual Expl: WE have no idea if the child is her child or someone else.\n",
      "SVO Structure: have\n",
      "POS Structure: idea S1S2_NOUN be S1S2_NOUN\n",
      "Medoid class: neutral\n",
      "entailment       11\n",
      "contradiction     5\n",
      "neutral           5\n",
      "Name: pred_label, dtype: int64\n",
      "------------------\n",
      "Actual Expl: A person usually wouldn't be smiling while writing the words 'sad', 'depressed', and 'hatred'.\n",
      "SVO Structure: not smile S2_Verb S1_Subj S1_Verb S1_Verb S1_Verb S1_Verb S1_Verb S1_Verb\n",
      "POS Structure: person usually not be S2_VERB S1_VERB S1_NOUN S1_ADJ S1_ADJ S1_NOUN\n",
      "Medoid class: contradiction\n",
      "contradiction    1\n",
      "Name: pred_label, dtype: int64\n",
      "------------------\n",
      "Actual Expl: Not all scarves are the colors of green and red.\n",
      "SVO Structure: be\n",
      "POS Structure: not S1S2_NOUN be color S2_ADJ S2_ADJ\n",
      "Medoid class: neutral\n",
      "entailment       60\n",
      "contradiction    15\n",
      "neutral          10\n",
      "Name: pred_label, dtype: int64\n",
      "------------------\n",
      "Actual Expl: Catches some air on fresh powder is a way of saying snowboarding.\n",
      "SVO Structure: S1_Verb S1_Obj be\n",
      "POS Structure: S1_VERB S1_NOUN S1_ADJ S1_NOUN be way say S2_VERB\n",
      "Medoid class: entailment\n",
      "entailment       25\n",
      "contradiction    14\n",
      "neutral           4\n",
      "Name: pred_label, dtype: int64\n",
      "------------------\n",
      "Actual Expl: The young girl may not be having fun\n",
      "SVO Structure: S2_Subj not have S2_Verb S2_Obj\n",
      "POS Structure: S1S2_ADJ S1S2_NOUN not be S2_VERB S2_NOUN\n",
      "Medoid class: neutral\n",
      "entailment    5\n",
      "neutral       1\n",
      "Name: pred_label, dtype: int64\n",
      "------------------\n",
      "Actual Expl: If a woman is painted with green body paint, she cannot be painted in yellow body paint.\n",
      "SVO Structure: S1S2_Subj paint S2_Verb paint S2_Verb not paint S2_Verb paint S2_Verb\n",
      "POS Structure: S1S2_NOUN be S1S2_NOUN S1_ADJ S1S2_NOUN S1S2_NOUN not be S1S2_NOUN S2_ADJ S1S2_NOUN S1S2_NOUN\n",
      "Medoid class: contradiction\n",
      "contradiction    1\n",
      "Name: pred_label, dtype: int64\n",
      "------------------\n",
      "Actual Expl: Gentlemen with the red plaid shirt is a type of gentleman.\n",
      "SVO Structure: S1S2_Subj be S1S2_Subj\n",
      "POS Structure: S1S2_NOUN S1_ADJ S1_NOUN S1_NOUN be type S1S2_NOUN\n",
      "Medoid class: entailment\n",
      "entailment       20\n",
      "contradiction     5\n",
      "Name: pred_label, dtype: int64\n",
      "------------------\n",
      "Actual Expl: Walking towards is the same as walking in a direction.\n",
      "SVO Structure: S1S2_Verb be same S1S2_Verb\n",
      "POS Structure: S1S2_VERB be S1S2_VERB S2_NOUN\n",
      "Medoid class: entailment\n",
      "entailment       3\n",
      "contradiction    1\n",
      "Name: pred_label, dtype: int64\n",
      "------------------\n",
      "Actual Expl: Two dogs run together means two dogs are running.\n",
      "SVO Structure: S1S2_Subj run S1S2_Verb S1S2_Subj run S1S2_Verb\n",
      "POS Structure: S1S2_NOUN S1S2_VERB mean S1S2_NOUN be S1S2_VERB\n",
      "Medoid class: entailment\n",
      "entailment    2\n",
      "Name: pred_label, dtype: int64\n",
      "------------------\n",
      "Actual Expl: The dog either runs or is laying down, not both.\n",
      "SVO Structure: run S1_Verb S2_Verb\n",
      "POS Structure: dog S1_VERB be S2_VERB not\n",
      "Medoid class: contradiction\n",
      "contradiction    22\n",
      "entailment        4\n",
      "neutral           2\n",
      "Name: pred_label, dtype: int64\n"
     ]
    }
   ],
   "source": [
    "for i in range(len(SSD)):\n",
    "    print(\"------------------\")\n",
    "    print(f\"Actual Expl: {gpt_pred.iloc[kmfit.medoid_indices_[i]].Explanation_1}\")\n",
    "    print(f\"SVO Structure: {gpt_pred.iloc[kmfit.medoid_indices_[i]].reduced_gold_expl}\")\n",
    "    print(f\"POS Structure: {gpt_pred.iloc[kmfit.medoid_indices_[i]].pos_gold_expl}\")\n",
    "    print(f\"Medoid class: {gpt_pred.iloc[kmfit.medoid_indices_[i]].gold_label}\")\n",
    "    print(gpt_pred[kmfit.labels_ == i].pred_label.value_counts())"
   ],
   "metadata": {
    "collapsed": false,
    "pycharm": {
     "name": "#%%\n"
    }
   }
  },
  {
   "cell_type": "code",
   "execution_count": 43,
   "outputs": [
    {
     "name": "stdout",
     "output_type": "stream",
     "text": [
      "['be S1_Subj S2_Subj', 'S1_Verb not imply S2_Verb', 'S1S2_Subj not walk S1_Verb S2_Verb', 'S1S2_Subj S1S2_Subj S1S2_Subj S1S2_Subj be S1S2_Subj S1S2_Subj S1S2_Subj S1S2_Subj', 'not mean', 'S1_Subj be S2_Subj', 'S2_Subj S2_Verb', 'S2_Subj not be S1_Subj S1_Subj be not S1_Verb S1_Subj be S2_Verb S2_Subj be not S1_Subj S1_Subj S1_Verb not S1_Subj S1_Verb', 'S1_Verb S1_Obj not mean', 'imply S2_Verb S2_Obj', 'be be', 'be S2_Subj be', 'S1_Subj not be', 'S1S2_Subj walk S1S2_Verb walk S1S2_Verb', 'S2_Obj be', 'be not', 'S1_Subj be', 'be S2_Verb be S2_Verb', 'not imply S2_Verb S2_Verb S2_Verb S2_Verb not S2_Verb S2_Verb S2_Subj S2_Verb', 'be S1S2_Subj S1S2_Verb', 'S1_Subj be be', 'not infer', 'be different', 'S1_Subj be S1_Subj be', 'S1S2_Subj S1_Verb not mean S2_Verb', 'laugh S2_Verb S1S2_Subj laugh S2_Verb S1S2_Subj S1S2_Verb S1S2_Obj laugh S2_Verb laugh S2_Verb', 'not be', 'not imply', 'imply', 'S1S2_Subj not play S1S2_Verb S1_Obj S2_Obj same', 'have', 'not smile S2_Verb S1_Subj S1_Verb S1_Verb S1_Verb S1_Verb S1_Verb S1_Verb', 'be', 'S1_Verb S1_Obj be', 'S2_Subj not have S2_Verb S2_Obj', 'S1S2_Subj paint S2_Verb paint S2_Verb not paint S2_Verb paint S2_Verb', 'S1S2_Subj be S1S2_Subj', 'S1S2_Verb be same S1S2_Verb', 'S1S2_Subj run S1S2_Verb S1S2_Subj run S1S2_Verb', 'run S1_Verb S2_Verb']\n"
     ]
    }
   ],
   "source": [
    "print([gpt_pred.iloc[kmfit.medoid_indices_[i]].reduced_gold_expl for i in range(len(SSD))])"
   ],
   "metadata": {
    "collapsed": false,
    "pycharm": {
     "name": "#%%\n"
    }
   }
  },
  {
   "cell_type": "markdown",
   "source": [
    "## POS Structure"
   ],
   "metadata": {
    "collapsed": false,
    "pycharm": {
     "name": "#%% md\n"
    }
   }
  },
  {
   "cell_type": "code",
   "execution_count": 44,
   "outputs": [],
   "source": [
    "vectorizer = CountVectorizer(ngram_range=(1, 4))\n",
    "X = vectorizer.fit_transform(gpt_pred.pos_gold_expl)"
   ],
   "metadata": {
    "collapsed": false,
    "pycharm": {
     "name": "#%%\n"
    }
   }
  },
  {
   "cell_type": "code",
   "execution_count": 45,
   "outputs": [
    {
     "name": "stdout",
     "output_type": "stream",
     "text": [
      "[[0 0 0 ... 0 0 0]\n",
      " [0 0 0 ... 0 0 0]\n",
      " [0 0 0 ... 0 0 0]\n",
      " ...\n",
      " [0 0 0 ... 0 0 0]\n",
      " [0 0 0 ... 0 0 0]\n",
      " [0 0 0 ... 0 0 0]]\n"
     ]
    }
   ],
   "source": [
    "print(X.toarray())"
   ],
   "metadata": {
    "collapsed": false,
    "pycharm": {
     "name": "#%%\n"
    }
   }
  },
  {
   "cell_type": "code",
   "execution_count": 46,
   "outputs": [
    {
     "data": {
      "text/plain": "[<matplotlib.lines.Line2D at 0x1a1c08f10>]"
     },
     "execution_count": 46,
     "metadata": {},
     "output_type": "execute_result"
    },
    {
     "data": {
      "text/plain": "<Figure size 640x480 with 1 Axes>",
      "image/png": "[encoded data removed]"
     },
     "metadata": {},
     "output_type": "display_data"
    }
   ],
   "source": [
    "SSD = list()\n",
    "for k in range(1,21):\n",
    "    km = kmedoids.KMedoids(n_clusters=k, method=\"pam\")\n",
    "    kmfit = km.fit(metrics.pairwise.euclidean_distances(X))\n",
    "    SSD += [kmfit.inertia_]\n",
    "plt.plot(SSD)"
   ],
   "metadata": {
    "collapsed": false,
    "pycharm": {
     "name": "#%%\n"
    }
   }
  },
  {
   "cell_type": "code",
   "execution_count": 47,
   "outputs": [
    {
     "name": "stdout",
     "output_type": "stream",
     "text": [
      "------------------\n",
      "Actual Expl: A little girl is a kid.\n",
      "SVO Structure: be S2_Subj\n",
      "POS Structure: S1_ADJ S1_NOUN be S2_NOUN\n",
      "Medoid class: entailment\n",
      "entailment       25\n",
      "neutral           9\n",
      "contradiction     9\n",
      "Name: pred_label, dtype: int64\n",
      "------------------\n",
      "Actual Expl: You can not infer it's his brother.\n",
      "SVO Structure: be S2_Subj\n",
      "POS Structure: not infer be S2_NOUN\n",
      "Medoid class: neutral\n",
      "neutral          9\n",
      "entailment       7\n",
      "contradiction    2\n",
      "Name: pred_label, dtype: int64\n",
      "------------------\n",
      "Actual Expl: A girl is a girl.\n",
      "SVO Structure: S1_Subj be S1_Subj\n",
      "POS Structure: S1S2_NOUN be S1S2_NOUN\n",
      "Medoid class: entailment\n",
      "entailment       70\n",
      "neutral          11\n",
      "contradiction     8\n",
      "Name: pred_label, dtype: int64\n",
      "------------------\n",
      "Actual Expl: Just because the woman is staring in to the right does not mean she is looking at a dog.\n",
      "SVO Structure: S1S2_Subj S1_Verb not mean S2_Verb\n",
      "POS Structure: S1S2_NOUN be S1_VERB S1_NOUN not mean be S2_VERB S2_NOUN\n",
      "Medoid class: neutral\n",
      "neutral          6\n",
      "entailment       5\n",
      "contradiction    1\n",
      "Name: pred_label, dtype: int64\n",
      "------------------\n",
      "Actual Expl: A man plays the saxophone.\n",
      "SVO Structure: S1S2_Subj play S1S2_Verb S1S2_Obj\n",
      "POS Structure: S1S2_NOUN S1S2_VERB S1S2_NOUN\n",
      "Medoid class: entailment\n",
      "entailment       39\n",
      "neutral           5\n",
      "contradiction     2\n",
      "Name: pred_label, dtype: int64\n",
      "------------------\n",
      "Actual Expl: to renovate is working\n",
      "SVO Structure: S1_Verb work S2_Verb\n",
      "POS Structure: S1_VERB be S2_VERB\n",
      "Medoid class: entailment\n",
      "contradiction    19\n",
      "entailment       17\n",
      "neutral           8\n",
      "Name: pred_label, dtype: int64\n",
      "------------------\n",
      "Actual Expl: they may not be smoking cigarettes.\n",
      "SVO Structure: S2_Subj not smoke S2_Verb S2_Obj\n",
      "POS Structure: not be S2_VERB S2_NOUN\n",
      "Medoid class: neutral\n",
      "contradiction    22\n",
      "neutral          10\n",
      "entailment        7\n",
      "Name: pred_label, dtype: int64\n",
      "------------------\n",
      "Actual Expl: A child is a person.\n",
      "SVO Structure: be S2_Subj\n",
      "POS Structure: S1_NOUN be S2_NOUN\n",
      "Medoid class: entailment\n",
      "entailment       56\n",
      "contradiction    23\n",
      "neutral          17\n",
      "Name: pred_label, dtype: int64\n",
      "------------------\n",
      "Actual Expl: A house's flower garden is not on a street.\n",
      "SVO Structure: be not\n",
      "POS Structure: S1_NOUN S1_NOUN S1_NOUN be not S2_NOUN\n",
      "Medoid class: contradiction\n",
      "entailment       10\n",
      "contradiction     7\n",
      "neutral           5\n",
      "Name: pred_label, dtype: int64\n",
      "------------------\n",
      "Actual Expl: The children can't be playing while they fight.\n",
      "SVO Structure: S2_Subj not play S2_Verb\n",
      "POS Structure: S1S2_NOUN not be S1_VERB S2_VERB\n",
      "Medoid class: contradiction\n",
      "contradiction    16\n",
      "Name: pred_label, dtype: int64\n",
      "------------------\n",
      "Actual Expl: The street is for walking.\n",
      "SVO Structure: be S1S2_Verb\n",
      "POS Structure: S1S2_NOUN be S1S2_VERB\n",
      "Medoid class: entailment\n",
      "entailment       55\n",
      "contradiction    26\n",
      "neutral          12\n",
      "Neutral           1\n",
      "Name: pred_label, dtype: int64\n",
      "------------------\n",
      "Actual Expl: It has to be either a woman or a man.\n",
      "SVO Structure: have S1_Subj S2_Subj\n",
      "POS Structure: be S1_NOUN S2_NOUN\n",
      "Medoid class: contradiction\n",
      "contradiction    29\n",
      "entailment        9\n",
      "neutral           2\n",
      "Name: pred_label, dtype: int64\n",
      "------------------\n",
      "Actual Expl: The woman is laying in the lap of the man.\n",
      "SVO Structure: S1_Subj lay S1S2_Subj\n",
      "POS Structure: S1S2_NOUN be S1S2_VERB S1S2_NOUN S1S2_NOUN\n",
      "Medoid class: entailment\n",
      "entailment    19\n",
      "neutral        1\n",
      "Name: pred_label, dtype: int64\n",
      "------------------\n",
      "Actual Expl: There can be either two or three people\n",
      "SVO Structure: be S1_Subj\n",
      "POS Structure: be S1_NOUN\n",
      "Medoid class: contradiction\n",
      "entailment       97\n",
      "contradiction    63\n",
      "neutral          18\n",
      "Name: pred_label, dtype: int64\n",
      "------------------\n",
      "Actual Expl: The dogs are not necessarily chasing a bunny.\n",
      "SVO Structure: S1S2_Subj not chase S2_Verb\n",
      "POS Structure: S1S2_NOUN be not necessarily S2_VERB S2_NOUN\n",
      "Medoid class: neutral\n",
      "neutral          4\n",
      "entailment       1\n",
      "contradiction    1\n",
      "Name: pred_label, dtype: int64\n",
      "------------------\n",
      "Actual Expl: A baby is not a woman.\n",
      "SVO Structure: S1_Subj be not S2_Subj\n",
      "POS Structure: S1_NOUN be not S2_NOUN\n",
      "Medoid class: contradiction\n",
      "contradiction    26\n",
      "neutral          11\n",
      "entailment        5\n",
      "Name: pred_label, dtype: int64\n",
      "------------------\n",
      "Actual Expl: They cannot be taking pictures while they play soccer.\n",
      "SVO Structure: not take S1_Verb S1_Obj S2_Verb S2_Obj\n",
      "POS Structure: not be S1_VERB S1_NOUN S2_VERB S2_NOUN\n",
      "Medoid class: contradiction\n",
      "contradiction    23\n",
      "neutral           3\n",
      "entailment        1\n",
      "Name: pred_label, dtype: int64\n",
      "------------------\n",
      "Actual Expl: The man can't be a woman.\n",
      "SVO Structure: S1_Subj not be S2_Subj\n",
      "POS Structure: S1_NOUN not be S2_NOUN\n",
      "Medoid class: contradiction\n",
      "contradiction    13\n",
      "neutral           8\n",
      "entailment        1\n",
      "Name: pred_label, dtype: int64\n",
      "------------------\n",
      "Actual Expl: the cyclist may not be alone\n",
      "SVO Structure: S1S2_Subj not be\n",
      "POS Structure: S1S2_NOUN not be\n",
      "Medoid class: neutral\n",
      "contradiction    47\n",
      "entailment       16\n",
      "neutral          15\n",
      "Name: pred_label, dtype: int64\n",
      "------------------\n",
      "Actual Expl: The girl has an insect on her finger.\n",
      "SVO Structure: S1_Subj have S1_Verb\n",
      "POS Structure: S1S2_NOUN S1S2_NOUN S1_NOUN\n",
      "Medoid class: entailment\n",
      "entailment       43\n",
      "contradiction    15\n",
      "neutral          10\n",
      "Name: pred_label, dtype: int64\n"
     ]
    }
   ],
   "source": [
    "for i in range(len(SSD)):\n",
    "    print(\"------------------\")\n",
    "    print(f\"Actual Expl: {gpt_pred.iloc[kmfit.medoid_indices_[i]].Explanation_1}\")\n",
    "    print(f\"SVO Structure: {gpt_pred.iloc[kmfit.medoid_indices_[i]].reduced_gold_expl}\")\n",
    "    print(f\"POS Structure: {gpt_pred.iloc[kmfit.medoid_indices_[i]].pos_gold_expl}\")\n",
    "    print(f\"Medoid class: {gpt_pred.iloc[kmfit.medoid_indices_[i]].gold_label}\")\n",
    "    print(gpt_pred[kmfit.labels_ == i].pred_label.value_counts())"
   ],
   "metadata": {
    "collapsed": false,
    "pycharm": {
     "name": "#%%\n"
    }
   }
  },
  {
   "cell_type": "code",
   "execution_count": 48,
   "outputs": [
    {
     "name": "stdout",
     "output_type": "stream",
     "text": [
      "['S1_ADJ S1_NOUN be S2_NOUN', 'not infer be S2_NOUN', 'S1S2_NOUN be S1S2_NOUN', 'S1S2_NOUN be S1_VERB S1_NOUN not mean be S2_VERB S2_NOUN', 'S1S2_NOUN S1S2_VERB S1S2_NOUN', 'S1_VERB be S2_VERB', 'not be S2_VERB S2_NOUN', 'S1_NOUN be S2_NOUN', 'S1_NOUN S1_NOUN S1_NOUN be not S2_NOUN', 'S1S2_NOUN not be S1_VERB S2_VERB', 'S1S2_NOUN be S1S2_VERB', 'be S1_NOUN S2_NOUN', 'S1S2_NOUN be S1S2_VERB S1S2_NOUN S1S2_NOUN', 'be S1_NOUN', 'S1S2_NOUN be not necessarily S2_VERB S2_NOUN', 'S1_NOUN be not S2_NOUN', 'not be S1_VERB S1_NOUN S2_VERB S2_NOUN', 'S1_NOUN not be S2_NOUN', 'S1S2_NOUN not be', 'S1S2_NOUN S1S2_NOUN S1_NOUN']\n"
     ]
    }
   ],
   "source": [
    "print([gpt_pred.iloc[kmfit.medoid_indices_[i]].pos_gold_expl for i in range(len(SSD))])"
   ],
   "metadata": {
    "collapsed": false,
    "pycharm": {
     "name": "#%%\n"
    }
   }
  },
  {
   "cell_type": "markdown",
   "source": [
    "## Full Explanations"
   ],
   "metadata": {
    "collapsed": false,
    "pycharm": {
     "name": "#%% md\n"
    }
   }
  },
  {
   "cell_type": "code",
   "execution_count": 49,
   "outputs": [],
   "source": [
    "vectorizer = CountVectorizer(ngram_range=(1, 4))\n",
    "X = vectorizer.fit_transform(gpt_pred.Explanation_1)"
   ],
   "metadata": {
    "collapsed": false,
    "pycharm": {
     "name": "#%%\n"
    }
   }
  },
  {
   "cell_type": "code",
   "execution_count": 50,
   "outputs": [
    {
     "name": "stdout",
     "output_type": "stream",
     "text": [
      "[[0 0 0 ... 0 0 0]\n",
      " [0 0 0 ... 0 0 0]\n",
      " [0 0 0 ... 0 0 0]\n",
      " ...\n",
      " [0 0 0 ... 0 0 0]\n",
      " [0 0 0 ... 0 0 0]\n",
      " [0 0 0 ... 0 0 0]]\n"
     ]
    }
   ],
   "source": [
    "print(X.toarray())"
   ],
   "metadata": {
    "collapsed": false,
    "pycharm": {
     "name": "#%%\n"
    }
   }
  },
  {
   "cell_type": "code",
   "execution_count": 51,
   "outputs": [
    {
     "data": {
      "text/plain": "[<matplotlib.lines.Line2D at 0x1a15497e0>]"
     },
     "execution_count": 51,
     "metadata": {},
     "output_type": "execute_result"
    },
    {
     "data": {
      "text/plain": "<Figure size 640x480 with 1 Axes>",
      "image/png": "[encoded data removed]"
     },
     "metadata": {},
     "output_type": "display_data"
    }
   ],
   "source": [
    "SSD = list()\n",
    "for k in range(1,21):\n",
    "    km = kmedoids.KMedoids(n_clusters=k, method=\"pam\")\n",
    "    kmfit = km.fit(metrics.pairwise.euclidean_distances(X))\n",
    "    SSD += [kmfit.inertia_]\n",
    "plt.plot(SSD)"
   ],
   "metadata": {
    "collapsed": false,
    "pycharm": {
     "name": "#%%\n"
    }
   }
  },
  {
   "cell_type": "code",
   "execution_count": 52,
   "outputs": [
    {
     "name": "stdout",
     "output_type": "stream",
     "text": [
      "------------------\n",
      "Actual Expl: Running and being chased by another dog refers to the same action.\n",
      "SVO Structure: S2_Verb S2_Subj refer same\n",
      "POS Structure: S1S2_VERB be S1S2_VERB S1S2_NOUN refer action\n",
      "Medoid class: entailment\n",
      "entailment    1\n",
      "Name: pred_label, dtype: int64\n",
      "------------------\n",
      "Actual Expl: The sentences are essentially saying the same thing.\n",
      "SVO Structure: say same\n",
      "POS Structure: sentence be essentially say thing\n",
      "Medoid class: entailment\n",
      "entailment       44\n",
      "contradiction    29\n",
      "neutral          18\n",
      "Name: pred_label, dtype: int64\n",
      "------------------\n",
      "Actual Expl: Just because the man in white is watching the man in gray does not necessarily mean he is the superior.\n",
      "SVO Structure: S1_Subj S1_Verb S1_Subj not mean S1_Obj\n",
      "POS Structure: S1S2_NOUN S1S2_ADJ be S1_VERB S1S2_NOUN S1S2_ADJ not necessarily mean be S2_ADJ\n",
      "Medoid class: neutral\n",
      "neutral    1\n",
      "Name: pred_label, dtype: int64\n",
      "------------------\n",
      "Actual Expl: A man and wife getting married is different from two people going to a hockey game.\n",
      "SVO Structure: S1_Subj S1_Verb be different S2_Subj S2_Verb\n",
      "POS Structure: S1_NOUN S1_NOUN S1_AUX S1_VERB be different S2_NOUN S2_VERB S2_NOUN S2_NOUN\n",
      "Medoid class: contradiction\n",
      "contradiction    1\n",
      "Name: pred_label, dtype: int64\n",
      "------------------\n",
      "Actual Expl: Just because an individual is crouched down on top of rocks does not imply that the individual is taking a picture outdoors.\n",
      "SVO Structure: S1_Subj S1_Verb not imply S1_Subj S2_Verb S2_Obj\n",
      "POS Structure: S1_NOUN be S1_VERB S1_NOUN not imply S1_NOUN be S2_VERB S2_NOUN S2_ADV\n",
      "Medoid class: neutral\n",
      "neutral    1\n",
      "Name: pred_label, dtype: int64\n",
      "------------------\n",
      "Actual Expl: Pushing and attempting to push are synonymous.\n",
      "SVO Structure: S2_Verb S1_Verb S2_Verb be\n",
      "POS Structure: S1S2_VERB S1_VERB S1S2_VERB be synonymous\n",
      "Medoid class: entailment\n",
      "entailment       202\n",
      "contradiction    104\n",
      "neutral           46\n",
      "Name: pred_label, dtype: int64\n",
      "------------------\n",
      "Actual Expl: Promoting and selling are the same.\n",
      "SVO Structure: S1_Verb be same\n",
      "POS Structure: S1_VERB selling be\n",
      "Medoid class: entailment\n",
      "entailment    1\n",
      "Name: pred_label, dtype: int64\n",
      "------------------\n",
      "Actual Expl: A man in a lab coat looking through a microscope implies that he is a scientist inspecting a new strain of virus.\n",
      "SVO Structure: S1_Subj S1_Verb imply S2_Subj S2_Verb S2_Obj\n",
      "POS Structure: S1_NOUN S1_NOUN S1_NOUN S1_VERB S1_NOUN imply be S2_NOUN S2_VERB S2_ADJ S2_NOUN S2_NOUN\n",
      "Medoid class: entailment\n",
      "entailment    1\n",
      "Name: pred_label, dtype: int64\n",
      "------------------\n",
      "Actual Expl: The statement does not provide enough information to infer that the butchers are the owners of a famous meat market.\n",
      "SVO Structure: not provide S1_Subj S2_Subj\n",
      "POS Structure: statement not provide information infer S1_NOUN be S2_NOUN S2_ADJ S2_NOUN S2_NOUN\n",
      "Medoid class: neutral\n",
      "neutral    1\n",
      "Name: pred_label, dtype: int64\n",
      "------------------\n",
      "Actual Expl: A couple is people and they are eating at a table outside.\n",
      "SVO Structure: S1_Subj be be S1S2_Verb\n",
      "POS Structure: S1_NOUN be people be S1S2_VERB S1S2_NOUN S1S2_ADV\n",
      "Medoid class: entailment\n",
      "entailment       219\n",
      "contradiction    214\n",
      "neutral           86\n",
      "Name: pred_label, dtype: int64\n",
      "------------------\n",
      "Actual Expl: If the two people are sitting in a car, then they are in front of the man.\n",
      "SVO Structure: be be S1S2_Subj\n",
      "POS Structure: S1S2_NOUN be S1_VERB S1_NOUN be S1S2_NOUN\n",
      "Medoid class: entailment\n",
      "entailment    1\n",
      "Name: pred_label, dtype: int64\n",
      "------------------\n",
      "Actual Expl: A crowd of people standing in street in front of a series of white tents implies that a crowd of people are standing in the street.\n",
      "SVO Structure: S1S2_Subj S1S2_Verb imply S1S2_Subj S1S2_Verb\n",
      "POS Structure: S1S2_NOUN S1S2_NOUN S1S2_VERB S1S2_NOUN S1_NOUN S1_ADJ S1_NOUN imply S1S2_NOUN S1S2_NOUN be S1S2_VERB S1S2_NOUN\n",
      "Medoid class: entailment\n",
      "entailment    1\n",
      "Name: pred_label, dtype: int64\n",
      "------------------\n",
      "Actual Expl: The sentence does not specify that the girls are happy or that they are getting into the spirit of Christmas.\n",
      "SVO Structure: not specify S1_Subj\n",
      "POS Structure: sentence not specify S1S2_NOUN be S2_ADJ be S2_VERB S2_NOUN S1S2_PROPN\n",
      "Medoid class: neutral\n",
      "entailment       5\n",
      "neutral          2\n",
      "contradiction    1\n",
      "Name: pred_label, dtype: int64\n",
      "------------------\n",
      "Actual Expl: The presence of a black Ginobili jersey on the chair implies that the man is a big sports fan.\n",
      "SVO Structure: S1_Obj imply S1_Subj S2_Subj\n",
      "POS Structure: presence S1_ADJ S1_PROPN S1_PROPN S1_NOUN imply S1_NOUN be S2_ADJ S2_NOUN S2_NOUN\n",
      "Medoid class: entailment\n",
      "entailment    1\n",
      "Name: pred_label, dtype: int64\n",
      "------------------\n",
      "Actual Expl: A boy pushing a girl on a toy SUV implies that the action is taking place inside of a nice house.\n",
      "SVO Structure: S1S2_Subj S1S2_Verb S1S2_Obj imply\n",
      "POS Structure: S1S2_NOUN S1S2_VERB S1S2_NOUN S1S2_NOUN S1S2_PROPN imply action be take place S2_ADV S2_ADJ S2_NOUN\n",
      "Medoid class: entailment\n",
      "entailment    1\n",
      "Name: pred_label, dtype: int64\n",
      "------------------\n",
      "Actual Expl: Just because Laura Bush is at the podium does not mean she is getting ready to address a heated issue.\n",
      "SVO Structure: S2_Subj not mean S2_Verb\n",
      "POS Structure: S1S2_PROPN S1S2_PROPN be S1_NOUN not mean be S2_VERB S2_ADJ S2_VERB S2_ADJ S2_NOUN\n",
      "Medoid class: neutral\n",
      "neutral    1\n",
      "Name: pred_label, dtype: int64\n",
      "------------------\n",
      "Actual Expl: The dog is carrying a ball in its mouth and running down a road covered in leaves.\n",
      "SVO Structure: S1S2_Subj carry S1S2_Verb\n",
      "POS Structure: S1S2_NOUN be S2_VERB S1S2_NOUN S1S2_NOUN S1S2_VERB S1S2_NOUN S1S2_VERB S1_NOUN\n",
      "Medoid class: entailment\n",
      "entailment    1\n",
      "Name: pred_label, dtype: int64\n",
      "------------------\n",
      "Actual Expl: The statement implies that the older man is a woman and sitting in a taxi.\n",
      "SVO Structure: imply S1_Subj S2_Subj S2_Verb\n",
      "POS Structure: statement imply S1S2_ADJ S1_NOUN be S2_NOUN S2_VERB S1S2_NOUN\n",
      "Medoid class: contradiction\n",
      "contradiction    1\n",
      "Name: pred_label, dtype: int64\n",
      "------------------\n",
      "Actual Expl: You can not infer the man was laughing at the man who was stuffing his face.\n",
      "SVO Structure: not infer S1S2_Subj S2_Verb S1S2_Subj S2_Subj S1S2_Verb S1S2_Obj\n",
      "POS Structure: not infer S1S2_NOUN be S1S2_VERB S1S2_NOUN be S1S2_VERB S1S2_NOUN\n",
      "Medoid class: neutral\n",
      "neutral    1\n",
      "Name: pred_label, dtype: int64\n",
      "------------------\n",
      "Actual Expl: The man's clothing and the car's condition implies that he is inspecting the car with the intention of buying it.\n",
      "SVO Structure: S1_Subj S1S2_Subj imply S2_Verb S1S2_Subj\n",
      "POS Structure: S1_NOUN clothing S1S2_NOUN condition imply be S2_VERB S1S2_NOUN intention buy\n",
      "Medoid class: entailment\n",
      "neutral          7\n",
      "entailment       5\n",
      "contradiction    2\n",
      "Neutral          1\n",
      "Name: pred_label, dtype: int64\n"
     ]
    }
   ],
   "source": [
    "for i in range(len(SSD)):\n",
    "    print(\"------------------\")\n",
    "    print(f\"Actual Expl: {gpt_pred.iloc[kmfit.medoid_indices_[i]].pred_explanation}\")\n",
    "    print(f\"SVO Structure: {gpt_pred.iloc[kmfit.medoid_indices_[i]].reduced_expl}\")\n",
    "    print(f\"POS Structure: {gpt_pred.iloc[kmfit.medoid_indices_[i]].pos_expl}\")\n",
    "    print(f\"Medoid class: {gpt_pred.iloc[kmfit.medoid_indices_[i]].pred_label}\")\n",
    "    print(gpt_pred[kmfit.labels_ == i].pred_label.value_counts())"
   ],
   "metadata": {
    "collapsed": false,
    "pycharm": {
     "name": "#%%\n"
    }
   }
  },
  {
   "cell_type": "code",
   "execution_count": 54,
   "outputs": [
    {
     "name": "stdout",
     "output_type": "stream",
     "text": [
      "[\"Dog running indicates that a dog is running; being basically involves running by definition, but 'and' is necessary because the fact that the dog is running was already repeated and the first sentence was incomplete anyway.  Oh, wait, so is the second one.\", 'A lady is a woman.', \"Wearing a gray uniform and cutting something on the ground doesn't necessarily mean the man is a janitor. Wearing white and watching the man in gray doesn't necessarily mean the other man is the superior.\", 'The two people may or may not be a man and wife, and they are not standing at an alter if they are going to a hockey game. Also, the people involved are not man and wife until after they get married, not \"as\" they get married.', 'The first sentence does not imply that the individual is a woman. The first sentence does not imply that the reason the individual is crouched down is for taking a picture.', 'a boy is a person', \"Promoting something could be advocating an idea or encouraging an action. Promoting doesn't have to be selling an item. And if the lady were selling something, it doesn't have to be limited to jewelry.\", 'We have no idea if he is a scientist, he could be anyone, many people use microscopes and wear lab coats. We have no idea if he is looking at a new strain of virus, he could be looking at anything.', 'We have no idea if they are getting ready to open up shop, they could be closing it. We have no idea if it is very famous or not, ti could be any store.', 'A couple are people.', 'A man stands on his tip toes in front of two people is less descriptive way of saying man is standing on his tip toes in front of two people sitting in a car.', 'A crowd of people stand in the street is literally the same as the beginning of the first sentence with only a \"the\" inserted: A crowd of people stand in street in front of a series of white tents.', 'You can not infer they are happy.', \"Just because a man is standing on chair that has a Ginobili jersey on it doesn't mean the man must be a big sports fan. Standing in a cubicle doesn't mean the man is working nor does it imply that he is standing in his own cubicle.\", 'There is no evidence from sentence 1 that the boy was pushing the girl on a toy SUV inside of a nice house.  He might have been pushing her in the park or in the backyard outside.  I he was pushing her inside it could have been in a run down house.', 'Bush could be concluding a speech, not gets ready to begin one. Bush could be speaking about many things or there for a different purpose - not explicitly to make an address. Bush could be discussing issues that are minor or universally agreed upon, not necessarily a heated issue.', 'A dog who is running could be running with a ball in his mouth.  When a dog is running down the road the road could be covered in leaves.  Both are saying the same thing but in a different order.', 'One is either a man or one is a woman but not both at the same time, and one either sits in a green and yellow taxi or one is next to a green and yellow taxi but not both simultaneously.', 'The laughing man may have been laughing about something entirely unrelated to the man stuffing his face.  He may have been laughing at him, but he may have been laughing with him.', \"You can not infer it's a buyer.\"]\n"
     ]
    }
   ],
   "source": [
    "print([gpt_pred.iloc[kmfit.medoid_indices_[i]].Explanation_1 for i in range(len(SSD))])"
   ],
   "metadata": {
    "collapsed": false,
    "pycharm": {
     "name": "#%%\n"
    }
   }
  }
 ],
 "metadata": {
  "kernelspec": {
   "display_name": "Python 3",
   "language": "python",
   "name": "python3"
  },
  "language_info": {
   "codemirror_mode": {
    "name": "ipython",
    "version": 2
   },
   "file_extension": ".py",
   "mimetype": "text/x-python",
   "name": "python",
   "nbconvert_exporter": "python",
   "pygments_lexer": "ipython2",
   "version": "2.7.6"
  }
 },
 "nbformat": 4,
 "nbformat_minor": 0
}