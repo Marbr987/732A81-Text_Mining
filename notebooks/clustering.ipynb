{
 "cells": [
  {
   "cell_type": "code",
   "execution_count": 2,
   "outputs": [
    {
     "name": "stderr",
     "output_type": "stream",
     "text": [
      "/Users/marcbraun/.conda/envs/732A81-Text_Mining/lib/python3.10/site-packages/tqdm/auto.py:22: TqdmWarning: IProgress not found. Please update jupyter and ipywidgets. See https://ipywidgets.readthedocs.io/en/stable/user_install.html\n",
      "  from .autonotebook import tqdm as notebook_tqdm\n"
     ]
    }
   ],
   "source": [
    "import random\n",
    "import pandas as pd\n",
    "import numpy as np\n",
    "import matplotlib.pyplot as plt\n",
    "import os\n",
    "import openai\n",
    "import re\n",
    "import time\n",
    "from scripts.prepare_data_helpers import prepare_examples, create_query\n",
    "import spacy\n",
    "import textacy\n",
    "from dotenv import load_dotenv\n",
    "\n",
    "load_dotenv()\n",
    "nlp = spacy.load('en_core_web_sm')\n",
    "\n",
    "from sklearn.feature_extraction.text import CountVectorizer\n",
    "import sklearn\n",
    "from sklearn import metrics\n",
    "from sklearn.model_selection import train_test_split\n",
    "from sklearn.naive_bayes import GaussianNB, MultinomialNB\n",
    "from sklearn.cluster import KMeans\n",
    "import kmedoids"
   ],
   "metadata": {
    "collapsed": false,
    "pycharm": {
     "name": "#%%\n"
    }
   }
  },
  {
   "cell_type": "markdown",
   "source": [
    "## Prepare Data"
   ],
   "metadata": {
    "collapsed": false,
    "pycharm": {
     "name": "#%% md\n"
    }
   }
  },
  {
   "cell_type": "code",
   "execution_count": 3,
   "outputs": [],
   "source": [
    "train1 = pd.read_csv('../../e-SNLI/dataset/esnli_train_1.csv')\n",
    "train2 = pd.read_csv('../../e-SNLI/dataset/esnli_train_2.csv')\n",
    "train = pd.concat([train1, train2])\n",
    "dev = pd.read_csv('../../e-SNLI/dataset/esnli_dev.csv')\n",
    "test = pd.read_csv('../../e-SNLI/dataset/esnli_test.csv')\n",
    "\n",
    "train = train.dropna(subset=['Sentence1', 'Sentence2', 'Explanation_1'])\n",
    "train = train.reset_index(drop=True)\n",
    "\n",
    "np.random.seed(12345) # seed for numpy package\n",
    "test_indices = list(np.random.choice(test.index.values, size=1000, replace=False))\n",
    "test = test.loc[test_indices]\n",
    "test = test.reset_index(drop=True)"
   ],
   "metadata": {
    "collapsed": false,
    "pycharm": {
     "name": "#%%\n"
    }
   }
  },
  {
   "cell_type": "code",
   "execution_count": 4,
   "outputs": [],
   "source": [
    "gpt_pred = pd.read_csv('../output_data/svo_structure_4.csv', sep=';')\n",
    "# Transform list to single string\n",
    "gpt_pred.reduced_expl = [i.replace(\"'\", \" \").replace(\" \", \"\").strip(\"][\").replace(\",\", \" \") for i in gpt_pred.reduced_expl]\n",
    "gpt_pred.pos_expl = [i.replace(\"'\", \" \").replace(\" \", \"\").strip(\"][\").replace(\",\", \" \") for i in gpt_pred.pos_expl]"
   ],
   "metadata": {
    "collapsed": false,
    "pycharm": {
     "name": "#%%\n"
    }
   }
  },
  {
   "cell_type": "markdown",
   "source": [
    "# Reduced Explanations"
   ],
   "metadata": {
    "collapsed": false,
    "pycharm": {
     "name": "#%% md\n"
    }
   }
  },
  {
   "cell_type": "markdown",
   "source": [
    "## PAM Clustering"
   ],
   "metadata": {
    "collapsed": false,
    "pycharm": {
     "name": "#%% md\n"
    }
   }
  },
  {
   "cell_type": "markdown",
   "source": [
    "### SVO Structure"
   ],
   "metadata": {
    "collapsed": false,
    "pycharm": {
     "name": "#%% md\n"
    }
   }
  },
  {
   "cell_type": "code",
   "execution_count": 5,
   "outputs": [],
   "source": [
    "vectorizer = CountVectorizer(ngram_range=(1, 3))\n",
    "X = vectorizer.fit_transform(gpt_pred.reduced_expl)"
   ],
   "metadata": {
    "collapsed": false,
    "pycharm": {
     "name": "#%%\n"
    }
   }
  },
  {
   "cell_type": "code",
   "execution_count": 28,
   "outputs": [
    {
     "name": "stdout",
     "output_type": "stream",
     "text": [
      "[[0 0 0 ... 0 0 0]\n",
      " [0 0 0 ... 0 0 0]\n",
      " [0 0 0 ... 0 0 0]\n",
      " ...\n",
      " [0 0 0 ... 0 0 0]\n",
      " [0 0 0 ... 0 0 0]\n",
      " [0 0 0 ... 0 0 0]]\n"
     ]
    }
   ],
   "source": [
    "print(X.toarray())"
   ],
   "metadata": {
    "collapsed": false,
    "pycharm": {
     "name": "#%%\n"
    }
   }
  },
  {
   "cell_type": "code",
   "execution_count": 105,
   "outputs": [
    {
     "data": {
      "text/plain": "[<matplotlib.lines.Line2D at 0x19feec910>]"
     },
     "execution_count": 105,
     "metadata": {},
     "output_type": "execute_result"
    },
    {
     "data": {
      "text/plain": "<Figure size 640x480 with 1 Axes>",
      "image/png": "[encoded data removed]"
     },
     "metadata": {},
     "output_type": "display_data"
    }
   ],
   "source": [
    "SSD = list()\n",
    "for k in range(1,21):\n",
    "    km = kmedoids.KMedoids(n_clusters=k, method=\"pam\")\n",
    "    kmfit = km.fit(metrics.pairwise.euclidean_distances(X))\n",
    "    SSD += [kmfit.inertia_]\n",
    "plt.plot(SSD)"
   ],
   "metadata": {
    "collapsed": false,
    "pycharm": {
     "name": "#%%\n"
    }
   }
  },
  {
   "cell_type": "code",
   "execution_count": 106,
   "outputs": [
    {
     "name": "stdout",
     "output_type": "stream",
     "text": [
      "------------------\n",
      "imply\n",
      "Medoid class: entailment\n",
      "entailment    33\n",
      "neutral        3\n",
      "Name: pred_label, dtype: int64\n",
      "------------------\n",
      "not mean\n",
      "Medoid class: neutral\n",
      "neutral          45\n",
      "contradiction    13\n",
      "Name: pred_label, dtype: int64\n",
      "------------------\n",
      "S1_Verb S1_Obj be\n",
      "Medoid class: entailment\n",
      "entailment       24\n",
      "contradiction     7\n",
      "neutral           2\n",
      "Name: pred_label, dtype: int64\n",
      "------------------\n",
      "S2_Verb\n",
      "Medoid class: entailment\n",
      "entailment       72\n",
      "contradiction    70\n",
      "neutral          15\n",
      "Name: pred_label, dtype: int64\n",
      "------------------\n",
      "S1_Subj S1_Verb imply\n",
      "Medoid class: entailment\n",
      "entailment       15\n",
      "contradiction     5\n",
      "Name: pred_label, dtype: int64\n",
      "------------------\n",
      "be S2_Verb S2_Obj\n",
      "Medoid class: entailment\n",
      "entailment       21\n",
      "contradiction     5\n",
      "neutral           1\n",
      "Name: pred_label, dtype: int64\n",
      "------------------\n",
      "be not same\n",
      "Medoid class: contradiction\n",
      "contradiction    32\n",
      "Name: pred_label, dtype: int64\n",
      "------------------\n",
      "imply S1S2_Subj S2_Verb S2_Obj\n",
      "Medoid class: contradiction\n",
      "entailment       13\n",
      "neutral           6\n",
      "contradiction     3\n",
      "Name: pred_label, dtype: int64\n",
      "------------------\n",
      "be different\n",
      "Medoid class: contradiction\n",
      "contradiction    47\n",
      "neutral           1\n",
      "Name: pred_label, dtype: int64\n",
      "------------------\n",
      "S2_Subj not mean S2_Verb S2_Obj\n",
      "Medoid class: neutral\n",
      "neutral    13\n",
      "Name: pred_label, dtype: int64\n",
      "------------------\n",
      "S1S2_Subj S1_Verb not imply S2_Verb S2_Obj\n",
      "Medoid class: neutral\n",
      "contradiction    5\n",
      "neutral          4\n",
      "Name: pred_label, dtype: int64\n",
      "------------------\n",
      "imply S1S2_Subj S1S2_Verb\n",
      "Medoid class: entailment\n",
      "entailment       39\n",
      "neutral           1\n",
      "contradiction     1\n",
      "Name: pred_label, dtype: int64\n",
      "------------------\n",
      "be\n",
      "Medoid class: entailment\n",
      "entailment       71\n",
      "contradiction    32\n",
      "neutral          10\n",
      "Name: pred_label, dtype: int64\n",
      "------------------\n",
      "S1_Verb S2_Verb S2_Obj be different\n",
      "Medoid class: contradiction\n",
      "contradiction    13\n",
      "entailment        2\n",
      "Name: pred_label, dtype: int64\n",
      "------------------\n",
      "S1S2_Subj not walk S1_Verb S2_Verb same\n",
      "Medoid class: contradiction\n",
      "contradiction    14\n",
      "Name: pred_label, dtype: int64\n",
      "------------------\n",
      "S1_Subj be\n",
      "Medoid class: contradiction\n",
      "entailment       29\n",
      "contradiction    14\n",
      "neutral           7\n",
      "Name: pred_label, dtype: int64\n",
      "------------------\n",
      "be be\n",
      "Medoid class: entailment\n",
      "entailment       17\n",
      "neutral           5\n",
      "contradiction     3\n",
      "Name: pred_label, dtype: int64\n",
      "------------------\n",
      "imply S2_Subj S2_Verb S2_Obj\n",
      "Medoid class: entailment\n",
      "entailment       21\n",
      "contradiction     9\n",
      "neutral           9\n",
      "Name: pred_label, dtype: int64\n",
      "------------------\n",
      "\n",
      "Medoid class: neutral\n",
      "entailment       79\n",
      "contradiction    76\n",
      "neutral          39\n",
      "Neutral           1\n",
      "Name: pred_label, dtype: int64\n",
      "------------------\n",
      "imply S1_Subj\n",
      "Medoid class: contradiction\n",
      "entailment       47\n",
      "neutral           3\n",
      "contradiction     3\n",
      "Name: pred_label, dtype: int64\n"
     ]
    }
   ],
   "source": [
    "for i in range(len(SSD)):\n",
    "    print(\"------------------\")\n",
    "    print(gpt_pred.iloc[kmfit.medoid_indices_[i]].reduced_expl)\n",
    "    print(f\"Medoid class: {gpt_pred.iloc[kmfit.medoid_indices_[i]].pred_label}\")\n",
    "    print(gpt_pred[kmfit.labels_ == i].pred_label.value_counts())"
   ],
   "metadata": {
    "collapsed": false,
    "pycharm": {
     "name": "#%%\n"
    }
   }
  },
  {
   "cell_type": "markdown",
   "source": [
    "### SVO Structure"
   ],
   "metadata": {
    "collapsed": false,
    "pycharm": {
     "name": "#%% md\n"
    }
   }
  },
  {
   "cell_type": "code",
   "execution_count": 107,
   "outputs": [],
   "source": [
    "vectorizer = CountVectorizer(ngram_range=(1, 3))\n",
    "X = vectorizer.fit_transform(gpt_pred.pos_expl)"
   ],
   "metadata": {
    "collapsed": false,
    "pycharm": {
     "name": "#%%\n"
    }
   }
  },
  {
   "cell_type": "code",
   "execution_count": 108,
   "outputs": [
    {
     "name": "stdout",
     "output_type": "stream",
     "text": [
      "[[0 0 0 ... 0 0 0]\n",
      " [0 0 0 ... 0 0 0]\n",
      " [0 0 0 ... 0 0 0]\n",
      " ...\n",
      " [0 0 0 ... 0 0 0]\n",
      " [0 0 0 ... 0 0 0]\n",
      " [0 0 0 ... 0 0 0]]\n"
     ]
    }
   ],
   "source": [
    "print(X.toarray())"
   ],
   "metadata": {
    "collapsed": false,
    "pycharm": {
     "name": "#%%\n"
    }
   }
  },
  {
   "cell_type": "code",
   "execution_count": 109,
   "outputs": [
    {
     "data": {
      "text/plain": "[<matplotlib.lines.Line2D at 0x19f8db370>]"
     },
     "execution_count": 109,
     "metadata": {},
     "output_type": "execute_result"
    },
    {
     "data": {
      "text/plain": "<Figure size 640x480 with 1 Axes>",
      "image/png": "[encoded data removed]"
     },
     "metadata": {},
     "output_type": "display_data"
    }
   ],
   "source": [
    "SSD = list()\n",
    "for k in range(1,21):\n",
    "    km = kmedoids.KMedoids(n_clusters=k, method=\"pam\")\n",
    "    kmfit = km.fit(metrics.pairwise.euclidean_distances(X))\n",
    "    SSD += [kmfit.inertia_]\n",
    "plt.plot(SSD)"
   ],
   "metadata": {
    "collapsed": false,
    "pycharm": {
     "name": "#%%\n"
    }
   }
  },
  {
   "cell_type": "code",
   "execution_count": 112,
   "outputs": [
    {
     "name": "stdout",
     "output_type": "stream",
     "text": [
      "------------------\n",
      "Actual Expl: The crowd could be watching the duo in blue dance on a stage or sitting in a lounge.\n",
      "SVO Structure: S1_Subj watch S1_Verb S1_Obj S2_Verb\n",
      "POS Structure: S1_NOUN be S1_VERB S1_NOUN S1_ADJ S1_NOUN S1_NOUN S2_VERB S2_NOUN\n",
      "Medoid class: neutral\n",
      "entailment       16\n",
      "contradiction     7\n",
      "neutral           2\n",
      "Name: pred_label, dtype: int64\n",
      "------------------\n",
      "Actual Expl: A group of cyclists at a race implies that they are racing.\n",
      "SVO Structure: S2_Subj S2_Verb imply S2_Verb\n",
      "POS Structure: S1S2_NOUN S1S2_NOUN S1S2_NOUN imply be S1S2_NOUN\n",
      "Medoid class: entailment\n",
      "entailment       20\n",
      "contradiction     1\n",
      "neutral           1\n",
      "Name: pred_label, dtype: int64\n",
      "------------------\n",
      "Actual Expl: Pitching the ball is the same as throwing the ball.\n",
      "SVO Structure: S1_Verb S1S2_Obj be same S2_Verb S1S2_Obj\n",
      "POS Structure: S1_VERB S1S2_NOUN be S2_VERB S1S2_NOUN\n",
      "Medoid class: entailment\n",
      "entailment       41\n",
      "neutral          23\n",
      "contradiction    12\n",
      "Name: pred_label, dtype: int64\n",
      "------------------\n",
      "Actual Expl: A basketball player cannot be playing football.\n",
      "SVO Structure: not play S2_Verb S2_Obj\n",
      "POS Structure: S1_NOUN S1_NOUN not be S2_VERB S2_NOUN\n",
      "Medoid class: contradiction\n",
      "contradiction    15\n",
      "neutral          13\n",
      "entailment        1\n",
      "Name: pred_label, dtype: int64\n",
      "------------------\n",
      "Actual Expl: The two men are fixing a bicycle.\n",
      "SVO Structure: S1S2_Subj fix S1S2_Verb S1S2_Obj\n",
      "POS Structure: S1S2_NOUN be S1S2_VERB S1S2_NOUN\n",
      "Medoid class: entailment\n",
      "entailment       85\n",
      "neutral          23\n",
      "contradiction    22\n",
      "Neutral           1\n",
      "Name: pred_label, dtype: int64\n",
      "------------------\n",
      "Actual Expl: A man cannot be walking out of the water and laying on the beach at the same time.\n",
      "SVO Structure: S1S2_Subj not walk S1_Verb S2_Verb same\n",
      "POS Structure: S1S2_NOUN not be S1_VERB S1_NOUN S2_VERB S2_NOUN time\n",
      "Medoid class: contradiction\n",
      "contradiction    29\n",
      "Name: pred_label, dtype: int64\n",
      "------------------\n",
      "Actual Expl: A couple cannot be walking and sitting at the same time.\n",
      "SVO Structure: S2_Subj not walk S2_Verb same\n",
      "POS Structure: S1S2_NOUN not be S1_VERB S2_VERB time\n",
      "Medoid class: contradiction\n",
      "contradiction    18\n",
      "Name: pred_label, dtype: int64\n",
      "------------------\n",
      "Actual Expl: A guitar is an instrument.\n",
      "SVO Structure: be\n",
      "POS Structure: S1_NOUN be S2_NOUN\n",
      "Medoid class: entailment\n",
      "entailment       144\n",
      "contradiction     61\n",
      "neutral           44\n",
      "Name: pred_label, dtype: int64\n",
      "------------------\n",
      "Actual Expl: The statement implies that two girls are in a race.\n",
      "SVO Structure: imply S1_Subj S1_Verb\n",
      "POS Structure: statement imply S1S2_NOUN be S1S2_VERB\n",
      "Medoid class: entailment\n",
      "entailment       35\n",
      "contradiction     8\n",
      "Name: pred_label, dtype: int64\n",
      "------------------\n",
      "Actual Expl: Riding a motorcycle and sparring in the gym are different activities.\n",
      "SVO Structure: S1_Verb S1_Obj S2_Verb be different\n",
      "POS Structure: S1_VERB S1_NOUN S2_VERB S2_NOUN be different activity\n",
      "Medoid class: contradiction\n",
      "contradiction    20\n",
      "Name: pred_label, dtype: int64\n",
      "------------------\n",
      "Actual Expl: Staring at something is looking at something.\n",
      "SVO Structure: S1_Verb look S2_Verb\n",
      "POS Structure: S1_VERB be S2_VERB\n",
      "Medoid class: entailment\n",
      "entailment       21\n",
      "neutral          11\n",
      "contradiction    11\n",
      "Name: pred_label, dtype: int64\n",
      "------------------\n",
      "Actual Expl: Fencing and dodgeball are different sports.\n",
      "SVO Structure: S2_Obj be different\n",
      "POS Structure: S1_NOUN S2_NOUN be different S1_NOUN\n",
      "Medoid class: contradiction\n",
      "contradiction    22\n",
      "neutral           1\n",
      "Name: pred_label, dtype: int64\n",
      "------------------\n",
      "Actual Expl: Not all farms have cows.\n",
      "SVO Structure: have\n",
      "POS Structure: not S2_NOUN S1_NOUN\n",
      "Medoid class: neutral\n",
      "contradiction    27\n",
      "neutral          16\n",
      "entailment        1\n",
      "Name: pred_label, dtype: int64\n",
      "------------------\n",
      "Actual Expl: Two children are sitting together on a white blanket.\n",
      "SVO Structure: S1_Subj sit S1_Verb\n",
      "POS Structure: S1S2_NOUN be S1_VERB S1_ADJ S1_NOUN\n",
      "Medoid class: entailment\n",
      "entailment       32\n",
      "contradiction    11\n",
      "neutral           5\n",
      "Name: pred_label, dtype: int64\n",
      "------------------\n",
      "Actual Expl: If the two people are sitting in a car, then they are in front of the man.\n",
      "SVO Structure: be be S1S2_Subj\n",
      "POS Structure: S1S2_NOUN be S1_VERB S1_NOUN be S1S2_NOUN\n",
      "Medoid class: entailment\n",
      "entailment       28\n",
      "contradiction     8\n",
      "neutral           2\n",
      "Name: pred_label, dtype: int64\n",
      "------------------\n",
      "Actual Expl: The dog is running in a field, not going to the vet.\n",
      "SVO Structure: S1S2_Subj run S1_Verb S2_Verb\n",
      "POS Structure: S1S2_NOUN be S1_VERB S1_NOUN not S2_VERB S2_NOUN\n",
      "Medoid class: contradiction\n",
      "contradiction    16\n",
      "neutral           7\n",
      "entailment        1\n",
      "Name: pred_label, dtype: int64\n",
      "------------------\n",
      "Actual Expl: Looking through microscopes is not the same as watching TV.\n",
      "SVO Structure: S1_Verb be not same S2_Verb S2_Obj\n",
      "POS Structure: S1_VERB S1_NOUN be not S2_VERB S2_NOUN\n",
      "Medoid class: contradiction\n",
      "contradiction    19\n",
      "entailment        5\n",
      "neutral           1\n",
      "Name: pred_label, dtype: int64\n",
      "------------------\n",
      "Actual Expl: The men are posing behind a cash register.\n",
      "SVO Structure: S1S2_Subj pose S1S2_Verb\n",
      "POS Structure: S1S2_NOUN be S1S2_VERB S1_NOUN S1_NOUN\n",
      "Medoid class: entailment\n",
      "entailment       25\n",
      "contradiction    12\n",
      "neutral           4\n",
      "Name: pred_label, dtype: int64\n",
      "------------------\n",
      "Actual Expl: A mechanic would be performing auto repair.\n",
      "SVO Structure: perform S1_Verb S1_Obj\n",
      "POS Structure: S2_NOUN be S1_VERB S1_NOUN S1_NOUN\n",
      "Medoid class: entailment\n",
      "entailment       24\n",
      "contradiction    14\n",
      "neutral           7\n",
      "Name: pred_label, dtype: int64\n",
      "------------------\n",
      "Actual Expl: The man of the cloth is not at the park.\n",
      "SVO Structure: S1_Subj be not\n",
      "POS Structure: S1_NOUN S1_NOUN be not S2_NOUN\n",
      "Medoid class: contradiction\n",
      "contradiction    19\n",
      "neutral           4\n",
      "entailment        4\n",
      "Name: pred_label, dtype: int64\n"
     ]
    }
   ],
   "source": [
    "for i in range(len(SSD)):\n",
    "    print(\"------------------\")\n",
    "    print(f\"Actual Expl: {gpt_pred.iloc[kmfit.medoid_indices_[i]].pred_explanation}\")\n",
    "    print(f\"SVO Structure: {gpt_pred.iloc[kmfit.medoid_indices_[i]].reduced_expl}\")\n",
    "    print(f\"POS Structure: {gpt_pred.iloc[kmfit.medoid_indices_[i]].pos_expl}\")\n",
    "    print(f\"Medoid class: {gpt_pred.iloc[kmfit.medoid_indices_[i]].pred_label}\")\n",
    "    print(gpt_pred[kmfit.labels_ == i].pred_label.value_counts())"
   ],
   "metadata": {
    "collapsed": false,
    "pycharm": {
     "name": "#%%\n"
    }
   }
  },
  {
   "cell_type": "markdown",
   "source": [
    "# Reduced Gold Explanations"
   ],
   "metadata": {
    "collapsed": false,
    "pycharm": {
     "name": "#%% md\n"
    }
   }
  },
  {
   "cell_type": "markdown",
   "source": [
    "## PAM Clustering"
   ],
   "metadata": {
    "collapsed": false,
    "pycharm": {
     "name": "#%% md\n"
    }
   }
  },
  {
   "cell_type": "markdown",
   "source": [
    "### SVO Structure"
   ],
   "metadata": {
    "collapsed": false,
    "pycharm": {
     "name": "#%% md\n"
    }
   }
  },
  {
   "cell_type": "code",
   "execution_count": 21,
   "outputs": [],
   "source": [
    "vectorizer = CountVectorizer(ngram_range=(1, 3))\n",
    "X = vectorizer.fit_transform(gpt_pred.reduced_gold_expl)"
   ],
   "metadata": {
    "collapsed": false,
    "pycharm": {
     "name": "#%%\n"
    }
   }
  },
  {
   "cell_type": "code",
   "execution_count": 22,
   "outputs": [
    {
     "name": "stdout",
     "output_type": "stream",
     "text": [
      "[[0 0 0 ... 0 0 0]\n",
      " [0 0 0 ... 0 0 0]\n",
      " [0 0 0 ... 0 0 0]\n",
      " ...\n",
      " [0 0 0 ... 0 0 0]\n",
      " [0 0 0 ... 0 0 0]\n",
      " [0 0 0 ... 0 0 0]]\n"
     ]
    }
   ],
   "source": [
    "print(X.toarray())"
   ],
   "metadata": {
    "collapsed": false,
    "pycharm": {
     "name": "#%%\n"
    }
   }
  },
  {
   "cell_type": "code",
   "execution_count": 26,
   "outputs": [
    {
     "data": {
      "text/plain": "[<matplotlib.lines.Line2D at 0x1a38e5810>]"
     },
     "execution_count": 26,
     "metadata": {},
     "output_type": "execute_result"
    },
    {
     "data": {
      "text/plain": "<Figure size 640x480 with 1 Axes>",
      "image/png": "[encoded data removed]"
     },
     "metadata": {},
     "output_type": "display_data"
    }
   ],
   "source": [
    "SSD = list()\n",
    "for k in range(1,41):\n",
    "    km = kmedoids.KMedoids(n_clusters=k, method=\"pam\")\n",
    "    kmfit = km.fit(metrics.pairwise.euclidean_distances(X))\n",
    "    SSD += [kmfit.inertia_]\n",
    "plt.plot(SSD)"
   ],
   "metadata": {
    "collapsed": false,
    "pycharm": {
     "name": "#%%\n"
    }
   }
  },
  {
   "cell_type": "code",
   "execution_count": 27,
   "outputs": [
    {
     "name": "stdout",
     "output_type": "stream",
     "text": [
      "------------------\n",
      "Actual Expl: Answer; The third boy is the another boy\n",
      "SVO Structure: ['S1S2_Subj', 'S1S2_Subj', 'S1S2_Subj', 'S1S2_Subj', 'be', 'S1S2_Subj', 'S1S2_Subj', 'S1S2_Subj', 'S1S2_Subj']\n",
      "POS Structure: ['answer', 'S1S2_NOUN', 'be', 'S1S2_NOUN']\n",
      "Medoid class: entailment\n",
      "entailment    1\n",
      "Name: pred_label, dtype: int64\n",
      "------------------\n",
      "Actual Expl: A man is a grown adult human being while a baby is an immature human being.\n",
      "SVO Structure: ['S1_Subj', 'be', 'S2_Subj', 'be']\n",
      "POS Structure: ['S1_NOUN', 'be', 'grown', 'adult', 'human', 'S2_NOUN', 'be', 'immature', 'human']\n",
      "Medoid class: contradiction\n",
      "entailment       9\n",
      "contradiction    5\n",
      "neutral          3\n",
      "Name: pred_label, dtype: int64\n",
      "------------------\n",
      "Actual Expl: There are other reasons a man can put on gloves besides cold weather.\n",
      "SVO Structure: ['be', 'S1S2_Subj', 'S1S2_Verb']\n",
      "POS Structure: ['be', 'reason', 'S1S2_NOUN', 'S1_NOUN', 'S2_ADJ', 'S2_NOUN']\n",
      "Medoid class: neutral\n",
      "entailment       23\n",
      "neutral           7\n",
      "contradiction     1\n",
      "Name: pred_label, dtype: int64\n",
      "------------------\n",
      "Actual Expl: Just because there is a nighttime scene of a restaurant doesn't mean the restaurant is about to close\n",
      "SVO Structure: ['not', 'mean']\n",
      "POS Structure: ['be', 'S1_ADJ', 'S1_NOUN', 'S1S2_NOUN', 'not', 'mean', 'S1S2_NOUN', 'be', 'S2_VERB']\n",
      "Medoid class: neutral\n",
      "contradiction    37\n",
      "neutral          30\n",
      "entailment       24\n",
      "Name: pred_label, dtype: int64\n",
      "------------------\n",
      "Actual Expl: You can hold the handles on a two wheeled object and not be riding a bike.\n",
      "SVO Structure: ['hold', 'S2_Verb', 'S2_Obj']\n",
      "POS Structure: ['S1_VERB', 'S1_NOUN', 'S1_ADJ', 'S1_NOUN', 'not', 'be', 'S2_VERB', 'S2_NOUN']\n",
      "Medoid class: neutral\n",
      "entailment       13\n",
      "contradiction    12\n",
      "neutral           7\n",
      "Name: pred_label, dtype: int64\n",
      "------------------\n",
      "Actual Expl: talking doesn't have to be discussing peace treaties\n",
      "SVO Structure: ['not', 'have']\n",
      "POS Structure: ['talking', 'not', 'be', 'S2_VERB', 'S2_NOUN', 'S2_NOUN']\n",
      "Medoid class: neutral\n",
      "entailment       10\n",
      "neutral           5\n",
      "contradiction     4\n",
      "Name: pred_label, dtype: int64\n",
      "------------------\n",
      "Actual Expl: Not all children are insane.\n",
      "SVO Structure: ['S1_Subj', 'be']\n",
      "POS Structure: ['not', 'S1S2_NOUN', 'be', 'S2_ADJ']\n",
      "Medoid class: neutral\n",
      "entailment       40\n",
      "contradiction    18\n",
      "neutral           7\n",
      "Name: pred_label, dtype: int64\n",
      "------------------\n",
      "Actual Expl: Holding implies the use of hands.\n",
      "SVO Structure: ['imply']\n",
      "POS Structure: ['holding', 'imply', 'use', 'S2_NOUN']\n",
      "Medoid class: entailment\n",
      "entailment       21\n",
      "contradiction     4\n",
      "neutral           2\n",
      "Name: pred_label, dtype: int64\n",
      "------------------\n",
      "Actual Expl: The dog either runs or is laying down, not both.\n",
      "SVO Structure: ['run', 'S1_Verb', 'S2_Verb']\n",
      "POS Structure: ['dog', 'S1_VERB', 'be', 'S2_VERB', 'not']\n",
      "Medoid class: contradiction\n",
      "contradiction    21\n",
      "entailment        4\n",
      "neutral           2\n",
      "Name: pred_label, dtype: int64\n",
      "------------------\n",
      "Actual Expl: Woman in a green flowered dress is a lady in a dress.\n",
      "SVO Structure: ['S1_Subj', 'be', 'S2_Subj']\n",
      "POS Structure: ['S1_NOUN', 'S1_ADJ', 'S1_VERB', 'S1S2_NOUN', 'be', 'S2_NOUN', 'S1S2_NOUN']\n",
      "Medoid class: entailment\n",
      "entailment       10\n",
      "contradiction     2\n",
      "neutral           1\n",
      "Name: pred_label, dtype: int64\n",
      "------------------\n",
      "Actual Expl: Two dogs run together means two dogs are running.\n",
      "SVO Structure: ['S1S2_Subj', 'run', 'S1S2_Verb', 'S1S2_Subj', 'run', 'S1S2_Verb']\n",
      "POS Structure: ['S1S2_NOUN', 'S1S2_VERB', 'mean', 'S1S2_NOUN', 'be', 'S1S2_VERB']\n",
      "Medoid class: entailment\n",
      "entailment    2\n",
      "Name: pred_label, dtype: int64\n",
      "------------------\n",
      "Actual Expl: A house's flower garden is not on a street.\n",
      "SVO Structure: ['be', 'not']\n",
      "POS Structure: ['S1_NOUN', 'S1_NOUN', 'S1_NOUN', 'be', 'not', 'S2_NOUN']\n",
      "Medoid class: contradiction\n",
      "contradiction    24\n",
      "entailment        6\n",
      "neutral           3\n",
      "Name: pred_label, dtype: int64\n",
      "------------------\n",
      "Actual Expl: Playing with an art display does not imply swearing at an art display.\n",
      "SVO Structure: ['S1_Verb', 'not', 'imply', 'S2_Verb']\n",
      "POS Structure: ['S1_VERB', 'S1S2_NOUN', 'S1S2_NOUN', 'not', 'imply', 'S2_VERB', 'S1S2_NOUN', 'S1S2_NOUN']\n",
      "Medoid class: neutral\n",
      "neutral          7\n",
      "entailment       3\n",
      "contradiction    2\n",
      "Name: pred_label, dtype: int64\n",
      "------------------\n",
      "Actual Expl: The man can't be playing billiards and checkers at the same time.\n",
      "SVO Structure: ['S1S2_Subj', 'not', 'play', 'S1S2_Verb', 'S1_Obj', 'S2_Obj', 'same']\n",
      "POS Structure: ['S1S2_NOUN', 'not', 'be', 'S1S2_VERB', 'S1_NOUN', 'S2_NOUN', 'time']\n",
      "Medoid class: contradiction\n",
      "contradiction    8\n",
      "Name: pred_label, dtype: int64\n",
      "------------------\n",
      "Actual Expl: Girl, is a rephrasing of young girl.  A bikini is a bathing suit.\n",
      "SVO Structure: ['S1_Subj', 'be', 'S1_Subj', 'be']\n",
      "POS Structure: ['S1S2_NOUN', 'be', 'rephrasing', 'S1_ADJ', 'S1S2_NOUN', ' ', 'S1_NOUN', 'be', 'S2_NOUN', 'S2_NOUN']\n",
      "Medoid class: entailment\n",
      "entailment       7\n",
      "contradiction    2\n",
      "neutral          1\n",
      "Name: pred_label, dtype: int64\n",
      "------------------\n",
      "Actual Expl: A dog walking in shallow water must be walking outside.\n",
      "SVO Structure: ['S1S2_Subj', 'walk', 'S1S2_Verb', 'walk', 'S1S2_Verb']\n",
      "POS Structure: ['S1S2_NOUN', 'S1S2_VERB', 'S1_ADJ', 'S1_NOUN', 'be', 'S1S2_VERB', 'S2_ADP']\n",
      "Medoid class: entailment\n",
      "entailment       4\n",
      "contradiction    3\n",
      "Name: pred_label, dtype: int64\n",
      "------------------\n",
      "Actual Expl: Nobody can be sleeping while drinking coffee.\n",
      "SVO Structure: ['sleep', 'S1_Verb', 'S2_Verb', 'S2_Obj']\n",
      "POS Structure: ['be', 'S1_VERB', 'S2_VERB', 'S2_NOUN']\n",
      "Medoid class: contradiction\n",
      "contradiction    10\n",
      "entailment        2\n",
      "neutral           2\n",
      "Name: pred_label, dtype: int64\n",
      "------------------\n",
      "Actual Expl: Not all rugby games are the championship game.\n",
      "SVO Structure: ['S2_Obj', 'be']\n",
      "POS Structure: ['not', 'S1S2_NOUN', 'S1S2_NOUN', 'be', 'S2_NOUN', 'S1S2_NOUN']\n",
      "Medoid class: neutral\n",
      "entailment       10\n",
      "contradiction     9\n",
      "neutral           1\n",
      "Name: pred_label, dtype: int64\n",
      "------------------\n",
      "Actual Expl: A black man is a man.\n",
      "SVO Structure: ['S1S2_Subj', 'be', 'S1S2_Subj']\n",
      "POS Structure: ['S1_ADJ', 'S1S2_NOUN', 'be', 'S1S2_NOUN']\n",
      "Medoid class: entailment\n",
      "entailment       19\n",
      "contradiction     4\n",
      "Name: pred_label, dtype: int64\n",
      "------------------\n",
      "Actual Expl: The woman may not be necessarily tall.\n",
      "SVO Structure: ['S1_Subj', 'not', 'be']\n",
      "POS Structure: ['S1_NOUN', 'not', 'be', 'necessarily', 'S2_ADJ']\n",
      "Medoid class: neutral\n",
      "contradiction    23\n",
      "neutral           5\n",
      "entailment        3\n",
      "Name: pred_label, dtype: int64\n",
      "------------------\n",
      "Actual Expl: A person usually wouldn't be smiling while writing the words 'sad', 'depressed', and 'hatred'.\n",
      "SVO Structure: ['not', 'smile', 'S2_Verb', 'S1_Subj', 'S1_Verb', 'S1_Verb', 'S1_Verb', 'S1_Verb', 'S1_Verb', 'S1_Verb']\n",
      "POS Structure: ['person', 'usually', 'not', 'be', 'S2_VERB', 'S1_VERB', 'S1_NOUN', 'S1_ADJ', 'S1_ADJ', 'S1_NOUN']\n",
      "Medoid class: contradiction\n",
      "contradiction    1\n",
      "Name: pred_label, dtype: int64\n",
      "------------------\n",
      "Actual Expl: Just because the woman is staring in to the right does not mean she is looking at a dog.\n",
      "SVO Structure: ['S1S2_Subj', 'S1_Verb', 'not', 'mean', 'S2_Verb']\n",
      "POS Structure: ['S1S2_NOUN', 'be', 'S1_VERB', 'S1_NOUN', 'not', 'mean', 'be', 'S2_VERB', 'S2_NOUN']\n",
      "Medoid class: neutral\n",
      "entailment    6\n",
      "neutral       4\n",
      "Name: pred_label, dtype: int64\n",
      "------------------\n",
      "Actual Expl: We have no idea if he is at the beach or somewhere else. there are alot of places with sandy water.\n",
      "SVO Structure: ['be', 'be']\n",
      "POS Structure: ['idea', 'be', 'S2_NOUN', 'be', 'alot', 'place', 'S1_ADJ', 'S1_NOUN']\n",
      "Medoid class: neutral\n",
      "entailment       19\n",
      "contradiction     7\n",
      "neutral           4\n",
      "Name: pred_label, dtype: int64\n",
      "------------------\n",
      "Actual Expl: The subject is either a boy or girl.\n",
      "SVO Structure: ['be', 'S1_Subj', 'S2_Subj']\n",
      "POS Structure: ['subject', 'be', 'S1_NOUN', 'S2_NOUN']\n",
      "Medoid class: contradiction\n",
      "contradiction    10\n",
      "entailment        4\n",
      "neutral           1\n",
      "Name: pred_label, dtype: int64\n",
      "------------------\n",
      "Actual Expl: Catches some air on fresh powder is a way of saying snowboarding.\n",
      "SVO Structure: ['S1_Verb', 'S1_Obj', 'be']\n",
      "POS Structure: ['S1_VERB', 'S1_NOUN', 'S1_ADJ', 'S1_NOUN', 'be', 'way', 'say', 'S2_VERB']\n",
      "Medoid class: entailment\n",
      "entailment       26\n",
      "contradiction    12\n",
      "neutral           4\n",
      "Name: pred_label, dtype: int64\n",
      "------------------\n",
      "Actual Expl: The men cannot be sitting and standing simultaneously.\n",
      "SVO Structure: ['S1S2_Subj', 'not', 'sit', 'S2_Verb', 'S1_Verb']\n",
      "POS Structure: ['S1S2_NOUN', 'not', 'be', 'S2_VERB', 'S1_VERB', 'simultaneously']\n",
      "Medoid class: contradiction\n",
      "contradiction    7\n",
      "Name: pred_label, dtype: int64\n",
      "------------------\n",
      "Actual Expl: Standing and dancing are two different actions\n",
      "SVO Structure: ['be', 'different']\n",
      "POS Structure: ['standing', 'dancing', 'be', 'different', 'action']\n",
      "Medoid class: contradiction\n",
      "contradiction    10\n",
      "entailment        1\n",
      "Name: pred_label, dtype: int64\n",
      "------------------\n",
      "Actual Expl: A dog about to jump need not necessarily be outside.\n",
      "SVO Structure: ['not', 'be']\n",
      "POS Structure: ['S1S2_NOUN', 'S1_VERB', 'need', 'not', 'necessarily', 'be', 'S2_ADJ']\n",
      "Medoid class: neutral\n",
      "contradiction    26\n",
      "entailment        3\n",
      "neutral           2\n",
      "Name: pred_label, dtype: int64\n",
      "------------------\n",
      "Actual Expl: Walking towards is the same as walking in a direction.\n",
      "SVO Structure: ['S1S2_Verb', 'be', 'same', 'S1S2_Verb']\n",
      "POS Structure: ['S1S2_VERB', 'be', 'S1S2_VERB', 'S2_NOUN']\n",
      "Medoid class: entailment\n",
      "entailment       3\n",
      "contradiction    1\n",
      "Name: pred_label, dtype: int64\n",
      "------------------\n",
      "Actual Expl: Cyclists that are racing would be at a race.\n",
      "SVO Structure: ['be', 'S2_Verb', 'be', 'S2_Verb']\n",
      "POS Structure: ['S1S2_NOUN', 'be', 'S1S2_NOUN', 'be', 'S1S2_NOUN']\n",
      "Medoid class: entailment\n",
      "entailment       7\n",
      "contradiction    2\n",
      "Name: pred_label, dtype: int64\n",
      "------------------\n",
      "Actual Expl: The woman can't be walking while running.\n",
      "SVO Structure: ['S1S2_Subj', 'not', 'walk', 'S1_Verb', 'S2_Verb']\n",
      "POS Structure: ['S1S2_NOUN', 'not', 'be', 'S1_VERB', 'S2_VERB']\n",
      "Medoid class: contradiction\n",
      "contradiction    10\n",
      "Name: pred_label, dtype: int64\n",
      "------------------\n",
      "Actual Expl: A dog and a cow are inside the fence, and the fence is outside.\n",
      "SVO Structure: ['S1_Subj', 'be', 'be']\n",
      "POS Structure: ['S1S2_NOUN', 'S1S2_NOUN', 'be', 'S1_ADP', 'S1_NOUN', 'S1_NOUN', 'be', 'S2_ADJ']\n",
      "Medoid class: entailment\n",
      "entailment       8\n",
      "contradiction    3\n",
      "Name: pred_label, dtype: int64\n",
      "------------------\n",
      "Actual Expl: Poking a long stick implies holding a stick\n",
      "SVO Structure: ['S2_Obj', 'imply', 'S2_Verb', 'S2_Obj']\n",
      "POS Structure: ['S1_VERB', 'S1_ADJ', 'S1S2_NOUN', 'imply', 'S2_VERB', 'S1S2_NOUN']\n",
      "Medoid class: entailment\n",
      "entailment       8\n",
      "contradiction    1\n",
      "Name: pred_label, dtype: int64\n",
      "------------------\n",
      "Actual Expl: There’s no way of knowing that the couple just got married.\n",
      "SVO Structure: ['S2_Subj', 'S2_Verb']\n",
      "POS Structure: ['way', 'know', 'S1S2_NOUN', 'S2_AUX', 'S2_VERB']\n",
      "Medoid class: neutral\n",
      "entailment       47\n",
      "contradiction    29\n",
      "neutral          20\n",
      "Name: pred_label, dtype: int64\n",
      "------------------\n",
      "Actual Expl: Just because she is digging in the ground does not mean she is looking for gold.\n",
      "SVO Structure: ['S1S2_Verb', 'not', 'mean']\n",
      "POS Structure: ['be', 'S1S2_NOUN', 'S1S2_NOUN', 'not', 'mean', 'be', 'look', 'S2_NOUN']\n",
      "Medoid class: neutral\n",
      "entailment       5\n",
      "neutral          4\n",
      "contradiction    3\n",
      "Name: pred_label, dtype: int64\n",
      "------------------\n",
      "Actual Expl: Dumping soil doesn't mean they are leveling the area or building a basketball court.\n",
      "SVO Structure: ['S1_Verb', 'S1_Obj', 'not', 'mean']\n",
      "POS Structure: ['S1_VERB', 'S1_NOUN', 'not', 'mean', 'be', 'S2_VERB', 'S2_NOUN', 'build', 'S2_NOUN', 'S2_NOUN']\n",
      "Medoid class: neutral\n",
      "entailment       5\n",
      "contradiction    4\n",
      "neutral          3\n",
      "Name: pred_label, dtype: int64\n",
      "------------------\n",
      "Actual Expl: You can not infer he is in the sand.\n",
      "SVO Structure: ['not', 'infer']\n",
      "POS Structure: ['not', 'infer', 'be', 'S2_NOUN']\n",
      "Medoid class: neutral\n",
      "entailment       9\n",
      "neutral          8\n",
      "contradiction    6\n",
      "Neutral          1\n",
      "Name: pred_label, dtype: int64\n",
      "------------------\n",
      "Actual Expl: Blue and red are separate colors.\n",
      "SVO Structure: ['be']\n",
      "POS Structure: ['S1_ADJ', 'S2_ADJ', 'be', 'separate', 'color']\n",
      "Medoid class: contradiction\n",
      "entailment       116\n",
      "contradiction     26\n",
      "neutral           24\n",
      "Name: pred_label, dtype: int64\n",
      "------------------\n",
      "Actual Expl: The two people may or may not be a man and wife, and they are not standing at an alter if they are going to a hockey game. Also, the people involved are not man and wife until after they get married, not \"as\" they get married.\n",
      "SVO Structure: ['S2_Subj', 'not', 'be', 'S1_Subj', 'S1_Subj', 'be', 'not', 'S1_Verb', 'S1_Subj', 'be', 'S2_Verb', 'S2_Subj', 'be', 'not', 'S1_Subj', 'S1_Subj', 'S1_Verb', 'not', 'S1_Subj', 'S1_Verb']\n",
      "POS Structure: ['S2_NOUN', 'not', 'be', 'S1_NOUN', 'S1_NOUN', 'be', 'not', 'S1_VERB', 'S1_NOUN', 'be', 'S2_VERB', 'S2_NOUN', 'S2_NOUN', 'S2_NOUN', 'involve', 'be', 'not', 'S1_NOUN', 'S1_NOUN', 'S1_VERB', 'not', 'S1_VERB']\n",
      "Medoid class: contradiction\n",
      "contradiction    1\n",
      "Name: pred_label, dtype: int64\n",
      "------------------\n",
      "Actual Expl: The first sentence does not imply that the colorful structure is outdoors.\n",
      "SVO Structure: ['not', 'imply']\n",
      "POS Structure: ['sentence', 'not', 'imply', 'S1_ADJ', 'S1_NOUN', 'be', 'S2_ADV']\n",
      "Medoid class: neutral\n",
      "neutral          7\n",
      "entailment       5\n",
      "contradiction    4\n",
      "Name: pred_label, dtype: int64\n"
     ]
    }
   ],
   "source": [
    "for i in range(len(SSD)):\n",
    "    print(\"------------------\")\n",
    "    print(f\"Actual Expl: {gpt_pred.iloc[kmfit.medoid_indices_[i]].Explanation_1}\")\n",
    "    print(f\"SVO Structure: {gpt_pred.iloc[kmfit.medoid_indices_[i]].reduced_gold_expl}\")\n",
    "    print(f\"POS Structure: {gpt_pred.iloc[kmfit.medoid_indices_[i]].pos_gold_expl}\")\n",
    "    print(f\"Medoid class: {gpt_pred.iloc[kmfit.medoid_indices_[i]].gold_label}\")\n",
    "    print(gpt_pred[kmfit.labels_ == i].pred_label.value_counts())"
   ],
   "metadata": {
    "collapsed": false,
    "pycharm": {
     "name": "#%%\n"
    }
   }
  },
  {
   "cell_type": "markdown",
   "source": [
    "### SVO Structure"
   ],
   "metadata": {
    "collapsed": false,
    "pycharm": {
     "name": "#%% md\n"
    }
   }
  },
  {
   "cell_type": "code",
   "execution_count": 9,
   "outputs": [],
   "source": [
    "vectorizer = CountVectorizer(ngram_range=(1, 3))\n",
    "X = vectorizer.fit_transform(gpt_pred.pos_gold_expl)"
   ],
   "metadata": {
    "collapsed": false,
    "pycharm": {
     "name": "#%%\n"
    }
   }
  },
  {
   "cell_type": "code",
   "execution_count": 10,
   "outputs": [
    {
     "name": "stdout",
     "output_type": "stream",
     "text": [
      "[[0 0 0 ... 0 0 0]\n",
      " [0 0 0 ... 0 0 0]\n",
      " [0 0 0 ... 0 0 0]\n",
      " ...\n",
      " [0 0 0 ... 0 0 0]\n",
      " [0 0 0 ... 0 0 0]\n",
      " [0 0 0 ... 0 0 0]]\n"
     ]
    }
   ],
   "source": [
    "print(X.toarray())"
   ],
   "metadata": {
    "collapsed": false,
    "pycharm": {
     "name": "#%%\n"
    }
   }
  },
  {
   "cell_type": "code",
   "execution_count": 11,
   "outputs": [
    {
     "data": {
      "text/plain": "[<matplotlib.lines.Line2D at 0x1a006fdc0>]"
     },
     "execution_count": 11,
     "metadata": {},
     "output_type": "execute_result"
    },
    {
     "data": {
      "text/plain": "<Figure size 640x480 with 1 Axes>",
      "image/png": "[encoded data removed]"
     },
     "metadata": {},
     "output_type": "display_data"
    }
   ],
   "source": [
    "SSD = list()\n",
    "for k in range(1,21):\n",
    "    km = kmedoids.KMedoids(n_clusters=k, method=\"pam\")\n",
    "    kmfit = km.fit(metrics.pairwise.euclidean_distances(X))\n",
    "    SSD += [kmfit.inertia_]\n",
    "plt.plot(SSD)"
   ],
   "metadata": {
    "collapsed": false,
    "pycharm": {
     "name": "#%%\n"
    }
   }
  },
  {
   "cell_type": "code",
   "execution_count": 20,
   "outputs": [
    {
     "name": "stdout",
     "output_type": "stream",
     "text": [
      "------------------\n",
      "Actual Expl: Wearing a gray uniform and cutting something on the ground doesn't necessarily mean the man is a janitor. Wearing white and watching the man in gray doesn't necessarily mean the other man is the superior.\n",
      "SVO Structure: ['S1_Verb', 'S1_Obj', 'not', 'mean', 'S1_Subj', 'S1_Verb', 'S1_Subj', 'not', 'mean', 'S1_Subj']\n",
      "POS Structure: ['wear', 'S1S2_ADJ', 'S1_NOUN', 'S1_VERB', 'S1_NOUN', 'not', 'necessarily', 'mean', 'S1S2_NOUN', 'be', 'S2_NOUN', 'wear', 'S1S2_ADJ', 'S1_VERB', 'S1S2_NOUN', 'S1S2_ADJ', 'not', 'necessarily', 'mean', 'S1S2_NOUN', 'be', 'S2_ADJ']\n",
      "Medoid class: neutral\n",
      "neutral    1\n",
      "Name: pred_label, dtype: int64\n",
      "------------------\n",
      "Actual Expl: We have no idea if he is a scientist, he could be anyone, many people use microscopes and wear lab coats. We have no idea if he is looking at a new strain of virus, he could be looking at anything.\n",
      "SVO Structure: ['have', 'S2_Subj', 'have', 'S1_Verb', 'S2_Obj', 'S1_Verb']\n",
      "POS Structure: ['idea', 'be', 'S2_NOUN', 'be', 'people', 'use', 'S1_NOUN', 'wear', 'S1_NOUN', 'S1_NOUN', 'idea', 'be', 'S1_VERB', 'S2_ADJ', 'S2_NOUN', 'S2_NOUN', 'be', 'S1_VERB']\n",
      "Medoid class: neutral\n",
      "entailment    1\n",
      "Name: pred_label, dtype: int64\n",
      "------------------\n",
      "Actual Expl: A lady is a woman.\n",
      "SVO Structure: ['be']\n",
      "POS Structure: ['S2_NOUN', 'be', 'S1_NOUN']\n",
      "Medoid class: entailment\n",
      "entailment       36\n",
      "contradiction    14\n",
      "neutral           8\n",
      "Name: pred_label, dtype: int64\n",
      "------------------\n",
      "Actual Expl: Dog running indicates that a dog is running; being basically involves running by definition, but 'and' is necessary because the fact that the dog is running was already repeated and the first sentence was incomplete anyway.  Oh, wait, so is the second one.\n",
      "SVO Structure: ['S2_Verb', 'S2_Subj', 'be', 'S2_Verb', 'be', 'S2_Verb', 'be', 'S2_Subj', 'be', 'S2_Verb', 'be', 'be', 'be']\n",
      "POS Structure: ['S1_PROPN', 'S1S2_VERB', 'indicate', 'S1S2_NOUN', 'be', 'S1S2_VERB', 'be', 'basically', 'involve', 'S1S2_VERB', 'definition', 'be', 'necessary', 'fact', 'S1S2_NOUN', 'be', 'S1S2_VERB', 'be', 'repeat', 'sentence', 'be', 'incomplete', ' ', 'oh', 'wait', 'be', 'second']\n",
      "Medoid class: entailment\n",
      "entailment    1\n",
      "Name: pred_label, dtype: int64\n",
      "------------------\n",
      "Actual Expl: A man is not a woman.\n",
      "SVO Structure: ['S1_Obj', 'be', 'not', 'S2_Subj']\n",
      "POS Structure: ['S1_NOUN', 'be', 'not', 'S2_NOUN']\n",
      "Medoid class: contradiction\n",
      "contradiction    44\n",
      "entailment       39\n",
      "neutral          20\n",
      "Name: pred_label, dtype: int64\n",
      "------------------\n",
      "Actual Expl: One cannot be crying and laughing at the same time\n",
      "SVO Structure: ['not', 'cry', 'S2_Verb', 'same']\n",
      "POS Structure: ['not', 'be', 'cry', 'S2_VERB', 'time']\n",
      "Medoid class: contradiction\n",
      "contradiction    32\n",
      "Name: pred_label, dtype: int64\n",
      "------------------\n",
      "Actual Expl: The man can't be a woman.\n",
      "SVO Structure: ['S1_Subj', 'not', 'be', 'S2_Subj']\n",
      "POS Structure: ['S1_NOUN', 'not', 'be', 'S2_NOUN']\n",
      "Medoid class: contradiction\n",
      "contradiction    55\n",
      "entailment       34\n",
      "neutral          15\n",
      "Name: pred_label, dtype: int64\n",
      "------------------\n",
      "Actual Expl: You can not infer they are happy.\n",
      "SVO Structure: ['not', 'infer']\n",
      "POS Structure: ['not', 'infer', 'be', 'S2_ADJ']\n",
      "Medoid class: neutral\n",
      "entailment       5\n",
      "neutral          2\n",
      "contradiction    1\n",
      "Name: pred_label, dtype: int64\n",
      "------------------\n",
      "Actual Expl: The two people may or may not be a man and wife, and they are not standing at an alter if they are going to a hockey game. Also, the people involved are not man and wife until after they get married, not \"as\" they get married.\n",
      "SVO Structure: ['S2_Subj', 'not', 'be', 'S1_Subj', 'S1_Subj', 'be', 'not', 'S1_Verb', 'S1_Subj', 'be', 'S2_Verb', 'S2_Subj', 'be', 'not', 'S1_Subj', 'S1_Subj', 'S1_Verb', 'not', 'S1_Subj', 'S1_Verb']\n",
      "POS Structure: ['S2_NOUN', 'not', 'be', 'S1_NOUN', 'S1_NOUN', 'be', 'not', 'S1_VERB', 'S1_NOUN', 'be', 'S2_VERB', 'S2_NOUN', 'S2_NOUN', 'S2_NOUN', 'involve', 'be', 'not', 'S1_NOUN', 'S1_NOUN', 'S1_VERB', 'not', 'S1_VERB']\n",
      "Medoid class: contradiction\n",
      "contradiction    1\n",
      "Name: pred_label, dtype: int64\n",
      "------------------\n",
      "Actual Expl: A man stands on his tip toes in front of two people is less descriptive way of saying man is standing on his tip toes in front of two people sitting in a car.\n",
      "SVO Structure: ['S1S2_Subj', 'stand', 'S1S2_Verb', 'S1S2_Subj', 'stand', 'S1S2_Verb']\n",
      "POS Structure: ['S1S2_NOUN', 'S1S2_VERB', 'S1S2_NOUN', 'S1S2_NOUN', 'S1S2_NOUN', 'be', 'descriptive', 'way', 'say', 'S1S2_NOUN', 'be', 'S1S2_VERB', 'S1S2_NOUN', 'S1S2_NOUN', 'S1S2_NOUN', 'S1_VERB', 'S1_NOUN']\n",
      "Medoid class: entailment\n",
      "entailment    1\n",
      "Name: pred_label, dtype: int64\n",
      "------------------\n",
      "Actual Expl: A crowd of people stand in the street is literally the same as the beginning of the first sentence with only a \"the\" inserted: A crowd of people stand in street in front of a series of white tents.\n",
      "SVO Structure: ['S1S2_Subj', 'stand', 'S1S2_Verb', 'same', 'S1S2_Subj', 'stand', 'S1S2_Verb']\n",
      "POS Structure: ['S1S2_NOUN', 'S1S2_NOUN', 'S1S2_VERB', 'S1S2_NOUN', 'be', 'literally', 'beginning', 'sentence', 'insert', 'S1S2_NOUN', 'S1S2_NOUN', 'S1S2_VERB', 'S1S2_NOUN', 'S1_NOUN', 'S1_ADJ', 'S1_NOUN']\n",
      "Medoid class: entailment\n",
      "entailment    1\n",
      "Name: pred_label, dtype: int64\n",
      "------------------\n",
      "Actual Expl: You can not infer it's a buyer.\n",
      "SVO Structure: ['not', 'infer']\n",
      "POS Structure: ['not', 'infer', 'be', 'S2_NOUN']\n",
      "Medoid class: neutral\n",
      "neutral          7\n",
      "entailment       5\n",
      "contradiction    2\n",
      "Neutral          1\n",
      "Name: pred_label, dtype: int64\n",
      "------------------\n",
      "Actual Expl: a boy is a person\n",
      "SVO Structure: ['S1_Subj', 'be', 'S2_Subj']\n",
      "POS Structure: ['S1_NOUN', 'be', 'S2_NOUN']\n",
      "Medoid class: entailment\n",
      "entailment       267\n",
      "contradiction    137\n",
      "neutral           65\n",
      "Name: pred_label, dtype: int64\n",
      "------------------\n",
      "Actual Expl: The first sentence does not imply that the individual is a woman. The first sentence does not imply that the reason the individual is crouched down is for taking a picture.\n",
      "SVO Structure: ['not', 'imply', 'S1_Subj', 'S2_Subj', 'not', 'imply', 'S1_Subj', 'S1_Verb', 'S2_Verb', 'S2_Obj']\n",
      "POS Structure: ['sentence', 'not', 'imply', 'S1_NOUN', 'be', 'S2_NOUN', 'sentence', 'not', 'imply', 'reason', 'S1_NOUN', 'be', 'S1_VERB', 'be', 'S2_VERB', 'S2_NOUN']\n",
      "Medoid class: neutral\n",
      "neutral    1\n",
      "Name: pred_label, dtype: int64\n",
      "------------------\n",
      "Actual Expl: There is no evidence from sentence 1 that the boy was pushing the girl on a toy SUV inside of a nice house.  He might have been pushing her in the park or in the backyard outside.  I he was pushing her inside it could have been in a run down house.\n",
      "SVO Structure: ['S1S2_Subj', 'push', 'S1S2_Verb', 'S1S2_Obj', 'push', 'S1S2_Verb', 'push', 'S1S2_Verb']\n",
      "POS Structure: ['be', 'evidence', 'sentence', '1', 'S1S2_NOUN', 'be', 'S1S2_VERB', 'S1S2_NOUN', 'S1S2_NOUN', 'S1S2_PROPN', 'S2_ADV', 'S2_ADJ', 'S2_NOUN', ' ', 'be', 'S1S2_VERB', 'park', 'backyard', 'outside', ' ', 'be', 'S1S2_VERB', 'S2_ADV', 'be', 'run', 'S2_NOUN']\n",
      "Medoid class: neutral\n",
      "entailment    1\n",
      "Name: pred_label, dtype: int64\n",
      "------------------\n",
      "Actual Expl: Just because a man is standing on chair that has a Ginobili jersey on it doesn't mean the man must be a big sports fan. Standing in a cubicle doesn't mean the man is working nor does it imply that he is standing in his own cubicle.\n",
      "SVO Structure: ['S1_Subj', 'S1_Verb', 'S1_Obj', 'not', 'mean', 'S2_Subj', 'not', 'mean', 'S2_Verb', 'S1_Subj']\n",
      "POS Structure: ['S1_NOUN', 'be', 'S1_VERB', 'S1_NOUN', 'S1_PROPN', 'S1_PROPN', 'not', 'mean', 'S1_NOUN', 'be', 'S2_ADJ', 'S2_NOUN', 'S2_NOUN', 'S1_VERB', 'S1S2_NOUN', 'not', 'mean', 'S1_NOUN', 'be', 'S2_VERB', 'imply', 'be', 'S1_VERB', 'S1S2_NOUN']\n",
      "Medoid class: neutral\n",
      "entailment    1\n",
      "Name: pred_label, dtype: int64\n",
      "------------------\n",
      "Actual Expl: One is either a man or one is a woman but not both at the same time, and one either sits in a green and yellow taxi or one is next to a green and yellow taxi but not both simultaneously.\n",
      "SVO Structure: ['be', 'S1_Subj', 'be', 'S2_Subj', 'same', 'S2_Verb', 'be']\n",
      "POS Structure: ['be', 'S1_NOUN', 'be', 'S2_NOUN', 'not', 'time', 'S2_VERB', 'S1S2_ADJ', 'S1S2_ADJ', 'S1S2_NOUN', 'be', 'S1S2_ADJ', 'S1S2_ADJ', 'S1S2_NOUN', 'not', 'simultaneously']\n",
      "Medoid class: contradiction\n",
      "contradiction    1\n",
      "Name: pred_label, dtype: int64\n",
      "------------------\n",
      "Actual Expl: The laughing man may have been laughing about something entirely unrelated to the man stuffing his face.  He may have been laughing at him, but he may have been laughing with him.\n",
      "SVO Structure: ['laugh', 'S2_Verb', 'S1S2_Subj', 'laugh', 'S2_Verb', 'S1S2_Subj', 'S1S2_Verb', 'S1S2_Obj', 'laugh', 'S2_Verb', 'laugh', 'S2_Verb']\n",
      "POS Structure: ['S1S2_VERB', 'S1S2_NOUN', 'be', 'S1S2_VERB', 'entirely', 'unrelated', 'S1S2_NOUN', 'S1S2_VERB', 'S1S2_NOUN', ' ', 'be', 'S1S2_VERB', 'be', 'S1S2_VERB']\n",
      "Medoid class: neutral\n",
      "neutral    1\n",
      "Name: pred_label, dtype: int64\n",
      "------------------\n",
      "Actual Expl: A couple are people.\n",
      "SVO Structure: ['S1_Subj', 'be']\n",
      "POS Structure: ['S1_NOUN', 'be', 'people']\n",
      "Medoid class: entailment\n",
      "entailment       91\n",
      "contradiction    65\n",
      "neutral          43\n",
      "Name: pred_label, dtype: int64\n",
      "------------------\n",
      "Actual Expl: Bush could be concluding a speech, not gets ready to begin one. Bush could be speaking about many things or there for a different purpose - not explicitly to make an address. Bush could be discussing issues that are minor or universally agreed upon, not necessarily a heated issue.\n",
      "SVO Structure: ['S2_Subj', 'S2_Verb', 'S2_Subj', 'different', 'S2_Subj', 'discuss']\n",
      "POS Structure: ['S1S2_PROPN', 'be', 'conclude', 'speech', 'not', 'S2_VERB', 'S2_ADJ', 'begin', 'S1S2_PROPN', 'be', 'speak', 'thing', 'different', 'purpose', 'not', 'explicitly', 'S2_VERB', 'S1S2_PROPN', 'be', 'discuss', 'S2_NOUN', 'be', 'minor', 'universally', 'agree', 'not', 'necessarily', 'S2_ADJ', 'S2_NOUN']\n",
      "Medoid class: neutral\n",
      "neutral    1\n",
      "Name: pred_label, dtype: int64\n"
     ]
    }
   ],
   "source": [
    "for i in range(len(SSD)):\n",
    "    print(\"------------------\")\n",
    "    print(f\"Actual Expl: {gpt_pred.iloc[kmfit.medoid_indices_[i]].Explanation_1}\")\n",
    "    print(f\"SVO Structure: {gpt_pred.iloc[kmfit.medoid_indices_[i]].reduced_gold_expl}\")\n",
    "    print(f\"POS Structure: {gpt_pred.iloc[kmfit.medoid_indices_[i]].pos_gold_expl}\")\n",
    "    print(f\"Medoid class: {gpt_pred.iloc[kmfit.medoid_indices_[i]].gold_label}\")\n",
    "    print(gpt_pred[kmfit.labels_ == i].pred_label.value_counts())"
   ],
   "metadata": {
    "collapsed": false,
    "pycharm": {
     "name": "#%%\n"
    }
   }
  },
  {
   "cell_type": "markdown",
   "source": [
    "# Full Gold Explanations"
   ],
   "metadata": {
    "collapsed": false,
    "pycharm": {
     "name": "#%% md\n"
    }
   }
  },
  {
   "cell_type": "markdown",
   "source": [
    "## PAM Clustering"
   ],
   "metadata": {
    "collapsed": false,
    "pycharm": {
     "name": "#%% md\n"
    }
   }
  },
  {
   "cell_type": "code",
   "execution_count": 13,
   "outputs": [],
   "source": [
    "vectorizer = CountVectorizer(ngram_range=(1, 3))\n",
    "X = vectorizer.fit_transform(gpt_pred.Explanation_1)"
   ],
   "metadata": {
    "collapsed": false,
    "pycharm": {
     "name": "#%%\n"
    }
   }
  },
  {
   "cell_type": "code",
   "execution_count": 14,
   "outputs": [
    {
     "name": "stdout",
     "output_type": "stream",
     "text": [
      "[[0 0 0 ... 0 0 0]\n",
      " [0 0 0 ... 0 0 0]\n",
      " [0 0 0 ... 0 0 0]\n",
      " ...\n",
      " [0 0 0 ... 0 0 0]\n",
      " [0 0 0 ... 0 0 0]\n",
      " [0 0 0 ... 0 0 0]]\n"
     ]
    }
   ],
   "source": [
    "print(X.toarray())"
   ],
   "metadata": {
    "collapsed": false,
    "pycharm": {
     "name": "#%%\n"
    }
   }
  },
  {
   "cell_type": "code",
   "execution_count": 15,
   "outputs": [
    {
     "data": {
      "text/plain": "[<matplotlib.lines.Line2D at 0x19fa71fc0>]"
     },
     "execution_count": 15,
     "metadata": {},
     "output_type": "execute_result"
    },
    {
     "data": {
      "text/plain": "<Figure size 640x480 with 1 Axes>",
      "image/png": "[encoded data removed]"
     },
     "metadata": {},
     "output_type": "display_data"
    }
   ],
   "source": [
    "SSD = list()\n",
    "for k in range(1,21):\n",
    "    km = kmedoids.KMedoids(n_clusters=k, method=\"pam\")\n",
    "    kmfit = km.fit(metrics.pairwise.euclidean_distances(X))\n",
    "    SSD += [kmfit.inertia_]\n",
    "plt.plot(SSD)"
   ],
   "metadata": {
    "collapsed": false,
    "pycharm": {
     "name": "#%%\n"
    }
   }
  },
  {
   "cell_type": "code",
   "execution_count": 18,
   "outputs": [
    {
     "name": "stdout",
     "output_type": "stream",
     "text": [
      "------------------\n",
      "Actual Expl: Wearing a gray uniform and cutting something on the ground doesn't necessarily mean the man is a janitor. Wearing white and watching the man in gray doesn't necessarily mean the other man is the superior.\n",
      "Medoid class: neutral\n",
      "neutral    1\n",
      "Name: pred_label, dtype: int64\n",
      "------------------\n",
      "Actual Expl: We have no idea if he is a scientist, he could be anyone, many people use microscopes and wear lab coats. We have no idea if he is looking at a new strain of virus, he could be looking at anything.\n",
      "Medoid class: neutral\n",
      "entailment    1\n",
      "Name: pred_label, dtype: int64\n",
      "------------------\n",
      "Actual Expl: A lady is a woman.\n",
      "Medoid class: entailment\n",
      "entailment       36\n",
      "contradiction    14\n",
      "neutral           8\n",
      "Name: pred_label, dtype: int64\n",
      "------------------\n",
      "Actual Expl: Dog running indicates that a dog is running; being basically involves running by definition, but 'and' is necessary because the fact that the dog is running was already repeated and the first sentence was incomplete anyway.  Oh, wait, so is the second one.\n",
      "Medoid class: entailment\n",
      "entailment    1\n",
      "Name: pred_label, dtype: int64\n",
      "------------------\n",
      "Actual Expl: A man is not a woman.\n",
      "Medoid class: contradiction\n",
      "contradiction    44\n",
      "entailment       39\n",
      "neutral          20\n",
      "Name: pred_label, dtype: int64\n",
      "------------------\n",
      "Actual Expl: One cannot be crying and laughing at the same time\n",
      "Medoid class: contradiction\n",
      "contradiction    32\n",
      "Name: pred_label, dtype: int64\n",
      "------------------\n",
      "Actual Expl: The man can't be a woman.\n",
      "Medoid class: contradiction\n",
      "contradiction    55\n",
      "entailment       34\n",
      "neutral          15\n",
      "Name: pred_label, dtype: int64\n",
      "------------------\n",
      "Actual Expl: You can not infer they are happy.\n",
      "Medoid class: neutral\n",
      "entailment       5\n",
      "neutral          2\n",
      "contradiction    1\n",
      "Name: pred_label, dtype: int64\n",
      "------------------\n",
      "Actual Expl: The two people may or may not be a man and wife, and they are not standing at an alter if they are going to a hockey game. Also, the people involved are not man and wife until after they get married, not \"as\" they get married.\n",
      "Medoid class: contradiction\n",
      "contradiction    1\n",
      "Name: pred_label, dtype: int64\n",
      "------------------\n",
      "Actual Expl: A man stands on his tip toes in front of two people is less descriptive way of saying man is standing on his tip toes in front of two people sitting in a car.\n",
      "Medoid class: entailment\n",
      "entailment    1\n",
      "Name: pred_label, dtype: int64\n",
      "------------------\n",
      "Actual Expl: A crowd of people stand in the street is literally the same as the beginning of the first sentence with only a \"the\" inserted: A crowd of people stand in street in front of a series of white tents.\n",
      "Medoid class: entailment\n",
      "entailment    1\n",
      "Name: pred_label, dtype: int64\n",
      "------------------\n",
      "Actual Expl: You can not infer it's a buyer.\n",
      "Medoid class: neutral\n",
      "neutral          7\n",
      "entailment       5\n",
      "contradiction    2\n",
      "Neutral          1\n",
      "Name: pred_label, dtype: int64\n",
      "------------------\n",
      "Actual Expl: a boy is a person\n",
      "Medoid class: entailment\n",
      "entailment       267\n",
      "contradiction    137\n",
      "neutral           65\n",
      "Name: pred_label, dtype: int64\n",
      "------------------\n",
      "Actual Expl: The first sentence does not imply that the individual is a woman. The first sentence does not imply that the reason the individual is crouched down is for taking a picture.\n",
      "Medoid class: neutral\n",
      "neutral    1\n",
      "Name: pred_label, dtype: int64\n",
      "------------------\n",
      "Actual Expl: There is no evidence from sentence 1 that the boy was pushing the girl on a toy SUV inside of a nice house.  He might have been pushing her in the park or in the backyard outside.  I he was pushing her inside it could have been in a run down house.\n",
      "Medoid class: neutral\n",
      "entailment    1\n",
      "Name: pred_label, dtype: int64\n",
      "------------------\n",
      "Actual Expl: Just because a man is standing on chair that has a Ginobili jersey on it doesn't mean the man must be a big sports fan. Standing in a cubicle doesn't mean the man is working nor does it imply that he is standing in his own cubicle.\n",
      "Medoid class: neutral\n",
      "entailment    1\n",
      "Name: pred_label, dtype: int64\n",
      "------------------\n",
      "Actual Expl: One is either a man or one is a woman but not both at the same time, and one either sits in a green and yellow taxi or one is next to a green and yellow taxi but not both simultaneously.\n",
      "Medoid class: contradiction\n",
      "contradiction    1\n",
      "Name: pred_label, dtype: int64\n",
      "------------------\n",
      "Actual Expl: The laughing man may have been laughing about something entirely unrelated to the man stuffing his face.  He may have been laughing at him, but he may have been laughing with him.\n",
      "Medoid class: neutral\n",
      "neutral    1\n",
      "Name: pred_label, dtype: int64\n",
      "------------------\n",
      "Actual Expl: A couple are people.\n",
      "Medoid class: entailment\n",
      "entailment       91\n",
      "contradiction    65\n",
      "neutral          43\n",
      "Name: pred_label, dtype: int64\n",
      "------------------\n",
      "Actual Expl: Bush could be concluding a speech, not gets ready to begin one. Bush could be speaking about many things or there for a different purpose - not explicitly to make an address. Bush could be discussing issues that are minor or universally agreed upon, not necessarily a heated issue.\n",
      "Medoid class: neutral\n",
      "neutral    1\n",
      "Name: pred_label, dtype: int64\n"
     ]
    }
   ],
   "source": [
    "for i in range(len(SSD)):\n",
    "    print(\"------------------\")\n",
    "    print(f\"Actual Expl: {gpt_pred.iloc[kmfit.medoid_indices_[i]].Explanation_1}\")\n",
    "    print(f\"Medoid class: {gpt_pred.iloc[kmfit.medoid_indices_[i]].gold_label}\")\n",
    "    print(gpt_pred[kmfit.labels_ == i].pred_label.value_counts())"
   ],
   "metadata": {
    "collapsed": false,
    "pycharm": {
     "name": "#%%\n"
    }
   }
  }
 ],
 "metadata": {
  "kernelspec": {
   "display_name": "Python 3",
   "language": "python",
   "name": "python3"
  },
  "language_info": {
   "codemirror_mode": {
    "name": "ipython",
    "version": 2
   },
   "file_extension": ".py",
   "mimetype": "text/x-python",
   "name": "python",
   "nbconvert_exporter": "python",
   "pygments_lexer": "ipython2",
   "version": "2.7.6"
  }
 },
 "nbformat": 4,
 "nbformat_minor": 0
}