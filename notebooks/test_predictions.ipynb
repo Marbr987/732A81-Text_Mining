{
 "cells": [
  {
   "cell_type": "markdown",
   "source": [
    "# Setup"
   ],
   "metadata": {
    "collapsed": false,
    "pycharm": {
     "name": "#%% md\n"
    }
   }
  },
  {
   "cell_type": "markdown",
   "source": [
    "## Load Packages"
   ],
   "metadata": {
    "collapsed": false,
    "pycharm": {
     "name": "#%% md\n"
    }
   }
  },
  {
   "cell_type": "code",
   "execution_count": 1,
   "outputs": [
    {
     "data": {
      "text/plain": "True"
     },
     "execution_count": 1,
     "metadata": {},
     "output_type": "execute_result"
    }
   ],
   "source": [
    "import random\n",
    "import pandas as pd\n",
    "import numpy as np\n",
    "import matplotlib.pyplot as plt\n",
    "import os\n",
    "import openai\n",
    "import re\n",
    "import time\n",
    "from scripts.prepare_data_helpers import prepare_examples, create_query\n",
    "from dotenv import load_dotenv\n",
    "\n",
    "load_dotenv()"
   ],
   "metadata": {
    "collapsed": false,
    "pycharm": {
     "name": "#%%\n"
    }
   }
  },
  {
   "cell_type": "markdown",
   "source": [
    "## Prepare Data"
   ],
   "metadata": {
    "collapsed": false,
    "pycharm": {
     "name": "#%% md\n"
    }
   }
  },
  {
   "cell_type": "code",
   "execution_count": 2,
   "outputs": [],
   "source": [
    "train1 = pd.read_csv('../../e-SNLI/dataset/esnli_train_1.csv')\n",
    "train2 = pd.read_csv('../../e-SNLI/dataset/esnli_train_2.csv')\n",
    "train = pd.concat([train1, train2])\n",
    "dev = pd.read_csv('../../e-SNLI/dataset/esnli_dev.csv')\n",
    "test = pd.read_csv('../../e-SNLI/dataset/esnli_test.csv')\n",
    "\n",
    "train = train.dropna(subset=['Sentence1', 'Sentence2', 'Explanation_1'])\n",
    "train = train.reset_index(drop=True)\n",
    "\n",
    "np.random.seed(12345) # seed for numpy package\n",
    "test_indices = list(np.random.choice(test.index.values, size=1000, replace=False))\n",
    "test = test.loc[test_indices]\n",
    "test = test.reset_index(drop=True)"
   ],
   "metadata": {
    "collapsed": false,
    "pycharm": {
     "name": "#%%\n"
    }
   }
  },
  {
   "cell_type": "code",
   "execution_count": 3,
   "outputs": [],
   "source": [
    "np.random.seed(12345) # seed for numpy package\n",
    "random.seed(12345) # seed for random package\n",
    "prompts = [prepare_examples(train, size_per_class=1, include_label=True) + '\\n\\n' + create_query(test.loc[i], include_label=True) for i in test.index]\n",
    "test['prompt'] = prompts"
   ],
   "metadata": {
    "collapsed": false,
    "pycharm": {
     "name": "#%%\n"
    }
   }
  },
  {
   "cell_type": "markdown",
   "source": [
    "# Generate Predictions on Test Set"
   ],
   "metadata": {
    "collapsed": false,
    "pycharm": {
     "name": "#%% md\n"
    }
   }
  },
  {
   "cell_type": "code",
   "execution_count": 4,
   "outputs": [],
   "source": [
    "openai.api_key = os.getenv(\"OPENAI_API_KEY\")"
   ],
   "metadata": {
    "collapsed": false,
    "pycharm": {
     "name": "#%%\n"
    }
   }
  },
  {
   "cell_type": "code",
   "execution_count": 9,
   "outputs": [],
   "source": [
    "pred_expl = list()\n",
    "pred_label = list()\n",
    "for i in range(int(np.ceil(test.shape[0] / 20))):\n",
    "    if i != 0:\n",
    "        time.sleep(60) # API allows only 20 calls or one call with 20 prompts per minute\n",
    "    indices = np.arange(i * 20, (i + 1) * 20)\n",
    "    response = openai.Completion.create(\n",
    "        engine='text-davinci-003',\n",
    "        prompt=list(test.iloc[indices].prompt),\n",
    "        temperature=0.5,\n",
    "        max_tokens=58,\n",
    "        top_p=1,\n",
    "    )\n",
    "    pred_expl += [re.findall('Explanation:.+', response.choices[i].text)[0].replace('Explanation: ', '').strip() for i in range(len(response.choices))]\n",
    "    pred_label += [re.findall('.+\\nExplanation:', response.choices[i].text)[0].replace('\\nExplanation:', '').replace('Label: ', '').strip() for i in range(len(response.choices))]"
   ],
   "metadata": {
    "collapsed": false,
    "pycharm": {
     "name": "#%%\n"
    }
   }
  },
  {
   "cell_type": "code",
   "execution_count": 11,
   "outputs": [],
   "source": [
    "test_output = test\n",
    "test_output['pred_explanation'] = pred_expl\n",
    "test_output['pred_label'] = pred_label\n",
    "test_output.to_csv('../output_data/test_predictions.csv')"
   ],
   "metadata": {
    "collapsed": false,
    "pycharm": {
     "name": "#%%\n"
    }
   }
  },
  {
   "cell_type": "code",
   "execution_count": 12,
   "outputs": [
    {
     "data": {
      "text/plain": "                  pairID     gold_label  \\\n0    4813951931.jpg#3r1e     entailment   \n1    4678320536.jpg#1r1c  contradiction   \n2     661749711.jpg#2r1e     entailment   \n3      44904567.jpg#1r1c  contradiction   \n4      32542645.jpg#0r1n        neutral   \n..                   ...            ...   \n995  2429284131.jpg#2r1c  contradiction   \n996  4460943467.jpg#0r1e     entailment   \n997  2226343167.jpg#0r1n        neutral   \n998  3389707399.jpg#4r1e     entailment   \n999  3559425864.jpg#1r1c  contradiction   \n\n                                             Sentence1  \\\n0    A young man in an orange hat walks his bicycle...   \n1    A woman standing with smile on her face and sh...   \n2             A dog jumps to catch a red ball outside.   \n3    A man wielding an electric razor is gleefully ...   \n4    A group of people stares at a wall that is fil...   \n..                                                 ...   \n995        Three men are standing on stage performing.   \n996  3 young man in hoods standing in the middle of...   \n997  A woman in skirt, torn stockings and combat bo...   \n998                     Two men shining peoples shoes.   \n999  Bicyclist ride the course near the ocean as th...   \n\n                                             Sentence2  \\\n0    A man in an orange hat walks his bike down a s...   \n1          A woman stands holding her baby and crying.   \n2                                  the dog is jumping.   \n3                    There is only one person present.   \n4               A group of people analyze art together   \n..                                                 ...   \n995          Women are playing trumpets on the street.   \n996       Three hood wearing people stand in a street.   \n997  The man and woman are going to a movie in the ...   \n998                             Two men shining shoes.   \n999             The cyclist was riding in the morning.   \n\n                                         Explanation_1  \\\n0           A bicycle and a bike, are the same object.   \n1    If a woman has a smile on her face then she is...   \n2         Jumping is an action needed to catch a ball.   \n3    There cannot be one person present if one man ...   \n4             Not necessary that they analyze the art.   \n..                                                 ...   \n995  either there are men on stage, or women playin...   \n996            3 Man in hoods are hood wearing people.   \n997  walking down a street does not mean they are g...   \n998  Two men are shining shoes if two men are shini...   \n999  This implies that it is either a (regular) bic...   \n\n                                    Sentence1_marked_1  \\\n0     A young man in an orange hat walks his *bicyc...   \n1    A woman standing with *smile* *on* *her* *face...   \n2     A *dog* *jumps* to *catch* a red *ball* *outs...   \n3    A *man* wielding an electric razor is gleefull...   \n4    A group of people stares at a wall that is fil...   \n..                                                 ...   \n995      Three *men* are standing on stage performing.   \n996   *3* young *man* in *hoods* standing in the mi...   \n997  A woman in skirt, torn stockings and combat bo...   \n998                 Two *men* *shining* peoples shoes.   \n999  *Bicyclist* ride the course near the ocean as ...   \n\n                                    Sentence2_marked_1  \\\n0     A man in an orange hat walks his *bike* down ...   \n1        A woman stands holding her baby and *crying.*   \n2                              the *dog* is *jumping.*   \n3              There is only *one* *person* *present.*   \n4             A group of people *analyze* art together   \n..                                                 ...   \n995        *Women* are playing trumpets on the street.   \n996   Three *hood* *wearing* *people* stand in a st...   \n997   The man and woman are going to a *movie* in t...   \n998                         Two *men* *shining* shoes.   \n999         *The* *cyclist* was riding in the morning.   \n\n    Sentence1_Highlighted_1 Sentence2_Highlighted_1  \\\n0                         9                       8   \n1                   4,5,6,7                       7   \n2                 2,7,8,1,4                     3,1   \n3                   1,10,11                   3,4,5   \n4                        {}                       4   \n..                      ...                     ...   \n995                       1                       0   \n996                   2,0,4                   1,2,3   \n997                      {}                       8   \n998                     1,2                     1,2   \n999                       0                     1,0   \n\n                                         Explanation_2  ...  \\\n0    A young man is still a man and a bicycle and b...  ...   \n1                                  A baby is not wood.  ...   \n2              Dog jumps is past tense of dog jumping.  ...   \n3    ANOTHER REPRESENTS ONE MORE AND CONTRAADICTORY...  ...   \n4    Staring at drawings does not mean analyze art,...  ...   \n..                                                 ...  ...   \n995                                 Women are not men.  ...   \n996  3 young man in hoods means three hood wearing ...  ...   \n997  The man and woman may be strangers to each oth...  ...   \n998  Shoes belong to people; therefore, \"Two men sh...  ...   \n999  Morning and when the day comes to an end are d...  ...   \n\n    Sentence1_Highlighted_2 Sentence2_Highlighted_2  \\\n0                     9,1,2                     8,1   \n1                        13                       5   \n2                       1,2                     1,3   \n3                        10                     3,2   \n4                        {}                     4,5   \n..                      ...                     ...   \n995                       1                       0   \n996              1,0,2,4,12                 0,1,4,7   \n997                      {}                1,3,8,11   \n998                   1,4,2                   1,2,3   \n999           9,10,11,13,12                       6   \n\n                                         Explanation_3  \\\n0    The young man in an orange hart is the man wal...   \n1            the woman is either crying or has a smile   \n2       If the dog jumps to catch, the dog is jumping.   \n3    It cannot be claimed that there is only one pe...   \n4    The group may have just been admiring as oppos...   \n..                                                 ...   \n995                  There can be either men or women.   \n996  If they are standing in the middle of a quiet ...   \n997  Just because a man and woman are wearing theme...   \n998  \"Two men shining shoes\" is a rephrasing of \"tw...   \n999    The day does not come to an end in the morning.   \n\n                                    Sentence1_marked_3  \\\n0     A *young* *man* in *an* *orange* *hat* *walks...   \n1    A *woman* standing with *smile* on her face an...   \n2         A dog *jumps* to *catch* a red ball outside.   \n3    A *man* wielding an electric razor is gleefull...   \n4    A group of people stares at a wall that is fil...   \n..                                                 ...   \n995      Three *men* are standing on stage performing.   \n996   3 young man in hoods *standing* *in* *the* *m...   \n997  A woman in skirt, torn stockings and combat bo...   \n998               Two men *shining* *peoples* *shoes.*   \n999  Bicyclist ride the course near the ocean as th...   \n\n                                    Sentence2_marked_3  \\\n0     A *man* in *an* *orange* *hat* *walks* *his* ...   \n1      A *woman* stands holding her baby and *crying.*   \n2                                the dog is *jumping.*   \n3              There is *only* *one* *person* present.   \n4           A group of people *analyze* art *together*   \n..                                                 ...   \n995        *Women* are playing trumpets on the street.   \n996   Three hood wearing people *stand* *in* *a* *s...   \n997   The man and woman are going to a *movie* in t...   \n998                         Two men *shining* *shoes.*   \n999           The cyclist was riding in the *morning.*   \n\n    Sentence1_Highlighted_3 Sentence2_Highlighted_3  \\\n0     1,2,4,5,6,7,8,9,10,12      1,5,4,3,11,9,8,7,6   \n1                       4,1                     1,7   \n2                       2,4                       3   \n3                   1,10,11                   2,3,4   \n4                        {}                     4,6   \n..                      ...                     ...   \n995                       1                       0   \n996      5,6,7,8,9,11,10,12                 4,5,6,7   \n997                      {}                       8   \n998                   2,3,4                     2,3   \n999           9,11,10,12,13                       6   \n\n                                                prompt  \\\n0    Statement: A man in a suit and dirty dress-sho...   \n1    Statement: a white dog runs across the water.\\...   \n2    Statement: A young child rides a bike with a b...   \n3    Statement: A young boy wearing safety glasses ...   \n4    Statement: Young mother and child heading some...   \n..                                                 ...   \n995  Statement: Several basketball players are grab...   \n996  Statement: A curly-haired brunette wearing a b...   \n997  Statement: A brown dog standing in water.\\nSta...   \n998  Statement: A long-haired person, with a tan co...   \n999  Statement: People with their children shopping...   \n\n                                      pred_explanation     pred_label  \n0              The man is young and the hat is orange.     entailment  \n1    The woman is smiling and holding a wood, not a...  contradiction  \n2     The statement is repeating the same information.      tautology  \n3       There are two people present in the statement.  contradiction  \n4    Staring at a wall filled with drawings is a fo...     entailment  \n..                                                 ...            ...  \n995  The men are standing on stage performing, whil...  contradiction  \n996      The statements are describing the same thing.    equivalence  \n997  The statement does not give any indication tha...        neutral  \n998  Shining shoes implies that the shoes belong to...     entailment  \n999  The statement implies the cyclist was riding a...  contradiction  \n\n[1000 rows x 22 columns]",
      "text/html": "<div>\n<style scoped>\n    .dataframe tbody tr th:only-of-type {\n        vertical-align: middle;\n    }\n\n    .dataframe tbody tr th {\n        vertical-align: top;\n    }\n\n    .dataframe thead th {\n        text-align: right;\n    }\n</style>\n<table border=\"1\" class=\"dataframe\">\n  <thead>\n    <tr style=\"text-align: right;\">\n      <th></th>\n      <th>pairID</th>\n      <th>gold_label</th>\n      <th>Sentence1</th>\n      <th>Sentence2</th>\n      <th>Explanation_1</th>\n      <th>Sentence1_marked_1</th>\n      <th>Sentence2_marked_1</th>\n      <th>Sentence1_Highlighted_1</th>\n      <th>Sentence2_Highlighted_1</th>\n      <th>Explanation_2</th>\n      <th>...</th>\n      <th>Sentence1_Highlighted_2</th>\n      <th>Sentence2_Highlighted_2</th>\n      <th>Explanation_3</th>\n      <th>Sentence1_marked_3</th>\n      <th>Sentence2_marked_3</th>\n      <th>Sentence1_Highlighted_3</th>\n      <th>Sentence2_Highlighted_3</th>\n      <th>prompt</th>\n      <th>pred_explanation</th>\n      <th>pred_label</th>\n    </tr>\n  </thead>\n  <tbody>\n    <tr>\n      <th>0</th>\n      <td>4813951931.jpg#3r1e</td>\n      <td>entailment</td>\n      <td>A young man in an orange hat walks his bicycle...</td>\n      <td>A man in an orange hat walks his bike down a s...</td>\n      <td>A bicycle and a bike, are the same object.</td>\n      <td>A young man in an orange hat walks his *bicyc...</td>\n      <td>A man in an orange hat walks his *bike* down ...</td>\n      <td>9</td>\n      <td>8</td>\n      <td>A young man is still a man and a bicycle and b...</td>\n      <td>...</td>\n      <td>9,1,2</td>\n      <td>8,1</td>\n      <td>The young man in an orange hart is the man wal...</td>\n      <td>A *young* *man* in *an* *orange* *hat* *walks...</td>\n      <td>A *man* in *an* *orange* *hat* *walks* *his* ...</td>\n      <td>1,2,4,5,6,7,8,9,10,12</td>\n      <td>1,5,4,3,11,9,8,7,6</td>\n      <td>Statement: A man in a suit and dirty dress-sho...</td>\n      <td>The man is young and the hat is orange.</td>\n      <td>entailment</td>\n    </tr>\n    <tr>\n      <th>1</th>\n      <td>4678320536.jpg#1r1c</td>\n      <td>contradiction</td>\n      <td>A woman standing with smile on her face and sh...</td>\n      <td>A woman stands holding her baby and crying.</td>\n      <td>If a woman has a smile on her face then she is...</td>\n      <td>A woman standing with *smile* *on* *her* *face...</td>\n      <td>A woman stands holding her baby and *crying.*</td>\n      <td>4,5,6,7</td>\n      <td>7</td>\n      <td>A baby is not wood.</td>\n      <td>...</td>\n      <td>13</td>\n      <td>5</td>\n      <td>the woman is either crying or has a smile</td>\n      <td>A *woman* standing with *smile* on her face an...</td>\n      <td>A *woman* stands holding her baby and *crying.*</td>\n      <td>4,1</td>\n      <td>1,7</td>\n      <td>Statement: a white dog runs across the water.\\...</td>\n      <td>The woman is smiling and holding a wood, not a...</td>\n      <td>contradiction</td>\n    </tr>\n    <tr>\n      <th>2</th>\n      <td>661749711.jpg#2r1e</td>\n      <td>entailment</td>\n      <td>A dog jumps to catch a red ball outside.</td>\n      <td>the dog is jumping.</td>\n      <td>Jumping is an action needed to catch a ball.</td>\n      <td>A *dog* *jumps* to *catch* a red *ball* *outs...</td>\n      <td>the *dog* is *jumping.*</td>\n      <td>2,7,8,1,4</td>\n      <td>3,1</td>\n      <td>Dog jumps is past tense of dog jumping.</td>\n      <td>...</td>\n      <td>1,2</td>\n      <td>1,3</td>\n      <td>If the dog jumps to catch, the dog is jumping.</td>\n      <td>A dog *jumps* to *catch* a red ball outside.</td>\n      <td>the dog is *jumping.*</td>\n      <td>2,4</td>\n      <td>3</td>\n      <td>Statement: A young child rides a bike with a b...</td>\n      <td>The statement is repeating the same information.</td>\n      <td>tautology</td>\n    </tr>\n    <tr>\n      <th>3</th>\n      <td>44904567.jpg#1r1c</td>\n      <td>contradiction</td>\n      <td>A man wielding an electric razor is gleefully ...</td>\n      <td>There is only one person present.</td>\n      <td>There cannot be one person present if one man ...</td>\n      <td>A *man* wielding an electric razor is gleefull...</td>\n      <td>There is only *one* *person* *present.*</td>\n      <td>1,10,11</td>\n      <td>3,4,5</td>\n      <td>ANOTHER REPRESENTS ONE MORE AND CONTRAADICTORY...</td>\n      <td>...</td>\n      <td>10</td>\n      <td>3,2</td>\n      <td>It cannot be claimed that there is only one pe...</td>\n      <td>A *man* wielding an electric razor is gleefull...</td>\n      <td>There is *only* *one* *person* present.</td>\n      <td>1,10,11</td>\n      <td>2,3,4</td>\n      <td>Statement: A young boy wearing safety glasses ...</td>\n      <td>There are two people present in the statement.</td>\n      <td>contradiction</td>\n    </tr>\n    <tr>\n      <th>4</th>\n      <td>32542645.jpg#0r1n</td>\n      <td>neutral</td>\n      <td>A group of people stares at a wall that is fil...</td>\n      <td>A group of people analyze art together</td>\n      <td>Not necessary that they analyze the art.</td>\n      <td>A group of people stares at a wall that is fil...</td>\n      <td>A group of people *analyze* art together</td>\n      <td>{}</td>\n      <td>4</td>\n      <td>Staring at drawings does not mean analyze art,...</td>\n      <td>...</td>\n      <td>{}</td>\n      <td>4,5</td>\n      <td>The group may have just been admiring as oppos...</td>\n      <td>A group of people stares at a wall that is fil...</td>\n      <td>A group of people *analyze* art *together*</td>\n      <td>{}</td>\n      <td>4,6</td>\n      <td>Statement: Young mother and child heading some...</td>\n      <td>Staring at a wall filled with drawings is a fo...</td>\n      <td>entailment</td>\n    </tr>\n    <tr>\n      <th>...</th>\n      <td>...</td>\n      <td>...</td>\n      <td>...</td>\n      <td>...</td>\n      <td>...</td>\n      <td>...</td>\n      <td>...</td>\n      <td>...</td>\n      <td>...</td>\n      <td>...</td>\n      <td>...</td>\n      <td>...</td>\n      <td>...</td>\n      <td>...</td>\n      <td>...</td>\n      <td>...</td>\n      <td>...</td>\n      <td>...</td>\n      <td>...</td>\n      <td>...</td>\n      <td>...</td>\n    </tr>\n    <tr>\n      <th>995</th>\n      <td>2429284131.jpg#2r1c</td>\n      <td>contradiction</td>\n      <td>Three men are standing on stage performing.</td>\n      <td>Women are playing trumpets on the street.</td>\n      <td>either there are men on stage, or women playin...</td>\n      <td>Three *men* are standing on stage performing.</td>\n      <td>*Women* are playing trumpets on the street.</td>\n      <td>1</td>\n      <td>0</td>\n      <td>Women are not men.</td>\n      <td>...</td>\n      <td>1</td>\n      <td>0</td>\n      <td>There can be either men or women.</td>\n      <td>Three *men* are standing on stage performing.</td>\n      <td>*Women* are playing trumpets on the street.</td>\n      <td>1</td>\n      <td>0</td>\n      <td>Statement: Several basketball players are grab...</td>\n      <td>The men are standing on stage performing, whil...</td>\n      <td>contradiction</td>\n    </tr>\n    <tr>\n      <th>996</th>\n      <td>4460943467.jpg#0r1e</td>\n      <td>entailment</td>\n      <td>3 young man in hoods standing in the middle of...</td>\n      <td>Three hood wearing people stand in a street.</td>\n      <td>3 Man in hoods are hood wearing people.</td>\n      <td>*3* young *man* in *hoods* standing in the mi...</td>\n      <td>Three *hood* *wearing* *people* stand in a st...</td>\n      <td>2,0,4</td>\n      <td>1,2,3</td>\n      <td>3 young man in hoods means three hood wearing ...</td>\n      <td>...</td>\n      <td>1,0,2,4,12</td>\n      <td>0,1,4,7</td>\n      <td>If they are standing in the middle of a quiet ...</td>\n      <td>3 young man in hoods *standing* *in* *the* *m...</td>\n      <td>Three hood wearing people *stand* *in* *a* *s...</td>\n      <td>5,6,7,8,9,11,10,12</td>\n      <td>4,5,6,7</td>\n      <td>Statement: A curly-haired brunette wearing a b...</td>\n      <td>The statements are describing the same thing.</td>\n      <td>equivalence</td>\n    </tr>\n    <tr>\n      <th>997</th>\n      <td>2226343167.jpg#0r1n</td>\n      <td>neutral</td>\n      <td>A woman in skirt, torn stockings and combat bo...</td>\n      <td>The man and woman are going to a movie in the ...</td>\n      <td>walking down a street does not mean they are g...</td>\n      <td>A woman in skirt, torn stockings and combat bo...</td>\n      <td>The man and woman are going to a *movie* in t...</td>\n      <td>{}</td>\n      <td>8</td>\n      <td>The man and woman may be strangers to each oth...</td>\n      <td>...</td>\n      <td>{}</td>\n      <td>1,3,8,11</td>\n      <td>Just because a man and woman are wearing theme...</td>\n      <td>A woman in skirt, torn stockings and combat bo...</td>\n      <td>The man and woman are going to a *movie* in t...</td>\n      <td>{}</td>\n      <td>8</td>\n      <td>Statement: A brown dog standing in water.\\nSta...</td>\n      <td>The statement does not give any indication tha...</td>\n      <td>neutral</td>\n    </tr>\n    <tr>\n      <th>998</th>\n      <td>3389707399.jpg#4r1e</td>\n      <td>entailment</td>\n      <td>Two men shining peoples shoes.</td>\n      <td>Two men shining shoes.</td>\n      <td>Two men are shining shoes if two men are shini...</td>\n      <td>Two *men* *shining* peoples shoes.</td>\n      <td>Two *men* *shining* shoes.</td>\n      <td>1,2</td>\n      <td>1,2</td>\n      <td>Shoes belong to people; therefore, \"Two men sh...</td>\n      <td>...</td>\n      <td>1,4,2</td>\n      <td>1,2,3</td>\n      <td>\"Two men shining shoes\" is a rephrasing of \"tw...</td>\n      <td>Two men *shining* *peoples* *shoes.*</td>\n      <td>Two men *shining* *shoes.*</td>\n      <td>2,3,4</td>\n      <td>2,3</td>\n      <td>Statement: A long-haired person, with a tan co...</td>\n      <td>Shining shoes implies that the shoes belong to...</td>\n      <td>entailment</td>\n    </tr>\n    <tr>\n      <th>999</th>\n      <td>3559425864.jpg#1r1c</td>\n      <td>contradiction</td>\n      <td>Bicyclist ride the course near the ocean as th...</td>\n      <td>The cyclist was riding in the morning.</td>\n      <td>This implies that it is either a (regular) bic...</td>\n      <td>*Bicyclist* ride the course near the ocean as ...</td>\n      <td>*The* *cyclist* was riding in the morning.</td>\n      <td>0</td>\n      <td>1,0</td>\n      <td>Morning and when the day comes to an end are d...</td>\n      <td>...</td>\n      <td>9,10,11,13,12</td>\n      <td>6</td>\n      <td>The day does not come to an end in the morning.</td>\n      <td>Bicyclist ride the course near the ocean as th...</td>\n      <td>The cyclist was riding in the *morning.*</td>\n      <td>9,11,10,12,13</td>\n      <td>6</td>\n      <td>Statement: People with their children shopping...</td>\n      <td>The statement implies the cyclist was riding a...</td>\n      <td>contradiction</td>\n    </tr>\n  </tbody>\n</table>\n<p>1000 rows × 22 columns</p>\n</div>"
     },
     "execution_count": 12,
     "metadata": {},
     "output_type": "execute_result"
    }
   ],
   "source": [
    "test_output"
   ],
   "metadata": {
    "collapsed": false,
    "pycharm": {
     "name": "#%%\n"
    }
   }
  },
  {
   "cell_type": "code",
   "execution_count": 17,
   "outputs": [
    {
     "data": {
      "text/plain": "0.675"
     },
     "execution_count": 17,
     "metadata": {},
     "output_type": "execute_result"
    }
   ],
   "source": [
    "np.mean(test_output.gold_label == test_output.pred_label)"
   ],
   "metadata": {
    "collapsed": false,
    "pycharm": {
     "name": "#%%\n"
    }
   }
  },
  {
   "cell_type": "code",
   "execution_count": 19,
   "outputs": [
    {
     "name": "stdout",
     "output_type": "stream",
     "text": [
      "pred_label     assumption  contradiction  entailment  equivalence  equivalent  \\\n",
      "gold_label                                                                      \n",
      "contradiction           0            299           5            0           0   \n",
      "entailment              0              2         332            3           1   \n",
      "neutral                 1             73         146            1           1   \n",
      "\n",
      "pred_label     implication  inference  neutral  partial entailment  \\\n",
      "gold_label                                                           \n",
      "contradiction            0          0       27                   0   \n",
      "entailment               0          0       16                   1   \n",
      "neutral                  2          4       44                   0   \n",
      "\n",
      "pred_label     redundancy  reinforcement  repetition  speculation  synonym  \\\n",
      "gold_label                                                                   \n",
      "contradiction           0              0           0            1        0   \n",
      "entailment              1              1           1            1        3   \n",
      "neutral                 0              0           0           27        0   \n",
      "\n",
      "pred_label     tautology  unrelated  \n",
      "gold_label                           \n",
      "contradiction          0          4  \n",
      "entailment             3          0  \n",
      "neutral                0          0  \n"
     ]
    }
   ],
   "source": [
    "print(pd.crosstab(test_output.gold_label, test_output.pred_label))"
   ],
   "metadata": {
    "collapsed": false,
    "pycharm": {
     "name": "#%%\n"
    }
   }
  },
  {
   "cell_type": "code",
   "execution_count": null,
   "outputs": [],
   "source": [],
   "metadata": {
    "collapsed": false,
    "pycharm": {
     "name": "#%%\n"
    }
   }
  }
 ],
 "metadata": {
  "kernelspec": {
   "display_name": "Python 3",
   "language": "python",
   "name": "python3"
  },
  "language_info": {
   "codemirror_mode": {
    "name": "ipython",
    "version": 2
   },
   "file_extension": ".py",
   "mimetype": "text/x-python",
   "name": "python",
   "nbconvert_exporter": "python",
   "pygments_lexer": "ipython2",
   "version": "2.7.6"
  }
 },
 "nbformat": 4,
 "nbformat_minor": 0
}