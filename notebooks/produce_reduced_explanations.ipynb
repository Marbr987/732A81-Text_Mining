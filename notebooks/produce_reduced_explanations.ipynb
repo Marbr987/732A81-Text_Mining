{
 "cells": [
  {
   "cell_type": "markdown",
   "source": [
    "# Setup"
   ],
   "metadata": {
    "collapsed": false,
    "pycharm": {
     "name": "#%% md\n"
    }
   }
  },
  {
   "cell_type": "markdown",
   "source": [
    "## Load Packages"
   ],
   "metadata": {
    "collapsed": false,
    "pycharm": {
     "name": "#%% md\n"
    }
   }
  },
  {
   "cell_type": "code",
   "execution_count": 1,
   "outputs": [
    {
     "name": "stderr",
     "output_type": "stream",
     "text": [
      "/Users/marcbraun/.conda/envs/732A81-Text_Mining/lib/python3.10/site-packages/tqdm/auto.py:22: TqdmWarning: IProgress not found. Please update jupyter and ipywidgets. See https://ipywidgets.readthedocs.io/en/stable/user_install.html\n",
      "  from .autonotebook import tqdm as notebook_tqdm\n"
     ]
    }
   ],
   "source": [
    "import random\n",
    "import pandas as pd\n",
    "import numpy as np\n",
    "import matplotlib.pyplot as plt\n",
    "import os\n",
    "import openai\n",
    "import re\n",
    "import time\n",
    "from scripts.prepare_data_helpers import prepare_examples, create_query\n",
    "import spacy\n",
    "import textacy\n",
    "from dotenv import load_dotenv\n",
    "\n",
    "load_dotenv()\n",
    "nlp = spacy.load('en_core_web_sm')"
   ],
   "metadata": {
    "collapsed": false,
    "pycharm": {
     "name": "#%%\n"
    }
   }
  },
  {
   "cell_type": "markdown",
   "source": [
    "## Prepare Data"
   ],
   "metadata": {
    "collapsed": false,
    "pycharm": {
     "name": "#%% md\n"
    }
   }
  },
  {
   "cell_type": "code",
   "execution_count": 2,
   "outputs": [],
   "source": [
    "train1 = pd.read_csv('../../e-SNLI/dataset/esnli_train_1.csv')\n",
    "train2 = pd.read_csv('../../e-SNLI/dataset/esnli_train_2.csv')\n",
    "train = pd.concat([train1, train2])\n",
    "dev = pd.read_csv('../../e-SNLI/dataset/esnli_dev.csv')\n",
    "test = pd.read_csv('../../e-SNLI/dataset/esnli_test.csv')\n",
    "\n",
    "train = train.dropna(subset=['Sentence1', 'Sentence2', 'Explanation_1'])\n",
    "train = train.reset_index(drop=True)\n",
    "\n",
    "np.random.seed(12345) # seed for numpy package\n",
    "test_indices = list(np.random.choice(test.index.values, size=1000, replace=False))\n",
    "test = test.loc[test_indices]\n",
    "test = test.reset_index(drop=True)"
   ],
   "metadata": {
    "collapsed": false,
    "pycharm": {
     "name": "#%%\n"
    }
   }
  },
  {
   "cell_type": "code",
   "execution_count": 3,
   "outputs": [],
   "source": [
    "gpt_pred = pd.read_csv('../output_data/test_predictions_4examples.csv', sep=';')"
   ],
   "metadata": {
    "collapsed": false,
    "pycharm": {
     "name": "#%%\n"
    }
   }
  },
  {
   "cell_type": "code",
   "execution_count": 4,
   "outputs": [],
   "source": [
    "gpt2 = pd.read_json(\"../data/esnli_train.json\")"
   ],
   "metadata": {
    "collapsed": false,
    "pycharm": {
     "name": "#%%\n"
    }
   }
  },
  {
   "cell_type": "markdown",
   "source": [
    "## Prepare Input Sentences"
   ],
   "metadata": {
    "collapsed": false,
    "pycharm": {
     "name": "#%% md\n"
    }
   }
  },
  {
   "cell_type": "code",
   "execution_count": 12,
   "outputs": [],
   "source": [
    "def extract_SVO(txt):\n",
    "    res = list()\n",
    "    doc = nlp(txt)\n",
    "\n",
    "    for cur_nsubj in list(textacy.extract.matches.token_matches(doc, [{\"DEP\": \"nsubj\"}])) + list(textacy.extract.matches.token_matches(doc, [{\"DEP\": \"nsubjpass\"}])):\n",
    "        verbs = list()\n",
    "        if cur_nsubj[0].head.pos_ == \"AUX\":\n",
    "            for cur_verb in textacy.extract.matches.token_matches(doc, [{\"POS\": \"VERB\"}]):\n",
    "                if cur_verb[0].head == cur_nsubj[0]:\n",
    "                    verbs += [cur_verb[0]]\n",
    "        else:\n",
    "            verbs += [cur_nsubj[0].head]\n",
    "        for cur_verb in verbs:\n",
    "            dobjs = list(textacy.extract.matches.token_matches(doc, [{\"DEP\": \"dobj\"}]))\n",
    "            if len(dobjs) == 0:\n",
    "                res += [(cur_nsubj[0], cur_verb, None)]\n",
    "            else:\n",
    "                for cur_dobj in dobjs:\n",
    "                    if cur_dobj[0].head == cur_verb:\n",
    "                        res += [(cur_nsubj[0], cur_verb, cur_dobj[0])]\n",
    "                    else:\n",
    "                        res += [(cur_nsubj[0], cur_verb, None)]\n",
    "\n",
    "\n",
    "    if len(res) == 0:\n",
    "        cur_root = list(textacy.extract.matches.token_matches(doc, [{\"DEP\": \"ROOT\", \"POS\": \"NOUN\"}]))\n",
    "        if len(cur_root) != 0:\n",
    "            cur_root = cur_root[0][0]\n",
    "            for cur_verb in textacy.extract.matches.token_matches(doc, [{\"DEP\": \"acl\"}]):\n",
    "                if cur_verb[0].head == cur_root:\n",
    "                    dobjs = list(textacy.extract.matches.token_matches(doc, [{\"DEP\": \"dobj\"}]))\n",
    "                    if len(dobjs) == 0:\n",
    "                        res += [(cur_root, cur_verb[0], None)]\n",
    "                    for cur_dobj in dobjs:\n",
    "                        if cur_dobj[0].head == cur_verb[0]:\n",
    "                            res += [(cur_root, cur_verb[0], cur_dobj[0])]\n",
    "                        else:\n",
    "                            res += [(cur_root, cur_verb[0], None)]\n",
    "\n",
    "    return res"
   ],
   "metadata": {
    "collapsed": false,
    "pycharm": {
     "name": "#%%\n"
    }
   }
  },
  {
   "cell_type": "code",
   "execution_count": null,
   "outputs": [],
   "source": [
    "gpt_pred['S1_SVO'] = [extract_SVO(gpt_pred.Sentence1.iloc[i]) for i in range(gpt_pred.shape[0])]\n",
    "gpt_pred['S2_SVO'] = [extract_SVO(gpt_pred.Sentence2.iloc[i]) for i in range(gpt_pred.shape[0])]"
   ],
   "metadata": {
    "collapsed": false,
    "pycharm": {
     "name": "#%%\n"
    }
   }
  },
  {
   "cell_type": "code",
   "execution_count": null,
   "outputs": [],
   "source": [
    "gpt_pred[[\"S1_SVO\", \"S2_SVO\", \"Explanation_1\"]]"
   ],
   "metadata": {
    "collapsed": false,
    "pycharm": {
     "name": "#%%\n"
    }
   }
  },
  {
   "cell_type": "code",
   "execution_count": null,
   "outputs": [],
   "source": [
    "has_svo_structure = [not (gpt_pred[\"S1_SVO\"].iloc[i] == list() or gpt_pred[\"S2_SVO\"].iloc[i] == list()) for i in range(gpt_pred.shape[0])]\n",
    "gpt_pred_svo = gpt_pred[has_svo_structure]"
   ],
   "metadata": {
    "collapsed": false,
    "pycharm": {
     "name": "#%%\n"
    }
   }
  },
  {
   "cell_type": "code",
   "execution_count": null,
   "outputs": [],
   "source": [
    "np.mean(has_svo_structure)"
   ],
   "metadata": {
    "collapsed": false,
    "pycharm": {
     "name": "#%%\n"
    }
   }
  },
  {
   "cell_type": "code",
   "execution_count": null,
   "outputs": [],
   "source": [
    "gpt_pred_svo"
   ],
   "metadata": {
    "collapsed": false,
    "pycharm": {
     "name": "#%%\n"
    }
   }
  },
  {
   "cell_type": "markdown",
   "source": [
    "# GPT-3 Explanations"
   ],
   "metadata": {
    "collapsed": false,
    "pycharm": {
     "name": "#%% md\n"
    }
   }
  },
  {
   "cell_type": "code",
   "execution_count": null,
   "outputs": [],
   "source": [
    "n = gpt_pred.shape[0]\n",
    "expls = [nlp(gpt_pred.pred_explanation.iloc[i]) for i in range(n)]"
   ],
   "metadata": {
    "collapsed": false,
    "pycharm": {
     "name": "#%%\n"
    }
   }
  },
  {
   "cell_type": "code",
   "execution_count": null,
   "outputs": [],
   "source": [
    "verbs_sentence = list()\n",
    "\n",
    "cur_index = 0\n",
    "verb_dict = dict()\n",
    "root_term_dict = dict()\n",
    "\n",
    "# loop through each row in the test data\n",
    "for expl in expls:\n",
    "    cur_verbs = list()\n",
    "    neg_root = None\n",
    "    contains_different = False\n",
    "    contains_same = False\n",
    "\n",
    "    # loop through each token in current explanation\n",
    "    for token in expl:\n",
    "        if token.lemma_ == 'different':\n",
    "            contains_different = True\n",
    "        if token.lemma_ == 'same':\n",
    "            contains_same = True\n",
    "        if token.dep_ == 'ROOT':\n",
    "            cur_root = token.lemma_\n",
    "        if token.dep_ == 'neg' and token.head.dep_ == 'ROOT':\n",
    "            neg_root = token.lemma_ + \" \" + token.head.lemma_\n",
    "    if neg_root:\n",
    "        cur_root = neg_root\n",
    "    if contains_different:\n",
    "        cur_root += \" different\"\n",
    "    if contains_same:\n",
    "        cur_root += \" same\"\n",
    "    if cur_root not in root_term_dict.keys():\n",
    "        root_term_dict[cur_root] = [cur_index]\n",
    "    else:\n",
    "        root_term_dict[cur_root] += [cur_index]\n",
    "    cur_index += 1"
   ],
   "metadata": {
    "collapsed": false,
    "pycharm": {
     "name": "#%%\n"
    }
   }
  },
  {
   "cell_type": "code",
   "execution_count": null,
   "outputs": [],
   "source": [
    "pd.Series(root_term_dict).apply(lambda x: len(x)).sort_values(ascending=False)"
   ],
   "metadata": {
    "collapsed": false,
    "pycharm": {
     "name": "#%%\n"
    }
   }
  },
  {
   "cell_type": "code",
   "execution_count": null,
   "outputs": [],
   "source": [
    "print(\"Max number of SVO structures in sentence 1: \", gpt_pred.S1_SVO.apply(lambda x: len(x)).max())\n",
    "print(\"Max number of SVO structures in sentence 2: \", gpt_pred.S2_SVO.apply(lambda x: len(x)).max())"
   ],
   "metadata": {
    "collapsed": false,
    "pycharm": {
     "name": "#%%\n"
    }
   }
  },
  {
   "cell_type": "code",
   "execution_count": null,
   "outputs": [],
   "source": [
    "for i in root_term_dict.keys():\n",
    "    doc = nlp(i)\n",
    "    print([doc[j] for j in range(len(doc))])"
   ],
   "metadata": {
    "collapsed": false,
    "pycharm": {
     "name": "#%%\n"
    }
   }
  },
  {
   "cell_type": "code",
   "execution_count": null,
   "outputs": [],
   "source": [
    "gpt_pred[\"reduced_expl\"] = None\n",
    "for root_term in root_term_dict.keys():\n",
    "    for i in root_term_dict[root_term]:\n",
    "        try:\n",
    "            temp = list()\n",
    "            doc = nlp(gpt_pred.loc[i].pred_explanation)\n",
    "            for token in doc:\n",
    "                new_word = None\n",
    "                add_S1S2 = False\n",
    "                root_doc = nlp(root_term)\n",
    "                if token.lemma_ in [root_doc[j].lemma_ for j in range(len(root_doc))]:\n",
    "                    temp += [token.lemma_]\n",
    "                for SVO_structure in gpt_pred.loc[i].S1_SVO:\n",
    "                    if token.lemma_ == SVO_structure[0].lemma_:\n",
    "                        new_word = \"S1_Subj\"\n",
    "                    if not pd.isna(SVO_structure[1]):\n",
    "                        if token.lemma_ == SVO_structure[1].lemma_:\n",
    "                            new_word = \"S1_Verb\"\n",
    "                    if not pd.isna(SVO_structure[2]):\n",
    "                        if token.lemma_ == SVO_structure[2].lemma_:\n",
    "                            new_word = \"S1_Obj\"\n",
    "                for SVO_structure in gpt_pred.loc[i].S2_SVO:\n",
    "                    if token.lemma_ == SVO_structure[0].lemma_:\n",
    "                        if new_word:\n",
    "                            temp += [\"S1S2_Subj\"]\n",
    "                            add_S1S2 = True\n",
    "                        else:\n",
    "                            temp += [\"S2_Subj\"]\n",
    "                    if not pd.isna(SVO_structure[1]):\n",
    "                        if token.lemma_ == SVO_structure[1].lemma_:\n",
    "                            if new_word:\n",
    "                                temp += [\"S1S2_Verb\"]\n",
    "                                add_S1S2 = True\n",
    "                            else:\n",
    "                                temp += [\"S2_Verb\"]\n",
    "                    if not pd.isna(SVO_structure[2]):\n",
    "                        if token.lemma_ == SVO_structure[2].lemma_:\n",
    "                            if new_word:\n",
    "                                temp += [\"S1S2_Obj\"]\n",
    "                                add_S1S2 = True\n",
    "                            else:\n",
    "                                temp += [\"S2_Obj\"]\n",
    "                if not pd.isna(new_word) and not add_S1S2:\n",
    "                    temp += [new_word]\n",
    "            gpt_pred['reduced_expl'].loc[i] = temp\n",
    "        except:\n",
    "            None"
   ],
   "metadata": {
    "collapsed": false,
    "pycharm": {
     "name": "#%%\n"
    }
   }
  },
  {
   "cell_type": "code",
   "execution_count": null,
   "outputs": [],
   "source": [
    "gpt_pred[\"pos_expl\"] = None\n",
    "for i, row in gpt_pred.iterrows():\n",
    "    temp = list()\n",
    "    doc_expl = nlp(row.pred_explanation)\n",
    "    doc_S1 = nlp(row.Sentence1)\n",
    "    doc_S2 = nlp(row.Sentence2)\n",
    "    for token in doc_expl:\n",
    "        if (token.lemma_ == \"not\" or token.lemma_ == \"be\" or not token.is_stop) and token.pos_ != \"PUNCT\":\n",
    "            add_S1S2 = False\n",
    "            new_word = None\n",
    "            for S1_token in doc_S1:\n",
    "                if S1_token.lemma_ == token.lemma_:\n",
    "                    if token.lemma_ in [S2_token.lemma_ for S2_token in doc_S2]:\n",
    "                        new_word = \"S1S2_\" + S1_token.pos_\n",
    "                        add_S1S2 = True\n",
    "                    else:\n",
    "                        new_word = \"S1_\" + S1_token.pos_\n",
    "                    # Avoid multiple POS get added\n",
    "                    break\n",
    "            if not add_S1S2:\n",
    "                for S2_token in doc_S2:\n",
    "                    if S2_token.lemma_ == token.lemma_:\n",
    "                        new_word = \"S2_\" + S2_token.pos_\n",
    "            if token.lemma_ == \"be\":\n",
    "                new_word = \"be\"\n",
    "            if pd.isna(new_word):\n",
    "                new_word = token.lemma_\n",
    "            temp += [new_word]\n",
    "    gpt_pred.pos_expl.loc[i] = temp"
   ],
   "metadata": {
    "collapsed": false,
    "pycharm": {
     "name": "#%%\n"
    }
   }
  },
  {
   "cell_type": "code",
   "execution_count": null,
   "outputs": [],
   "source": [
    "gpt_pred[[\"S1_SVO\", \"S2_SVO\", \"Sentence1\", \"Sentence2\", \"pred_explanation\", \"reduced_expl\", \"pos_expl\"]]"
   ],
   "metadata": {
    "collapsed": false,
    "pycharm": {
     "name": "#%%\n"
    }
   }
  },
  {
   "cell_type": "markdown",
   "source": [
    "# Gold Explanation"
   ],
   "metadata": {
    "collapsed": false,
    "pycharm": {
     "name": "#%% md\n"
    }
   }
  },
  {
   "cell_type": "code",
   "execution_count": null,
   "outputs": [],
   "source": [
    "n = gpt_pred.shape[0]\n",
    "expls = [nlp(gpt_pred.Explanation_1.iloc[i]) for i in range(n)]"
   ],
   "metadata": {
    "collapsed": false,
    "pycharm": {
     "name": "#%%\n"
    }
   }
  },
  {
   "cell_type": "code",
   "execution_count": null,
   "outputs": [],
   "source": [
    "verbs_sentence = list()\n",
    "\n",
    "cur_index = 0\n",
    "verb_dict = dict()\n",
    "root_term_dict = dict()\n",
    "\n",
    "# loop through each row in the test data\n",
    "for expl in expls:\n",
    "    cur_verbs = list()\n",
    "    neg_root = None\n",
    "    contains_different = False\n",
    "    contains_same = False\n",
    "\n",
    "    # loop through each token in current explanation\n",
    "    for token in expl:\n",
    "        if token.lemma_ == 'different':\n",
    "            contains_different = True\n",
    "        if token.lemma_ == 'same':\n",
    "            contains_same = True\n",
    "        if token.dep_ == 'ROOT':\n",
    "            cur_root = token.lemma_\n",
    "        if token.dep_ == 'neg' and token.head.dep_ == 'ROOT':\n",
    "            neg_root = token.lemma_ + \" \" + token.head.lemma_\n",
    "    if neg_root:\n",
    "        cur_root = neg_root\n",
    "    if contains_different:\n",
    "        cur_root += \" different\"\n",
    "    if contains_same:\n",
    "        cur_root += \" same\"\n",
    "    if cur_root not in root_term_dict.keys():\n",
    "        root_term_dict[cur_root] = [cur_index]\n",
    "    else:\n",
    "        root_term_dict[cur_root] += [cur_index]\n",
    "    cur_index += 1"
   ],
   "metadata": {
    "collapsed": false,
    "pycharm": {
     "name": "#%%\n"
    }
   }
  },
  {
   "cell_type": "code",
   "execution_count": null,
   "outputs": [],
   "source": [
    "pd.Series(root_term_dict).apply(lambda x: len(x)).sort_values(ascending=False)"
   ],
   "metadata": {
    "collapsed": false,
    "pycharm": {
     "name": "#%%\n"
    }
   }
  },
  {
   "cell_type": "code",
   "execution_count": null,
   "outputs": [],
   "source": [
    "print(\"Max number of SVO structures in sentence 1: \", gpt_pred.S1_SVO.apply(lambda x: len(x)).max())\n",
    "print(\"Max number of SVO structures in sentence 2: \", gpt_pred.S2_SVO.apply(lambda x: len(x)).max())"
   ],
   "metadata": {
    "collapsed": false,
    "pycharm": {
     "name": "#%%\n"
    }
   }
  },
  {
   "cell_type": "code",
   "execution_count": null,
   "outputs": [],
   "source": [
    "for i in root_term_dict.keys():\n",
    "    doc = nlp(i)\n",
    "    print([doc[j] for j in range(len(doc))])"
   ],
   "metadata": {
    "collapsed": false,
    "pycharm": {
     "name": "#%%\n"
    }
   }
  },
  {
   "cell_type": "code",
   "execution_count": null,
   "outputs": [],
   "source": [
    "gpt_pred[\"reduced_gold_expl\"] = None\n",
    "for root_term in root_term_dict.keys():\n",
    "    for i in root_term_dict[root_term]:\n",
    "        try:\n",
    "            temp = list()\n",
    "            doc = nlp(gpt_pred.loc[i].Explanation_1)\n",
    "            for token in doc:\n",
    "                new_word = None\n",
    "                add_S1S2 = False\n",
    "                root_doc = nlp(root_term)\n",
    "                if token.lemma_ in [root_doc[j].lemma_ for j in range(len(root_doc))]:\n",
    "                    temp += [token.lemma_]\n",
    "                for SVO_structure in gpt_pred.loc[i].S1_SVO:\n",
    "                    if token.lemma_ == SVO_structure[0].lemma_:\n",
    "                        new_word = \"S1_Subj\"\n",
    "                    if not pd.isna(SVO_structure[1]):\n",
    "                        if token.lemma_ == SVO_structure[1].lemma_:\n",
    "                            new_word = \"S1_Verb\"\n",
    "                    if not pd.isna(SVO_structure[2]):\n",
    "                        if token.lemma_ == SVO_structure[2].lemma_:\n",
    "                            new_word = \"S1_Obj\"\n",
    "                for SVO_structure in gpt_pred.loc[i].S2_SVO:\n",
    "                    if token.lemma_ == SVO_structure[0].lemma_:\n",
    "                        if new_word:\n",
    "                            temp += [\"S1S2_Subj\"]\n",
    "                            add_S1S2 = True\n",
    "                        else:\n",
    "                            temp += [\"S2_Subj\"]\n",
    "                    if not pd.isna(SVO_structure[1]):\n",
    "                        if token.lemma_ == SVO_structure[1].lemma_:\n",
    "                            if new_word:\n",
    "                                temp += [\"S1S2_Verb\"]\n",
    "                                add_S1S2 = True\n",
    "                            else:\n",
    "                                temp += [\"S2_Verb\"]\n",
    "                    if not pd.isna(SVO_structure[2]):\n",
    "                        if token.lemma_ == SVO_structure[2].lemma_:\n",
    "                            if new_word:\n",
    "                                temp += [\"S1S2_Obj\"]\n",
    "                                add_S1S2 = True\n",
    "                            else:\n",
    "                                temp += [\"S2_Obj\"]\n",
    "                if not pd.isna(new_word) and not add_S1S2:\n",
    "                    temp += [new_word]\n",
    "            gpt_pred['reduced_gold_expl'].loc[i] = temp\n",
    "        except:\n",
    "            None"
   ],
   "metadata": {
    "collapsed": false,
    "pycharm": {
     "name": "#%%\n"
    }
   }
  },
  {
   "cell_type": "code",
   "execution_count": null,
   "outputs": [],
   "source": [
    "gpt_pred[\"pos_gold_expl\"] = None\n",
    "for i, row in gpt_pred.iterrows():\n",
    "    temp = list()\n",
    "    doc_expl = nlp(row.Explanation_1)\n",
    "    doc_S1 = nlp(row.Sentence1)\n",
    "    doc_S2 = nlp(row.Sentence2)\n",
    "    for token in doc_expl:\n",
    "        if (token.lemma_ == \"not\" or token.lemma_ == \"be\" or not token.is_stop) and token.pos_ != \"PUNCT\":\n",
    "            add_S1S2 = False\n",
    "            new_word = None\n",
    "            for S1_token in doc_S1:\n",
    "                if S1_token.lemma_ == token.lemma_:\n",
    "                    if token.lemma_ in [S2_token.lemma_ for S2_token in doc_S2]:\n",
    "                        new_word = \"S1S2_\" + S1_token.pos_\n",
    "                        add_S1S2 = True\n",
    "                    else:\n",
    "                        new_word = \"S1_\" + S1_token.pos_\n",
    "                    # Avoid multiple POS get added\n",
    "                    break\n",
    "            if not add_S1S2:\n",
    "                for S2_token in doc_S2:\n",
    "                    if S2_token.lemma_ == token.lemma_:\n",
    "                        new_word = \"S2_\" + S2_token.pos_\n",
    "            if token.lemma_ == \"be\":\n",
    "                new_word = \"be\"\n",
    "            if pd.isna(new_word):\n",
    "                new_word = token.lemma_\n",
    "            temp += [new_word]\n",
    "    gpt_pred.pos_gold_expl.loc[i] = temp"
   ],
   "metadata": {
    "collapsed": false,
    "pycharm": {
     "name": "#%%\n"
    }
   }
  },
  {
   "cell_type": "code",
   "execution_count": null,
   "outputs": [],
   "source": [
    "gpt_pred[[\"S1_SVO\", \"S2_SVO\", \"Sentence1\", \"Sentence2\", \"pred_explanation\", \"reduced_expl\", \"pos_expl\", \"reduced_gold_expl\", \"pos_gold_expl\"]]"
   ],
   "metadata": {
    "collapsed": false,
    "pycharm": {
     "name": "#%%\n"
    }
   }
  },
  {
   "cell_type": "markdown",
   "source": [
    "# GPT-2 Explanations"
   ],
   "metadata": {
    "collapsed": false,
    "pycharm": {
     "name": "#%% md\n"
    }
   }
  },
  {
   "cell_type": "code",
   "execution_count": 4,
   "outputs": [
    {
     "data": {
      "text/plain": "         index  cls_labels               groups  \\\n123852  123852           2  2023529314.jpg#4r1e   \n272061  272061           0   441489325.jpg#2r1c   \n140514  140514           2   188244881.jpg#3r1e   \n57451    57451           0   284028406.jpg#0r1c   \n166846  166846           0  7599430126.jpg#4r1c   \n\n                                                  premise  \\\n123852                  Man enjoying life while skydiving   \n272061  A red-haired woman in a white and purple outfi...   \n140514   A man is standing at a bus stop reading a paper.   \n57451   A man wearing a gray cap, gold jewelry and win...   \n166846  A man wearing a mask plays music by the side o...   \n\n                                  hypothesis  \\\n123852                 A person is skydiving   \n272061        A woman is next to a blue SUV.   \n140514            A person is at a bus stop.   \n57451               There is a man swimming.   \n166846  A man is walking through an airport.   \n\n                                             explanations  labels data_id  \\\n123852  A man is a person. If a person is \"enjoying li...       2   esnli   \n272061             A red sports car cannot be a blue SUV.       0   esnli   \n140514    A man is a person and standing at is same as at       2   esnli   \n57451   One does not typically wear a gray cap, gold j...       0   esnli   \n166846  Playing music on the side of the road cannot t...       0   esnli   \n\n                                                generated  \n123852                                 A man is a person.  \n272061                A red sports car is not a blue SUV.  \n140514                                 A man is a person.  \n57451   A man wearing a gray cap, gold jewelry and win...  \n166846  One cannot be walking through an airport and b...  ",
      "text/html": "<div>\n<style scoped>\n    .dataframe tbody tr th:only-of-type {\n        vertical-align: middle;\n    }\n\n    .dataframe tbody tr th {\n        vertical-align: top;\n    }\n\n    .dataframe thead th {\n        text-align: right;\n    }\n</style>\n<table border=\"1\" class=\"dataframe\">\n  <thead>\n    <tr style=\"text-align: right;\">\n      <th></th>\n      <th>index</th>\n      <th>cls_labels</th>\n      <th>groups</th>\n      <th>premise</th>\n      <th>hypothesis</th>\n      <th>explanations</th>\n      <th>labels</th>\n      <th>data_id</th>\n      <th>generated</th>\n    </tr>\n  </thead>\n  <tbody>\n    <tr>\n      <th>123852</th>\n      <td>123852</td>\n      <td>2</td>\n      <td>2023529314.jpg#4r1e</td>\n      <td>Man enjoying life while skydiving</td>\n      <td>A person is skydiving</td>\n      <td>A man is a person. If a person is \"enjoying li...</td>\n      <td>2</td>\n      <td>esnli</td>\n      <td>A man is a person.</td>\n    </tr>\n    <tr>\n      <th>272061</th>\n      <td>272061</td>\n      <td>0</td>\n      <td>441489325.jpg#2r1c</td>\n      <td>A red-haired woman in a white and purple outfi...</td>\n      <td>A woman is next to a blue SUV.</td>\n      <td>A red sports car cannot be a blue SUV.</td>\n      <td>0</td>\n      <td>esnli</td>\n      <td>A red sports car is not a blue SUV.</td>\n    </tr>\n    <tr>\n      <th>140514</th>\n      <td>140514</td>\n      <td>2</td>\n      <td>188244881.jpg#3r1e</td>\n      <td>A man is standing at a bus stop reading a paper.</td>\n      <td>A person is at a bus stop.</td>\n      <td>A man is a person and standing at is same as at</td>\n      <td>2</td>\n      <td>esnli</td>\n      <td>A man is a person.</td>\n    </tr>\n    <tr>\n      <th>57451</th>\n      <td>57451</td>\n      <td>0</td>\n      <td>284028406.jpg#0r1c</td>\n      <td>A man wearing a gray cap, gold jewelry and win...</td>\n      <td>There is a man swimming.</td>\n      <td>One does not typically wear a gray cap, gold j...</td>\n      <td>0</td>\n      <td>esnli</td>\n      <td>A man wearing a gray cap, gold jewelry and win...</td>\n    </tr>\n    <tr>\n      <th>166846</th>\n      <td>166846</td>\n      <td>0</td>\n      <td>7599430126.jpg#4r1c</td>\n      <td>A man wearing a mask plays music by the side o...</td>\n      <td>A man is walking through an airport.</td>\n      <td>Playing music on the side of the road cannot t...</td>\n      <td>0</td>\n      <td>esnli</td>\n      <td>One cannot be walking through an airport and b...</td>\n    </tr>\n  </tbody>\n</table>\n</div>"
     },
     "execution_count": 4,
     "metadata": {},
     "output_type": "execute_result"
    }
   ],
   "source": [
    "gpt2 = pd.read_json(\"../data/esnli_train.json\")\n",
    "np.random.seed(12345) # seed for numpy package\n",
    "test_indices = list(np.random.choice(gpt2.index.values, size=1000, replace=False))\n",
    "gpt2 = gpt2.loc[test_indices]\n",
    "gpt2.head()"
   ],
   "metadata": {
    "collapsed": false,
    "pycharm": {
     "name": "#%%\n"
    }
   }
  },
  {
   "cell_type": "code",
   "execution_count": 7,
   "outputs": [],
   "source": [
    "n = gpt2.shape[0]\n",
    "expls = [nlp(gpt2.generated.iloc[i]) for i in range(n)]"
   ],
   "metadata": {
    "collapsed": false,
    "pycharm": {
     "name": "#%%\n"
    }
   }
  },
  {
   "cell_type": "code",
   "execution_count": 8,
   "outputs": [],
   "source": [
    "verbs_sentence = list()\n",
    "\n",
    "cur_index = 0\n",
    "verb_dict = dict()\n",
    "root_term_dict = dict()\n",
    "\n",
    "# loop through each row in the test data\n",
    "for expl in expls:\n",
    "    cur_verbs = list()\n",
    "    neg_root = None\n",
    "    contains_different = False\n",
    "    contains_same = False\n",
    "\n",
    "    # loop through each token in current explanation\n",
    "    for token in expl:\n",
    "        if token.lemma_ == 'different':\n",
    "            contains_different = True\n",
    "        if token.lemma_ == 'same':\n",
    "            contains_same = True\n",
    "        if token.dep_ == 'ROOT':\n",
    "            cur_root = token.lemma_\n",
    "        if token.dep_ == 'neg' and token.head.dep_ == 'ROOT':\n",
    "            neg_root = token.lemma_ + \" \" + token.head.lemma_\n",
    "    if neg_root:\n",
    "        cur_root = neg_root\n",
    "    if contains_different:\n",
    "        cur_root += \" different\"\n",
    "    if contains_same:\n",
    "        cur_root += \" same\"\n",
    "    if cur_root not in root_term_dict.keys():\n",
    "        root_term_dict[cur_root] = [cur_index]\n",
    "    else:\n",
    "        root_term_dict[cur_root] += [cur_index]\n",
    "    cur_index += 1"
   ],
   "metadata": {
    "collapsed": false,
    "pycharm": {
     "name": "#%%\n"
    }
   }
  },
  {
   "cell_type": "code",
   "execution_count": 9,
   "outputs": [
    {
     "data": {
      "text/plain": "be                265\nnot be            126\nnot mean           81\nnot imply          58\nnot be same        39\n                 ... \nnot move            1\nkiss                1\nnot climb           1\nspray               1\nnot reach same      1\nLength: 201, dtype: int64"
     },
     "execution_count": 9,
     "metadata": {},
     "output_type": "execute_result"
    }
   ],
   "source": [
    "pd.Series(root_term_dict).apply(lambda x: len(x)).sort_values(ascending=False)"
   ],
   "metadata": {
    "collapsed": false,
    "pycharm": {
     "name": "#%%\n"
    }
   }
  },
  {
   "cell_type": "code",
   "execution_count": 13,
   "outputs": [],
   "source": [
    "gpt2['S1_SVO'] = [extract_SVO(gpt2.premise.iloc[i]) for i in range(gpt2.shape[0])]\n",
    "gpt2['S2_SVO'] = [extract_SVO(gpt2.hypothesis.iloc[i]) for i in range(gpt2.shape[0])]"
   ],
   "metadata": {
    "collapsed": false,
    "pycharm": {
     "name": "#%%\n"
    }
   }
  },
  {
   "cell_type": "code",
   "execution_count": 14,
   "outputs": [
    {
     "name": "stdout",
     "output_type": "stream",
     "text": [
      "Max number of SVO structures in sentence 1:  25\n",
      "Max number of SVO structures in sentence 2:  4\n"
     ]
    }
   ],
   "source": [
    "print(\"Max number of SVO structures in sentence 1: \", gpt2.S1_SVO.apply(lambda x: len(x)).max())\n",
    "print(\"Max number of SVO structures in sentence 2: \", gpt2.S2_SVO.apply(lambda x: len(x)).max())"
   ],
   "metadata": {
    "collapsed": false,
    "pycharm": {
     "name": "#%%\n"
    }
   }
  },
  {
   "cell_type": "code",
   "execution_count": 15,
   "outputs": [
    {
     "name": "stdout",
     "output_type": "stream",
     "text": [
      "[be]\n",
      "[not, be]\n",
      "[not, be, same]\n",
      "[not, walk, same]\n",
      "[not, mean]\n",
      "[not, seat, same]\n",
      "[not, read]\n",
      "[not, eat]\n",
      "[sit, same]\n",
      "[not, imply]\n",
      "[singe]\n",
      "[not, sit, same]\n",
      "[not, play]\n",
      "[not, watch]\n",
      "[perform]\n",
      "[prepare]\n",
      "[be, same]\n",
      "[wear]\n",
      "[not, sleep, same]\n",
      "[not, swim, same]\n",
      "[jump]\n",
      "[not, hold, same]\n",
      "[not, take, same]\n",
      "[not, drive]\n",
      "[be, different]\n",
      "[not, relax]\n",
      "[not, indicate]\n",
      "[not, ride, same]\n",
      "[infer]\n",
      "[screw]\n",
      "[enjoy]\n",
      "[eat, same]\n",
      "[repel]\n",
      "[not, walk]\n",
      "[imply]\n",
      "[gather]\n",
      "[swinge]\n",
      "[not, find]\n",
      "[dress]\n",
      "[play]\n",
      "[get]\n",
      "[have]\n",
      "[not, read, same]\n",
      "[not, swim]\n",
      "[make]\n",
      "[not, sit]\n",
      "[not, stand, same]\n",
      "[not, look, different]\n",
      "[not, replace]\n",
      "[not, run, same]\n",
      "[not, mean, same]\n",
      "[walk]\n",
      "[run]\n",
      "[push]\n",
      "[not, give]\n",
      "[wait]\n",
      "[not, build]\n",
      "[not, kickboxe, same]\n",
      "[work]\n",
      "[look]\n",
      "[read]\n",
      "[try]\n",
      "[hold]\n",
      "[eat]\n",
      "[not, enjoy]\n",
      "[not, singe, same]\n",
      "[not, greet, same]\n",
      "[not, go, same]\n",
      "[not, supervise]\n",
      "[not, infer]\n",
      "[mean]\n",
      "[do]\n",
      "[stand]\n",
      "[carry]\n",
      "[fly]\n",
      "[expect]\n",
      "[use]\n",
      "[not, play, same]\n",
      "[smile]\n",
      "[mow]\n",
      "[attempt]\n",
      "[wave]\n",
      "[not, wear]\n",
      "[not, fight, same]\n",
      "[not, ride]\n",
      "[surfer]\n",
      "[either, be]\n",
      "[not, drink, same]\n",
      "[throw]\n",
      "[not, do, same]\n",
      "[talk]\n",
      "[lean]\n",
      "[spray]\n",
      "[not, wear, same]\n",
      "[not, climb]\n",
      "[kiss]\n",
      "[not, move]\n",
      "[show]\n",
      "[not, scrub, same]\n",
      "[sit]\n",
      "[not, talk]\n",
      "[watch]\n",
      "[not, toss, same]\n",
      "[not, locate]\n",
      "[crowd]\n",
      "[climb]\n",
      "[not, cut, same]\n",
      "[not, eat, same]\n",
      "[not, toss]\n",
      "[brush]\n",
      "[touch]\n",
      "[not, lean, same]\n",
      "[not, hold]\n",
      "[not, blow, same]\n",
      "[catch]\n",
      "[not, work]\n",
      "[cut]\n",
      "[take]\n",
      "[not, pose, same]\n",
      "[not, jog, same]\n",
      "[not, rest, same]\n",
      "[not, jog]\n",
      "[not, march]\n",
      "[not, repair, same]\n",
      "[not, hug, same]\n",
      "[not, cross]\n",
      "[not, take]\n",
      "[not, mind]\n",
      "[not, smile, same]\n",
      "[drag]\n",
      "[transport]\n",
      "[not, pick, same]\n",
      "[wade]\n",
      "[not, sell, same]\n",
      "[not, go]\n",
      "[outside]\n",
      "[bound]\n",
      "[equal]\n",
      "[clean]\n",
      "[paint]\n",
      "[start]\n",
      "[not, do]\n",
      "[pose]\n",
      "[not, get, same]\n",
      "[not, jump, same]\n",
      "[contain]\n",
      "[not, stand]\n",
      "[not, ski, same]\n",
      "[not, carry]\n",
      "[not, put, same]\n",
      "[not, kneel, same]\n",
      "[not, lay]\n",
      "[run, same]\n",
      "[not, try]\n",
      "[not, raise, same]\n",
      "[not, use, same]\n",
      "[not, throw, same]\n",
      "[ride]\n",
      "[not, hike, same]\n",
      "[not, drink]\n",
      "[not, climb, same]\n",
      "[get, same]\n",
      "[situate]\n",
      "[not, look]\n",
      "[pour]\n",
      "[not, throw]\n",
      "[kneel]\n",
      "[lie]\n",
      "[not, feed]\n",
      "[advertise]\n",
      "[not, flip]\n",
      "[not, look, same]\n",
      "[splash]\n",
      "[drive, same]\n",
      "[not, have, same]\n",
      "[give]\n",
      "[visit]\n",
      "[not, laugh, same]\n",
      "[not, have]\n",
      "[not, carry, same]\n",
      "[not, snowboard, same]\n",
      "[not, pose]\n",
      "[not, leave]\n",
      "[practice]\n",
      "[engage]\n",
      "[not, dress, same]\n",
      "[not, stick]\n",
      "[fish]\n",
      "[not, surf, same]\n",
      "[help]\n",
      "[dance]\n",
      "[compete]\n",
      "[need]\n",
      "[not, sell]\n",
      "[not, run]\n",
      "[not, cross, same]\n",
      "[examine]\n",
      "[find]\n",
      "[hit]\n",
      "[not, signal]\n",
      "[not, reach, same]\n"
     ]
    }
   ],
   "source": [
    "for i in root_term_dict.keys():\n",
    "    doc = nlp(i)\n",
    "    print([doc[j] for j in range(len(doc))])"
   ],
   "metadata": {
    "collapsed": false,
    "pycharm": {
     "name": "#%%\n"
    }
   }
  },
  {
   "cell_type": "code",
   "execution_count": 36,
   "outputs": [
    {
     "name": "stderr",
     "output_type": "stream",
     "text": [
      "/var/folders/lp/djryk53n11b_ww_n9xbjm4s80000gn/T/ipykernel_37252/3322686653.py:45: SettingWithCopyWarning: \n",
      "A value is trying to be set on a copy of a slice from a DataFrame\n",
      "\n",
      "See the caveats in the documentation: https://pandas.pydata.org/pandas-docs/stable/user_guide/indexing.html#returning-a-view-versus-a-copy\n",
      "  gpt2['reduced_expl'].iloc[i] = temp\n"
     ]
    }
   ],
   "source": [
    "gpt2[\"reduced_expl\"] = None\n",
    "for root_term in root_term_dict.keys():\n",
    "    for i in root_term_dict[root_term]:\n",
    "        #try:\n",
    "            temp = list()\n",
    "            doc = nlp(gpt2.iloc[i].generated)\n",
    "            for token in doc:\n",
    "                new_word = None\n",
    "                add_S1S2 = False\n",
    "                root_doc = nlp(root_term)\n",
    "                if token.lemma_ in [root_doc[j].lemma_ for j in range(len(root_doc))]:\n",
    "                    temp += [token.lemma_]\n",
    "                for SVO_structure in gpt2.iloc[i].S1_SVO:\n",
    "                    if token.lemma_ == SVO_structure[0].lemma_:\n",
    "                        new_word = \"S1_Subj\"\n",
    "                    if not pd.isna(SVO_structure[1]):\n",
    "                        if token.lemma_ == SVO_structure[1].lemma_:\n",
    "                            new_word = \"S1_Verb\"\n",
    "                    if not pd.isna(SVO_structure[2]):\n",
    "                        if token.lemma_ == SVO_structure[2].lemma_:\n",
    "                            new_word = \"S1_Obj\"\n",
    "                for SVO_structure in gpt2.iloc[i].S2_SVO:\n",
    "                    if token.lemma_ == SVO_structure[0].lemma_:\n",
    "                        if new_word:\n",
    "                            temp += [\"S1S2_Subj\"]\n",
    "                            add_S1S2 = True\n",
    "                        else:\n",
    "                            temp += [\"S2_Subj\"]\n",
    "                    if not pd.isna(SVO_structure[1]):\n",
    "                        if token.lemma_ == SVO_structure[1].lemma_:\n",
    "                            if new_word:\n",
    "                                temp += [\"S1S2_Verb\"]\n",
    "                                add_S1S2 = True\n",
    "                            else:\n",
    "                                temp += [\"S2_Verb\"]\n",
    "                    if not pd.isna(SVO_structure[2]):\n",
    "                        if token.lemma_ == SVO_structure[2].lemma_:\n",
    "                            if new_word:\n",
    "                                temp += [\"S1S2_Obj\"]\n",
    "                                add_S1S2 = True\n",
    "                            else:\n",
    "                                temp += [\"S2_Obj\"]\n",
    "                if not pd.isna(new_word) and not add_S1S2:\n",
    "                    temp += [new_word]\n",
    "            gpt2['reduced_expl'].iloc[i] = temp\n",
    "        #except:\n",
    "         #   None"
   ],
   "metadata": {
    "collapsed": false,
    "pycharm": {
     "name": "#%%\n"
    }
   }
  },
  {
   "cell_type": "code",
   "execution_count": 18,
   "outputs": [
    {
     "name": "stderr",
     "output_type": "stream",
     "text": [
      "/var/folders/lp/djryk53n11b_ww_n9xbjm4s80000gn/T/ipykernel_37252/2755865490.py:29: SettingWithCopyWarning: \n",
      "A value is trying to be set on a copy of a slice from a DataFrame\n",
      "\n",
      "See the caveats in the documentation: https://pandas.pydata.org/pandas-docs/stable/user_guide/indexing.html#returning-a-view-versus-a-copy\n",
      "  gpt2.pos_expl.loc[i] = temp\n"
     ]
    }
   ],
   "source": [
    "gpt2[\"pos_expl\"] = None\n",
    "for i, row in gpt2.iterrows():\n",
    "    temp = list()\n",
    "    doc_expl = nlp(row.generated)\n",
    "    doc_S1 = nlp(row.premise)\n",
    "    doc_S2 = nlp(row.hypothesis)\n",
    "    for token in doc_expl:\n",
    "        if (token.lemma_ == \"not\" or token.lemma_ == \"be\" or not token.is_stop) and token.pos_ != \"PUNCT\":\n",
    "            add_S1S2 = False\n",
    "            new_word = None\n",
    "            for S1_token in doc_S1:\n",
    "                if S1_token.lemma_ == token.lemma_:\n",
    "                    if token.lemma_ in [S2_token.lemma_ for S2_token in doc_S2]:\n",
    "                        new_word = \"S1S2_\" + S1_token.pos_\n",
    "                        add_S1S2 = True\n",
    "                    else:\n",
    "                        new_word = \"S1_\" + S1_token.pos_\n",
    "                    # Avoid multiple POS get added\n",
    "                    break\n",
    "            if not add_S1S2:\n",
    "                for S2_token in doc_S2:\n",
    "                    if S2_token.lemma_ == token.lemma_:\n",
    "                        new_word = \"S2_\" + S2_token.pos_\n",
    "            if token.lemma_ == \"be\":\n",
    "                new_word = \"be\"\n",
    "            if pd.isna(new_word):\n",
    "                new_word = token.lemma_\n",
    "            temp += [new_word]\n",
    "    gpt2.pos_expl.loc[i] = temp"
   ],
   "metadata": {
    "collapsed": false,
    "pycharm": {
     "name": "#%%\n"
    }
   }
  },
  {
   "cell_type": "code",
   "execution_count": 38,
   "outputs": [
    {
     "data": {
      "text/plain": "         index  cls_labels               groups  \\\n123852  123852           2  2023529314.jpg#4r1e   \n272061  272061           0   441489325.jpg#2r1c   \n140514  140514           2   188244881.jpg#3r1e   \n57451    57451           0   284028406.jpg#0r1c   \n166846  166846           0  7599430126.jpg#4r1c   \n143000  143000           2  4690240999.jpg#1r1e   \n43267    43267           1  2552438538.jpg#2r1n   \n100479  100479           2  2092922849.jpg#0r1e   \n258234  258234           2  2086532897.jpg#2r1e   \n90521    90521           0  7734754954.jpg#3r1c   \n172711  172711           2  3488837187.jpg#0r1e   \n137522  137522           1  2050956538.jpg#1r1n   \n175416  175416           0  2335504881.jpg#2r1c   \n35704    35704           0  4601634498.jpg#2r1c   \n144780  144780           0  1450988692.jpg#0r3c   \n42830    42830           0   412082368.jpg#1r1c   \n178055  178055           0  7833974088.jpg#0r1c   \n35366    35366           2  6847387474.jpg#2r1e   \n143570  143570           2  2497608431.jpg#3r1e   \n135052  135052           1   370445133.jpg#4r1n   \n137754  137754           2  4107219685.jpg#4r1e   \n17494    17494           0  3479245321.jpg#1r1c   \n233812  233812           1   241345981.jpg#4r4n   \n217390  217390           0    24651801.jpg#3r1c   \n24294    24294           2  2708608951.jpg#3r1e   \n70661    70661           2  4630818826.jpg#2r1e   \n93469    93469           1  4794459769.jpg#0r4n   \n119120  119120           1   432229992.jpg#3r1n   \n55718    55718           1   193082928.jpg#3r1n   \n180744  180744           2  4005756399.jpg#1r5e   \n119417  119417           1  1031973097.jpg#4r1n   \n15745    15745           0  3354264393.jpg#2r1c   \n62869    62869           0  3290025108.jpg#1r1c   \n113651  113651           0  2624947061.jpg#3r1c   \n116536  116536           2  5258526958.jpg#3r1e   \n164086  164086           1  3834352548.jpg#4r1n   \n104614  104614           2  5201259529.jpg#2r1e   \n174104  174104           2  4671448513.jpg#0r4e   \n70251    70251           0  6556868159.jpg#0r1c   \n18757    18757           2   172327171.jpg#1r3e   \n57863    57863           0  4556897985.jpg#0r1c   \n165791  165791           0    56659639.jpg#3r1c   \n100819  100819           1  2636020148.jpg#1r1n   \n78023    78023           1  2558312618.jpg#2r1n   \n104293  104293           1  2897147853.jpg#0r5n   \n251672  251672           0  2856524322.jpg#1r1c   \n61443    61443           1  4073193673.jpg#1r1n   \n94484    94484           2  3354264393.jpg#3r1e   \n209549  209549           0   282131366.jpg#1r1c   \n260600  260600           0  1410193619.jpg#3r1c   \n\n                                                  premise  \\\n123852                  Man enjoying life while skydiving   \n272061  A red-haired woman in a white and purple outfi...   \n140514   A man is standing at a bus stop reading a paper.   \n57451   A man wearing a gray cap, gold jewelry and win...   \n166846  A man wearing a mask plays music by the side o...   \n143000  There are a lot of people on this busy Asian s...   \n43267   Three little boys standing next to and on a fe...   \n100479  A young adult is wearing shorts, tank top, san...   \n258234      White water rafter goes through a rough spot.   \n90521   A young man carefully prepares to take a pool ...   \n172711  A blond-haired toddler is holding a soft red a...   \n137522  A mass of people in a city square, surrounded ...   \n175416  The building is covered with red& black graffiti.   \n35704   Man seated alone in restaurant looks over his ...   \n144780  An elderly man reads a newspaper next to some ...   \n42830   A boy holds a blue stick, as a man holds a pin...   \n178055  A man wearing racing gear rides a bicycle on a...   \n35366   A fully-padded hockey player sits on the ice h...   \n143570  A man throwing a stick for his black and tan dog.   \n135052           A man is barrel racing on a brown horse.   \n137754              A blond man sings a duo for his band.   \n17494   The people are sitting on the ground with whit...   \n233812  Three football players are in action on the field   \n217390    People watching a parade going down the street.   \n24294   Four people are observing a boy performing a t...   \n70661   people outside, this young woman does n't look...   \n93469   A little girl and a woman wearing colorful cos...   \n119120   A female gymnast is performing a floor exercise.   \n55718   Houston Astros pitcher number 22 prepares to t...   \n180744  A street vendor tends to his stand with lots o...   \n119417       Little boy wanting to play outside of fence.   \n15745   people enjoying their meals at an expensive re...   \n62869   A man in jeans and a work shirt and gloves hol...   \n113651  Two people standing with a naked guitar player...   \n116536  A little boy is covering the eyes of a girl in...   \n164086  Man in white plastic lawn chair sleeping in sh...   \n104614  A graduate student stays up late to do researc...   \n174104  A black man with sunglasses on his head, weari...   \n70251   A girl in a bikini swims underwater in clear w...   \n18757   A woman and man with bikes stand by a man with...   \n57863   A brown-haired man with glasses is wearing a b...   \n165791           A boy is jumping on a bungee trampoline.   \n100819  Members of a band perform dressed in white whi...   \n78023             A brown dog is jumping through a field.   \n104293  A man in a white and red shirt is sitting on a...   \n251672  A young man in tan shorts and green shirt is f...   \n61443   A Jewish man is holding the head of another ma...   \n94484          Some customers are eating at a restaurant.   \n209549  Girl regains composure in a sunset with a man ...   \n260600  A small child climbs onto the arm of a red couch.   \n\n                                               hypothesis  \\\n123852                              A person is skydiving   \n272061                     A woman is next to a blue SUV.   \n140514                         A person is at a bus stop.   \n57451                            There is a man swimming.   \n166846               A man is walking through an airport.   \n143000                      a lot of people on the street   \n43267                              The boys are outdoors.   \n100479                  Someone is looking out of a door.   \n258234      River rafter in a rough patch of white water.   \n90521                                     The man is old.   \n172711                         A child is holding a ball.   \n137522    a bunch of people waiting for the show to start   \n175416                             The building is white.   \n35704                                A man is bartending.   \n144780                         An old man is watching tv.   \n42830                            The boy's stick is pink.   \n178055                            A man is eating grapes.   \n35366   Fully-padded hockey player sits on ice holding...   \n143570                            A playing with his dog.   \n135052                    The man is racing in the rodeo.   \n137754                                The man is singing.   \n17494                   Some people standing up laughing.   \n233812  Three football players are actively playing de...   \n217390                         people watching television   \n24294                   a crowd gathers at a skating park   \n70661                        An unhappy woman is outside.   \n93469   The woman and little girl were attending a cos...   \n119120                            gymnast in the olympics   \n55718             The pitcher is going to throw a strike.   \n180744                   A street vendor is selling toys.   \n119417  A little boy is watching the other kids play i...   \n15745               The people are at a bachelor's party.   \n62869                                    girl cooks steak   \n113651                The guitar player has on blue jeans   \n116536                      There are two girls and a boy   \n164086                   A person asleep at the barbeque.   \n104614        A student is using a laptop to do research.   \n174104       A man wears a brown apron and holds a knife.   \n70251                A girl floating on a tube in a pool.   \n18757                         The building has a balcony.   \n57863                    A man is eating at a restaurant.   \n165791                         The boy jumps off a cliff.   \n100819                             a famous band performs   \n78023                 a dog in a field looking for a ball   \n104293                                     A man relaxes.   \n251672                            The man wears a tuxedo.   \n61443                       A man is kissing another man.   \n94484                  People are eating at a restaurant.   \n209549                                 the girl is inside   \n260600                    A man sits down in a hard chair   \n\n                                             explanations  labels data_id  \\\n123852  A man is a person. If a person is \"enjoying li...       2   esnli   \n272061             A red sports car cannot be a blue SUV.       0   esnli   \n140514    A man is a person and standing at is same as at       2   esnli   \n57451   One does not typically wear a gray cap, gold j...       0   esnli   \n166846  Playing music on the side of the road cannot t...       0   esnli   \n143000  If your on this busy asian street you can say ...       2   esnli   \n43267   The fact that boys standing next to and on fen...       1   esnli   \n100479    A young adult is someone looking out of a door.       2   esnli   \n258234            Answer; Patch refers to the rough spot.       2   esnli   \n90521                        Three were young and old man       0   esnli   \n172711                   A soccer ball is a type of ball.       2   esnli   \n137522  A mass of people in a city street aren't neces...       1   esnli   \n175416  The building cannot be both white and red and ...       0   esnli   \n35704   A man can not be bartending while at the same ...       0   esnli   \n144780  He either reads a newspaper or is watching tv....       0   esnli   \n42830                                 EITHER BLUE OR PINK       0   esnli   \n178055     A man cannot rides and eating at the same time       0   esnli   \n35366      A hockey stick held by a hockey player is his.       2   esnli   \n143570  If he is throwing a stick for his dog, that is...       2   esnli   \n135052  Just because the man is barrel racing doesn't ...       1   esnli   \n137754                 a man is singing if the man sings.       2   esnli   \n17494           People can be either sitting or standing.       0   esnli   \n233812  It doesnt say they are playing defense or in a...       1   esnli   \n217390  People cannot be watching television and a par...       0   esnli   \n24294   Four people can be considered a crowd. If they...       2   esnli   \n70661   Unhappy is another way to say doesn't look too...       2   esnli   \n93469   The woman and girl are not necessarily attendi...       1   esnli   \n119120          You can not infer she is in the olympics.       1   esnli   \n55718               You can not infer he throws a strike.       1   esnli   \n180744  Vender is a person who sells toys and the stan...       2   esnli   \n119417  Just because a Little boy wanting to play outs...       1   esnli   \n15745   If they are at expensive restaurant, they are ...       0   esnli   \n62869                                A man is not a girl.       0   esnli   \n113651  A person can not be naked if they have on blue...       0   esnli   \n116536       Two girls and a boy is a simplified version.       2   esnli   \n164086       Sentence 1 is missing asleep at the barbeque       1   esnli   \n104614  Graduate describes the level of education of t...       2   esnli   \n174104  If a man has a knife in his hand, the man hold...       2   esnli   \n70251   If she is floating on a tube, she cannot be un...       0   esnli   \n18757   A building with a balcony is a rephrasing of t...       2   esnli   \n57863   A man can't be walking down a street and eatin...       0   esnli   \n165791  Jumping on a bungee trampoline is not jumping ...       0   esnli   \n100819  Just because a band performs it does not mean ...       1   esnli   \n78023   A dog jumping through a field does not always ...       1   esnli   \n104293  A man does not have to wear a white and red sh...       1   esnli   \n251672     Tan shorts and a green shirt are not a tuxedo.       0   esnli   \n61443   Holding the head of another man dors not mean ...       1   esnli   \n94484   People eating at a restaurant are called custo...       2   esnli   \n209549  The girl cannot be in a sunset and inside at t...       0   esnli   \n260600                        A man is not a small child.       0   esnli   \n\n                                                generated  \\\n123852                                 A man is a person.   \n272061                A red sports car is not a blue SUV.   \n140514                                 A man is a person.   \n57451   A man wearing a gray cap, gold jewelry and win...   \n166846  One cannot be walking through an airport and b...   \n143000  The street is busy because there are a lot of ...   \n43267                              The fence is outdoors.   \n100479                          A young adult is someone.   \n258234     The rafter is either in a patch or rough spot.   \n90521                      A young man is not an old man.   \n172711                              A toddler is a child.   \n137522  Just because a bunch of people are in a city s...   \n175416     The building is either red and black or white.   \n35704   A man cannot be seated alone and bartending at...   \n144780    A man can't read a newspaper while watching tv.   \n42830   The stick cannot be blue and pink at the same ...   \n178055  The man can't be eating grapes while riding a ...   \n35366   A fully-padded hockey player sits on the ice h...   \n143570  A man throwing a stick for his dog does not im...   \n135052  Just because a man is barrel racing on a brown...   \n137754                        A man who sings is singing.   \n17494   The people can not be sitting and standing at ...   \n233812  The players are not necessarily actively playi...   \n217390  People cannot watch television and a parade si...   \n24294   Four people are a crowd and a skating rink is ...   \n70661       unhappy woman is a rephrasing of young woman.   \n93469   Just because they are wearing costumes does no...   \n119120  The gymnast may be performing for reasons othe...   \n55718   A pitcher prepares to throw home does not mean...   \n180744  Tending to his stand with toys is the same as ...   \n119417  Just because the boy is wanting to play outsid...   \n15745   A bachelor's party is not the same as a restau...   \n62869                                A man is not a girl.   \n113651            Not all guitar players wear blue jeans.   \n116536                    A boy and a girl are two girls.   \n164086  The man can't be sleeping in the shade and at ...   \n104614             graduate student is a type of student.   \n174104  A man wearing a brown apron with a knife in hi...   \n70251   A girl can't swim underwater and float on a tu...   \n18757                             A balcony can be large.   \n57863   A man can't be walking down the street and eat...   \n165791                A bungee trampoline is not a cliff.   \n100819                          Not all bands are famous.   \n78023   The dog could be jumping for any reason, not n...   \n104293                   Sitting does not imply relaxing.   \n251672                         A tuxedo is not a bicycle.   \n61443   The man can't be holding the head of another m...   \n94484                               Customers are people.   \n209549  One cannot be in a sunset and inside at the sa...   \n260600                              A child is not a man.   \n\n                                                   S1_SVO  \\\n123852                            [(Man, enjoying, life)]   \n272061                                                 []   \n140514                            [(man, standing, None)]   \n57451         [(man, wearing, cap), (man, looking, None)]   \n166846          [(man, plays, None), (man, plays, music)]   \n143000                                                 []   \n43267                            [(boys, standing, None)]   \n100479                         [(adult, wearing, shorts)]   \n258234                             [(rafter, goes, None)]   \n90521                             [(man, prepares, None)]   \n172711                         [(toddler, holding, ball)]   \n137522                         [(mass, surrounded, None)]   \n175416                        [(building, covered, None)]   \n35704                              [(Man, seated, looks)]   \n144780                          [(man, reads, newspaper)]   \n42830   [(boy, holds, stick), (boy, holds, None), (man...   \n178055        [(man, rides, None), (man, rides, bicycle)]   \n35366                              [(player, sits, None)]   \n143570                           [(man, throwing, stick)]   \n135052                                                 []   \n137754                                [(man, sings, duo)]   \n17494                           [(people, sitting, None)]   \n233812                                                 []   \n217390                       [(People, watching, parade)]   \n24294   [(people, observing, boy), (people, observing,...   \n70661                               [(woman, look, None)]   \n93469   [(girl, cross, None), (girl, cross, street), (...   \n119120                  [(gymnast, performing, exercise)]   \n55718                          [(number, prepares, None)]   \n180744                            [(vendor, tends, None)]   \n119417                             [(boy, wanting, None)]   \n15745                         [(people, enjoying, meals)]   \n62869                            [(man, holds, chainsaw)]   \n113651                         [(people, standing, None)]   \n116536                            [(boy, covering, eyes)]   \n164086                                                 []   \n104614                           [(student, stays, None)]   \n174104       [(man, chopped, None), (man, chopped, food)]   \n70251                         [(girl, swims, underwater)]   \n18757                              [(woman, stand, None)]   \n57863                              [(man, wearing, suit)]   \n165791                             [(boy, jumping, None)]   \n100819                            [(drummer, sits, None)]   \n78023                              [(dog, jumping, None)]   \n104293                             [(man, sitting, None)]   \n251672                             [(man, falling, None)]   \n61443           [(man, holding, head), (who, bent, None)]   \n94484                         [(customers, eating, None)]   \n209549                       [(Girl, regains, composure)]   \n260600                            [(child, climbs, None)]   \n\n                                                   S2_SVO  \\\n123852                        [(person, skydiving, None)]   \n272061                                                 []   \n140514                                                 []   \n57451                                                  []   \n166846                             [(man, walking, None)]   \n143000                                                 []   \n43267                                                  []   \n100479                         [(Someone, looking, None)]   \n258234                                                 []   \n90521                                                  []   \n172711                           [(child, holding, ball)]   \n137522                              [(show, start, None)]   \n175416                                                 []   \n35704                           [(man, bartending, None)]   \n144780                              [(man, watching, tv)]   \n42830                                                  []   \n178055                            [(man, eating, grapes)]   \n35366                              [(player, sits, None)]   \n143570                                                 []   \n135052                              [(man, racing, None)]   \n137754                             [(man, singing, None)]   \n17494                          [(people, standing, None)]   \n233812                      [(players, playing, defense)]   \n217390                   [(people, watching, television)]   \n24294                            [(crowd, gathers, None)]   \n70661                                                  []   \n93469                         [(woman, attending, party)]   \n119120                                                 []   \n55718                            [(pitcher, going, None)]   \n180744                          [(vendor, selling, toys)]   \n119417        [(boy, watching, None), (kids, play, None)]   \n15745                                                  []   \n62869                              [(cooks, steak, None)]   \n113651                              [(player, has, None)]   \n116536                                                 []   \n164086                                                 []   \n104614  [(student, using, laptop), (student, using, No...   \n174104          [(man, wears, apron), (man, wears, None)]   \n70251                            [(girl, floating, None)]   \n18757                          [(building, has, balcony)]   \n57863                               [(man, eating, None)]   \n165791                               [(boy, jumps, None)]   \n100819                           [(band, performs, None)]   \n78023                              [(dog, looking, None)]   \n104293                             [(man, relaxes, None)]   \n251672                             [(man, wears, tuxedo)]   \n61443                               [(man, kissing, man)]   \n94484                            [(People, eating, None)]   \n209549                                                 []   \n260600                                [(man, sits, None)]   \n\n                                             reduced_expl  \\\n123852                                      [be, S2_Subj]   \n272061                                          [be, not]   \n140514                                      [S1_Subj, be]   \n57451   [S1_Subj, S1_Verb, S1_Obj, S1_Verb, be, not, s...   \n166846                         [not, walk, S2_Verb, same]   \n143000                                           [be, be]   \n43267                                                [be]   \n100479                             [S1_Subj, be, S2_Subj]   \n258234                                      [S1_Subj, be]   \n90521                         [S1_Subj, be, not, S1_Subj]   \n172711                             [S1_Subj, be, S2_Subj]   \n137522                      [not, mean, S2_Subj, S2_Verb]   \n175416                                      [S1_Subj, be]   \n35704        [S2_Subj, not, seat, S1_Verb, S2_Verb, same]   \n144780  [S1S2_Subj, not, read, S1_Verb, S1_Obj, S2_Ver...   \n42830                             [S1_Obj, not, be, same]   \n178055  [S1S2_Subj, not, eat, S2_Verb, S2_Obj, S1_Verb...   \n35366   [S1S2_Subj, sit, S1S2_Verb, same, S1S2_Subj, s...   \n143570             [S1_Subj, S1_Verb, S1_Obj, not, imply]   \n135052             [S2_Subj, S2_Verb, not, mean, S2_Verb]   \n137754               [S1S2_Subj, S1_Verb, singe, S2_Verb]   \n17494       [S1S2_Subj, not, sit, S1_Verb, S2_Verb, same]   \n233812              [S2_Subj, not, play, S2_Verb, S2_Obj]   \n217390   [S1_Subj, not, watch, S1S2_Verb, S2_Obj, S1_Obj]   \n24294                          [S1_Subj, be, S2_Subj, be]   \n70661                              [S1_Subj, be, S1_Subj]   \n93469                        [not, mean, S2_Verb, S2_Obj]   \n119120                        [S1_Subj, perform, S1_Verb]   \n55718                [S2_Subj, prepare, S1_Verb, S2_Verb]   \n180744       [S1_Verb, S2_Obj, be, same, S2_Verb, S2_Obj]   \n119417  [S1S2_Subj, S1_Verb, S2_Verb, not, mean, S2_Ve...   \n15745                                     [be, not, same]   \n62869                                  [S1_Subj, be, not]   \n113651                                    [S2_Subj, wear]   \n116536                                      [S1_Subj, be]   \n164086                                 [not, sleep, same]   \n104614   [S1S2_Subj, S1S2_Subj, be, S1S2_Subj, S1S2_Subj]   \n174104  [S1S2_Subj, S1S2_Subj, S2_Verb, S2_Verb, S2_Ob...   \n70251   [S1S2_Subj, not, swim, S1_Verb, S1_Obj, S2_Ver...   \n18757                                        [S2_Obj, be]   \n57863               [S1S2_Subj, not, walk, S2_Verb, same]   \n165791                                          [be, not]   \n100819                                      [S2_Subj, be]   \n78023                 [S1S2_Subj, jump, S1_Verb, S2_Verb]   \n104293                              [not, imply, S2_Verb]   \n251672                                  [S2_Obj, be, not]   \n61443   [S1S2_Subj, S1S2_Obj, not, hold, S1_Verb, S1_O...   \n94484                                       [S1_Subj, be]   \n209549                                    [not, be, same]   \n260600                        [S1_Subj, be, not, S2_Subj]   \n\n                                                 pos_expl  \n123852                                 [man, be, S2_NOUN]  \n272061  [S1_ADJ, S1_NOUN, S1_NOUN, be, not, S2_ADJ, S2...  \n140514                             [S1_NOUN, be, S2_NOUN]  \n57451   [S1S2_NOUN, S1_VERB, S1_ADJ, S1_NOUN, S1_NOUN,...  \n166846         [not, be, S2_VERB, S2_NOUN, S1_NOUN, time]  \n143000  [S1S2_NOUN, be, S1_ADJ, be, S1S2_NOUN, S1S2_NOUN]  \n43267                               [S1_NOUN, be, S2_ADV]  \n100479                              [S1_ADJ, S1_NOUN, be]  \n258234        [S1S2_NOUN, be, S2_NOUN, S1S2_ADJ, S1_NOUN]  \n90521     [S1_ADJ, S1S2_NOUN, be, not, S2_ADJ, S1S2_NOUN]  \n172711                             [S1_NOUN, be, S2_NOUN]  \n137522  [S2_NOUN, S1S2_NOUN, be, S1_NOUN, S1_NOUN, not...  \n175416          [S1S2_NOUN, be, S1_PROPN, S1_ADJ, S2_ADJ]  \n35704          [S2_NOUN, not, be, S1_VERB, S2_VERB, time]  \n144780  [S1S2_NOUN, not, S1_VERB, S1_NOUN, S2_VERB, S2...  \n42830          [S1S2_NOUN, not, be, S1_ADJ, S2_ADJ, time]  \n178055  [S1S2_NOUN, not, be, S2_VERB, S2_NOUN, S1_VERB...  \n35366   [S1S2_ADV, S1S2_VERB, S1S2_NOUN, S1S2_NOUN, S1...  \n143570  [S1_NOUN, S1_VERB, S1_NOUN, S1S2_NOUN, not, im...  \n135052  [S1S2_NOUN, be, S1_NOUN, S1S2_VERB, S1_ADJ, S1...  \n137754                  [S1S2_NOUN, S1_VERB, be, S2_VERB]  \n17494        [S1S2_NOUN, not, be, S1_VERB, S2_VERB, time]  \n233812  [S1S2_NOUN, be, not, necessarily, S2_ADV, S2_V...  \n217390  [S1_NOUN, not, S1S2_VERB, S2_NOUN, S1_NOUN, si...  \n24294   [S1_NOUN, be, S2_NOUN, S1S2_NOUN, S1_NOUN, be,...  \n70661   [S2_ADJ, S1S2_NOUN, be, rephrasing, S1_ADJ, S1...  \n93469   [be, S1_VERB, S1S2_NOUN, not, mean, be, S2_VER...  \n119120          [S1S2_NOUN, be, S1_VERB, reason, S2_NOUN]  \n55718   [S1S2_NOUN, S1_VERB, S1S2_VERB, S1_NOUN, not, ...  \n180744  [S1_VERB, S1_NOUN, S1S2_NOUN, be, S2_VERB, S1S...  \n119417  [S1S2_NOUN, be, S1_VERB, S1S2_VERB, S1_ADV, S1...  \n15745                [S2_NOUN, S2_NOUN, be, not, S1_NOUN]  \n62869                         [S1_NOUN, be, not, S2_NOUN]  \n113651  [not, S1S2_NOUN, S1S2_NOUN, wear, S2_ADJ, S2_N...  \n116536              [S1S2_NOUN, S1S2_NOUN, be, S1S2_NOUN]  \n164086    [man, not, be, S1_VERB, S1_NOUN, S2_NOUN, time]  \n104614          [S1_NOUN, S1S2_NOUN, be, type, S1S2_NOUN]  \n174104  [S1S2_NOUN, S1S2_VERB, S1S2_ADJ, S1S2_NOUN, S1...  \n70251   [S1S2_NOUN, not, S1_VERB, S1_ADJ, S2_VERB, S2_...  \n18757                             [S1S2_NOUN, be, S1_ADJ]  \n57863   [S1S2_NOUN, not, be, S1_VERB, S1_NOUN, S2_VERB...  \n165791               [S1_NOUN, S1_NOUN, be, not, S2_NOUN]  \n100819                       [not, S1S2_NOUN, be, S2_ADJ]  \n78023   [S1S2_NOUN, be, S1_VERB, reason, not, necessar...  \n104293                     [sitting, not, imply, S2_VERB]  \n251672                        [S2_NOUN, be, not, S1_NOUN]  \n61443   [S1S2_NOUN, not, be, S1_VERB, S1_NOUN, S1S2_NO...  \n94484                               [S1_NOUN, be, people]  \n209549                   [not, be, S1_NOUN, S2_ADP, time]  \n260600                        [S1_NOUN, be, not, S2_NOUN]  ",
      "text/html": "<div>\n<style scoped>\n    .dataframe tbody tr th:only-of-type {\n        vertical-align: middle;\n    }\n\n    .dataframe tbody tr th {\n        vertical-align: top;\n    }\n\n    .dataframe thead th {\n        text-align: right;\n    }\n</style>\n<table border=\"1\" class=\"dataframe\">\n  <thead>\n    <tr style=\"text-align: right;\">\n      <th></th>\n      <th>index</th>\n      <th>cls_labels</th>\n      <th>groups</th>\n      <th>premise</th>\n      <th>hypothesis</th>\n      <th>explanations</th>\n      <th>labels</th>\n      <th>data_id</th>\n      <th>generated</th>\n      <th>S1_SVO</th>\n      <th>S2_SVO</th>\n      <th>reduced_expl</th>\n      <th>pos_expl</th>\n    </tr>\n  </thead>\n  <tbody>\n    <tr>\n      <th>123852</th>\n      <td>123852</td>\n      <td>2</td>\n      <td>2023529314.jpg#4r1e</td>\n      <td>Man enjoying life while skydiving</td>\n      <td>A person is skydiving</td>\n      <td>A man is a person. If a person is \"enjoying li...</td>\n      <td>2</td>\n      <td>esnli</td>\n      <td>A man is a person.</td>\n      <td>[(Man, enjoying, life)]</td>\n      <td>[(person, skydiving, None)]</td>\n      <td>[be, S2_Subj]</td>\n      <td>[man, be, S2_NOUN]</td>\n    </tr>\n    <tr>\n      <th>272061</th>\n      <td>272061</td>\n      <td>0</td>\n      <td>441489325.jpg#2r1c</td>\n      <td>A red-haired woman in a white and purple outfi...</td>\n      <td>A woman is next to a blue SUV.</td>\n      <td>A red sports car cannot be a blue SUV.</td>\n      <td>0</td>\n      <td>esnli</td>\n      <td>A red sports car is not a blue SUV.</td>\n      <td>[]</td>\n      <td>[]</td>\n      <td>[be, not]</td>\n      <td>[S1_ADJ, S1_NOUN, S1_NOUN, be, not, S2_ADJ, S2...</td>\n    </tr>\n    <tr>\n      <th>140514</th>\n      <td>140514</td>\n      <td>2</td>\n      <td>188244881.jpg#3r1e</td>\n      <td>A man is standing at a bus stop reading a paper.</td>\n      <td>A person is at a bus stop.</td>\n      <td>A man is a person and standing at is same as at</td>\n      <td>2</td>\n      <td>esnli</td>\n      <td>A man is a person.</td>\n      <td>[(man, standing, None)]</td>\n      <td>[]</td>\n      <td>[S1_Subj, be]</td>\n      <td>[S1_NOUN, be, S2_NOUN]</td>\n    </tr>\n    <tr>\n      <th>57451</th>\n      <td>57451</td>\n      <td>0</td>\n      <td>284028406.jpg#0r1c</td>\n      <td>A man wearing a gray cap, gold jewelry and win...</td>\n      <td>There is a man swimming.</td>\n      <td>One does not typically wear a gray cap, gold j...</td>\n      <td>0</td>\n      <td>esnli</td>\n      <td>A man wearing a gray cap, gold jewelry and win...</td>\n      <td>[(man, wearing, cap), (man, looking, None)]</td>\n      <td>[]</td>\n      <td>[S1_Subj, S1_Verb, S1_Obj, S1_Verb, be, not, s...</td>\n      <td>[S1S2_NOUN, S1_VERB, S1_ADJ, S1_NOUN, S1_NOUN,...</td>\n    </tr>\n    <tr>\n      <th>166846</th>\n      <td>166846</td>\n      <td>0</td>\n      <td>7599430126.jpg#4r1c</td>\n      <td>A man wearing a mask plays music by the side o...</td>\n      <td>A man is walking through an airport.</td>\n      <td>Playing music on the side of the road cannot t...</td>\n      <td>0</td>\n      <td>esnli</td>\n      <td>One cannot be walking through an airport and b...</td>\n      <td>[(man, plays, None), (man, plays, music)]</td>\n      <td>[(man, walking, None)]</td>\n      <td>[not, walk, S2_Verb, same]</td>\n      <td>[not, be, S2_VERB, S2_NOUN, S1_NOUN, time]</td>\n    </tr>\n    <tr>\n      <th>143000</th>\n      <td>143000</td>\n      <td>2</td>\n      <td>4690240999.jpg#1r1e</td>\n      <td>There are a lot of people on this busy Asian s...</td>\n      <td>a lot of people on the street</td>\n      <td>If your on this busy asian street you can say ...</td>\n      <td>2</td>\n      <td>esnli</td>\n      <td>The street is busy because there are a lot of ...</td>\n      <td>[]</td>\n      <td>[]</td>\n      <td>[be, be]</td>\n      <td>[S1S2_NOUN, be, S1_ADJ, be, S1S2_NOUN, S1S2_NOUN]</td>\n    </tr>\n    <tr>\n      <th>43267</th>\n      <td>43267</td>\n      <td>1</td>\n      <td>2552438538.jpg#2r1n</td>\n      <td>Three little boys standing next to and on a fe...</td>\n      <td>The boys are outdoors.</td>\n      <td>The fact that boys standing next to and on fen...</td>\n      <td>1</td>\n      <td>esnli</td>\n      <td>The fence is outdoors.</td>\n      <td>[(boys, standing, None)]</td>\n      <td>[]</td>\n      <td>[be]</td>\n      <td>[S1_NOUN, be, S2_ADV]</td>\n    </tr>\n    <tr>\n      <th>100479</th>\n      <td>100479</td>\n      <td>2</td>\n      <td>2092922849.jpg#0r1e</td>\n      <td>A young adult is wearing shorts, tank top, san...</td>\n      <td>Someone is looking out of a door.</td>\n      <td>A young adult is someone looking out of a door.</td>\n      <td>2</td>\n      <td>esnli</td>\n      <td>A young adult is someone.</td>\n      <td>[(adult, wearing, shorts)]</td>\n      <td>[(Someone, looking, None)]</td>\n      <td>[S1_Subj, be, S2_Subj]</td>\n      <td>[S1_ADJ, S1_NOUN, be]</td>\n    </tr>\n    <tr>\n      <th>258234</th>\n      <td>258234</td>\n      <td>2</td>\n      <td>2086532897.jpg#2r1e</td>\n      <td>White water rafter goes through a rough spot.</td>\n      <td>River rafter in a rough patch of white water.</td>\n      <td>Answer; Patch refers to the rough spot.</td>\n      <td>2</td>\n      <td>esnli</td>\n      <td>The rafter is either in a patch or rough spot.</td>\n      <td>[(rafter, goes, None)]</td>\n      <td>[]</td>\n      <td>[S1_Subj, be]</td>\n      <td>[S1S2_NOUN, be, S2_NOUN, S1S2_ADJ, S1_NOUN]</td>\n    </tr>\n    <tr>\n      <th>90521</th>\n      <td>90521</td>\n      <td>0</td>\n      <td>7734754954.jpg#3r1c</td>\n      <td>A young man carefully prepares to take a pool ...</td>\n      <td>The man is old.</td>\n      <td>Three were young and old man</td>\n      <td>0</td>\n      <td>esnli</td>\n      <td>A young man is not an old man.</td>\n      <td>[(man, prepares, None)]</td>\n      <td>[]</td>\n      <td>[S1_Subj, be, not, S1_Subj]</td>\n      <td>[S1_ADJ, S1S2_NOUN, be, not, S2_ADJ, S1S2_NOUN]</td>\n    </tr>\n    <tr>\n      <th>172711</th>\n      <td>172711</td>\n      <td>2</td>\n      <td>3488837187.jpg#0r1e</td>\n      <td>A blond-haired toddler is holding a soft red a...</td>\n      <td>A child is holding a ball.</td>\n      <td>A soccer ball is a type of ball.</td>\n      <td>2</td>\n      <td>esnli</td>\n      <td>A toddler is a child.</td>\n      <td>[(toddler, holding, ball)]</td>\n      <td>[(child, holding, ball)]</td>\n      <td>[S1_Subj, be, S2_Subj]</td>\n      <td>[S1_NOUN, be, S2_NOUN]</td>\n    </tr>\n    <tr>\n      <th>137522</th>\n      <td>137522</td>\n      <td>1</td>\n      <td>2050956538.jpg#1r1n</td>\n      <td>A mass of people in a city square, surrounded ...</td>\n      <td>a bunch of people waiting for the show to start</td>\n      <td>A mass of people in a city street aren't neces...</td>\n      <td>1</td>\n      <td>esnli</td>\n      <td>Just because a bunch of people are in a city s...</td>\n      <td>[(mass, surrounded, None)]</td>\n      <td>[(show, start, None)]</td>\n      <td>[not, mean, S2_Subj, S2_Verb]</td>\n      <td>[S2_NOUN, S1S2_NOUN, be, S1_NOUN, S1_NOUN, not...</td>\n    </tr>\n    <tr>\n      <th>175416</th>\n      <td>175416</td>\n      <td>0</td>\n      <td>2335504881.jpg#2r1c</td>\n      <td>The building is covered with red&amp; black graffiti.</td>\n      <td>The building is white.</td>\n      <td>The building cannot be both white and red and ...</td>\n      <td>0</td>\n      <td>esnli</td>\n      <td>The building is either red and black or white.</td>\n      <td>[(building, covered, None)]</td>\n      <td>[]</td>\n      <td>[S1_Subj, be]</td>\n      <td>[S1S2_NOUN, be, S1_PROPN, S1_ADJ, S2_ADJ]</td>\n    </tr>\n    <tr>\n      <th>35704</th>\n      <td>35704</td>\n      <td>0</td>\n      <td>4601634498.jpg#2r1c</td>\n      <td>Man seated alone in restaurant looks over his ...</td>\n      <td>A man is bartending.</td>\n      <td>A man can not be bartending while at the same ...</td>\n      <td>0</td>\n      <td>esnli</td>\n      <td>A man cannot be seated alone and bartending at...</td>\n      <td>[(Man, seated, looks)]</td>\n      <td>[(man, bartending, None)]</td>\n      <td>[S2_Subj, not, seat, S1_Verb, S2_Verb, same]</td>\n      <td>[S2_NOUN, not, be, S1_VERB, S2_VERB, time]</td>\n    </tr>\n    <tr>\n      <th>144780</th>\n      <td>144780</td>\n      <td>0</td>\n      <td>1450988692.jpg#0r3c</td>\n      <td>An elderly man reads a newspaper next to some ...</td>\n      <td>An old man is watching tv.</td>\n      <td>He either reads a newspaper or is watching tv....</td>\n      <td>0</td>\n      <td>esnli</td>\n      <td>A man can't read a newspaper while watching tv.</td>\n      <td>[(man, reads, newspaper)]</td>\n      <td>[(man, watching, tv)]</td>\n      <td>[S1S2_Subj, not, read, S1_Verb, S1_Obj, S2_Ver...</td>\n      <td>[S1S2_NOUN, not, S1_VERB, S1_NOUN, S2_VERB, S2...</td>\n    </tr>\n    <tr>\n      <th>42830</th>\n      <td>42830</td>\n      <td>0</td>\n      <td>412082368.jpg#1r1c</td>\n      <td>A boy holds a blue stick, as a man holds a pin...</td>\n      <td>The boy's stick is pink.</td>\n      <td>EITHER BLUE OR PINK</td>\n      <td>0</td>\n      <td>esnli</td>\n      <td>The stick cannot be blue and pink at the same ...</td>\n      <td>[(boy, holds, stick), (boy, holds, None), (man...</td>\n      <td>[]</td>\n      <td>[S1_Obj, not, be, same]</td>\n      <td>[S1S2_NOUN, not, be, S1_ADJ, S2_ADJ, time]</td>\n    </tr>\n    <tr>\n      <th>178055</th>\n      <td>178055</td>\n      <td>0</td>\n      <td>7833974088.jpg#0r1c</td>\n      <td>A man wearing racing gear rides a bicycle on a...</td>\n      <td>A man is eating grapes.</td>\n      <td>A man cannot rides and eating at the same time</td>\n      <td>0</td>\n      <td>esnli</td>\n      <td>The man can't be eating grapes while riding a ...</td>\n      <td>[(man, rides, None), (man, rides, bicycle)]</td>\n      <td>[(man, eating, grapes)]</td>\n      <td>[S1S2_Subj, not, eat, S2_Verb, S2_Obj, S1_Verb...</td>\n      <td>[S1S2_NOUN, not, be, S2_VERB, S2_NOUN, S1_VERB...</td>\n    </tr>\n    <tr>\n      <th>35366</th>\n      <td>35366</td>\n      <td>2</td>\n      <td>6847387474.jpg#2r1e</td>\n      <td>A fully-padded hockey player sits on the ice h...</td>\n      <td>Fully-padded hockey player sits on ice holding...</td>\n      <td>A hockey stick held by a hockey player is his.</td>\n      <td>2</td>\n      <td>esnli</td>\n      <td>A fully-padded hockey player sits on the ice h...</td>\n      <td>[(player, sits, None)]</td>\n      <td>[(player, sits, None)]</td>\n      <td>[S1S2_Subj, sit, S1S2_Verb, same, S1S2_Subj, s...</td>\n      <td>[S1S2_ADV, S1S2_VERB, S1S2_NOUN, S1S2_NOUN, S1...</td>\n    </tr>\n    <tr>\n      <th>143570</th>\n      <td>143570</td>\n      <td>2</td>\n      <td>2497608431.jpg#3r1e</td>\n      <td>A man throwing a stick for his black and tan dog.</td>\n      <td>A playing with his dog.</td>\n      <td>If he is throwing a stick for his dog, that is...</td>\n      <td>2</td>\n      <td>esnli</td>\n      <td>A man throwing a stick for his dog does not im...</td>\n      <td>[(man, throwing, stick)]</td>\n      <td>[]</td>\n      <td>[S1_Subj, S1_Verb, S1_Obj, not, imply]</td>\n      <td>[S1_NOUN, S1_VERB, S1_NOUN, S1S2_NOUN, not, im...</td>\n    </tr>\n    <tr>\n      <th>135052</th>\n      <td>135052</td>\n      <td>1</td>\n      <td>370445133.jpg#4r1n</td>\n      <td>A man is barrel racing on a brown horse.</td>\n      <td>The man is racing in the rodeo.</td>\n      <td>Just because the man is barrel racing doesn't ...</td>\n      <td>1</td>\n      <td>esnli</td>\n      <td>Just because a man is barrel racing on a brown...</td>\n      <td>[]</td>\n      <td>[(man, racing, None)]</td>\n      <td>[S2_Subj, S2_Verb, not, mean, S2_Verb]</td>\n      <td>[S1S2_NOUN, be, S1_NOUN, S1S2_VERB, S1_ADJ, S1...</td>\n    </tr>\n    <tr>\n      <th>137754</th>\n      <td>137754</td>\n      <td>2</td>\n      <td>4107219685.jpg#4r1e</td>\n      <td>A blond man sings a duo for his band.</td>\n      <td>The man is singing.</td>\n      <td>a man is singing if the man sings.</td>\n      <td>2</td>\n      <td>esnli</td>\n      <td>A man who sings is singing.</td>\n      <td>[(man, sings, duo)]</td>\n      <td>[(man, singing, None)]</td>\n      <td>[S1S2_Subj, S1_Verb, singe, S2_Verb]</td>\n      <td>[S1S2_NOUN, S1_VERB, be, S2_VERB]</td>\n    </tr>\n    <tr>\n      <th>17494</th>\n      <td>17494</td>\n      <td>0</td>\n      <td>3479245321.jpg#1r1c</td>\n      <td>The people are sitting on the ground with whit...</td>\n      <td>Some people standing up laughing.</td>\n      <td>People can be either sitting or standing.</td>\n      <td>0</td>\n      <td>esnli</td>\n      <td>The people can not be sitting and standing at ...</td>\n      <td>[(people, sitting, None)]</td>\n      <td>[(people, standing, None)]</td>\n      <td>[S1S2_Subj, not, sit, S1_Verb, S2_Verb, same]</td>\n      <td>[S1S2_NOUN, not, be, S1_VERB, S2_VERB, time]</td>\n    </tr>\n    <tr>\n      <th>233812</th>\n      <td>233812</td>\n      <td>1</td>\n      <td>241345981.jpg#4r4n</td>\n      <td>Three football players are in action on the field</td>\n      <td>Three football players are actively playing de...</td>\n      <td>It doesnt say they are playing defense or in a...</td>\n      <td>1</td>\n      <td>esnli</td>\n      <td>The players are not necessarily actively playi...</td>\n      <td>[]</td>\n      <td>[(players, playing, defense)]</td>\n      <td>[S2_Subj, not, play, S2_Verb, S2_Obj]</td>\n      <td>[S1S2_NOUN, be, not, necessarily, S2_ADV, S2_V...</td>\n    </tr>\n    <tr>\n      <th>217390</th>\n      <td>217390</td>\n      <td>0</td>\n      <td>24651801.jpg#3r1c</td>\n      <td>People watching a parade going down the street.</td>\n      <td>people watching television</td>\n      <td>People cannot be watching television and a par...</td>\n      <td>0</td>\n      <td>esnli</td>\n      <td>People cannot watch television and a parade si...</td>\n      <td>[(People, watching, parade)]</td>\n      <td>[(people, watching, television)]</td>\n      <td>[S1_Subj, not, watch, S1S2_Verb, S2_Obj, S1_Obj]</td>\n      <td>[S1_NOUN, not, S1S2_VERB, S2_NOUN, S1_NOUN, si...</td>\n    </tr>\n    <tr>\n      <th>24294</th>\n      <td>24294</td>\n      <td>2</td>\n      <td>2708608951.jpg#3r1e</td>\n      <td>Four people are observing a boy performing a t...</td>\n      <td>a crowd gathers at a skating park</td>\n      <td>Four people can be considered a crowd. If they...</td>\n      <td>2</td>\n      <td>esnli</td>\n      <td>Four people are a crowd and a skating rink is ...</td>\n      <td>[(people, observing, boy), (people, observing,...</td>\n      <td>[(crowd, gathers, None)]</td>\n      <td>[S1_Subj, be, S2_Subj, be]</td>\n      <td>[S1_NOUN, be, S2_NOUN, S1S2_NOUN, S1_NOUN, be,...</td>\n    </tr>\n    <tr>\n      <th>70661</th>\n      <td>70661</td>\n      <td>2</td>\n      <td>4630818826.jpg#2r1e</td>\n      <td>people outside, this young woman does n't look...</td>\n      <td>An unhappy woman is outside.</td>\n      <td>Unhappy is another way to say doesn't look too...</td>\n      <td>2</td>\n      <td>esnli</td>\n      <td>unhappy woman is a rephrasing of young woman.</td>\n      <td>[(woman, look, None)]</td>\n      <td>[]</td>\n      <td>[S1_Subj, be, S1_Subj]</td>\n      <td>[S2_ADJ, S1S2_NOUN, be, rephrasing, S1_ADJ, S1...</td>\n    </tr>\n    <tr>\n      <th>93469</th>\n      <td>93469</td>\n      <td>1</td>\n      <td>4794459769.jpg#0r4n</td>\n      <td>A little girl and a woman wearing colorful cos...</td>\n      <td>The woman and little girl were attending a cos...</td>\n      <td>The woman and girl are not necessarily attendi...</td>\n      <td>1</td>\n      <td>esnli</td>\n      <td>Just because they are wearing costumes does no...</td>\n      <td>[(girl, cross, None), (girl, cross, street), (...</td>\n      <td>[(woman, attending, party)]</td>\n      <td>[not, mean, S2_Verb, S2_Obj]</td>\n      <td>[be, S1_VERB, S1S2_NOUN, not, mean, be, S2_VER...</td>\n    </tr>\n    <tr>\n      <th>119120</th>\n      <td>119120</td>\n      <td>1</td>\n      <td>432229992.jpg#3r1n</td>\n      <td>A female gymnast is performing a floor exercise.</td>\n      <td>gymnast in the olympics</td>\n      <td>You can not infer she is in the olympics.</td>\n      <td>1</td>\n      <td>esnli</td>\n      <td>The gymnast may be performing for reasons othe...</td>\n      <td>[(gymnast, performing, exercise)]</td>\n      <td>[]</td>\n      <td>[S1_Subj, perform, S1_Verb]</td>\n      <td>[S1S2_NOUN, be, S1_VERB, reason, S2_NOUN]</td>\n    </tr>\n    <tr>\n      <th>55718</th>\n      <td>55718</td>\n      <td>1</td>\n      <td>193082928.jpg#3r1n</td>\n      <td>Houston Astros pitcher number 22 prepares to t...</td>\n      <td>The pitcher is going to throw a strike.</td>\n      <td>You can not infer he throws a strike.</td>\n      <td>1</td>\n      <td>esnli</td>\n      <td>A pitcher prepares to throw home does not mean...</td>\n      <td>[(number, prepares, None)]</td>\n      <td>[(pitcher, going, None)]</td>\n      <td>[S2_Subj, prepare, S1_Verb, S2_Verb]</td>\n      <td>[S1S2_NOUN, S1_VERB, S1S2_VERB, S1_NOUN, not, ...</td>\n    </tr>\n    <tr>\n      <th>180744</th>\n      <td>180744</td>\n      <td>2</td>\n      <td>4005756399.jpg#1r5e</td>\n      <td>A street vendor tends to his stand with lots o...</td>\n      <td>A street vendor is selling toys.</td>\n      <td>Vender is a person who sells toys and the stan...</td>\n      <td>2</td>\n      <td>esnli</td>\n      <td>Tending to his stand with toys is the same as ...</td>\n      <td>[(vendor, tends, None)]</td>\n      <td>[(vendor, selling, toys)]</td>\n      <td>[S1_Verb, S2_Obj, be, same, S2_Verb, S2_Obj]</td>\n      <td>[S1_VERB, S1_NOUN, S1S2_NOUN, be, S2_VERB, S1S...</td>\n    </tr>\n    <tr>\n      <th>119417</th>\n      <td>119417</td>\n      <td>1</td>\n      <td>1031973097.jpg#4r1n</td>\n      <td>Little boy wanting to play outside of fence.</td>\n      <td>A little boy is watching the other kids play i...</td>\n      <td>Just because a Little boy wanting to play outs...</td>\n      <td>1</td>\n      <td>esnli</td>\n      <td>Just because the boy is wanting to play outsid...</td>\n      <td>[(boy, wanting, None)]</td>\n      <td>[(boy, watching, None), (kids, play, None)]</td>\n      <td>[S1S2_Subj, S1_Verb, S2_Verb, not, mean, S2_Ve...</td>\n      <td>[S1S2_NOUN, be, S1_VERB, S1S2_VERB, S1_ADV, S1...</td>\n    </tr>\n    <tr>\n      <th>15745</th>\n      <td>15745</td>\n      <td>0</td>\n      <td>3354264393.jpg#2r1c</td>\n      <td>people enjoying their meals at an expensive re...</td>\n      <td>The people are at a bachelor's party.</td>\n      <td>If they are at expensive restaurant, they are ...</td>\n      <td>0</td>\n      <td>esnli</td>\n      <td>A bachelor's party is not the same as a restau...</td>\n      <td>[(people, enjoying, meals)]</td>\n      <td>[]</td>\n      <td>[be, not, same]</td>\n      <td>[S2_NOUN, S2_NOUN, be, not, S1_NOUN]</td>\n    </tr>\n    <tr>\n      <th>62869</th>\n      <td>62869</td>\n      <td>0</td>\n      <td>3290025108.jpg#1r1c</td>\n      <td>A man in jeans and a work shirt and gloves hol...</td>\n      <td>girl cooks steak</td>\n      <td>A man is not a girl.</td>\n      <td>0</td>\n      <td>esnli</td>\n      <td>A man is not a girl.</td>\n      <td>[(man, holds, chainsaw)]</td>\n      <td>[(cooks, steak, None)]</td>\n      <td>[S1_Subj, be, not]</td>\n      <td>[S1_NOUN, be, not, S2_NOUN]</td>\n    </tr>\n    <tr>\n      <th>113651</th>\n      <td>113651</td>\n      <td>0</td>\n      <td>2624947061.jpg#3r1c</td>\n      <td>Two people standing with a naked guitar player...</td>\n      <td>The guitar player has on blue jeans</td>\n      <td>A person can not be naked if they have on blue...</td>\n      <td>0</td>\n      <td>esnli</td>\n      <td>Not all guitar players wear blue jeans.</td>\n      <td>[(people, standing, None)]</td>\n      <td>[(player, has, None)]</td>\n      <td>[S2_Subj, wear]</td>\n      <td>[not, S1S2_NOUN, S1S2_NOUN, wear, S2_ADJ, S2_N...</td>\n    </tr>\n    <tr>\n      <th>116536</th>\n      <td>116536</td>\n      <td>2</td>\n      <td>5258526958.jpg#3r1e</td>\n      <td>A little boy is covering the eyes of a girl in...</td>\n      <td>There are two girls and a boy</td>\n      <td>Two girls and a boy is a simplified version.</td>\n      <td>2</td>\n      <td>esnli</td>\n      <td>A boy and a girl are two girls.</td>\n      <td>[(boy, covering, eyes)]</td>\n      <td>[]</td>\n      <td>[S1_Subj, be]</td>\n      <td>[S1S2_NOUN, S1S2_NOUN, be, S1S2_NOUN]</td>\n    </tr>\n    <tr>\n      <th>164086</th>\n      <td>164086</td>\n      <td>1</td>\n      <td>3834352548.jpg#4r1n</td>\n      <td>Man in white plastic lawn chair sleeping in sh...</td>\n      <td>A person asleep at the barbeque.</td>\n      <td>Sentence 1 is missing asleep at the barbeque</td>\n      <td>1</td>\n      <td>esnli</td>\n      <td>The man can't be sleeping in the shade and at ...</td>\n      <td>[]</td>\n      <td>[]</td>\n      <td>[not, sleep, same]</td>\n      <td>[man, not, be, S1_VERB, S1_NOUN, S2_NOUN, time]</td>\n    </tr>\n    <tr>\n      <th>104614</th>\n      <td>104614</td>\n      <td>2</td>\n      <td>5201259529.jpg#2r1e</td>\n      <td>A graduate student stays up late to do researc...</td>\n      <td>A student is using a laptop to do research.</td>\n      <td>Graduate describes the level of education of t...</td>\n      <td>2</td>\n      <td>esnli</td>\n      <td>graduate student is a type of student.</td>\n      <td>[(student, stays, None)]</td>\n      <td>[(student, using, laptop), (student, using, No...</td>\n      <td>[S1S2_Subj, S1S2_Subj, be, S1S2_Subj, S1S2_Subj]</td>\n      <td>[S1_NOUN, S1S2_NOUN, be, type, S1S2_NOUN]</td>\n    </tr>\n    <tr>\n      <th>174104</th>\n      <td>174104</td>\n      <td>2</td>\n      <td>4671448513.jpg#0r4e</td>\n      <td>A black man with sunglasses on his head, weari...</td>\n      <td>A man wears a brown apron and holds a knife.</td>\n      <td>If a man has a knife in his hand, the man hold...</td>\n      <td>2</td>\n      <td>esnli</td>\n      <td>A man wearing a brown apron with a knife in hi...</td>\n      <td>[(man, chopped, None), (man, chopped, food)]</td>\n      <td>[(man, wears, apron), (man, wears, None)]</td>\n      <td>[S1S2_Subj, S1S2_Subj, S2_Verb, S2_Verb, S2_Ob...</td>\n      <td>[S1S2_NOUN, S1S2_VERB, S1S2_ADJ, S1S2_NOUN, S1...</td>\n    </tr>\n    <tr>\n      <th>70251</th>\n      <td>70251</td>\n      <td>0</td>\n      <td>6556868159.jpg#0r1c</td>\n      <td>A girl in a bikini swims underwater in clear w...</td>\n      <td>A girl floating on a tube in a pool.</td>\n      <td>If she is floating on a tube, she cannot be un...</td>\n      <td>0</td>\n      <td>esnli</td>\n      <td>A girl can't swim underwater and float on a tu...</td>\n      <td>[(girl, swims, underwater)]</td>\n      <td>[(girl, floating, None)]</td>\n      <td>[S1S2_Subj, not, swim, S1_Verb, S1_Obj, S2_Ver...</td>\n      <td>[S1S2_NOUN, not, S1_VERB, S1_ADJ, S2_VERB, S2_...</td>\n    </tr>\n    <tr>\n      <th>18757</th>\n      <td>18757</td>\n      <td>2</td>\n      <td>172327171.jpg#1r3e</td>\n      <td>A woman and man with bikes stand by a man with...</td>\n      <td>The building has a balcony.</td>\n      <td>A building with a balcony is a rephrasing of t...</td>\n      <td>2</td>\n      <td>esnli</td>\n      <td>A balcony can be large.</td>\n      <td>[(woman, stand, None)]</td>\n      <td>[(building, has, balcony)]</td>\n      <td>[S2_Obj, be]</td>\n      <td>[S1S2_NOUN, be, S1_ADJ]</td>\n    </tr>\n    <tr>\n      <th>57863</th>\n      <td>57863</td>\n      <td>0</td>\n      <td>4556897985.jpg#0r1c</td>\n      <td>A brown-haired man with glasses is wearing a b...</td>\n      <td>A man is eating at a restaurant.</td>\n      <td>A man can't be walking down a street and eatin...</td>\n      <td>0</td>\n      <td>esnli</td>\n      <td>A man can't be walking down the street and eat...</td>\n      <td>[(man, wearing, suit)]</td>\n      <td>[(man, eating, None)]</td>\n      <td>[S1S2_Subj, not, walk, S2_Verb, same]</td>\n      <td>[S1S2_NOUN, not, be, S1_VERB, S1_NOUN, S2_VERB...</td>\n    </tr>\n    <tr>\n      <th>165791</th>\n      <td>165791</td>\n      <td>0</td>\n      <td>56659639.jpg#3r1c</td>\n      <td>A boy is jumping on a bungee trampoline.</td>\n      <td>The boy jumps off a cliff.</td>\n      <td>Jumping on a bungee trampoline is not jumping ...</td>\n      <td>0</td>\n      <td>esnli</td>\n      <td>A bungee trampoline is not a cliff.</td>\n      <td>[(boy, jumping, None)]</td>\n      <td>[(boy, jumps, None)]</td>\n      <td>[be, not]</td>\n      <td>[S1_NOUN, S1_NOUN, be, not, S2_NOUN]</td>\n    </tr>\n    <tr>\n      <th>100819</th>\n      <td>100819</td>\n      <td>1</td>\n      <td>2636020148.jpg#1r1n</td>\n      <td>Members of a band perform dressed in white whi...</td>\n      <td>a famous band performs</td>\n      <td>Just because a band performs it does not mean ...</td>\n      <td>1</td>\n      <td>esnli</td>\n      <td>Not all bands are famous.</td>\n      <td>[(drummer, sits, None)]</td>\n      <td>[(band, performs, None)]</td>\n      <td>[S2_Subj, be]</td>\n      <td>[not, S1S2_NOUN, be, S2_ADJ]</td>\n    </tr>\n    <tr>\n      <th>78023</th>\n      <td>78023</td>\n      <td>1</td>\n      <td>2558312618.jpg#2r1n</td>\n      <td>A brown dog is jumping through a field.</td>\n      <td>a dog in a field looking for a ball</td>\n      <td>A dog jumping through a field does not always ...</td>\n      <td>1</td>\n      <td>esnli</td>\n      <td>The dog could be jumping for any reason, not n...</td>\n      <td>[(dog, jumping, None)]</td>\n      <td>[(dog, looking, None)]</td>\n      <td>[S1S2_Subj, jump, S1_Verb, S2_Verb]</td>\n      <td>[S1S2_NOUN, be, S1_VERB, reason, not, necessar...</td>\n    </tr>\n    <tr>\n      <th>104293</th>\n      <td>104293</td>\n      <td>1</td>\n      <td>2897147853.jpg#0r5n</td>\n      <td>A man in a white and red shirt is sitting on a...</td>\n      <td>A man relaxes.</td>\n      <td>A man does not have to wear a white and red sh...</td>\n      <td>1</td>\n      <td>esnli</td>\n      <td>Sitting does not imply relaxing.</td>\n      <td>[(man, sitting, None)]</td>\n      <td>[(man, relaxes, None)]</td>\n      <td>[not, imply, S2_Verb]</td>\n      <td>[sitting, not, imply, S2_VERB]</td>\n    </tr>\n    <tr>\n      <th>251672</th>\n      <td>251672</td>\n      <td>0</td>\n      <td>2856524322.jpg#1r1c</td>\n      <td>A young man in tan shorts and green shirt is f...</td>\n      <td>The man wears a tuxedo.</td>\n      <td>Tan shorts and a green shirt are not a tuxedo.</td>\n      <td>0</td>\n      <td>esnli</td>\n      <td>A tuxedo is not a bicycle.</td>\n      <td>[(man, falling, None)]</td>\n      <td>[(man, wears, tuxedo)]</td>\n      <td>[S2_Obj, be, not]</td>\n      <td>[S2_NOUN, be, not, S1_NOUN]</td>\n    </tr>\n    <tr>\n      <th>61443</th>\n      <td>61443</td>\n      <td>1</td>\n      <td>4073193673.jpg#1r1n</td>\n      <td>A Jewish man is holding the head of another ma...</td>\n      <td>A man is kissing another man.</td>\n      <td>Holding the head of another man dors not mean ...</td>\n      <td>1</td>\n      <td>esnli</td>\n      <td>The man can't be holding the head of another m...</td>\n      <td>[(man, holding, head), (who, bent, None)]</td>\n      <td>[(man, kissing, man)]</td>\n      <td>[S1S2_Subj, S1S2_Obj, not, hold, S1_Verb, S1_O...</td>\n      <td>[S1S2_NOUN, not, be, S1_VERB, S1_NOUN, S1S2_NO...</td>\n    </tr>\n    <tr>\n      <th>94484</th>\n      <td>94484</td>\n      <td>2</td>\n      <td>3354264393.jpg#3r1e</td>\n      <td>Some customers are eating at a restaurant.</td>\n      <td>People are eating at a restaurant.</td>\n      <td>People eating at a restaurant are called custo...</td>\n      <td>2</td>\n      <td>esnli</td>\n      <td>Customers are people.</td>\n      <td>[(customers, eating, None)]</td>\n      <td>[(People, eating, None)]</td>\n      <td>[S1_Subj, be]</td>\n      <td>[S1_NOUN, be, people]</td>\n    </tr>\n    <tr>\n      <th>209549</th>\n      <td>209549</td>\n      <td>0</td>\n      <td>282131366.jpg#1r1c</td>\n      <td>Girl regains composure in a sunset with a man ...</td>\n      <td>the girl is inside</td>\n      <td>The girl cannot be in a sunset and inside at t...</td>\n      <td>0</td>\n      <td>esnli</td>\n      <td>One cannot be in a sunset and inside at the sa...</td>\n      <td>[(Girl, regains, composure)]</td>\n      <td>[]</td>\n      <td>[not, be, same]</td>\n      <td>[not, be, S1_NOUN, S2_ADP, time]</td>\n    </tr>\n    <tr>\n      <th>260600</th>\n      <td>260600</td>\n      <td>0</td>\n      <td>1410193619.jpg#3r1c</td>\n      <td>A small child climbs onto the arm of a red couch.</td>\n      <td>A man sits down in a hard chair</td>\n      <td>A man is not a small child.</td>\n      <td>0</td>\n      <td>esnli</td>\n      <td>A child is not a man.</td>\n      <td>[(child, climbs, None)]</td>\n      <td>[(man, sits, None)]</td>\n      <td>[S1_Subj, be, not, S2_Subj]</td>\n      <td>[S1_NOUN, be, not, S2_NOUN]</td>\n    </tr>\n  </tbody>\n</table>\n</div>"
     },
     "execution_count": 38,
     "metadata": {},
     "output_type": "execute_result"
    }
   ],
   "source": [
    "gpt2[:50]"
   ],
   "metadata": {
    "collapsed": false,
    "pycharm": {
     "name": "#%%\n"
    }
   }
  },
  {
   "cell_type": "markdown",
   "source": [
    "# Store Data"
   ],
   "metadata": {
    "collapsed": false,
    "pycharm": {
     "name": "#%% md\n"
    }
   }
  },
  {
   "cell_type": "code",
   "execution_count": null,
   "outputs": [],
   "source": [
    "gpt_pred.to_csv('../output_data/svo_structure_4.csv', sep=';')"
   ],
   "metadata": {
    "collapsed": false,
    "pycharm": {
     "name": "#%%\n"
    }
   }
  },
  {
   "cell_type": "code",
   "execution_count": 39,
   "outputs": [],
   "source": [
    "gpt2.to_csv('../output_data/svo_structure_gpt2.csv', sep=';')"
   ],
   "metadata": {
    "collapsed": false,
    "pycharm": {
     "name": "#%%\n"
    }
   }
  }
 ],
 "metadata": {
  "kernelspec": {
   "display_name": "Python 3",
   "language": "python",
   "name": "python3"
  },
  "language_info": {
   "codemirror_mode": {
    "name": "ipython",
    "version": 2
   },
   "file_extension": ".py",
   "mimetype": "text/x-python",
   "name": "python",
   "nbconvert_exporter": "python",
   "pygments_lexer": "ipython2",
   "version": "2.7.6"
  }
 },
 "nbformat": 4,
 "nbformat_minor": 0
}